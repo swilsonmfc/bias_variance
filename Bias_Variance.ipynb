{
  "nbformat": 4,
  "nbformat_minor": 0,
  "metadata": {
    "colab": {
      "name": "Bias Variance.ipynb",
      "provenance": [],
      "toc_visible": true,
      "authorship_tag": "ABX9TyMgj0uHOm0qyFDfUCpXLdn5",
      "include_colab_link": true
    },
    "kernelspec": {
      "name": "python3",
      "display_name": "Python 3"
    },
    "language_info": {
      "name": "python"
    }
  },
  "cells": [
    {
      "cell_type": "markdown",
      "metadata": {
        "id": "view-in-github",
        "colab_type": "text"
      },
      "source": [
        "<a href=\"https://colab.research.google.com/github/swilsonmfc/bias_variance/blob/main/Bias_Variance.ipynb\" target=\"_parent\"><img src=\"https://colab.research.google.com/assets/colab-badge.svg\" alt=\"Open In Colab\"/></a>"
      ]
    },
    {
      "cell_type": "markdown",
      "metadata": {
        "id": "yC7VqPq6dur3"
      },
      "source": [
        "# Bias Variance"
      ]
    },
    {
      "cell_type": "markdown",
      "metadata": {
        "id": "_W4OgPUUduhy"
      },
      "source": [
        "# Install"
      ]
    },
    {
      "cell_type": "code",
      "metadata": {
        "colab": {
          "base_uri": "https://localhost:8080/"
        },
        "id": "-QR4-dPJkoao",
        "outputId": "68b20990-ab8e-4a47-c3d2-0894cbc82e71"
      },
      "source": [
        "!pip install mlxtend==0.18"
      ],
      "execution_count": 36,
      "outputs": [
        {
          "output_type": "stream",
          "text": [
            "Requirement already satisfied: mlxtend==0.18 in /usr/local/lib/python3.7/dist-packages (0.18.0)\n",
            "Requirement already satisfied: scikit-learn>=0.20.3 in /usr/local/lib/python3.7/dist-packages (from mlxtend==0.18) (0.22.2.post1)\n",
            "Requirement already satisfied: numpy>=1.16.2 in /usr/local/lib/python3.7/dist-packages (from mlxtend==0.18) (1.19.5)\n",
            "Requirement already satisfied: matplotlib>=3.0.0 in /usr/local/lib/python3.7/dist-packages (from mlxtend==0.18) (3.2.2)\n",
            "Requirement already satisfied: setuptools in /usr/local/lib/python3.7/dist-packages (from mlxtend==0.18) (56.1.0)\n",
            "Requirement already satisfied: scipy>=1.2.1 in /usr/local/lib/python3.7/dist-packages (from mlxtend==0.18) (1.4.1)\n",
            "Requirement already satisfied: joblib>=0.13.2 in /usr/local/lib/python3.7/dist-packages (from mlxtend==0.18) (1.0.1)\n",
            "Requirement already satisfied: pandas>=0.24.2 in /usr/local/lib/python3.7/dist-packages (from mlxtend==0.18) (1.1.5)\n",
            "Requirement already satisfied: pyparsing!=2.0.4,!=2.1.2,!=2.1.6,>=2.0.1 in /usr/local/lib/python3.7/dist-packages (from matplotlib>=3.0.0->mlxtend==0.18) (2.4.7)\n",
            "Requirement already satisfied: cycler>=0.10 in /usr/local/lib/python3.7/dist-packages (from matplotlib>=3.0.0->mlxtend==0.18) (0.10.0)\n",
            "Requirement already satisfied: kiwisolver>=1.0.1 in /usr/local/lib/python3.7/dist-packages (from matplotlib>=3.0.0->mlxtend==0.18) (1.3.1)\n",
            "Requirement already satisfied: python-dateutil>=2.1 in /usr/local/lib/python3.7/dist-packages (from matplotlib>=3.0.0->mlxtend==0.18) (2.8.1)\n",
            "Requirement already satisfied: pytz>=2017.2 in /usr/local/lib/python3.7/dist-packages (from pandas>=0.24.2->mlxtend==0.18) (2018.9)\n",
            "Requirement already satisfied: six in /usr/local/lib/python3.7/dist-packages (from cycler>=0.10->matplotlib>=3.0.0->mlxtend==0.18) (1.15.0)\n"
          ],
          "name": "stdout"
        }
      ]
    },
    {
      "cell_type": "markdown",
      "metadata": {
        "id": "o1dfJEOKduVt"
      },
      "source": [
        "# Setup"
      ]
    },
    {
      "cell_type": "code",
      "metadata": {
        "id": "k-lvaVYDkurY"
      },
      "source": [
        "import pandas as pd\n",
        "import numpy as np\n",
        "import matplotlib.pyplot as plt\n",
        "import seaborn\n",
        "\n",
        "from sklearn.model_selection import train_test_split\n",
        "from sklearn.preprocessing import StandardScaler\n",
        "from sklearn.linear_model import LinearRegression\n",
        "from sklearn.linear_model import LogisticRegression\n",
        "from sklearn.tree import DecisionTreeRegressor\n",
        "from sklearn.ensemble import RandomForestRegressor\n",
        "from sklearn.ensemble import GradientBoostingRegressor\n",
        "from sklearn.tree import DecisionTreeClassifier\n",
        "from sklearn.ensemble import RandomForestClassifier\n",
        "from sklearn.ensemble import GradientBoostingClassifier\n",
        "\n",
        "import mlxtend\n",
        "from mlxtend.data import boston_housing_data\n",
        "from mlxtend.data import iris_data\n",
        "from mlxtend.data import wine_data\n",
        "from mlxtend.evaluate import bias_variance_decomp\n",
        "from mlxtend.plotting import plot_decision_regions\n",
        "from mlxtend.plotting import plot_learning_curves"
      ],
      "execution_count": 109,
      "outputs": []
    },
    {
      "cell_type": "markdown",
      "metadata": {
        "id": "tT_BCy-P_eCD"
      },
      "source": [
        "# Estimators\n",
        "* Bias = How close is our estimated value to the actual / true value?\n",
        "* Variance = How much change is their in our estimated value for different runs?"
      ]
    },
    {
      "cell_type": "markdown",
      "metadata": {
        "id": "VSCdxXXvFtfa"
      },
      "source": [
        "$MSE = E[(\\hat\\theta_{s} - \\theta)^2]$\n",
        "\n",
        "$MSE = E[(\\hat\\theta_{s} - \\theta)^2] = Bias^2(\\hat\\theta_{s}, \\theta) + Var(\\hat\\theta_{s})$\n",
        "\n",
        "$MSE = E[(\\hat\\theta_{s} - \\theta)^2] = E[\\hat\\theta_{s}^2] - 2E[\\hat\\theta_{s}]\\theta + \\theta^2$"
      ]
    },
    {
      "cell_type": "markdown",
      "metadata": {
        "id": "bDtHNitAFqwD"
      },
      "source": [
        "## Bias\n",
        "\n",
        "$Bias^2(\\hat\\theta_{s}, \\theta) = (E[\\hat\\theta_{s}] - \\theta)^2$\n",
        "\n",
        "$Bias^2(\\hat\\theta_{s}, \\theta) = E^2[\\hat\\theta_{s}] - 2E[\\hat\\theta_{s}]\\theta + \\theta^2$"
      ]
    },
    {
      "cell_type": "markdown",
      "metadata": {
        "id": "RAO3DG4XJQfW"
      },
      "source": [
        "## Variance\n",
        "\n",
        "$Var(\\hat\\theta_{s}) = E[\\hat\\sigma_{s}^2] - E^2[\\hat\\theta_{s}]$"
      ]
    },
    {
      "cell_type": "markdown",
      "metadata": {
        "id": "_0gtWK12IGKc"
      },
      "source": [
        "## Bias - Variance\n",
        "\n",
        "![](https://mathigon.org/content/intro-statistics/images/biasvariance.svg)"
      ]
    },
    {
      "cell_type": "markdown",
      "metadata": {
        "id": "D98TPGIbPxdU"
      },
      "source": [
        "# Regressions\n",
        "* Actual function \n",
        "  * $y = f(x) + \\epsilon$\n",
        "  * $\\epsilon \\approx N(0, \\sigma^2)$\n",
        "* Goal find a function that minimizes sum of squared errors\n",
        "  * Data $X = {(x_{i}, y_{i})}$\n",
        "  * Fit $h(x)$ to $X$ \n",
        "  * Minimize $\\sum_{i}[y_{i} - h(x_{i})]^2$ \n",
        "* Expectation of error from a data point:\n",
        "  * Data point $x^{*}$ \n",
        "  * Actual value $y^{*} = f(x^{*}) + \\epsilon$\n",
        "  * Predicted value $E(h | x^{*}) = E[ (y^{*} - h(x^{*})) ^2 ]$"
      ]
    },
    {
      "cell_type": "markdown",
      "metadata": {
        "id": "VtuOn5iai6Pe"
      },
      "source": [
        "## Decomposition\n",
        "  * $E(h | x^{*}) = E[(y^{*} - h(x^{*})) ^2] = (E[h(x^{*})] - f(x^{*}))^2 + E[ (h(x^{*}) - E[h(x^{*})])^2] + E[(y^{*} - f(x^{*}))^2 ]$\n"
      ]
    },
    {
      "cell_type": "markdown",
      "metadata": {
        "id": "fJC0a0rAi6NJ"
      },
      "source": [
        "## Bias\n",
        "  * Bias (Squared) = $(E[h(x^{*})] - f(x^{*}))^2$\n",
        "  * How does the expected / average estimate differs from actual value?\n"
      ]
    },
    {
      "cell_type": "markdown",
      "metadata": {
        "id": "94tDSGZpi6Kv"
      },
      "source": [
        "## Variance\n",
        "  * Variance = $E[ (h(x^{*}) - E[h(x^{*})])^2]$\n",
        "  * How does one $h(x^{*})$ differ between training samples?\n"
      ]
    },
    {
      "cell_type": "markdown",
      "metadata": {
        "id": "UfMfoEG2eFmg"
      },
      "source": [
        "## Noise\n",
        "  * Noise / Error = $E[(y^{*} - f(x^{*}))^2 ]$\n",
        "  * How much does $y^{*}$ differ from $f(x^{*})$?"
      ]
    },
    {
      "cell_type": "markdown",
      "metadata": {
        "id": "srAOoVcKxT5j"
      },
      "source": [
        "![](https://cdn-images-1.medium.com/max/800/1*Rq0PZYLyA9dkAeSmfhHqLg.png)"
      ]
    },
    {
      "cell_type": "markdown",
      "metadata": {
        "id": "hLEHG-UmHBmn"
      },
      "source": [
        "# Learning Curves\n",
        "* We can split data into training and test to get insight into bias and variance\n",
        "* Measure how the algorithm performs on training / test error as the number of training examples increases\n",
        "* Visualizing these learning curves can help identify bias or variance"
      ]
    },
    {
      "cell_type": "markdown",
      "metadata": {
        "id": "wnFWv6VeDOfc"
      },
      "source": [
        "## High Bias\n",
        "* A high bias model built from few data points can easily fit, resulting in low training error, but high cross validation / hold out error\n",
        "* As amount of data increases, training error will increase (can't easily fit all points), but tends to flatten\n",
        "* A high bias model built frrom a large number of data points will tend to see close training error and cross validation / hold out error \n",
        "\n",
        "![](https://www.dataquest.io/wp-content/uploads/2019/01/low_high_bias.png)"
      ]
    },
    {
      "cell_type": "markdown",
      "metadata": {
        "id": "sQdLQnkbDpoF"
      },
      "source": [
        "## High Variance\n",
        "* With high variance and a small training dataset, our training error will be low, but cross validation / hold out test error will be high\n",
        "* As we increase the number of training examples, our training error increases and cross validation / hold out test error decreases\n",
        "* With high variance and a large training dataset, a significant difference between training and cross validation / hold out will exist\n",
        "\n",
        "![](https://www.dataquest.io/wp-content/uploads/2019/01/low_high_var.png)"
      ]
    },
    {
      "cell_type": "markdown",
      "metadata": {
        "id": "La_CVhoTtjIp"
      },
      "source": [
        "# Model Complexity\n",
        "* Number of coefficients in linear model (Polynomials)\n",
        "* Decision trees (Max depth & Min samples leaf)\n",
        "* Random Forest (Max depth & Min samples leaf) \n",
        "* Boosting (Number of rounds, Max Depth, Min samples leaf)\n",
        "* Number of K in K-NN (Note: Inverse relationship)"
      ]
    },
    {
      "cell_type": "markdown",
      "metadata": {
        "id": "oOy_7C3jtVRa"
      },
      "source": [
        "![](https://miro.medium.com/max/1506/1*oO0KYF7Z84nePqfsJ9E0WQ.png)"
      ]
    },
    {
      "cell_type": "markdown",
      "metadata": {
        "id": "dOArHJWsGhBO"
      },
      "source": [
        "## Generalization Error\n",
        "* Cross-fold validation (3-10 Fold)\n",
        "* Hold out dataset error"
      ]
    },
    {
      "cell_type": "markdown",
      "metadata": {
        "id": "RqZqUE5TxzMY"
      },
      "source": [
        "## Bias Regimes\n",
        "* Gather new features (datasets)\n",
        "* Feature engineering\n",
        "* Reducing regularization"
      ]
    },
    {
      "cell_type": "markdown",
      "metadata": {
        "id": "_Z9FE4l2yD1P"
      },
      "source": [
        "## Variance Regimes\n",
        "* Increase regularization \n",
        "* Add more data samples\n",
        "* Feature selection"
      ]
    },
    {
      "cell_type": "markdown",
      "metadata": {
        "id": "jTdCS3tFjC3R"
      },
      "source": [
        "# Decomposition\n",
        "* The mlxtend library offers a decomposition method to split loss into bias and variance"
      ]
    },
    {
      "cell_type": "code",
      "metadata": {
        "id": "jplEbrZJuUeY"
      },
      "source": [
        "results_df = pd.DataFrame(columns=['Loss', 'Bias', 'Variance'])"
      ],
      "execution_count": 38,
      "outputs": []
    },
    {
      "cell_type": "markdown",
      "metadata": {
        "id": "ZcisE2QqpMk1"
      },
      "source": [
        "## Data"
      ]
    },
    {
      "cell_type": "code",
      "metadata": {
        "id": "mn0pVc4PprkB"
      },
      "source": [
        "X, y = boston_housing_data()\n",
        "X_train, X_test, y_train, y_test = train_test_split(X, y)"
      ],
      "execution_count": 39,
      "outputs": []
    },
    {
      "cell_type": "markdown",
      "metadata": {
        "id": "YLBGjs9osg_K"
      },
      "source": [
        "## Linear Model"
      ]
    },
    {
      "cell_type": "code",
      "metadata": {
        "colab": {
          "base_uri": "https://localhost:8080/"
        },
        "id": "vkZleS4rsgTS",
        "outputId": "1e7deca5-c0c6-48cb-83c6-48d243d011bb"
      },
      "source": [
        "model_linear = LinearRegression()\n",
        "model_linear.fit(X_train, y_train)"
      ],
      "execution_count": 40,
      "outputs": [
        {
          "output_type": "execute_result",
          "data": {
            "text/plain": [
              "LinearRegression(copy_X=True, fit_intercept=True, n_jobs=None, normalize=False)"
            ]
          },
          "metadata": {
            "tags": []
          },
          "execution_count": 40
        }
      ]
    },
    {
      "cell_type": "code",
      "metadata": {
        "id": "2gUWRx6Ds4KN"
      },
      "source": [
        "loss, bias, variance = bias_variance_decomp(model_linear, X_train, y_train, X_test, y_test, loss='mse')\n",
        "results_df.loc['Linear'] = [loss, bias, variance]"
      ],
      "execution_count": 41,
      "outputs": []
    },
    {
      "cell_type": "code",
      "metadata": {
        "colab": {
          "base_uri": "https://localhost:8080/"
        },
        "id": "jJm9QzSgtQPy",
        "outputId": "dccaefae-c197-4dea-e246-524685b6d881"
      },
      "source": [
        "print(f'Expected Loss {loss:.2f}')\n",
        "print(f'Bias {bias:.2f}')\n",
        "print(f'Variance {variance:.2f}')"
      ],
      "execution_count": 42,
      "outputs": [
        {
          "output_type": "stream",
          "text": [
            "Expected Loss 21.42\n",
            "Bias 20.27\n",
            "Variance 1.14\n"
          ],
          "name": "stdout"
        }
      ]
    },
    {
      "cell_type": "markdown",
      "metadata": {
        "id": "N82YmTPUt9-L"
      },
      "source": [
        "## Decision Tree"
      ]
    },
    {
      "cell_type": "code",
      "metadata": {
        "colab": {
          "base_uri": "https://localhost:8080/"
        },
        "id": "UvjBCNAvuQYg",
        "outputId": "8d39692d-1633-403f-d878-1141c33ea4ad"
      },
      "source": [
        "model_tree = DecisionTreeRegressor()\n",
        "model_tree.fit(X_train, y_train)"
      ],
      "execution_count": 43,
      "outputs": [
        {
          "output_type": "execute_result",
          "data": {
            "text/plain": [
              "DecisionTreeRegressor(ccp_alpha=0.0, criterion='mse', max_depth=None,\n",
              "                      max_features=None, max_leaf_nodes=None,\n",
              "                      min_impurity_decrease=0.0, min_impurity_split=None,\n",
              "                      min_samples_leaf=1, min_samples_split=2,\n",
              "                      min_weight_fraction_leaf=0.0, presort='deprecated',\n",
              "                      random_state=None, splitter='best')"
            ]
          },
          "metadata": {
            "tags": []
          },
          "execution_count": 43
        }
      ]
    },
    {
      "cell_type": "code",
      "metadata": {
        "id": "i3MzWAyquQa3"
      },
      "source": [
        "loss, bias, variance = bias_variance_decomp(model_tree, X_train, y_train, X_test, y_test, loss='mse')\n",
        "results_df.loc['Decision Tree'] = [loss, bias, variance]"
      ],
      "execution_count": 44,
      "outputs": []
    },
    {
      "cell_type": "code",
      "metadata": {
        "colab": {
          "base_uri": "https://localhost:8080/"
        },
        "id": "WORzOZxxuQdE",
        "outputId": "79e1733e-5419-4a2a-fe0c-4197cf7c825c"
      },
      "source": [
        "print(f'Expected Loss {loss:.2f}')\n",
        "print(f'Bias {bias:.2f}')\n",
        "print(f'Variance {variance:.2f}')"
      ],
      "execution_count": 45,
      "outputs": [
        {
          "output_type": "stream",
          "text": [
            "Expected Loss 19.29\n",
            "Bias 8.76\n",
            "Variance 10.53\n"
          ],
          "name": "stdout"
        }
      ]
    },
    {
      "cell_type": "markdown",
      "metadata": {
        "id": "zMBkxQrMuLHg"
      },
      "source": [
        "## Random Forest"
      ]
    },
    {
      "cell_type": "code",
      "metadata": {
        "colab": {
          "base_uri": "https://localhost:8080/"
        },
        "id": "JjVNMdPnuQ76",
        "outputId": "1481a77b-83a4-4c72-8321-d57aed3c0b30"
      },
      "source": [
        "model_forest = RandomForestRegressor()\n",
        "model_forest.fit(X_train, y_train)"
      ],
      "execution_count": 46,
      "outputs": [
        {
          "output_type": "execute_result",
          "data": {
            "text/plain": [
              "RandomForestRegressor(bootstrap=True, ccp_alpha=0.0, criterion='mse',\n",
              "                      max_depth=None, max_features='auto', max_leaf_nodes=None,\n",
              "                      max_samples=None, min_impurity_decrease=0.0,\n",
              "                      min_impurity_split=None, min_samples_leaf=1,\n",
              "                      min_samples_split=2, min_weight_fraction_leaf=0.0,\n",
              "                      n_estimators=100, n_jobs=None, oob_score=False,\n",
              "                      random_state=None, verbose=0, warm_start=False)"
            ]
          },
          "metadata": {
            "tags": []
          },
          "execution_count": 46
        }
      ]
    },
    {
      "cell_type": "code",
      "metadata": {
        "id": "SLApjct-uQ-H"
      },
      "source": [
        "loss, bias, variance = bias_variance_decomp(model_forest, X_train, y_train, X_test, y_test, loss='mse')\n",
        "results_df.loc['RandomForest'] = [loss, bias, variance]"
      ],
      "execution_count": 47,
      "outputs": []
    },
    {
      "cell_type": "code",
      "metadata": {
        "colab": {
          "base_uri": "https://localhost:8080/"
        },
        "id": "FfR1s2x4uRAU",
        "outputId": "089e1cb0-f15a-4b20-8128-0c51cd965fec"
      },
      "source": [
        "print(f'Expected Loss {loss:.2f}')\n",
        "print(f'Bias {bias:.2f}')\n",
        "print(f'Variance {variance:.2f}')"
      ],
      "execution_count": 48,
      "outputs": [
        {
          "output_type": "stream",
          "text": [
            "Expected Loss 12.83\n",
            "Bias 10.71\n",
            "Variance 2.13\n"
          ],
          "name": "stdout"
        }
      ]
    },
    {
      "cell_type": "markdown",
      "metadata": {
        "id": "nV7c-cekvhC3"
      },
      "source": [
        "## Boosting"
      ]
    },
    {
      "cell_type": "code",
      "metadata": {
        "colab": {
          "base_uri": "https://localhost:8080/"
        },
        "id": "2vld6yZF9X3w",
        "outputId": "c83504c2-d789-474b-bef1-4d91fecad22b"
      },
      "source": [
        "model_boosting = GradientBoostingRegressor()\n",
        "model_boosting.fit(X_train, y_train)"
      ],
      "execution_count": 49,
      "outputs": [
        {
          "output_type": "execute_result",
          "data": {
            "text/plain": [
              "GradientBoostingRegressor(alpha=0.9, ccp_alpha=0.0, criterion='friedman_mse',\n",
              "                          init=None, learning_rate=0.1, loss='ls', max_depth=3,\n",
              "                          max_features=None, max_leaf_nodes=None,\n",
              "                          min_impurity_decrease=0.0, min_impurity_split=None,\n",
              "                          min_samples_leaf=1, min_samples_split=2,\n",
              "                          min_weight_fraction_leaf=0.0, n_estimators=100,\n",
              "                          n_iter_no_change=None, presort='deprecated',\n",
              "                          random_state=None, subsample=1.0, tol=0.0001,\n",
              "                          validation_fraction=0.1, verbose=0, warm_start=False)"
            ]
          },
          "metadata": {
            "tags": []
          },
          "execution_count": 49
        }
      ]
    },
    {
      "cell_type": "code",
      "metadata": {
        "id": "MVZXnvLE9dcV"
      },
      "source": [
        "loss, bias, variance = bias_variance_decomp(model_boosting, X_train, y_train, X_test, y_test, loss='mse')\n",
        "results_df.loc['Gradient Boosting'] = [loss, bias, variance]"
      ],
      "execution_count": 50,
      "outputs": []
    },
    {
      "cell_type": "code",
      "metadata": {
        "colab": {
          "base_uri": "https://localhost:8080/"
        },
        "id": "VCgPAzzv9dec",
        "outputId": "0a7c6b82-dab1-4376-88d3-9c10527c3baa"
      },
      "source": [
        "print(f'Expected Loss {loss:.2f}')\n",
        "print(f'Bias {bias:.2f}')\n",
        "print(f'Variance {variance:.2f}')"
      ],
      "execution_count": 51,
      "outputs": [
        {
          "output_type": "stream",
          "text": [
            "Expected Loss 11.94\n",
            "Bias 9.47\n",
            "Variance 2.47\n"
          ],
          "name": "stdout"
        }
      ]
    },
    {
      "cell_type": "markdown",
      "metadata": {
        "id": "WX9uT6biu2PX"
      },
      "source": [
        "## Results"
      ]
    },
    {
      "cell_type": "code",
      "metadata": {
        "colab": {
          "base_uri": "https://localhost:8080/",
          "height": 166
        },
        "id": "RCKQM5eXuxKb",
        "outputId": "c6957387-ef6d-4593-f973-d19e4cbab350"
      },
      "source": [
        "results_df"
      ],
      "execution_count": 52,
      "outputs": [
        {
          "output_type": "execute_result",
          "data": {
            "text/html": [
              "<div>\n",
              "<style scoped>\n",
              "    .dataframe tbody tr th:only-of-type {\n",
              "        vertical-align: middle;\n",
              "    }\n",
              "\n",
              "    .dataframe tbody tr th {\n",
              "        vertical-align: top;\n",
              "    }\n",
              "\n",
              "    .dataframe thead th {\n",
              "        text-align: right;\n",
              "    }\n",
              "</style>\n",
              "<table border=\"1\" class=\"dataframe\">\n",
              "  <thead>\n",
              "    <tr style=\"text-align: right;\">\n",
              "      <th></th>\n",
              "      <th>Loss</th>\n",
              "      <th>Bias</th>\n",
              "      <th>Variance</th>\n",
              "    </tr>\n",
              "  </thead>\n",
              "  <tbody>\n",
              "    <tr>\n",
              "      <th>Linear</th>\n",
              "      <td>21.416139</td>\n",
              "      <td>20.272954</td>\n",
              "      <td>1.143185</td>\n",
              "    </tr>\n",
              "    <tr>\n",
              "      <th>Decision Tree</th>\n",
              "      <td>19.294771</td>\n",
              "      <td>8.763890</td>\n",
              "      <td>10.530881</td>\n",
              "    </tr>\n",
              "    <tr>\n",
              "      <th>RandomForest</th>\n",
              "      <td>12.834164</td>\n",
              "      <td>10.705983</td>\n",
              "      <td>2.128182</td>\n",
              "    </tr>\n",
              "    <tr>\n",
              "      <th>Gradient Boosting</th>\n",
              "      <td>11.940660</td>\n",
              "      <td>9.467766</td>\n",
              "      <td>2.472893</td>\n",
              "    </tr>\n",
              "  </tbody>\n",
              "</table>\n",
              "</div>"
            ],
            "text/plain": [
              "                        Loss       Bias   Variance\n",
              "Linear             21.416139  20.272954   1.143185\n",
              "Decision Tree      19.294771   8.763890  10.530881\n",
              "RandomForest       12.834164  10.705983   2.128182\n",
              "Gradient Boosting  11.940660   9.467766   2.472893"
            ]
          },
          "metadata": {
            "tags": []
          },
          "execution_count": 52
        }
      ]
    },
    {
      "cell_type": "markdown",
      "metadata": {
        "id": "tXSvAH5blumT"
      },
      "source": [
        "# Learning Curves\n"
      ]
    },
    {
      "cell_type": "markdown",
      "metadata": {
        "id": "y5SP9KY6Ael3"
      },
      "source": [
        "## Data"
      ]
    },
    {
      "cell_type": "code",
      "metadata": {
        "id": "MMk-gbsKAku1"
      },
      "source": [
        "X, y = boston_housing_data()\n",
        "y = np.where(y > 22.5, 1, 0)\n",
        "X_train, X_test, y_train, y_test = train_test_split(X, y)\n",
        "scaler = StandardScaler()\n",
        "\n",
        "X_train_scaled = scaler.fit_transform(X_train)\n",
        "X_test_scaled  = scaler.transform(X_test)"
      ],
      "execution_count": 132,
      "outputs": []
    },
    {
      "cell_type": "markdown",
      "metadata": {
        "id": "oCvIP69iAiUm"
      },
      "source": [
        "## Logistic Model"
      ]
    },
    {
      "cell_type": "code",
      "metadata": {
        "colab": {
          "base_uri": "https://localhost:8080/"
        },
        "id": "tdsG_zSE_126",
        "outputId": "030395e6-6aad-4f5b-8de2-19295acd31dd"
      },
      "source": [
        "model_linear = LogisticRegression()\n",
        "model_linear.fit(X_train_scaled, y_train)"
      ],
      "execution_count": 133,
      "outputs": [
        {
          "output_type": "execute_result",
          "data": {
            "text/plain": [
              "LogisticRegression(C=1.0, class_weight=None, dual=False, fit_intercept=True,\n",
              "                   intercept_scaling=1, l1_ratio=None, max_iter=100,\n",
              "                   multi_class='auto', n_jobs=None, penalty='l2',\n",
              "                   random_state=None, solver='lbfgs', tol=0.0001, verbose=0,\n",
              "                   warm_start=False)"
            ]
          },
          "metadata": {
            "tags": []
          },
          "execution_count": 133
        }
      ]
    },
    {
      "cell_type": "code",
      "metadata": {
        "colab": {
          "base_uri": "https://localhost:8080/",
          "height": 341
        },
        "id": "1x-8aCuR__BG",
        "outputId": "f2fe5028-f205-412f-b505-113180caa607"
      },
      "source": [
        "plot_learning_curves(X_train_scaled, y_train, X_test_scaled, y_test, model_linear, print_model=False)\n",
        "plt.title('Logistic Regression');"
      ],
      "execution_count": 134,
      "outputs": [
        {
          "output_type": "display_data",
          "data": {
            "image/png": "[encoded data removed]",
            "text/plain": [
              "<Figure size 432x288 with 1 Axes>"
            ]
          },
          "metadata": {
            "tags": []
          }
        }
      ]
    },
    {
      "cell_type": "markdown",
      "metadata": {
        "id": "eN3JhKTDBaYv"
      },
      "source": [
        "## Decision Tree"
      ]
    },
    {
      "cell_type": "code",
      "metadata": {
        "colab": {
          "base_uri": "https://localhost:8080/"
        },
        "id": "hGwsK8b3BgEn",
        "outputId": "3686bdf7-9127-4684-b6c3-6b485d9e03d8"
      },
      "source": [
        "model_tree = DecisionTreeClassifier()\n",
        "model_tree.fit(X_train, y_train)"
      ],
      "execution_count": 135,
      "outputs": [
        {
          "output_type": "execute_result",
          "data": {
            "text/plain": [
              "DecisionTreeClassifier(ccp_alpha=0.0, class_weight=None, criterion='gini',\n",
              "                       max_depth=None, max_features=None, max_leaf_nodes=None,\n",
              "                       min_impurity_decrease=0.0, min_impurity_split=None,\n",
              "                       min_samples_leaf=1, min_samples_split=2,\n",
              "                       min_weight_fraction_leaf=0.0, presort='deprecated',\n",
              "                       random_state=None, splitter='best')"
            ]
          },
          "metadata": {
            "tags": []
          },
          "execution_count": 135
        }
      ]
    },
    {
      "cell_type": "code",
      "metadata": {
        "colab": {
          "base_uri": "https://localhost:8080/",
          "height": 341
        },
        "id": "yr60smBABvLM",
        "outputId": "0cc17f3d-377a-43a2-c877-735b87c52765"
      },
      "source": [
        "plot_learning_curves(X_train, y_train, X_test, y_test, model_tree, print_model=False)\n",
        "plt.title('Decision Tree Classifier');"
      ],
      "execution_count": 136,
      "outputs": [
        {
          "output_type": "display_data",
          "data": {
            "image/png": "[encoded data removed]",
            "text/plain": [
              "<Figure size 432x288 with 1 Axes>"
            ]
          },
          "metadata": {
            "tags": []
          }
        }
      ]
    },
    {
      "cell_type": "markdown",
      "metadata": {
        "id": "PwlS-KcHBatY"
      },
      "source": [
        "## Random Forest"
      ]
    },
    {
      "cell_type": "code",
      "metadata": {
        "colab": {
          "base_uri": "https://localhost:8080/"
        },
        "id": "ShXLemeSCTCd",
        "outputId": "85132795-9e26-4408-ed88-c0c26aae1886"
      },
      "source": [
        "model_forest = RandomForestClassifier(max_depth=3)\n",
        "model_forest.fit(X_train, y_train)"
      ],
      "execution_count": 141,
      "outputs": [
        {
          "output_type": "execute_result",
          "data": {
            "text/plain": [
              "RandomForestClassifier(bootstrap=True, ccp_alpha=0.0, class_weight=None,\n",
              "                       criterion='gini', max_depth=3, max_features='auto',\n",
              "                       max_leaf_nodes=None, max_samples=None,\n",
              "                       min_impurity_decrease=0.0, min_impurity_split=None,\n",
              "                       min_samples_leaf=1, min_samples_split=2,\n",
              "                       min_weight_fraction_leaf=0.0, n_estimators=100,\n",
              "                       n_jobs=None, oob_score=False, random_state=None,\n",
              "                       verbose=0, warm_start=False)"
            ]
          },
          "metadata": {
            "tags": []
          },
          "execution_count": 141
        }
      ]
    },
    {
      "cell_type": "code",
      "metadata": {
        "colab": {
          "base_uri": "https://localhost:8080/",
          "height": 341
        },
        "id": "SGIHD1zNCaRf",
        "outputId": "d129fc2a-ae76-4fba-b0e6-d92ffc01263e"
      },
      "source": [
        "plot_learning_curves(X_train, y_train, X_test, y_test, model_forest, print_model=False)\n",
        "plt.title('Random Forest Classifier');"
      ],
      "execution_count": 142,
      "outputs": [
        {
          "output_type": "display_data",
          "data": {
            "image/png": "[encoded data removed]",
            "text/plain": [
              "<Figure size 432x288 with 1 Axes>"
            ]
          },
          "metadata": {
            "tags": []
          }
        }
      ]
    },
    {
      "cell_type": "markdown",
      "metadata": {
        "id": "WaqACKW9Bawx"
      },
      "source": [
        "## Gradient Boosting"
      ]
    },
    {
      "cell_type": "code",
      "metadata": {
        "colab": {
          "base_uri": "https://localhost:8080/"
        },
        "id": "i7xSuKSLCeAt",
        "outputId": "d3f991d4-2738-49d2-e008-769ea84dfa43"
      },
      "source": [
        "model_boosting = GradientBoostingClassifier(learning_rate=0.01)\n",
        "model_boosting.fit(X_train, y_train)"
      ],
      "execution_count": 158,
      "outputs": [
        {
          "output_type": "execute_result",
          "data": {
            "text/plain": [
              "GradientBoostingClassifier(ccp_alpha=0.0, criterion='friedman_mse', init=None,\n",
              "                           learning_rate=0.01, loss='deviance', max_depth=3,\n",
              "                           max_features=None, max_leaf_nodes=None,\n",
              "                           min_impurity_decrease=0.0, min_impurity_split=None,\n",
              "                           min_samples_leaf=1, min_samples_split=2,\n",
              "                           min_weight_fraction_leaf=0.0, n_estimators=100,\n",
              "                           n_iter_no_change=None, presort='deprecated',\n",
              "                           random_state=None, subsample=1.0, tol=0.0001,\n",
              "                           validation_fraction=0.1, verbose=0,\n",
              "                           warm_start=False)"
            ]
          },
          "metadata": {
            "tags": []
          },
          "execution_count": 158
        }
      ]
    },
    {
      "cell_type": "code",
      "metadata": {
        "colab": {
          "base_uri": "https://localhost:8080/",
          "height": 341
        },
        "id": "MbNS_laFCiTY",
        "outputId": "bab70143-4c94-415e-a08e-690e4a8df3aa"
      },
      "source": [
        "plot_learning_curves(X_train, y_train, X_test, y_test, model_boosting, print_model=False)\n",
        "plt.title('Gradient Boosting Classifier');"
      ],
      "execution_count": 159,
      "outputs": [
        {
          "output_type": "display_data",
          "data": {
            "image/png": "[encoded data removed]",
            "text/plain": [
              "<Figure size 432x288 with 1 Axes>"
            ]
          },
          "metadata": {
            "tags": []
          }
        }
      ]
    },
    {
      "cell_type": "markdown",
      "metadata": {
        "id": "XtFbuhUgoFnM"
      },
      "source": [
        "# Notes\n",
        "* Bias\n",
        "  * Feature Engineering\n",
        "  * Model Complexity\n",
        "  * Ensembles\n",
        "* Variance\n",
        "  * Regularization\n",
        "  * Feature Selection"
      ]
    }
  ]
}