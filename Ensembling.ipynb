{
  "nbformat": 4,
  "nbformat_minor": 0,
  "metadata": {
    "colab": {
      "name": "Ensembling.ipynb",
      "provenance": [],
      "toc_visible": true,
      "authorship_tag": "ABX9TyMzOmWbegB4uL5FKJZkxTNU",
      "include_colab_link": true
    },
    "kernelspec": {
      "name": "python3",
      "display_name": "Python 3"
    },
    "language_info": {
      "name": "python"
    }
  },
  "cells": [
    {
      "cell_type": "markdown",
      "metadata": {
        "id": "view-in-github",
        "colab_type": "text"
      },
      "source": [
        "<a href=\"https://colab.research.google.com/github/swilsonmfc/bias_variance/blob/main/Ensembling.ipynb\" target=\"_parent\"><img src=\"https://colab.research.google.com/assets/colab-badge.svg\" alt=\"Open In Colab\"/></a>"
      ]
    },
    {
      "cell_type": "markdown",
      "metadata": {
        "id": "X0KwYLkcNRMY"
      },
      "source": [
        "# Ensembling"
      ]
    },
    {
      "cell_type": "markdown",
      "metadata": {
        "id": "L8WaxeTvNyOB"
      },
      "source": [
        "# Install"
      ]
    },
    {
      "cell_type": "code",
      "metadata": {
        "colab": {
          "base_uri": "https://localhost:8080/"
        },
        "id": "Hqx45Kr8Nzaw",
        "outputId": "37ea6df5-39d6-4da0-80ea-e540eb003bf1"
      },
      "source": [
        "!pip install catboost"
      ],
      "execution_count": 5,
      "outputs": [
        {
          "output_type": "stream",
          "text": [
            "Collecting catboost\n",
            "\u001b[?25l  Downloading https://files.pythonhosted.org/packages/5a/41/24e14322b9986cf72a8763e0a0a69cc256cf963cf9502c8f0044a62c1ae8/catboost-0.26-cp37-none-manylinux1_x86_64.whl (69.2MB)\n",
            "\u001b[K     |████████████████████████████████| 69.2MB 41kB/s \n",
            "\u001b[?25hRequirement already satisfied: six in /usr/local/lib/python3.7/dist-packages (from catboost) (1.15.0)\n",
            "Requirement already satisfied: matplotlib in /usr/local/lib/python3.7/dist-packages (from catboost) (3.2.2)\n",
            "Requirement already satisfied: graphviz in /usr/local/lib/python3.7/dist-packages (from catboost) (0.10.1)\n",
            "Requirement already satisfied: plotly in /usr/local/lib/python3.7/dist-packages (from catboost) (4.4.1)\n",
            "Requirement already satisfied: scipy in /usr/local/lib/python3.7/dist-packages (from catboost) (1.4.1)\n",
            "Requirement already satisfied: pandas>=0.24.0 in /usr/local/lib/python3.7/dist-packages (from catboost) (1.1.5)\n",
            "Requirement already satisfied: numpy>=1.16.0 in /usr/local/lib/python3.7/dist-packages (from catboost) (1.19.5)\n",
            "Requirement already satisfied: kiwisolver>=1.0.1 in /usr/local/lib/python3.7/dist-packages (from matplotlib->catboost) (1.3.1)\n",
            "Requirement already satisfied: pyparsing!=2.0.4,!=2.1.2,!=2.1.6,>=2.0.1 in /usr/local/lib/python3.7/dist-packages (from matplotlib->catboost) (2.4.7)\n",
            "Requirement already satisfied: cycler>=0.10 in /usr/local/lib/python3.7/dist-packages (from matplotlib->catboost) (0.10.0)\n",
            "Requirement already satisfied: python-dateutil>=2.1 in /usr/local/lib/python3.7/dist-packages (from matplotlib->catboost) (2.8.1)\n",
            "Requirement already satisfied: retrying>=1.3.3 in /usr/local/lib/python3.7/dist-packages (from plotly->catboost) (1.3.3)\n",
            "Requirement already satisfied: pytz>=2017.2 in /usr/local/lib/python3.7/dist-packages (from pandas>=0.24.0->catboost) (2018.9)\n",
            "Installing collected packages: catboost\n",
            "Successfully installed catboost-0.26\n"
          ],
          "name": "stdout"
        }
      ]
    },
    {
      "cell_type": "code",
      "metadata": {
        "colab": {
          "base_uri": "https://localhost:8080/"
        },
        "id": "kwb4l7f7N5WA",
        "outputId": "6dda6502-9506-4682-c333-56b276d12e63"
      },
      "source": [
        "!pip install mlens"
      ],
      "execution_count": 7,
      "outputs": [
        {
          "output_type": "stream",
          "text": [
            "Collecting mlens\n",
            "\u001b[?25l  Downloading https://files.pythonhosted.org/packages/0b/f7/c04bda423ac93ddb54bc4c3a21c79c9a24bc83844efc30dc4c11c289e894/mlens-0.2.3-py2.py3-none-any.whl (227kB)\n",
            "\r\u001b[K     |█▍                              | 10kB 11.5MB/s eta 0:00:01\r\u001b[K     |██▉                             | 20kB 15.5MB/s eta 0:00:01\r\u001b[K     |████▎                           | 30kB 14.9MB/s eta 0:00:01\r\u001b[K     |█████▊                          | 40kB 11.0MB/s eta 0:00:01\r\u001b[K     |███████▏                        | 51kB 7.8MB/s eta 0:00:01\r\u001b[K     |████████▋                       | 61kB 9.0MB/s eta 0:00:01\r\u001b[K     |██████████                      | 71kB 7.9MB/s eta 0:00:01\r\u001b[K     |███████████▌                    | 81kB 8.3MB/s eta 0:00:01\r\u001b[K     |█████████████                   | 92kB 8.1MB/s eta 0:00:01\r\u001b[K     |██████████████▍                 | 102kB 7.2MB/s eta 0:00:01\r\u001b[K     |███████████████▉                | 112kB 7.2MB/s eta 0:00:01\r\u001b[K     |█████████████████▎              | 122kB 7.2MB/s eta 0:00:01\r\u001b[K     |██████████████████▊             | 133kB 7.2MB/s eta 0:00:01\r\u001b[K     |████████████████████▏           | 143kB 7.2MB/s eta 0:00:01\r\u001b[K     |█████████████████████▋          | 153kB 7.2MB/s eta 0:00:01\r\u001b[K     |███████████████████████         | 163kB 7.2MB/s eta 0:00:01\r\u001b[K     |████████████████████████▌       | 174kB 7.2MB/s eta 0:00:01\r\u001b[K     |██████████████████████████      | 184kB 7.2MB/s eta 0:00:01\r\u001b[K     |███████████████████████████▍    | 194kB 7.2MB/s eta 0:00:01\r\u001b[K     |████████████████████████████▉   | 204kB 7.2MB/s eta 0:00:01\r\u001b[K     |██████████████████████████████▎ | 215kB 7.2MB/s eta 0:00:01\r\u001b[K     |███████████████████████████████▋| 225kB 7.2MB/s eta 0:00:01\r\u001b[K     |████████████████████████████████| 235kB 7.2MB/s \n",
            "\u001b[?25hRequirement already satisfied: numpy>=1.11 in /usr/local/lib/python3.7/dist-packages (from mlens) (1.19.5)\n",
            "Requirement already satisfied: scipy>=0.17 in /usr/local/lib/python3.7/dist-packages (from mlens) (1.4.1)\n",
            "Installing collected packages: mlens\n",
            "Successfully installed mlens-0.2.3\n"
          ],
          "name": "stdout"
        }
      ]
    },
    {
      "cell_type": "code",
      "metadata": {
        "colab": {
          "base_uri": "https://localhost:8080/"
        },
        "id": "ChAQSqvxN89p",
        "outputId": "f72b0917-0dc3-4e9d-dabf-712b7f6f1264"
      },
      "source": [
        "!pip install category_encoders"
      ],
      "execution_count": 9,
      "outputs": [
        {
          "output_type": "stream",
          "text": [
            "Collecting category_encoders\n",
            "\u001b[?25l  Downloading https://files.pythonhosted.org/packages/44/57/fcef41c248701ee62e8325026b90c432adea35555cbc870aff9cfba23727/category_encoders-2.2.2-py2.py3-none-any.whl (80kB)\n",
            "\r\u001b[K     |████                            | 10kB 14.4MB/s eta 0:00:01\r\u001b[K     |████████▏                       | 20kB 19.9MB/s eta 0:00:01\r\u001b[K     |████████████▏                   | 30kB 16.8MB/s eta 0:00:01\r\u001b[K     |████████████████▎               | 40kB 14.6MB/s eta 0:00:01\r\u001b[K     |████████████████████▎           | 51kB 7.8MB/s eta 0:00:01\r\u001b[K     |████████████████████████▍       | 61kB 6.6MB/s eta 0:00:01\r\u001b[K     |████████████████████████████▍   | 71kB 7.4MB/s eta 0:00:01\r\u001b[K     |████████████████████████████████| 81kB 4.4MB/s \n",
            "\u001b[?25hRequirement already satisfied: statsmodels>=0.9.0 in /usr/local/lib/python3.7/dist-packages (from category_encoders) (0.10.2)\n",
            "Requirement already satisfied: scipy>=1.0.0 in /usr/local/lib/python3.7/dist-packages (from category_encoders) (1.4.1)\n",
            "Requirement already satisfied: pandas>=0.21.1 in /usr/local/lib/python3.7/dist-packages (from category_encoders) (1.1.5)\n",
            "Requirement already satisfied: numpy>=1.14.0 in /usr/local/lib/python3.7/dist-packages (from category_encoders) (1.19.5)\n",
            "Requirement already satisfied: patsy>=0.5.1 in /usr/local/lib/python3.7/dist-packages (from category_encoders) (0.5.1)\n",
            "Requirement already satisfied: scikit-learn>=0.20.0 in /usr/local/lib/python3.7/dist-packages (from category_encoders) (0.22.2.post1)\n",
            "Requirement already satisfied: python-dateutil>=2.7.3 in /usr/local/lib/python3.7/dist-packages (from pandas>=0.21.1->category_encoders) (2.8.1)\n",
            "Requirement already satisfied: pytz>=2017.2 in /usr/local/lib/python3.7/dist-packages (from pandas>=0.21.1->category_encoders) (2018.9)\n",
            "Requirement already satisfied: six in /usr/local/lib/python3.7/dist-packages (from patsy>=0.5.1->category_encoders) (1.15.0)\n",
            "Requirement already satisfied: joblib>=0.11 in /usr/local/lib/python3.7/dist-packages (from scikit-learn>=0.20.0->category_encoders) (1.0.1)\n",
            "Installing collected packages: category-encoders\n",
            "Successfully installed category-encoders-2.2.2\n"
          ],
          "name": "stdout"
        }
      ]
    },
    {
      "cell_type": "markdown",
      "metadata": {
        "id": "Hnjysw2MY8gN"
      },
      "source": [
        "# Setup"
      ]
    },
    {
      "cell_type": "code",
      "metadata": {
        "id": "rDyQVPUoY-kT",
        "colab": {
          "base_uri": "https://localhost:8080/"
        },
        "outputId": "28bb132b-68af-4063-a17b-a0ff5b864aeb"
      },
      "source": [
        "import pandas as pd\n",
        "import numpy as np\n",
        "import matplotlib.pyplot as plt\n",
        "import seaborn as sns\n",
        "\n",
        "from itertools import combinations\n",
        "\n",
        "import catboost as cat\n",
        "import lightgbm as lgb\n",
        "import xgboost  as xgb\n",
        "\n",
        "from sklearn.ensemble import AdaBoostClassifier\n",
        "from sklearn.ensemble import BaggingClassifier\n",
        "from sklearn.ensemble import RandomForestClassifier\n",
        "from sklearn.ensemble import ExtraTreesClassifier\n",
        "from sklearn.linear_model import RidgeClassifier\n",
        "from sklearn.neighbors import KNeighborsClassifier\n",
        "from sklearn.ensemble import VotingClassifier\n",
        "from sklearn.linear_model import LogisticRegression\n",
        "from sklearn.svm import SVC\n",
        "\n",
        "from mlens.ensemble import SuperLearner\n",
        "\n",
        "from sklearn.pipeline import Pipeline\n",
        "from sklearn.preprocessing import OneHotEncoder\n",
        "from sklearn.preprocessing import LabelEncoder\n",
        "from sklearn.impute import SimpleImputer\n",
        "from sklearn.preprocessing import StandardScaler\n",
        "from sklearn.compose import ColumnTransformer\n",
        "\n",
        "from sklearn.model_selection import train_test_split\n",
        "from sklearn.model_selection import cross_val_score\n",
        "from sklearn.metrics import classification_report\n",
        "from sklearn.metrics import confusion_matrix\n",
        "from sklearn.metrics import log_loss\n",
        "from sklearn.metrics import accuracy_score\n",
        "\n",
        "from yellowbrick.classifier import ClassificationReport\n",
        "from yellowbrick.classifier import ClassPredictionError\n",
        "from yellowbrick.classifier import ConfusionMatrix\n",
        "\n",
        "from category_encoders import OneHotEncoder"
      ],
      "execution_count": 10,
      "outputs": [
        {
          "output_type": "stream",
          "text": [
            "/usr/local/lib/python3.7/dist-packages/statsmodels/tools/_testing.py:19: FutureWarning: pandas.util.testing is deprecated. Use the functions in the public API at pandas.testing instead.\n",
            "  import pandas.util.testing as tm\n"
          ],
          "name": "stderr"
        }
      ]
    },
    {
      "cell_type": "markdown",
      "metadata": {
        "id": "loO297-hYz2J"
      },
      "source": [
        "# Kaggle"
      ]
    },
    {
      "cell_type": "code",
      "metadata": {
        "id": "EM6A-uxdZmMg",
        "colab": {
          "resources": {
            "http://localhost:8080/nbextensions/google.colab/files.js": {
              "data": "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",
              "ok": true,
              "headers": [
                [
                  "content-type",
                  "application/javascript"
                ]
              ],
              "status": 200,
              "status_text": ""
            }
          },
          "base_uri": "https://localhost:8080/",
          "height": 73
        },
        "outputId": "7824efff-9355-4154-f75a-7854244cea05"
      },
      "source": [
        "from google.colab import files\n",
        "uploaded = files.upload()\n",
        "!mkdir -p ~/.kaggle/ && mv kaggle.json ~/.kaggle/ && chmod 600 ~/.kaggle/kaggle.json"
      ],
      "execution_count": 11,
      "outputs": [
        {
          "output_type": "display_data",
          "data": {
            "text/html": [
              "\n",
              "     <input type=\"file\" id=\"files-d06e872b-973d-4504-a080-44abb6ebc48d\" name=\"files[]\" multiple disabled\n",
              "        style=\"border:none\" />\n",
              "     <output id=\"result-d06e872b-973d-4504-a080-44abb6ebc48d\">\n",
              "      Upload widget is only available when the cell has been executed in the\n",
              "      current browser session. Please rerun this cell to enable.\n",
              "      </output>\n",
              "      <script src=\"/nbextensions/google.colab/files.js\"></script> "
            ],
            "text/plain": [
              "<IPython.core.display.HTML object>"
            ]
          },
          "metadata": {
            "tags": []
          }
        },
        {
          "output_type": "stream",
          "text": [
            "Saving kaggle.json to kaggle.json\n"
          ],
          "name": "stdout"
        }
      ]
    },
    {
      "cell_type": "code",
      "metadata": {
        "colab": {
          "base_uri": "https://localhost:8080/"
        },
        "id": "_m9KULmLSniL",
        "outputId": "87c8c473-e96b-41d2-93a9-8dd55c7824dc"
      },
      "source": [
        "!kaggle datasets download -d usdot/flight-delays"
      ],
      "execution_count": 12,
      "outputs": [
        {
          "output_type": "stream",
          "text": [
            "Downloading flight-delays.zip to /content\n",
            " 97% 186M/191M [00:01<00:00, 126MB/s]\n",
            "100% 191M/191M [00:01<00:00, 101MB/s]\n"
          ],
          "name": "stdout"
        }
      ]
    },
    {
      "cell_type": "code",
      "metadata": {
        "colab": {
          "base_uri": "https://localhost:8080/"
        },
        "id": "xkwMv5AkSxc8",
        "outputId": "d8f37f04-4b1a-4e11-efa4-5ba544cdc2c6"
      },
      "source": [
        "!unzip flight-delays.zip"
      ],
      "execution_count": 13,
      "outputs": [
        {
          "output_type": "stream",
          "text": [
            "Archive:  flight-delays.zip\n",
            "  inflating: airlines.csv            \n",
            "  inflating: airports.csv            \n",
            "  inflating: flights.csv             \n"
          ],
          "name": "stdout"
        }
      ]
    },
    {
      "cell_type": "code",
      "metadata": {
        "colab": {
          "base_uri": "https://localhost:8080/"
        },
        "id": "9tSjKbF5S0CX",
        "outputId": "df876cb7-7d6c-4740-a19d-4ba1a7116b3d"
      },
      "source": [
        "!ls"
      ],
      "execution_count": 14,
      "outputs": [
        {
          "output_type": "stream",
          "text": [
            "airlines.csv  airports.csv  flight-delays.zip  flights.csv  sample_data\n"
          ],
          "name": "stdout"
        }
      ]
    },
    {
      "cell_type": "markdown",
      "metadata": {
        "id": "dO_oubYeNrhH"
      },
      "source": [
        "# Data"
      ]
    },
    {
      "cell_type": "code",
      "metadata": {
        "colab": {
          "base_uri": "https://localhost:8080/"
        },
        "id": "cEDQOZPwNsTB",
        "outputId": "114c0edb-d7d5-4c4f-f065-47e1ab1a44d7"
      },
      "source": [
        "flight_df  = pd.read_csv('./flights.csv')\n",
        "airport_df = pd.read_csv('./airports.csv')\n",
        "airline_df = pd.read_csv('./airlines.csv')"
      ],
      "execution_count": 15,
      "outputs": [
        {
          "output_type": "stream",
          "text": [
            "/usr/local/lib/python3.7/dist-packages/IPython/core/interactiveshell.py:2718: DtypeWarning: Columns (7,8) have mixed types.Specify dtype option on import or set low_memory=False.\n",
            "  interactivity=interactivity, compiler=compiler, result=result)\n"
          ],
          "name": "stderr"
        }
      ]
    },
    {
      "cell_type": "code",
      "metadata": {
        "colab": {
          "base_uri": "https://localhost:8080/"
        },
        "id": "JCJut2ZjNsv6",
        "outputId": "d365ccf6-0295-417f-fe90-9b0026386b27"
      },
      "source": [
        "flight_df.dtypes"
      ],
      "execution_count": 16,
      "outputs": [
        {
          "output_type": "execute_result",
          "data": {
            "text/plain": [
              "YEAR                     int64\n",
              "MONTH                    int64\n",
              "DAY                      int64\n",
              "DAY_OF_WEEK              int64\n",
              "AIRLINE                 object\n",
              "FLIGHT_NUMBER            int64\n",
              "TAIL_NUMBER             object\n",
              "ORIGIN_AIRPORT          object\n",
              "DESTINATION_AIRPORT     object\n",
              "SCHEDULED_DEPARTURE      int64\n",
              "DEPARTURE_TIME         float64\n",
              "DEPARTURE_DELAY        float64\n",
              "TAXI_OUT               float64\n",
              "WHEELS_OFF             float64\n",
              "SCHEDULED_TIME         float64\n",
              "ELAPSED_TIME           float64\n",
              "AIR_TIME               float64\n",
              "DISTANCE                 int64\n",
              "WHEELS_ON              float64\n",
              "TAXI_IN                float64\n",
              "SCHEDULED_ARRIVAL        int64\n",
              "ARRIVAL_TIME           float64\n",
              "ARRIVAL_DELAY          float64\n",
              "DIVERTED                 int64\n",
              "CANCELLED                int64\n",
              "CANCELLATION_REASON     object\n",
              "AIR_SYSTEM_DELAY       float64\n",
              "SECURITY_DELAY         float64\n",
              "AIRLINE_DELAY          float64\n",
              "LATE_AIRCRAFT_DELAY    float64\n",
              "WEATHER_DELAY          float64\n",
              "dtype: object"
            ]
          },
          "metadata": {
            "tags": []
          },
          "execution_count": 16
        }
      ]
    },
    {
      "cell_type": "code",
      "metadata": {
        "colab": {
          "base_uri": "https://localhost:8080/",
          "height": 215
        },
        "id": "lviFnDK5OHMp",
        "outputId": "a2c4f3a3-aa8d-4e1b-b9a1-ea73ebbd9666"
      },
      "source": [
        "flight_df.head()"
      ],
      "execution_count": 17,
      "outputs": [
        {
          "output_type": "execute_result",
          "data": {
            "text/html": [
              "<div>\n",
              "<style scoped>\n",
              "    .dataframe tbody tr th:only-of-type {\n",
              "        vertical-align: middle;\n",
              "    }\n",
              "\n",
              "    .dataframe tbody tr th {\n",
              "        vertical-align: top;\n",
              "    }\n",
              "\n",
              "    .dataframe thead th {\n",
              "        text-align: right;\n",
              "    }\n",
              "</style>\n",
              "<table border=\"1\" class=\"dataframe\">\n",
              "  <thead>\n",
              "    <tr style=\"text-align: right;\">\n",
              "      <th></th>\n",
              "      <th>YEAR</th>\n",
              "      <th>MONTH</th>\n",
              "      <th>DAY</th>\n",
              "      <th>DAY_OF_WEEK</th>\n",
              "      <th>AIRLINE</th>\n",
              "      <th>FLIGHT_NUMBER</th>\n",
              "      <th>TAIL_NUMBER</th>\n",
              "      <th>ORIGIN_AIRPORT</th>\n",
              "      <th>DESTINATION_AIRPORT</th>\n",
              "      <th>SCHEDULED_DEPARTURE</th>\n",
              "      <th>DEPARTURE_TIME</th>\n",
              "      <th>DEPARTURE_DELAY</th>\n",
              "      <th>TAXI_OUT</th>\n",
              "      <th>WHEELS_OFF</th>\n",
              "      <th>SCHEDULED_TIME</th>\n",
              "      <th>ELAPSED_TIME</th>\n",
              "      <th>AIR_TIME</th>\n",
              "      <th>DISTANCE</th>\n",
              "      <th>WHEELS_ON</th>\n",
              "      <th>TAXI_IN</th>\n",
              "      <th>SCHEDULED_ARRIVAL</th>\n",
              "      <th>ARRIVAL_TIME</th>\n",
              "      <th>ARRIVAL_DELAY</th>\n",
              "      <th>DIVERTED</th>\n",
              "      <th>CANCELLED</th>\n",
              "      <th>CANCELLATION_REASON</th>\n",
              "      <th>AIR_SYSTEM_DELAY</th>\n",
              "      <th>SECURITY_DELAY</th>\n",
              "      <th>AIRLINE_DELAY</th>\n",
              "      <th>LATE_AIRCRAFT_DELAY</th>\n",
              "      <th>WEATHER_DELAY</th>\n",
              "    </tr>\n",
              "  </thead>\n",
              "  <tbody>\n",
              "    <tr>\n",
              "      <th>0</th>\n",
              "      <td>2015</td>\n",
              "      <td>1</td>\n",
              "      <td>1</td>\n",
              "      <td>4</td>\n",
              "      <td>AS</td>\n",
              "      <td>98</td>\n",
              "      <td>N407AS</td>\n",
              "      <td>ANC</td>\n",
              "      <td>SEA</td>\n",
              "      <td>5</td>\n",
              "      <td>2354.0</td>\n",
              "      <td>-11.0</td>\n",
              "      <td>21.0</td>\n",
              "      <td>15.0</td>\n",
              "      <td>205.0</td>\n",
              "      <td>194.0</td>\n",
              "      <td>169.0</td>\n",
              "      <td>1448</td>\n",
              "      <td>404.0</td>\n",
              "      <td>4.0</td>\n",
              "      <td>430</td>\n",
              "      <td>408.0</td>\n",
              "      <td>-22.0</td>\n",
              "      <td>0</td>\n",
              "      <td>0</td>\n",
              "      <td>NaN</td>\n",
              "      <td>NaN</td>\n",
              "      <td>NaN</td>\n",
              "      <td>NaN</td>\n",
              "      <td>NaN</td>\n",
              "      <td>NaN</td>\n",
              "    </tr>\n",
              "    <tr>\n",
              "      <th>1</th>\n",
              "      <td>2015</td>\n",
              "      <td>1</td>\n",
              "      <td>1</td>\n",
              "      <td>4</td>\n",
              "      <td>AA</td>\n",
              "      <td>2336</td>\n",
              "      <td>N3KUAA</td>\n",
              "      <td>LAX</td>\n",
              "      <td>PBI</td>\n",
              "      <td>10</td>\n",
              "      <td>2.0</td>\n",
              "      <td>-8.0</td>\n",
              "      <td>12.0</td>\n",
              "      <td>14.0</td>\n",
              "      <td>280.0</td>\n",
              "      <td>279.0</td>\n",
              "      <td>263.0</td>\n",
              "      <td>2330</td>\n",
              "      <td>737.0</td>\n",
              "      <td>4.0</td>\n",
              "      <td>750</td>\n",
              "      <td>741.0</td>\n",
              "      <td>-9.0</td>\n",
              "      <td>0</td>\n",
              "      <td>0</td>\n",
              "      <td>NaN</td>\n",
              "      <td>NaN</td>\n",
              "      <td>NaN</td>\n",
              "      <td>NaN</td>\n",
              "      <td>NaN</td>\n",
              "      <td>NaN</td>\n",
              "    </tr>\n",
              "    <tr>\n",
              "      <th>2</th>\n",
              "      <td>2015</td>\n",
              "      <td>1</td>\n",
              "      <td>1</td>\n",
              "      <td>4</td>\n",
              "      <td>US</td>\n",
              "      <td>840</td>\n",
              "      <td>N171US</td>\n",
              "      <td>SFO</td>\n",
              "      <td>CLT</td>\n",
              "      <td>20</td>\n",
              "      <td>18.0</td>\n",
              "      <td>-2.0</td>\n",
              "      <td>16.0</td>\n",
              "      <td>34.0</td>\n",
              "      <td>286.0</td>\n",
              "      <td>293.0</td>\n",
              "      <td>266.0</td>\n",
              "      <td>2296</td>\n",
              "      <td>800.0</td>\n",
              "      <td>11.0</td>\n",
              "      <td>806</td>\n",
              "      <td>811.0</td>\n",
              "      <td>5.0</td>\n",
              "      <td>0</td>\n",
              "      <td>0</td>\n",
              "      <td>NaN</td>\n",
              "      <td>NaN</td>\n",
              "      <td>NaN</td>\n",
              "      <td>NaN</td>\n",
              "      <td>NaN</td>\n",
              "      <td>NaN</td>\n",
              "    </tr>\n",
              "    <tr>\n",
              "      <th>3</th>\n",
              "      <td>2015</td>\n",
              "      <td>1</td>\n",
              "      <td>1</td>\n",
              "      <td>4</td>\n",
              "      <td>AA</td>\n",
              "      <td>258</td>\n",
              "      <td>N3HYAA</td>\n",
              "      <td>LAX</td>\n",
              "      <td>MIA</td>\n",
              "      <td>20</td>\n",
              "      <td>15.0</td>\n",
              "      <td>-5.0</td>\n",
              "      <td>15.0</td>\n",
              "      <td>30.0</td>\n",
              "      <td>285.0</td>\n",
              "      <td>281.0</td>\n",
              "      <td>258.0</td>\n",
              "      <td>2342</td>\n",
              "      <td>748.0</td>\n",
              "      <td>8.0</td>\n",
              "      <td>805</td>\n",
              "      <td>756.0</td>\n",
              "      <td>-9.0</td>\n",
              "      <td>0</td>\n",
              "      <td>0</td>\n",
              "      <td>NaN</td>\n",
              "      <td>NaN</td>\n",
              "      <td>NaN</td>\n",
              "      <td>NaN</td>\n",
              "      <td>NaN</td>\n",
              "      <td>NaN</td>\n",
              "    </tr>\n",
              "    <tr>\n",
              "      <th>4</th>\n",
              "      <td>2015</td>\n",
              "      <td>1</td>\n",
              "      <td>1</td>\n",
              "      <td>4</td>\n",
              "      <td>AS</td>\n",
              "      <td>135</td>\n",
              "      <td>N527AS</td>\n",
              "      <td>SEA</td>\n",
              "      <td>ANC</td>\n",
              "      <td>25</td>\n",
              "      <td>24.0</td>\n",
              "      <td>-1.0</td>\n",
              "      <td>11.0</td>\n",
              "      <td>35.0</td>\n",
              "      <td>235.0</td>\n",
              "      <td>215.0</td>\n",
              "      <td>199.0</td>\n",
              "      <td>1448</td>\n",
              "      <td>254.0</td>\n",
              "      <td>5.0</td>\n",
              "      <td>320</td>\n",
              "      <td>259.0</td>\n",
              "      <td>-21.0</td>\n",
              "      <td>0</td>\n",
              "      <td>0</td>\n",
              "      <td>NaN</td>\n",
              "      <td>NaN</td>\n",
              "      <td>NaN</td>\n",
              "      <td>NaN</td>\n",
              "      <td>NaN</td>\n",
              "      <td>NaN</td>\n",
              "    </tr>\n",
              "  </tbody>\n",
              "</table>\n",
              "</div>"
            ],
            "text/plain": [
              "   YEAR  MONTH  DAY  ...  AIRLINE_DELAY LATE_AIRCRAFT_DELAY  WEATHER_DELAY\n",
              "0  2015      1    1  ...            NaN                 NaN            NaN\n",
              "1  2015      1    1  ...            NaN                 NaN            NaN\n",
              "2  2015      1    1  ...            NaN                 NaN            NaN\n",
              "3  2015      1    1  ...            NaN                 NaN            NaN\n",
              "4  2015      1    1  ...            NaN                 NaN            NaN\n",
              "\n",
              "[5 rows x 31 columns]"
            ]
          },
          "metadata": {
            "tags": []
          },
          "execution_count": 17
        }
      ]
    },
    {
      "cell_type": "code",
      "metadata": {
        "colab": {
          "base_uri": "https://localhost:8080/",
          "height": 195
        },
        "id": "8bx_2tucOIre",
        "outputId": "5c23f52a-792b-4da7-fe9d-a13a63210beb"
      },
      "source": [
        "airport_df.head()"
      ],
      "execution_count": 18,
      "outputs": [
        {
          "output_type": "execute_result",
          "data": {
            "text/html": [
              "<div>\n",
              "<style scoped>\n",
              "    .dataframe tbody tr th:only-of-type {\n",
              "        vertical-align: middle;\n",
              "    }\n",
              "\n",
              "    .dataframe tbody tr th {\n",
              "        vertical-align: top;\n",
              "    }\n",
              "\n",
              "    .dataframe thead th {\n",
              "        text-align: right;\n",
              "    }\n",
              "</style>\n",
              "<table border=\"1\" class=\"dataframe\">\n",
              "  <thead>\n",
              "    <tr style=\"text-align: right;\">\n",
              "      <th></th>\n",
              "      <th>IATA_CODE</th>\n",
              "      <th>AIRPORT</th>\n",
              "      <th>CITY</th>\n",
              "      <th>STATE</th>\n",
              "      <th>COUNTRY</th>\n",
              "      <th>LATITUDE</th>\n",
              "      <th>LONGITUDE</th>\n",
              "    </tr>\n",
              "  </thead>\n",
              "  <tbody>\n",
              "    <tr>\n",
              "      <th>0</th>\n",
              "      <td>ABE</td>\n",
              "      <td>Lehigh Valley International Airport</td>\n",
              "      <td>Allentown</td>\n",
              "      <td>PA</td>\n",
              "      <td>USA</td>\n",
              "      <td>40.65236</td>\n",
              "      <td>-75.44040</td>\n",
              "    </tr>\n",
              "    <tr>\n",
              "      <th>1</th>\n",
              "      <td>ABI</td>\n",
              "      <td>Abilene Regional Airport</td>\n",
              "      <td>Abilene</td>\n",
              "      <td>TX</td>\n",
              "      <td>USA</td>\n",
              "      <td>32.41132</td>\n",
              "      <td>-99.68190</td>\n",
              "    </tr>\n",
              "    <tr>\n",
              "      <th>2</th>\n",
              "      <td>ABQ</td>\n",
              "      <td>Albuquerque International Sunport</td>\n",
              "      <td>Albuquerque</td>\n",
              "      <td>NM</td>\n",
              "      <td>USA</td>\n",
              "      <td>35.04022</td>\n",
              "      <td>-106.60919</td>\n",
              "    </tr>\n",
              "    <tr>\n",
              "      <th>3</th>\n",
              "      <td>ABR</td>\n",
              "      <td>Aberdeen Regional Airport</td>\n",
              "      <td>Aberdeen</td>\n",
              "      <td>SD</td>\n",
              "      <td>USA</td>\n",
              "      <td>45.44906</td>\n",
              "      <td>-98.42183</td>\n",
              "    </tr>\n",
              "    <tr>\n",
              "      <th>4</th>\n",
              "      <td>ABY</td>\n",
              "      <td>Southwest Georgia Regional Airport</td>\n",
              "      <td>Albany</td>\n",
              "      <td>GA</td>\n",
              "      <td>USA</td>\n",
              "      <td>31.53552</td>\n",
              "      <td>-84.19447</td>\n",
              "    </tr>\n",
              "  </tbody>\n",
              "</table>\n",
              "</div>"
            ],
            "text/plain": [
              "  IATA_CODE                              AIRPORT  ...  LATITUDE  LONGITUDE\n",
              "0       ABE  Lehigh Valley International Airport  ...  40.65236  -75.44040\n",
              "1       ABI             Abilene Regional Airport  ...  32.41132  -99.68190\n",
              "2       ABQ    Albuquerque International Sunport  ...  35.04022 -106.60919\n",
              "3       ABR            Aberdeen Regional Airport  ...  45.44906  -98.42183\n",
              "4       ABY   Southwest Georgia Regional Airport  ...  31.53552  -84.19447\n",
              "\n",
              "[5 rows x 7 columns]"
            ]
          },
          "metadata": {
            "tags": []
          },
          "execution_count": 18
        }
      ]
    },
    {
      "cell_type": "code",
      "metadata": {
        "colab": {
          "base_uri": "https://localhost:8080/",
          "height": 195
        },
        "id": "rwG4lf3vOKkn",
        "outputId": "5f6aa6b2-5505-4d5d-fbba-03311fd2e101"
      },
      "source": [
        "airline_df.head()"
      ],
      "execution_count": 19,
      "outputs": [
        {
          "output_type": "execute_result",
          "data": {
            "text/html": [
              "<div>\n",
              "<style scoped>\n",
              "    .dataframe tbody tr th:only-of-type {\n",
              "        vertical-align: middle;\n",
              "    }\n",
              "\n",
              "    .dataframe tbody tr th {\n",
              "        vertical-align: top;\n",
              "    }\n",
              "\n",
              "    .dataframe thead th {\n",
              "        text-align: right;\n",
              "    }\n",
              "</style>\n",
              "<table border=\"1\" class=\"dataframe\">\n",
              "  <thead>\n",
              "    <tr style=\"text-align: right;\">\n",
              "      <th></th>\n",
              "      <th>IATA_CODE</th>\n",
              "      <th>AIRLINE</th>\n",
              "    </tr>\n",
              "  </thead>\n",
              "  <tbody>\n",
              "    <tr>\n",
              "      <th>0</th>\n",
              "      <td>UA</td>\n",
              "      <td>United Air Lines Inc.</td>\n",
              "    </tr>\n",
              "    <tr>\n",
              "      <th>1</th>\n",
              "      <td>AA</td>\n",
              "      <td>American Airlines Inc.</td>\n",
              "    </tr>\n",
              "    <tr>\n",
              "      <th>2</th>\n",
              "      <td>US</td>\n",
              "      <td>US Airways Inc.</td>\n",
              "    </tr>\n",
              "    <tr>\n",
              "      <th>3</th>\n",
              "      <td>F9</td>\n",
              "      <td>Frontier Airlines Inc.</td>\n",
              "    </tr>\n",
              "    <tr>\n",
              "      <th>4</th>\n",
              "      <td>B6</td>\n",
              "      <td>JetBlue Airways</td>\n",
              "    </tr>\n",
              "  </tbody>\n",
              "</table>\n",
              "</div>"
            ],
            "text/plain": [
              "  IATA_CODE                 AIRLINE\n",
              "0        UA   United Air Lines Inc.\n",
              "1        AA  American Airlines Inc.\n",
              "2        US         US Airways Inc.\n",
              "3        F9  Frontier Airlines Inc.\n",
              "4        B6         JetBlue Airways"
            ]
          },
          "metadata": {
            "tags": []
          },
          "execution_count": 19
        }
      ]
    },
    {
      "cell_type": "markdown",
      "metadata": {
        "id": "0ThctF2SOM73"
      },
      "source": [
        "# Processing"
      ]
    },
    {
      "cell_type": "code",
      "metadata": {
        "id": "SZUK3_mkOOA5"
      },
      "source": [
        "df = flight_df.copy()"
      ],
      "execution_count": 21,
      "outputs": []
    },
    {
      "cell_type": "markdown",
      "metadata": {
        "id": "PtTq4NEnOQjP"
      },
      "source": [
        "## JFK Departures"
      ]
    },
    {
      "cell_type": "code",
      "metadata": {
        "colab": {
          "base_uri": "https://localhost:8080/"
        },
        "id": "P-kZLkslObDR",
        "outputId": "1f20cbad-63e0-4737-c465-e2657a0713dd"
      },
      "source": [
        "df = df[df.ORIGIN_AIRPORT == 'JFK']\n",
        "df.shape"
      ],
      "execution_count": 22,
      "outputs": [
        {
          "output_type": "execute_result",
          "data": {
            "text/plain": [
              "(93811, 31)"
            ]
          },
          "metadata": {
            "tags": []
          },
          "execution_count": 22
        }
      ]
    },
    {
      "cell_type": "markdown",
      "metadata": {
        "id": "Bcce89uRObq-"
      },
      "source": [
        "## Features"
      ]
    },
    {
      "cell_type": "code",
      "metadata": {
        "id": "-gUlHqyZOc0m"
      },
      "source": [
        "keep_cols = ['MONTH',\n",
        "            'DAY_OF_WEEK',\n",
        "            'AIRLINE',\n",
        "            'DESTINATION_AIRPORT',\n",
        "            'SCHEDULED_DEPARTURE',\n",
        "            'SCHEDULED_ARRIVAL',\n",
        "            'SCHEDULED_TIME',\n",
        "            'DISTANCE',\n",
        "            'ARRIVAL_DELAY',\n",
        "            'CANCELLED'\n",
        "]\n",
        "df = df[keep_cols].copy()"
      ],
      "execution_count": 23,
      "outputs": []
    },
    {
      "cell_type": "markdown",
      "metadata": {
        "id": "1El2rY60OiGb"
      },
      "source": [
        "## Missing"
      ]
    },
    {
      "cell_type": "code",
      "metadata": {
        "colab": {
          "base_uri": "https://localhost:8080/",
          "height": 343
        },
        "id": "M_AYErmDOixS",
        "outputId": "cc855392-ffa1-402e-e0d8-54de56022d5e"
      },
      "source": [
        "missing_df = pd.DataFrame(df.isna().mean().round(4) * 100)\n",
        "missing_df.reset_index().rename(columns={'index': 'Feature', 0: 'Percent Missing'})"
      ],
      "execution_count": 24,
      "outputs": [
        {
          "output_type": "execute_result",
          "data": {
            "text/html": [
              "<div>\n",
              "<style scoped>\n",
              "    .dataframe tbody tr th:only-of-type {\n",
              "        vertical-align: middle;\n",
              "    }\n",
              "\n",
              "    .dataframe tbody tr th {\n",
              "        vertical-align: top;\n",
              "    }\n",
              "\n",
              "    .dataframe thead th {\n",
              "        text-align: right;\n",
              "    }\n",
              "</style>\n",
              "<table border=\"1\" class=\"dataframe\">\n",
              "  <thead>\n",
              "    <tr style=\"text-align: right;\">\n",
              "      <th></th>\n",
              "      <th>Feature</th>\n",
              "      <th>Percent Missing</th>\n",
              "    </tr>\n",
              "  </thead>\n",
              "  <tbody>\n",
              "    <tr>\n",
              "      <th>0</th>\n",
              "      <td>MONTH</td>\n",
              "      <td>0.00</td>\n",
              "    </tr>\n",
              "    <tr>\n",
              "      <th>1</th>\n",
              "      <td>DAY_OF_WEEK</td>\n",
              "      <td>0.00</td>\n",
              "    </tr>\n",
              "    <tr>\n",
              "      <th>2</th>\n",
              "      <td>AIRLINE</td>\n",
              "      <td>0.00</td>\n",
              "    </tr>\n",
              "    <tr>\n",
              "      <th>3</th>\n",
              "      <td>DESTINATION_AIRPORT</td>\n",
              "      <td>0.00</td>\n",
              "    </tr>\n",
              "    <tr>\n",
              "      <th>4</th>\n",
              "      <td>SCHEDULED_DEPARTURE</td>\n",
              "      <td>0.00</td>\n",
              "    </tr>\n",
              "    <tr>\n",
              "      <th>5</th>\n",
              "      <td>SCHEDULED_ARRIVAL</td>\n",
              "      <td>0.00</td>\n",
              "    </tr>\n",
              "    <tr>\n",
              "      <th>6</th>\n",
              "      <td>SCHEDULED_TIME</td>\n",
              "      <td>0.00</td>\n",
              "    </tr>\n",
              "    <tr>\n",
              "      <th>7</th>\n",
              "      <td>DISTANCE</td>\n",
              "      <td>0.00</td>\n",
              "    </tr>\n",
              "    <tr>\n",
              "      <th>8</th>\n",
              "      <td>ARRIVAL_DELAY</td>\n",
              "      <td>2.29</td>\n",
              "    </tr>\n",
              "    <tr>\n",
              "      <th>9</th>\n",
              "      <td>CANCELLED</td>\n",
              "      <td>0.00</td>\n",
              "    </tr>\n",
              "  </tbody>\n",
              "</table>\n",
              "</div>"
            ],
            "text/plain": [
              "               Feature  Percent Missing\n",
              "0                MONTH             0.00\n",
              "1          DAY_OF_WEEK             0.00\n",
              "2              AIRLINE             0.00\n",
              "3  DESTINATION_AIRPORT             0.00\n",
              "4  SCHEDULED_DEPARTURE             0.00\n",
              "5    SCHEDULED_ARRIVAL             0.00\n",
              "6       SCHEDULED_TIME             0.00\n",
              "7             DISTANCE             0.00\n",
              "8        ARRIVAL_DELAY             2.29\n",
              "9            CANCELLED             0.00"
            ]
          },
          "metadata": {
            "tags": []
          },
          "execution_count": 24
        }
      ]
    },
    {
      "cell_type": "code",
      "metadata": {
        "id": "lz3Ka7WaOofB"
      },
      "source": [
        "df = df.dropna()"
      ],
      "execution_count": 25,
      "outputs": []
    },
    {
      "cell_type": "markdown",
      "metadata": {
        "id": "NnHgDpzpOpke"
      },
      "source": [
        "## Classification"
      ]
    },
    {
      "cell_type": "code",
      "metadata": {
        "id": "2LZeR4HNOqyB"
      },
      "source": [
        "## Balance Classes\n",
        "delay  = df[df.ARRIVAL_DELAY > 0].sample(15000)\n",
        "ontime = df[df.ARRIVAL_DELAY <= 0].sample(15000)\n",
        "df = pd.concat([delay, ontime])"
      ],
      "execution_count": 26,
      "outputs": []
    },
    {
      "cell_type": "code",
      "metadata": {
        "id": "OpiRsCUuOvXp"
      },
      "source": [
        "df['CLASS'] = np.where(df.ARRIVAL_DELAY <= 0, 'ONTIME', 'DELAY')"
      ],
      "execution_count": 27,
      "outputs": []
    },
    {
      "cell_type": "code",
      "metadata": {
        "colab": {
          "base_uri": "https://localhost:8080/",
          "height": 390
        },
        "id": "pL75DCrLOvaG",
        "outputId": "4bf708f1-ec16-43d6-caea-b4e8be87270b"
      },
      "source": [
        "df.groupby('CLASS').size().plot.bar();"
      ],
      "execution_count": 28,
      "outputs": [
        {
          "output_type": "display_data",
          "data": {
            "image/png": "[encoded data removed]",
            "text/plain": [
              "<Figure size 576x396 with 1 Axes>"
            ]
          },
          "metadata": {
            "tags": []
          }
        }
      ]
    },
    {
      "cell_type": "markdown",
      "metadata": {
        "id": "7Dgif7ElO0Ul"
      },
      "source": [
        "# EDA"
      ]
    },
    {
      "cell_type": "markdown",
      "metadata": {
        "id": "oSKAgk9eO4O7"
      },
      "source": [
        "## Top Arrival Airports & Airlines"
      ]
    },
    {
      "cell_type": "code",
      "metadata": {
        "colab": {
          "base_uri": "https://localhost:8080/",
          "height": 620
        },
        "id": "noor8UTuO1AG",
        "outputId": "7d92d145-4de6-46b2-8fc4-b7284c4c6d03"
      },
      "source": [
        "top = 20\n",
        "topAirports = df.groupby('DESTINATION_AIRPORT').size() \\\n",
        "    .sort_values(ascending=False) \\\n",
        "    .head(top) \\\n",
        "    .index \\\n",
        "    .tolist()\n",
        "\n",
        "pvt = df[df.DESTINATION_AIRPORT.isin(topAirports)] \\\n",
        "    .groupby(['AIRLINE', 'DESTINATION_AIRPORT']) \\\n",
        "    .agg({'ARRIVAL_DELAY': 'mean'}) \\\n",
        "    .reset_index() \\\n",
        "    .pivot(index='DESTINATION_AIRPORT', columns='AIRLINE', values='ARRIVAL_DELAY')\n",
        "\n",
        "plt.figure(figsize=(12,10))\n",
        "plt.title('JFK Departure Delays by Top Destination & Airline')\n",
        "sns.heatmap(pvt, cmap='Blues', annot=True)\n",
        "plt.yticks(rotation=0);"
      ],
      "execution_count": 30,
      "outputs": [
        {
          "output_type": "display_data",
          "data": {
            "image/png": "[encoded data removed]",
            "text/plain": [
              "<Figure size 864x720 with 2 Axes>"
            ]
          },
          "metadata": {
            "tags": []
          }
        }
      ]
    },
    {
      "cell_type": "markdown",
      "metadata": {
        "id": "2m7EGa0WO9f8"
      },
      "source": [
        "## Airline Delay Distribution\n"
      ]
    },
    {
      "cell_type": "code",
      "metadata": {
        "colab": {
          "base_uri": "https://localhost:8080/",
          "height": 606
        },
        "id": "5zCt7ibZO8yC",
        "outputId": "bb4065bd-53b0-4032-9252-22cb116cdb22"
      },
      "source": [
        "plt.figure(figsize=(12,10))\n",
        "sns.boxplot(x=df.AIRLINE, \n",
        "            y=df.ARRIVAL_DELAY, \n",
        "            showfliers=False,\n",
        "            color='#1f77b4');"
      ],
      "execution_count": 31,
      "outputs": [
        {
          "output_type": "display_data",
          "data": {
            "image/png": "[encoded data removed]",
            "text/plain": [
              "<Figure size 864x720 with 1 Axes>"
            ]
          },
          "metadata": {
            "tags": []
          }
        }
      ]
    },
    {
      "cell_type": "markdown",
      "metadata": {
        "id": "J97sqTcOPCv8"
      },
      "source": [
        "## Delays by Month"
      ]
    },
    {
      "cell_type": "code",
      "metadata": {
        "colab": {
          "base_uri": "https://localhost:8080/",
          "height": 606
        },
        "id": "7tyNaoPNPCN3",
        "outputId": "6b063c3f-6cf5-4e3c-a049-7f72d28eb871"
      },
      "source": [
        "plt.figure(figsize=(12,10))\n",
        "sns.boxplot(x=df.MONTH, \n",
        "            y=df.ARRIVAL_DELAY, \n",
        "            showfliers=False,\n",
        "            notch=True,\n",
        "            color='#1f77b4');"
      ],
      "execution_count": 32,
      "outputs": [
        {
          "output_type": "display_data",
          "data": {
            "image/png": "[encoded data removed]",
            "text/plain": [
              "<Figure size 864x720 with 1 Axes>"
            ]
          },
          "metadata": {
            "tags": []
          }
        }
      ]
    },
    {
      "cell_type": "markdown",
      "metadata": {
        "id": "2VUoByl2PGxS"
      },
      "source": [
        "## Delays by Day of Week"
      ]
    },
    {
      "cell_type": "code",
      "metadata": {
        "colab": {
          "base_uri": "https://localhost:8080/",
          "height": 606
        },
        "id": "V3OxUoaDPIcp",
        "outputId": "559899d5-52d4-4e6d-fae9-6615abfdd4ab"
      },
      "source": [
        "plt.figure(figsize=(12,10))\n",
        "sns.boxplot(x=df.DAY_OF_WEEK, \n",
        "            y=df.ARRIVAL_DELAY, \n",
        "            showfliers=False,\n",
        "            notch=True,\n",
        "            color='#1f77b4');"
      ],
      "execution_count": 33,
      "outputs": [
        {
          "output_type": "display_data",
          "data": {
            "image/png": "[encoded data removed]",
            "text/plain": [
              "<Figure size 864x720 with 1 Axes>"
            ]
          },
          "metadata": {
            "tags": []
          }
        }
      ]
    },
    {
      "cell_type": "markdown",
      "metadata": {
        "id": "YNtPwFT5PLP2"
      },
      "source": [
        "## Distance"
      ]
    },
    {
      "cell_type": "code",
      "metadata": {
        "colab": {
          "base_uri": "https://localhost:8080/",
          "height": 454
        },
        "id": "NPua8CB-PLaa",
        "outputId": "e127ec8b-4c05-46ca-db77-8848199cebe2"
      },
      "source": [
        "plt.figure(figsize=(15,12))\n",
        "deltaDF = df.sample(2000, random_state=5) \n",
        "sns.jointplot(x='DISTANCE', y='ARRIVAL_DELAY', data=deltaDF, kind='kde', space=0, color='b');"
      ],
      "execution_count": 35,
      "outputs": [
        {
          "output_type": "display_data",
          "data": {
            "text/plain": [
              "<Figure size 1080x864 with 0 Axes>"
            ]
          },
          "metadata": {
            "tags": []
          }
        },
        {
          "output_type": "display_data",
          "data": {
            "image/png": "[encoded data removed]",
            "text/plain": [
              "<Figure size 432x432 with 3 Axes>"
            ]
          },
          "metadata": {
            "tags": []
          }
        }
      ]
    },
    {
      "cell_type": "markdown",
      "metadata": {
        "id": "SiPozn48POX0"
      },
      "source": [
        "## Scheduled Departure"
      ]
    },
    {
      "cell_type": "code",
      "metadata": {
        "colab": {
          "base_uri": "https://localhost:8080/",
          "height": 454
        },
        "id": "nPH5KDCcPR8n",
        "outputId": "bd6151db-4f4c-4eb3-9e74-e5238de62c8a"
      },
      "source": [
        "plt.figure(figsize=(15,12))\n",
        "deltaDF = df.sample(2000, random_state=5) \n",
        "sns.jointplot(x='SCHEDULED_DEPARTURE', y='ARRIVAL_DELAY', data=deltaDF, kind='kde', space=0, color='b');"
      ],
      "execution_count": 36,
      "outputs": [
        {
          "output_type": "display_data",
          "data": {
            "text/plain": [
              "<Figure size 1080x864 with 0 Axes>"
            ]
          },
          "metadata": {
            "tags": []
          }
        },
        {
          "output_type": "display_data",
          "data": {
            "image/png": "[encoded data removed]",
            "text/plain": [
              "<Figure size 432x432 with 3 Axes>"
            ]
          },
          "metadata": {
            "tags": []
          }
        }
      ]
    },
    {
      "cell_type": "markdown",
      "metadata": {
        "id": "Ld5GImroPTQz"
      },
      "source": [
        "## Scheduled Arrival"
      ]
    },
    {
      "cell_type": "code",
      "metadata": {
        "colab": {
          "base_uri": "https://localhost:8080/",
          "height": 454
        },
        "id": "qq7NpDwqPUru",
        "outputId": "490396be-2910-4164-e88c-f7a06c25e018"
      },
      "source": [
        "plt.figure(figsize=(15,12))\n",
        "deltaDF = df.sample(2000, random_state=5) \n",
        "sns.jointplot(x='SCHEDULED_ARRIVAL', y='ARRIVAL_DELAY', data=deltaDF, kind='kde', space=0, color='b');"
      ],
      "execution_count": 37,
      "outputs": [
        {
          "output_type": "display_data",
          "data": {
            "text/plain": [
              "<Figure size 1080x864 with 0 Axes>"
            ]
          },
          "metadata": {
            "tags": []
          }
        },
        {
          "output_type": "display_data",
          "data": {
            "image/png": "[encoded data removed]",
            "text/plain": [
              "<Figure size 432x432 with 3 Axes>"
            ]
          },
          "metadata": {
            "tags": []
          }
        }
      ]
    },
    {
      "cell_type": "markdown",
      "metadata": {
        "id": "lzjslAFGPYxt"
      },
      "source": [
        "## Scheduled Time"
      ]
    },
    {
      "cell_type": "code",
      "metadata": {
        "colab": {
          "base_uri": "https://localhost:8080/",
          "height": 454
        },
        "id": "dypX-kkPPaZr",
        "outputId": "292abe94-da36-47ae-d52a-cd2a6a726d56"
      },
      "source": [
        "plt.figure(figsize=(15,12))\n",
        "deltaDF = df.sample(2000, random_state=5) \n",
        "sns.jointplot(x='SCHEDULED_TIME', y='ARRIVAL_DELAY', data=deltaDF, kind='kde', space=0, color='b');"
      ],
      "execution_count": 38,
      "outputs": [
        {
          "output_type": "display_data",
          "data": {
            "text/plain": [
              "<Figure size 1080x864 with 0 Axes>"
            ]
          },
          "metadata": {
            "tags": []
          }
        },
        {
          "output_type": "display_data",
          "data": {
            "image/png": "[encoded data removed]",
            "text/plain": [
              "<Figure size 432x432 with 3 Axes>"
            ]
          },
          "metadata": {
            "tags": []
          }
        }
      ]
    },
    {
      "cell_type": "markdown",
      "metadata": {
        "id": "B3dpUUBQPbnd"
      },
      "source": [
        "# Pipeline"
      ]
    },
    {
      "cell_type": "code",
      "metadata": {
        "colab": {
          "base_uri": "https://localhost:8080/"
        },
        "id": "4lAZgTEKPcO1",
        "outputId": "37277154-826a-43cf-a4b5-c128bde1fa03"
      },
      "source": [
        "df.dtypes"
      ],
      "execution_count": 39,
      "outputs": [
        {
          "output_type": "execute_result",
          "data": {
            "text/plain": [
              "MONTH                    int64\n",
              "DAY_OF_WEEK              int64\n",
              "AIRLINE                 object\n",
              "DESTINATION_AIRPORT     object\n",
              "SCHEDULED_DEPARTURE      int64\n",
              "SCHEDULED_ARRIVAL        int64\n",
              "SCHEDULED_TIME         float64\n",
              "DISTANCE                 int64\n",
              "ARRIVAL_DELAY          float64\n",
              "CANCELLED                int64\n",
              "CLASS                   object\n",
              "dtype: object"
            ]
          },
          "metadata": {
            "tags": []
          },
          "execution_count": 39
        }
      ]
    },
    {
      "cell_type": "code",
      "metadata": {
        "colab": {
          "base_uri": "https://localhost:8080/"
        },
        "id": "A-4wy87ePgzg",
        "outputId": "4703feaf-5a0d-45dd-86c7-a8f68c55f029"
      },
      "source": [
        "X = df.copy()\n",
        "X = X.sample(frac=0.25, random_state=23)\n",
        "X.MONTH       = X.MONTH.astype(str)\n",
        "X.DAY_OF_WEEK = X.DAY_OF_WEEK.astype(str)\n",
        "X.AIRLINE     = X.AIRLINE.astype(str)\n",
        "X.DESTINATION_AIRPORT = X.DESTINATION_AIRPORT.astype(str)\n",
        "print(X.dtypes)\n",
        "\n",
        "y = X.CLASS\n",
        "X = X.drop(['CLASS', 'CANCELLED', 'ARRIVAL_DELAY'], axis=1)\n",
        "X_train, X_test, y_train, y_test = train_test_split(X, y, test_size=0.2)\n",
        "y_train = np.where(y_train == 'ONTIME', 0, 1)\n",
        "y_test  = np.where(y_test  == 'ONTIME', 0, 1)"
      ],
      "execution_count": 40,
      "outputs": [
        {
          "output_type": "stream",
          "text": [
            "MONTH                   object\n",
            "DAY_OF_WEEK             object\n",
            "AIRLINE                 object\n",
            "DESTINATION_AIRPORT     object\n",
            "SCHEDULED_DEPARTURE      int64\n",
            "SCHEDULED_ARRIVAL        int64\n",
            "SCHEDULED_TIME         float64\n",
            "DISTANCE                 int64\n",
            "ARRIVAL_DELAY          float64\n",
            "CANCELLED                int64\n",
            "CLASS                   object\n",
            "dtype: object\n"
          ],
          "name": "stdout"
        }
      ]
    },
    {
      "cell_type": "code",
      "metadata": {
        "colab": {
          "base_uri": "https://localhost:8080/"
        },
        "id": "MrNFSHmHPikR",
        "outputId": "34a2a7e7-a32f-4ece-e652-ecfd647f913e"
      },
      "source": [
        "ohe = OneHotEncoder(use_cat_names=True)\n",
        "X_train_df = ohe.fit_transform(X_train)\n",
        "X_test_df  = ohe.transform(X_test)"
      ],
      "execution_count": 41,
      "outputs": [
        {
          "output_type": "stream",
          "text": [
            "/usr/local/lib/python3.7/dist-packages/category_encoders/utils.py:21: FutureWarning: is_categorical is deprecated and will be removed in a future version.  Use is_categorical_dtype instead\n",
            "  elif pd.api.types.is_categorical(cols):\n"
          ],
          "name": "stderr"
        }
      ]
    },
    {
      "cell_type": "markdown",
      "metadata": {
        "id": "RE2cw-YFPkPr"
      },
      "source": [
        "# Metrics"
      ]
    },
    {
      "cell_type": "code",
      "metadata": {
        "id": "dhnb_LM8Pk1O"
      },
      "source": [
        "def measureErrors(y, y_hat):\n",
        "    accuracy = accuracy_score(y, y_hat)\n",
        "    print('Accuracy', accuracy)\n",
        "    print('Confusion Matrix')\n",
        "    print(confusion_matrix(y, y_hat))\n",
        "    print('Classification Report')\n",
        "    print(classification_report(y_hat, y))\n",
        "    return accuracy"
      ],
      "execution_count": 42,
      "outputs": []
    },
    {
      "cell_type": "code",
      "metadata": {
        "id": "kzvSI-3mPne2"
      },
      "source": [
        "results_df = pd.DataFrame(columns=['Accuracy'])"
      ],
      "execution_count": 43,
      "outputs": []
    },
    {
      "cell_type": "markdown",
      "metadata": {
        "id": "A5D3XIr9Po6g"
      },
      "source": [
        "# Bagging"
      ]
    },
    {
      "cell_type": "code",
      "metadata": {
        "id": "1neMT4xhPrb6"
      },
      "source": [
        "rf = RandomForestClassifier(n_estimators=10)\n",
        "et = ExtraTreesClassifier(n_estimators=10)\n",
        "knn = KNeighborsClassifier(n_neighbors=20)\n",
        "svc = SVC(gamma='auto')\n",
        "rg = RidgeClassifier()\n",
        "\n",
        "classifiers = [rf, et, knn, rg, svc]"
      ],
      "execution_count": 44,
      "outputs": []
    },
    {
      "cell_type": "code",
      "metadata": {
        "colab": {
          "base_uri": "https://localhost:8080/"
        },
        "id": "As44ruCaPuJK",
        "outputId": "954b18c0-31ad-4e0b-b635-e1dba03a5d4f"
      },
      "source": [
        "bagging_df = pd.DataFrame(columns=['Baseline Mean', 'Bagging Mean', 'Baseline Std', 'Bagging Std'])\n",
        "np.random.seed(1337)\n",
        "for clf in classifiers:\n",
        "    print('Running {}'.format(clf.__class__.__name__))\n",
        "    bags     = BaggingClassifier(clf, max_samples=0.4, max_features=.9, random_state=25)\n",
        "    bagging  = cross_val_score(bags, X_train_df, y_train, cv=5, n_jobs=-1)\n",
        "    baseline = cross_val_score(clf, X_train_df, y_train, cv=5, n_jobs=-1)\n",
        "    bagging_df.loc[clf.__class__.__name__] = [baseline.mean(), bagging.mean(), baseline.std(), bagging.std()]\n",
        "    \n",
        "    print('Baseline : Mean {:.3f} Std {:.3f}'.format(baseline.mean(), baseline.std()))\n",
        "    print('Bagging  : Mean {:.3f} Std {:.3f}\\n'.format(bagging.mean(), bagging.std()))\n",
        "    \n",
        "    results_df.loc[clf.__class__.__name__] = [baseline.mean()]\n",
        "    results_df.loc['Bagging-' + clf.__class__.__name__] = [bagging.mean()]\n"
      ],
      "execution_count": 45,
      "outputs": [
        {
          "output_type": "stream",
          "text": [
            "Running RandomForestClassifier\n",
            "Baseline : Mean 0.558 Std 0.012\n",
            "Bagging  : Mean 0.578 Std 0.016\n",
            "\n",
            "Running ExtraTreesClassifier\n",
            "Baseline : Mean 0.564 Std 0.004\n",
            "Bagging  : Mean 0.576 Std 0.013\n",
            "\n",
            "Running KNeighborsClassifier\n",
            "Baseline : Mean 0.538 Std 0.012\n",
            "Bagging  : Mean 0.544 Std 0.015\n",
            "\n",
            "Running RidgeClassifier\n",
            "Baseline : Mean 0.572 Std 0.016\n",
            "Bagging  : Mean 0.562 Std 0.013\n",
            "\n",
            "Running SVC\n",
            "Baseline : Mean 0.544 Std 0.013\n",
            "Bagging  : Mean 0.544 Std 0.007\n",
            "\n"
          ],
          "name": "stdout"
        }
      ]
    },
    {
      "cell_type": "markdown",
      "metadata": {
        "id": "BJuIaGXlP0-N"
      },
      "source": [
        "## Baseline"
      ]
    },
    {
      "cell_type": "code",
      "metadata": {
        "colab": {
          "base_uri": "https://localhost:8080/",
          "height": 195
        },
        "id": "YiB4_Y0bP2OI",
        "outputId": "2ba3007e-e55c-4b2f-e173-ef903a7dcefe"
      },
      "source": [
        "bagging_df[['Baseline Mean', 'Baseline Std']].sort_values('Baseline Mean', ascending=False)"
      ],
      "execution_count": 46,
      "outputs": [
        {
          "output_type": "execute_result",
          "data": {
            "text/html": [
              "<div>\n",
              "<style scoped>\n",
              "    .dataframe tbody tr th:only-of-type {\n",
              "        vertical-align: middle;\n",
              "    }\n",
              "\n",
              "    .dataframe tbody tr th {\n",
              "        vertical-align: top;\n",
              "    }\n",
              "\n",
              "    .dataframe thead th {\n",
              "        text-align: right;\n",
              "    }\n",
              "</style>\n",
              "<table border=\"1\" class=\"dataframe\">\n",
              "  <thead>\n",
              "    <tr style=\"text-align: right;\">\n",
              "      <th></th>\n",
              "      <th>Baseline Mean</th>\n",
              "      <th>Baseline Std</th>\n",
              "    </tr>\n",
              "  </thead>\n",
              "  <tbody>\n",
              "    <tr>\n",
              "      <th>RidgeClassifier</th>\n",
              "      <td>0.571500</td>\n",
              "      <td>0.015859</td>\n",
              "    </tr>\n",
              "    <tr>\n",
              "      <th>ExtraTreesClassifier</th>\n",
              "      <td>0.563667</td>\n",
              "      <td>0.004333</td>\n",
              "    </tr>\n",
              "    <tr>\n",
              "      <th>RandomForestClassifier</th>\n",
              "      <td>0.558500</td>\n",
              "      <td>0.011872</td>\n",
              "    </tr>\n",
              "    <tr>\n",
              "      <th>SVC</th>\n",
              "      <td>0.543833</td>\n",
              "      <td>0.013277</td>\n",
              "    </tr>\n",
              "    <tr>\n",
              "      <th>KNeighborsClassifier</th>\n",
              "      <td>0.538500</td>\n",
              "      <td>0.011766</td>\n",
              "    </tr>\n",
              "  </tbody>\n",
              "</table>\n",
              "</div>"
            ],
            "text/plain": [
              "                        Baseline Mean  Baseline Std\n",
              "RidgeClassifier              0.571500      0.015859\n",
              "ExtraTreesClassifier         0.563667      0.004333\n",
              "RandomForestClassifier       0.558500      0.011872\n",
              "SVC                          0.543833      0.013277\n",
              "KNeighborsClassifier         0.538500      0.011766"
            ]
          },
          "metadata": {
            "tags": []
          },
          "execution_count": 46
        }
      ]
    },
    {
      "cell_type": "code",
      "metadata": {
        "colab": {
          "base_uri": "https://localhost:8080/",
          "height": 195
        },
        "id": "goYNPLjCP891",
        "outputId": "921bc945-41bb-456d-ca54-974c9bdef28b"
      },
      "source": [
        "bagging_df['Difference Mean'] = bagging_df['Bagging Mean'] - bagging_df['Baseline Mean']\n",
        "bagging_df['Difference Std']  = bagging_df['Bagging Std']  - bagging_df['Baseline Std']\n",
        "bagging_df[['Bagging Mean', 'Bagging Std', 'Difference Mean', 'Difference Std']] \\\n",
        "    .sort_values('Bagging Mean', ascending=False)"
      ],
      "execution_count": 48,
      "outputs": [
        {
          "output_type": "execute_result",
          "data": {
            "text/html": [
              "<div>\n",
              "<style scoped>\n",
              "    .dataframe tbody tr th:only-of-type {\n",
              "        vertical-align: middle;\n",
              "    }\n",
              "\n",
              "    .dataframe tbody tr th {\n",
              "        vertical-align: top;\n",
              "    }\n",
              "\n",
              "    .dataframe thead th {\n",
              "        text-align: right;\n",
              "    }\n",
              "</style>\n",
              "<table border=\"1\" class=\"dataframe\">\n",
              "  <thead>\n",
              "    <tr style=\"text-align: right;\">\n",
              "      <th></th>\n",
              "      <th>Bagging Mean</th>\n",
              "      <th>Bagging Std</th>\n",
              "      <th>Difference Mean</th>\n",
              "      <th>Difference Std</th>\n",
              "    </tr>\n",
              "  </thead>\n",
              "  <tbody>\n",
              "    <tr>\n",
              "      <th>RandomForestClassifier</th>\n",
              "      <td>0.578333</td>\n",
              "      <td>0.015934</td>\n",
              "      <td>0.019833</td>\n",
              "      <td>0.004062</td>\n",
              "    </tr>\n",
              "    <tr>\n",
              "      <th>ExtraTreesClassifier</th>\n",
              "      <td>0.576333</td>\n",
              "      <td>0.012700</td>\n",
              "      <td>0.012667</td>\n",
              "      <td>0.008366</td>\n",
              "    </tr>\n",
              "    <tr>\n",
              "      <th>RidgeClassifier</th>\n",
              "      <td>0.562333</td>\n",
              "      <td>0.012521</td>\n",
              "      <td>-0.009167</td>\n",
              "      <td>-0.003338</td>\n",
              "    </tr>\n",
              "    <tr>\n",
              "      <th>KNeighborsClassifier</th>\n",
              "      <td>0.544167</td>\n",
              "      <td>0.014549</td>\n",
              "      <td>0.005667</td>\n",
              "      <td>0.002783</td>\n",
              "    </tr>\n",
              "    <tr>\n",
              "      <th>SVC</th>\n",
              "      <td>0.543667</td>\n",
              "      <td>0.007200</td>\n",
              "      <td>-0.000167</td>\n",
              "      <td>-0.006077</td>\n",
              "    </tr>\n",
              "  </tbody>\n",
              "</table>\n",
              "</div>"
            ],
            "text/plain": [
              "                        Bagging Mean  ...  Difference Std\n",
              "RandomForestClassifier      0.578333  ...        0.004062\n",
              "ExtraTreesClassifier        0.576333  ...        0.008366\n",
              "RidgeClassifier             0.562333  ...       -0.003338\n",
              "KNeighborsClassifier        0.544167  ...        0.002783\n",
              "SVC                         0.543667  ...       -0.006077\n",
              "\n",
              "[5 rows x 4 columns]"
            ]
          },
          "metadata": {
            "tags": []
          },
          "execution_count": 48
        }
      ]
    },
    {
      "cell_type": "markdown",
      "metadata": {
        "id": "7C9yrDPcQDtn"
      },
      "source": [
        "# Pasting\n",
        "* Take small chunks of the data\n",
        "* Grow predictor on chunk\n",
        "* Paste predictors together\n",
        "* Differs from Bagging\n",
        "  * Bagging Sample with Replacement\n",
        "  * Pasting Sample without Replacement\n",
        "* Useful when you data has no practical way to fit into memory\n",
        "* See Brieman (https://link.springer.com/article/10.1023/A:1007563306331)"
      ]
    },
    {
      "cell_type": "markdown",
      "metadata": {
        "id": "AFK-mCAqQEyR"
      },
      "source": [
        "# Voting"
      ]
    },
    {
      "cell_type": "code",
      "metadata": {
        "colab": {
          "base_uri": "https://localhost:8080/",
          "height": 326
        },
        "id": "0OpjLDFuQQbf",
        "outputId": "de262a5b-4f2c-452a-f298-3f55ffa39bb5"
      },
      "source": [
        "voting_df = pd.DataFrame(columns=['Voting Mean', 'Voting Std'])\n",
        "np.random.seed(25)\n",
        "classifiers = [knn, svc, rg, rf, et] \n",
        "vclf = VotingClassifier(estimators=[('KNN', knn),\n",
        "                                    ('SVC', svc),\n",
        "                                    ('Ridge', rg),\n",
        "                                    ('RF', rf),\n",
        "                                    ('ET', et)], voting='hard')\n",
        "for clf, label in zip([rf, et, knn, rg, svc, vclf],\n",
        "                      ['RF', 'ET', 'KNN', 'Ridge', 'SVC', 'Ensemble']):\n",
        "    scores = cross_val_score(clf, X_train_df, y_train, cv=5, scoring='accuracy')\n",
        "    print('Accuracy: %0.3f (+/- %0.3f) [%s]' % (scores.mean(), scores.std(), label))\n",
        "    voting_df.loc[label] = [scores.mean(), scores.std()]\n",
        "    \n",
        "    if label == 'Ensemble':\n",
        "        results_df.loc['Voting-Ensemble' + clf.__class__.__name__] = [scores.mean()]\n",
        "voting_df"
      ],
      "execution_count": 49,
      "outputs": [
        {
          "output_type": "stream",
          "text": [
            "Accuracy: 0.561 (+/- 0.015) [RF]\n",
            "Accuracy: 0.559 (+/- 0.009) [ET]\n",
            "Accuracy: 0.538 (+/- 0.012) [KNN]\n",
            "Accuracy: 0.572 (+/- 0.016) [Ridge]\n",
            "Accuracy: 0.544 (+/- 0.013) [SVC]\n",
            "Accuracy: 0.572 (+/- 0.016) [Ensemble]\n"
          ],
          "name": "stdout"
        },
        {
          "output_type": "execute_result",
          "data": {
            "text/html": [
              "<div>\n",
              "<style scoped>\n",
              "    .dataframe tbody tr th:only-of-type {\n",
              "        vertical-align: middle;\n",
              "    }\n",
              "\n",
              "    .dataframe tbody tr th {\n",
              "        vertical-align: top;\n",
              "    }\n",
              "\n",
              "    .dataframe thead th {\n",
              "        text-align: right;\n",
              "    }\n",
              "</style>\n",
              "<table border=\"1\" class=\"dataframe\">\n",
              "  <thead>\n",
              "    <tr style=\"text-align: right;\">\n",
              "      <th></th>\n",
              "      <th>Voting Mean</th>\n",
              "      <th>Voting Std</th>\n",
              "    </tr>\n",
              "  </thead>\n",
              "  <tbody>\n",
              "    <tr>\n",
              "      <th>RF</th>\n",
              "      <td>0.561500</td>\n",
              "      <td>0.014742</td>\n",
              "    </tr>\n",
              "    <tr>\n",
              "      <th>ET</th>\n",
              "      <td>0.558667</td>\n",
              "      <td>0.009138</td>\n",
              "    </tr>\n",
              "    <tr>\n",
              "      <th>KNN</th>\n",
              "      <td>0.538500</td>\n",
              "      <td>0.011766</td>\n",
              "    </tr>\n",
              "    <tr>\n",
              "      <th>Ridge</th>\n",
              "      <td>0.571500</td>\n",
              "      <td>0.015859</td>\n",
              "    </tr>\n",
              "    <tr>\n",
              "      <th>SVC</th>\n",
              "      <td>0.543833</td>\n",
              "      <td>0.013277</td>\n",
              "    </tr>\n",
              "    <tr>\n",
              "      <th>Ensemble</th>\n",
              "      <td>0.572000</td>\n",
              "      <td>0.016147</td>\n",
              "    </tr>\n",
              "  </tbody>\n",
              "</table>\n",
              "</div>"
            ],
            "text/plain": [
              "          Voting Mean  Voting Std\n",
              "RF           0.561500    0.014742\n",
              "ET           0.558667    0.009138\n",
              "KNN          0.538500    0.011766\n",
              "Ridge        0.571500    0.015859\n",
              "SVC          0.543833    0.013277\n",
              "Ensemble     0.572000    0.016147"
            ]
          },
          "metadata": {
            "tags": []
          },
          "execution_count": 49
        }
      ]
    },
    {
      "cell_type": "markdown",
      "metadata": {
        "id": "TmScEJqOQW9W"
      },
      "source": [
        "# Stacking\n",
        "* Add layers of classifiers\n",
        "* Multiple layers are processed sequentially\n",
        "* A meta layer sits on top of the ensemble & learns the best output\n",
        "* Typically, a linear model is used for meta"
      ]
    },
    {
      "cell_type": "markdown",
      "metadata": {
        "id": "nzsHFBY_QXv8"
      },
      "source": [
        "# Super Learner Algorithm\n",
        "* Given input matrix X (n cases, m features) and outcomes Y\n",
        "* Take L base learners\n",
        "* Specify meta learner\n",
        "* K-Fold CV on each base learner\n",
        "* Build new matrix Z from base learners\n",
        "* Train meta learner on Z and y"
      ]
    },
    {
      "cell_type": "code",
      "metadata": {
        "colab": {
          "base_uri": "https://localhost:8080/"
        },
        "id": "BDMFvyB7Qyfb",
        "outputId": "b6297125-e81c-4950-ae98-871faecde67a"
      },
      "source": [
        "stack_df = pd.DataFrame(columns=['Accuracy'])\n",
        "\n",
        "lr = LogisticRegression(solver='lbfgs')\n",
        "\n",
        "clfs = [\n",
        "    ('KNN', knn),\n",
        "    ('SVC', svc),\n",
        "    ('Ridge', rg),\n",
        "    ('RF', rf),\n",
        "    ('ET', et)\n",
        "]\n",
        "\n",
        "best = [0.00, '']\n",
        "name = ''\n",
        "for level in range(2, 6):\n",
        "    for group in combinations(clfs, level):\n",
        "        ensemble = SuperLearner(scorer = accuracy_score, random_state = 1337, folds = 5)\n",
        "\n",
        "        names       = []\n",
        "        classifiers = []\n",
        "        \n",
        "        for clf in group:\n",
        "            names.append(clf[0])\n",
        "            classifiers.append(clf[1])\n",
        "            \n",
        "        name = '-'.join(names)   \n",
        "\n",
        "        ensemble.add(classifiers) # <-- Note! You can pass in pipelines per classifier\n",
        "        ensemble.add_meta(lr)\n",
        "        ensemble.fit(X_train_df, y_train)\n",
        "        preds = ensemble.predict(X_test_df)\n",
        "        accuracy = accuracy_score(preds, y_test)\n",
        "\n",
        "        if accuracy > best[0]:\n",
        "            best[0] = accuracy\n",
        "            best[1] = name\n",
        "\n",
        "        stack_df.loc[name] = [accuracy]\n",
        "        results_df.loc['Stacking-' + name] = [accuracy]\n",
        "        print('Training: ', name)"
      ],
      "execution_count": 51,
      "outputs": [
        {
          "output_type": "stream",
          "text": [
            "Training:  KNN-SVC\n",
            "Training:  KNN-Ridge\n",
            "Training:  KNN-RF\n",
            "Training:  KNN-ET\n",
            "Training:  SVC-Ridge\n",
            "Training:  SVC-RF\n",
            "Training:  SVC-ET\n",
            "Training:  Ridge-RF\n",
            "Training:  Ridge-ET\n",
            "Training:  RF-ET\n",
            "Training:  KNN-SVC-Ridge\n",
            "Training:  KNN-SVC-RF\n",
            "Training:  KNN-SVC-ET\n",
            "Training:  KNN-Ridge-RF\n",
            "Training:  KNN-Ridge-ET\n",
            "Training:  KNN-RF-ET\n",
            "Training:  SVC-Ridge-RF\n",
            "Training:  SVC-Ridge-ET\n",
            "Training:  SVC-RF-ET\n",
            "Training:  Ridge-RF-ET\n",
            "Training:  KNN-SVC-Ridge-RF\n",
            "Training:  KNN-SVC-Ridge-ET\n",
            "Training:  KNN-SVC-RF-ET\n",
            "Training:  KNN-Ridge-RF-ET\n",
            "Training:  SVC-Ridge-RF-ET\n",
            "Training:  KNN-SVC-Ridge-RF-ET\n"
          ],
          "name": "stdout"
        }
      ]
    },
    {
      "cell_type": "code",
      "metadata": {
        "colab": {
          "base_uri": "https://localhost:8080/",
          "height": 817
        },
        "id": "2bGRpeY_Q5C5",
        "outputId": "670e0b10-1bf9-4033-d838-ad2975451d58"
      },
      "source": [
        "stack_df.sort_values('Accuracy', ascending=False)"
      ],
      "execution_count": 52,
      "outputs": [
        {
          "output_type": "execute_result",
          "data": {
            "text/html": [
              "<div>\n",
              "<style scoped>\n",
              "    .dataframe tbody tr th:only-of-type {\n",
              "        vertical-align: middle;\n",
              "    }\n",
              "\n",
              "    .dataframe tbody tr th {\n",
              "        vertical-align: top;\n",
              "    }\n",
              "\n",
              "    .dataframe thead th {\n",
              "        text-align: right;\n",
              "    }\n",
              "</style>\n",
              "<table border=\"1\" class=\"dataframe\">\n",
              "  <thead>\n",
              "    <tr style=\"text-align: right;\">\n",
              "      <th></th>\n",
              "      <th>Accuracy</th>\n",
              "    </tr>\n",
              "  </thead>\n",
              "  <tbody>\n",
              "    <tr>\n",
              "      <th>KNN-SVC-Ridge-ET</th>\n",
              "      <td>0.600667</td>\n",
              "    </tr>\n",
              "    <tr>\n",
              "      <th>SVC-Ridge-RF</th>\n",
              "      <td>0.600000</td>\n",
              "    </tr>\n",
              "    <tr>\n",
              "      <th>KNN-Ridge-ET</th>\n",
              "      <td>0.599333</td>\n",
              "    </tr>\n",
              "    <tr>\n",
              "      <th>KNN-Ridge-RF</th>\n",
              "      <td>0.598000</td>\n",
              "    </tr>\n",
              "    <tr>\n",
              "      <th>KNN-SVC-Ridge-RF</th>\n",
              "      <td>0.598000</td>\n",
              "    </tr>\n",
              "    <tr>\n",
              "      <th>Ridge-RF-ET</th>\n",
              "      <td>0.594000</td>\n",
              "    </tr>\n",
              "    <tr>\n",
              "      <th>SVC-Ridge-ET</th>\n",
              "      <td>0.594000</td>\n",
              "    </tr>\n",
              "    <tr>\n",
              "      <th>KNN-Ridge</th>\n",
              "      <td>0.588667</td>\n",
              "    </tr>\n",
              "    <tr>\n",
              "      <th>SVC-Ridge</th>\n",
              "      <td>0.588667</td>\n",
              "    </tr>\n",
              "    <tr>\n",
              "      <th>Ridge-RF</th>\n",
              "      <td>0.588667</td>\n",
              "    </tr>\n",
              "    <tr>\n",
              "      <th>Ridge-ET</th>\n",
              "      <td>0.588667</td>\n",
              "    </tr>\n",
              "    <tr>\n",
              "      <th>KNN-SVC-Ridge</th>\n",
              "      <td>0.588667</td>\n",
              "    </tr>\n",
              "    <tr>\n",
              "      <th>SVC-Ridge-RF-ET</th>\n",
              "      <td>0.581333</td>\n",
              "    </tr>\n",
              "    <tr>\n",
              "      <th>KNN-SVC-Ridge-RF-ET</th>\n",
              "      <td>0.570000</td>\n",
              "    </tr>\n",
              "    <tr>\n",
              "      <th>KNN-Ridge-RF-ET</th>\n",
              "      <td>0.564667</td>\n",
              "    </tr>\n",
              "    <tr>\n",
              "      <th>KNN-SVC-RF-ET</th>\n",
              "      <td>0.562667</td>\n",
              "    </tr>\n",
              "    <tr>\n",
              "      <th>SVC-RF-ET</th>\n",
              "      <td>0.562000</td>\n",
              "    </tr>\n",
              "    <tr>\n",
              "      <th>SVC-RF</th>\n",
              "      <td>0.562000</td>\n",
              "    </tr>\n",
              "    <tr>\n",
              "      <th>KNN-RF-ET</th>\n",
              "      <td>0.560667</td>\n",
              "    </tr>\n",
              "    <tr>\n",
              "      <th>RF-ET</th>\n",
              "      <td>0.560000</td>\n",
              "    </tr>\n",
              "    <tr>\n",
              "      <th>SVC-ET</th>\n",
              "      <td>0.554000</td>\n",
              "    </tr>\n",
              "    <tr>\n",
              "      <th>KNN-SVC-RF</th>\n",
              "      <td>0.553333</td>\n",
              "    </tr>\n",
              "    <tr>\n",
              "      <th>KNN-RF</th>\n",
              "      <td>0.546000</td>\n",
              "    </tr>\n",
              "    <tr>\n",
              "      <th>KNN-ET</th>\n",
              "      <td>0.544667</td>\n",
              "    </tr>\n",
              "    <tr>\n",
              "      <th>KNN-SVC-ET</th>\n",
              "      <td>0.540667</td>\n",
              "    </tr>\n",
              "    <tr>\n",
              "      <th>KNN-SVC</th>\n",
              "      <td>0.534000</td>\n",
              "    </tr>\n",
              "  </tbody>\n",
              "</table>\n",
              "</div>"
            ],
            "text/plain": [
              "                     Accuracy\n",
              "KNN-SVC-Ridge-ET     0.600667\n",
              "SVC-Ridge-RF         0.600000\n",
              "KNN-Ridge-ET         0.599333\n",
              "KNN-Ridge-RF         0.598000\n",
              "KNN-SVC-Ridge-RF     0.598000\n",
              "Ridge-RF-ET          0.594000\n",
              "SVC-Ridge-ET         0.594000\n",
              "KNN-Ridge            0.588667\n",
              "SVC-Ridge            0.588667\n",
              "Ridge-RF             0.588667\n",
              "Ridge-ET             0.588667\n",
              "KNN-SVC-Ridge        0.588667\n",
              "SVC-Ridge-RF-ET      0.581333\n",
              "KNN-SVC-Ridge-RF-ET  0.570000\n",
              "KNN-Ridge-RF-ET      0.564667\n",
              "KNN-SVC-RF-ET        0.562667\n",
              "SVC-RF-ET            0.562000\n",
              "SVC-RF               0.562000\n",
              "KNN-RF-ET            0.560667\n",
              "RF-ET                0.560000\n",
              "SVC-ET               0.554000\n",
              "KNN-SVC-RF           0.553333\n",
              "KNN-RF               0.546000\n",
              "KNN-ET               0.544667\n",
              "KNN-SVC-ET           0.540667\n",
              "KNN-SVC              0.534000"
            ]
          },
          "metadata": {
            "tags": []
          },
          "execution_count": 52
        }
      ]
    },
    {
      "cell_type": "markdown",
      "metadata": {
        "id": "tiS_bjaUQ8IQ"
      },
      "source": [
        "# Stacking + Feature Propagation\n",
        "* Stacking layers usually reduces variance\n",
        "* Base learners get better at predicting output\n",
        "* Residual errors get harder to correct from multicollinearity\n",
        "* We can reduce variance if we pass original features to meta learner\n",
        "* We can use features in base and pass to meta\n",
        "* We can pass features untouched by base"
      ]
    },
    {
      "cell_type": "markdown",
      "metadata": {
        "id": "S8OJUUXBWCt2"
      },
      "source": [
        "# Compare"
      ]
    },
    {
      "cell_type": "code",
      "metadata": {
        "colab": {
          "base_uri": "https://localhost:8080/",
          "height": 1000
        },
        "id": "kTBgiAX5RHLb",
        "outputId": "d4323d7f-6863-4246-bd92-ec1f0c41f561"
      },
      "source": [
        "results_df.sort_values('Accuracy', ascending=False)"
      ],
      "execution_count": 53,
      "outputs": [
        {
          "output_type": "execute_result",
          "data": {
            "text/html": [
              "<div>\n",
              "<style scoped>\n",
              "    .dataframe tbody tr th:only-of-type {\n",
              "        vertical-align: middle;\n",
              "    }\n",
              "\n",
              "    .dataframe tbody tr th {\n",
              "        vertical-align: top;\n",
              "    }\n",
              "\n",
              "    .dataframe thead th {\n",
              "        text-align: right;\n",
              "    }\n",
              "</style>\n",
              "<table border=\"1\" class=\"dataframe\">\n",
              "  <thead>\n",
              "    <tr style=\"text-align: right;\">\n",
              "      <th></th>\n",
              "      <th>Accuracy</th>\n",
              "    </tr>\n",
              "  </thead>\n",
              "  <tbody>\n",
              "    <tr>\n",
              "      <th>Stacking-KNN-SVC-Ridge-ET</th>\n",
              "      <td>0.600667</td>\n",
              "    </tr>\n",
              "    <tr>\n",
              "      <th>Stacking-SVC-Ridge-RF</th>\n",
              "      <td>0.600000</td>\n",
              "    </tr>\n",
              "    <tr>\n",
              "      <th>Stacking-KNN-Ridge-ET</th>\n",
              "      <td>0.599333</td>\n",
              "    </tr>\n",
              "    <tr>\n",
              "      <th>Stacking-KNN-SVC-Ridge-RF</th>\n",
              "      <td>0.598000</td>\n",
              "    </tr>\n",
              "    <tr>\n",
              "      <th>Stacking-KNN-Ridge-RF</th>\n",
              "      <td>0.598000</td>\n",
              "    </tr>\n",
              "    <tr>\n",
              "      <th>Stacking-SVC-Ridge-ET</th>\n",
              "      <td>0.594000</td>\n",
              "    </tr>\n",
              "    <tr>\n",
              "      <th>Stacking-Ridge-RF-ET</th>\n",
              "      <td>0.594000</td>\n",
              "    </tr>\n",
              "    <tr>\n",
              "      <th>Stacking-SVC-Ridge</th>\n",
              "      <td>0.588667</td>\n",
              "    </tr>\n",
              "    <tr>\n",
              "      <th>Stacking-KNN-SVC-Ridge</th>\n",
              "      <td>0.588667</td>\n",
              "    </tr>\n",
              "    <tr>\n",
              "      <th>Stacking-KNN-Ridge</th>\n",
              "      <td>0.588667</td>\n",
              "    </tr>\n",
              "    <tr>\n",
              "      <th>Stacking-Ridge-RF</th>\n",
              "      <td>0.588667</td>\n",
              "    </tr>\n",
              "    <tr>\n",
              "      <th>Stacking-Ridge-ET</th>\n",
              "      <td>0.588667</td>\n",
              "    </tr>\n",
              "    <tr>\n",
              "      <th>Stacking-SVC-Ridge-RF-ET</th>\n",
              "      <td>0.581333</td>\n",
              "    </tr>\n",
              "    <tr>\n",
              "      <th>Bagging-RandomForestClassifier</th>\n",
              "      <td>0.578333</td>\n",
              "    </tr>\n",
              "    <tr>\n",
              "      <th>Bagging-ExtraTreesClassifier</th>\n",
              "      <td>0.576333</td>\n",
              "    </tr>\n",
              "    <tr>\n",
              "      <th>Voting-EnsembleVotingClassifier</th>\n",
              "      <td>0.572000</td>\n",
              "    </tr>\n",
              "    <tr>\n",
              "      <th>RidgeClassifier</th>\n",
              "      <td>0.571500</td>\n",
              "    </tr>\n",
              "    <tr>\n",
              "      <th>Stacking-KNN-SVC-Ridge-RF-ET</th>\n",
              "      <td>0.570000</td>\n",
              "    </tr>\n",
              "    <tr>\n",
              "      <th>Stacking-KNN-Ridge-RF-ET</th>\n",
              "      <td>0.564667</td>\n",
              "    </tr>\n",
              "    <tr>\n",
              "      <th>ExtraTreesClassifier</th>\n",
              "      <td>0.563667</td>\n",
              "    </tr>\n",
              "    <tr>\n",
              "      <th>Stacking-KNN-SVC-RF-ET</th>\n",
              "      <td>0.562667</td>\n",
              "    </tr>\n",
              "    <tr>\n",
              "      <th>Bagging-RidgeClassifier</th>\n",
              "      <td>0.562333</td>\n",
              "    </tr>\n",
              "    <tr>\n",
              "      <th>Stacking-SVC-RF</th>\n",
              "      <td>0.562000</td>\n",
              "    </tr>\n",
              "    <tr>\n",
              "      <th>Stacking-SVC-RF-ET</th>\n",
              "      <td>0.562000</td>\n",
              "    </tr>\n",
              "    <tr>\n",
              "      <th>Stacking-KNN-RF-ET</th>\n",
              "      <td>0.560667</td>\n",
              "    </tr>\n",
              "    <tr>\n",
              "      <th>Stacking-RF-ET</th>\n",
              "      <td>0.560000</td>\n",
              "    </tr>\n",
              "    <tr>\n",
              "      <th>RandomForestClassifier</th>\n",
              "      <td>0.558500</td>\n",
              "    </tr>\n",
              "    <tr>\n",
              "      <th>Stacking-SVC-ET</th>\n",
              "      <td>0.554000</td>\n",
              "    </tr>\n",
              "    <tr>\n",
              "      <th>Stacking-KNN-SVC-RF</th>\n",
              "      <td>0.553333</td>\n",
              "    </tr>\n",
              "    <tr>\n",
              "      <th>Stacking-KNN-RF</th>\n",
              "      <td>0.546000</td>\n",
              "    </tr>\n",
              "    <tr>\n",
              "      <th>Stacking-KNN-ET</th>\n",
              "      <td>0.544667</td>\n",
              "    </tr>\n",
              "    <tr>\n",
              "      <th>Bagging-KNeighborsClassifier</th>\n",
              "      <td>0.544167</td>\n",
              "    </tr>\n",
              "    <tr>\n",
              "      <th>SVC</th>\n",
              "      <td>0.543833</td>\n",
              "    </tr>\n",
              "    <tr>\n",
              "      <th>Bagging-SVC</th>\n",
              "      <td>0.543667</td>\n",
              "    </tr>\n",
              "    <tr>\n",
              "      <th>Stacking-KNN-SVC-ET</th>\n",
              "      <td>0.540667</td>\n",
              "    </tr>\n",
              "    <tr>\n",
              "      <th>KNeighborsClassifier</th>\n",
              "      <td>0.538500</td>\n",
              "    </tr>\n",
              "    <tr>\n",
              "      <th>Stacking-KNN-SVC</th>\n",
              "      <td>0.534000</td>\n",
              "    </tr>\n",
              "  </tbody>\n",
              "</table>\n",
              "</div>"
            ],
            "text/plain": [
              "                                 Accuracy\n",
              "Stacking-KNN-SVC-Ridge-ET        0.600667\n",
              "Stacking-SVC-Ridge-RF            0.600000\n",
              "Stacking-KNN-Ridge-ET            0.599333\n",
              "Stacking-KNN-SVC-Ridge-RF        0.598000\n",
              "Stacking-KNN-Ridge-RF            0.598000\n",
              "Stacking-SVC-Ridge-ET            0.594000\n",
              "Stacking-Ridge-RF-ET             0.594000\n",
              "Stacking-SVC-Ridge               0.588667\n",
              "Stacking-KNN-SVC-Ridge           0.588667\n",
              "Stacking-KNN-Ridge               0.588667\n",
              "Stacking-Ridge-RF                0.588667\n",
              "Stacking-Ridge-ET                0.588667\n",
              "Stacking-SVC-Ridge-RF-ET         0.581333\n",
              "Bagging-RandomForestClassifier   0.578333\n",
              "Bagging-ExtraTreesClassifier     0.576333\n",
              "Voting-EnsembleVotingClassifier  0.572000\n",
              "RidgeClassifier                  0.571500\n",
              "Stacking-KNN-SVC-Ridge-RF-ET     0.570000\n",
              "Stacking-KNN-Ridge-RF-ET         0.564667\n",
              "ExtraTreesClassifier             0.563667\n",
              "Stacking-KNN-SVC-RF-ET           0.562667\n",
              "Bagging-RidgeClassifier          0.562333\n",
              "Stacking-SVC-RF                  0.562000\n",
              "Stacking-SVC-RF-ET               0.562000\n",
              "Stacking-KNN-RF-ET               0.560667\n",
              "Stacking-RF-ET                   0.560000\n",
              "RandomForestClassifier           0.558500\n",
              "Stacking-SVC-ET                  0.554000\n",
              "Stacking-KNN-SVC-RF              0.553333\n",
              "Stacking-KNN-RF                  0.546000\n",
              "Stacking-KNN-ET                  0.544667\n",
              "Bagging-KNeighborsClassifier     0.544167\n",
              "SVC                              0.543833\n",
              "Bagging-SVC                      0.543667\n",
              "Stacking-KNN-SVC-ET              0.540667\n",
              "KNeighborsClassifier             0.538500\n",
              "Stacking-KNN-SVC                 0.534000"
            ]
          },
          "metadata": {
            "tags": []
          },
          "execution_count": 53
        }
      ]
    },
    {
      "cell_type": "code",
      "metadata": {
        "colab": {
          "base_uri": "https://localhost:8080/",
          "height": 1000
        },
        "id": "w9ISuZR9WJS6",
        "outputId": "361c1b33-affc-4117-df91-f66d35ac2a35"
      },
      "source": [
        "improve_df = results_df.copy()\n",
        "improve_df['Improvement'] = (improve_df.Accuracy.max() - improve_df.Accuracy) * 100.0 / improve_df.Accuracy  \n",
        "improve_df.sort_values('Improvement', ascending=False)"
      ],
      "execution_count": 58,
      "outputs": [
        {
          "output_type": "execute_result",
          "data": {
            "text/html": [
              "<div>\n",
              "<style scoped>\n",
              "    .dataframe tbody tr th:only-of-type {\n",
              "        vertical-align: middle;\n",
              "    }\n",
              "\n",
              "    .dataframe tbody tr th {\n",
              "        vertical-align: top;\n",
              "    }\n",
              "\n",
              "    .dataframe thead th {\n",
              "        text-align: right;\n",
              "    }\n",
              "</style>\n",
              "<table border=\"1\" class=\"dataframe\">\n",
              "  <thead>\n",
              "    <tr style=\"text-align: right;\">\n",
              "      <th></th>\n",
              "      <th>Accuracy</th>\n",
              "      <th>Improvement</th>\n",
              "    </tr>\n",
              "  </thead>\n",
              "  <tbody>\n",
              "    <tr>\n",
              "      <th>Stacking-KNN-SVC</th>\n",
              "      <td>0.534000</td>\n",
              "      <td>12.484395</td>\n",
              "    </tr>\n",
              "    <tr>\n",
              "      <th>KNeighborsClassifier</th>\n",
              "      <td>0.538500</td>\n",
              "      <td>11.544413</td>\n",
              "    </tr>\n",
              "    <tr>\n",
              "      <th>Stacking-KNN-SVC-ET</th>\n",
              "      <td>0.540667</td>\n",
              "      <td>11.097411</td>\n",
              "    </tr>\n",
              "    <tr>\n",
              "      <th>Bagging-SVC</th>\n",
              "      <td>0.543667</td>\n",
              "      <td>10.484365</td>\n",
              "    </tr>\n",
              "    <tr>\n",
              "      <th>SVC</th>\n",
              "      <td>0.543833</td>\n",
              "      <td>10.450506</td>\n",
              "    </tr>\n",
              "    <tr>\n",
              "      <th>Bagging-KNeighborsClassifier</th>\n",
              "      <td>0.544167</td>\n",
              "      <td>10.382848</td>\n",
              "    </tr>\n",
              "    <tr>\n",
              "      <th>Stacking-KNN-ET</th>\n",
              "      <td>0.544667</td>\n",
              "      <td>10.281518</td>\n",
              "    </tr>\n",
              "    <tr>\n",
              "      <th>Stacking-KNN-RF</th>\n",
              "      <td>0.546000</td>\n",
              "      <td>10.012210</td>\n",
              "    </tr>\n",
              "    <tr>\n",
              "      <th>Stacking-KNN-SVC-RF</th>\n",
              "      <td>0.553333</td>\n",
              "      <td>8.554217</td>\n",
              "    </tr>\n",
              "    <tr>\n",
              "      <th>Stacking-SVC-ET</th>\n",
              "      <td>0.554000</td>\n",
              "      <td>8.423586</td>\n",
              "    </tr>\n",
              "    <tr>\n",
              "      <th>RandomForestClassifier</th>\n",
              "      <td>0.558500</td>\n",
              "      <td>7.549985</td>\n",
              "    </tr>\n",
              "    <tr>\n",
              "      <th>Stacking-RF-ET</th>\n",
              "      <td>0.560000</td>\n",
              "      <td>7.261905</td>\n",
              "    </tr>\n",
              "    <tr>\n",
              "      <th>Stacking-KNN-RF-ET</th>\n",
              "      <td>0.560667</td>\n",
              "      <td>7.134364</td>\n",
              "    </tr>\n",
              "    <tr>\n",
              "      <th>Stacking-SVC-RF-ET</th>\n",
              "      <td>0.562000</td>\n",
              "      <td>6.880190</td>\n",
              "    </tr>\n",
              "    <tr>\n",
              "      <th>Stacking-SVC-RF</th>\n",
              "      <td>0.562000</td>\n",
              "      <td>6.880190</td>\n",
              "    </tr>\n",
              "    <tr>\n",
              "      <th>Bagging-RidgeClassifier</th>\n",
              "      <td>0.562333</td>\n",
              "      <td>6.816835</td>\n",
              "    </tr>\n",
              "    <tr>\n",
              "      <th>Stacking-KNN-SVC-RF-ET</th>\n",
              "      <td>0.562667</td>\n",
              "      <td>6.753555</td>\n",
              "    </tr>\n",
              "    <tr>\n",
              "      <th>ExtraTreesClassifier</th>\n",
              "      <td>0.563667</td>\n",
              "      <td>6.564163</td>\n",
              "    </tr>\n",
              "    <tr>\n",
              "      <th>Stacking-KNN-Ridge-RF-ET</th>\n",
              "      <td>0.564667</td>\n",
              "      <td>6.375443</td>\n",
              "    </tr>\n",
              "    <tr>\n",
              "      <th>Stacking-KNN-SVC-Ridge-RF-ET</th>\n",
              "      <td>0.570000</td>\n",
              "      <td>5.380117</td>\n",
              "    </tr>\n",
              "    <tr>\n",
              "      <th>RidgeClassifier</th>\n",
              "      <td>0.571500</td>\n",
              "      <td>5.103529</td>\n",
              "    </tr>\n",
              "    <tr>\n",
              "      <th>Voting-EnsembleVotingClassifier</th>\n",
              "      <td>0.572000</td>\n",
              "      <td>5.011655</td>\n",
              "    </tr>\n",
              "    <tr>\n",
              "      <th>Bagging-ExtraTreesClassifier</th>\n",
              "      <td>0.576333</td>\n",
              "      <td>4.222094</td>\n",
              "    </tr>\n",
              "    <tr>\n",
              "      <th>Bagging-RandomForestClassifier</th>\n",
              "      <td>0.578333</td>\n",
              "      <td>3.861671</td>\n",
              "    </tr>\n",
              "    <tr>\n",
              "      <th>Stacking-SVC-Ridge-RF-ET</th>\n",
              "      <td>0.581333</td>\n",
              "      <td>3.325688</td>\n",
              "    </tr>\n",
              "    <tr>\n",
              "      <th>Stacking-Ridge-ET</th>\n",
              "      <td>0.588667</td>\n",
              "      <td>2.038505</td>\n",
              "    </tr>\n",
              "    <tr>\n",
              "      <th>Stacking-KNN-SVC-Ridge</th>\n",
              "      <td>0.588667</td>\n",
              "      <td>2.038505</td>\n",
              "    </tr>\n",
              "    <tr>\n",
              "      <th>Stacking-Ridge-RF</th>\n",
              "      <td>0.588667</td>\n",
              "      <td>2.038505</td>\n",
              "    </tr>\n",
              "    <tr>\n",
              "      <th>Stacking-KNN-Ridge</th>\n",
              "      <td>0.588667</td>\n",
              "      <td>2.038505</td>\n",
              "    </tr>\n",
              "    <tr>\n",
              "      <th>Stacking-SVC-Ridge</th>\n",
              "      <td>0.588667</td>\n",
              "      <td>2.038505</td>\n",
              "    </tr>\n",
              "    <tr>\n",
              "      <th>Stacking-Ridge-RF-ET</th>\n",
              "      <td>0.594000</td>\n",
              "      <td>1.122334</td>\n",
              "    </tr>\n",
              "    <tr>\n",
              "      <th>Stacking-SVC-Ridge-ET</th>\n",
              "      <td>0.594000</td>\n",
              "      <td>1.122334</td>\n",
              "    </tr>\n",
              "    <tr>\n",
              "      <th>Stacking-KNN-SVC-Ridge-RF</th>\n",
              "      <td>0.598000</td>\n",
              "      <td>0.445931</td>\n",
              "    </tr>\n",
              "    <tr>\n",
              "      <th>Stacking-KNN-Ridge-RF</th>\n",
              "      <td>0.598000</td>\n",
              "      <td>0.445931</td>\n",
              "    </tr>\n",
              "    <tr>\n",
              "      <th>Stacking-KNN-Ridge-ET</th>\n",
              "      <td>0.599333</td>\n",
              "      <td>0.222469</td>\n",
              "    </tr>\n",
              "    <tr>\n",
              "      <th>Stacking-SVC-Ridge-RF</th>\n",
              "      <td>0.600000</td>\n",
              "      <td>0.111111</td>\n",
              "    </tr>\n",
              "    <tr>\n",
              "      <th>Stacking-KNN-SVC-Ridge-ET</th>\n",
              "      <td>0.600667</td>\n",
              "      <td>0.000000</td>\n",
              "    </tr>\n",
              "  </tbody>\n",
              "</table>\n",
              "</div>"
            ],
            "text/plain": [
              "                                 Accuracy  Improvement\n",
              "Stacking-KNN-SVC                 0.534000    12.484395\n",
              "KNeighborsClassifier             0.538500    11.544413\n",
              "Stacking-KNN-SVC-ET              0.540667    11.097411\n",
              "Bagging-SVC                      0.543667    10.484365\n",
              "SVC                              0.543833    10.450506\n",
              "Bagging-KNeighborsClassifier     0.544167    10.382848\n",
              "Stacking-KNN-ET                  0.544667    10.281518\n",
              "Stacking-KNN-RF                  0.546000    10.012210\n",
              "Stacking-KNN-SVC-RF              0.553333     8.554217\n",
              "Stacking-SVC-ET                  0.554000     8.423586\n",
              "RandomForestClassifier           0.558500     7.549985\n",
              "Stacking-RF-ET                   0.560000     7.261905\n",
              "Stacking-KNN-RF-ET               0.560667     7.134364\n",
              "Stacking-SVC-RF-ET               0.562000     6.880190\n",
              "Stacking-SVC-RF                  0.562000     6.880190\n",
              "Bagging-RidgeClassifier          0.562333     6.816835\n",
              "Stacking-KNN-SVC-RF-ET           0.562667     6.753555\n",
              "ExtraTreesClassifier             0.563667     6.564163\n",
              "Stacking-KNN-Ridge-RF-ET         0.564667     6.375443\n",
              "Stacking-KNN-SVC-Ridge-RF-ET     0.570000     5.380117\n",
              "RidgeClassifier                  0.571500     5.103529\n",
              "Voting-EnsembleVotingClassifier  0.572000     5.011655\n",
              "Bagging-ExtraTreesClassifier     0.576333     4.222094\n",
              "Bagging-RandomForestClassifier   0.578333     3.861671\n",
              "Stacking-SVC-Ridge-RF-ET         0.581333     3.325688\n",
              "Stacking-Ridge-ET                0.588667     2.038505\n",
              "Stacking-KNN-SVC-Ridge           0.588667     2.038505\n",
              "Stacking-Ridge-RF                0.588667     2.038505\n",
              "Stacking-KNN-Ridge               0.588667     2.038505\n",
              "Stacking-SVC-Ridge               0.588667     2.038505\n",
              "Stacking-Ridge-RF-ET             0.594000     1.122334\n",
              "Stacking-SVC-Ridge-ET            0.594000     1.122334\n",
              "Stacking-KNN-SVC-Ridge-RF        0.598000     0.445931\n",
              "Stacking-KNN-Ridge-RF            0.598000     0.445931\n",
              "Stacking-KNN-Ridge-ET            0.599333     0.222469\n",
              "Stacking-SVC-Ridge-RF            0.600000     0.111111\n",
              "Stacking-KNN-SVC-Ridge-ET        0.600667     0.000000"
            ]
          },
          "metadata": {
            "tags": []
          },
          "execution_count": 58
        }
      ]
    },
    {
      "cell_type": "code",
      "metadata": {
        "colab": {
          "base_uri": "https://localhost:8080/"
        },
        "id": "-rjWSmXrROV9",
        "outputId": "1f611d41-0fbe-4047-924a-0474e0871c00"
      },
      "source": [
        "print('Improvement over Ridge {:.3f}%'.format((0.594000 - 0.577829) * 100.0 / 0.577829))\n",
        "print('Improvement over RF    {:.3f}%'.format((0.594000 - 0.560668) * 100.0 / 0.560668))"
      ],
      "execution_count": 54,
      "outputs": [
        {
          "output_type": "stream",
          "text": [
            "Improvement over Ridge 2.799%\n",
            "Improvement over RF    5.945%\n"
          ],
          "name": "stdout"
        }
      ]
    },
    {
      "cell_type": "markdown",
      "metadata": {
        "id": "8iMLyeeyRMUb"
      },
      "source": [
        "# Tips\n",
        "* You typically won't get extremely large gains from ensembling\n",
        "* Can be helpful in reducing variance\n",
        "* Performs best when you have learners that are not highly correlated\n",
        "* Not hard to implement many helpful libraries\n",
        "  * mlens\n",
        "  * pycaret"
      ]
    },
    {
      "cell_type": "code",
      "metadata": {
        "id": "JI1_FPxBRZtc"
      },
      "source": [
        ""
      ],
      "execution_count": null,
      "outputs": []
    }
  ]
}