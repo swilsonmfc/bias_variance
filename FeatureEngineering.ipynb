{
  "nbformat": 4,
  "nbformat_minor": 0,
  "metadata": {
    "colab": {
      "name": "FeatureEngineering.ipynb",
      "provenance": [],
      "collapsed_sections": [],
      "toc_visible": true,
      "authorship_tag": "ABX9TyM8k8/jy47/viUzL9DxFAXY",
      "include_colab_link": true
    },
    "kernelspec": {
      "name": "python3",
      "display_name": "Python 3"
    },
    "language_info": {
      "name": "python"
    },
    "widgets": {
      "application/vnd.jupyter.widget-state+json": {
        "644d88d49acf42b09a40680dbdcc54a2": {
          "model_module": "catboost-widget",
          "model_name": "CatboostWidgetModel",
          "state": {
            "_view_name": "CatboostWidgetView",
            "_dom_classes": [],
            "_model_name": "CatboostWidgetModel",
            "data": {
              "catboost_info": {
                "content": {
                  "data": {
                    "meta": {
                      "name": "experiment",
                      "parameters": "",
                      "test_metrics": [
                        {
                          "best_value": "Min",
                          "name": "Logloss"
                        }
                      ],
                      "learn_sets": [
                        "learn"
                      ],
                      "launch_mode": "Train",
                      "learn_metrics": [
                        {
                          "best_value": "Min",
                          "name": "Logloss"
                        }
                      ],
                      "iteration_count": 1000,
                      "test_sets": [
                        "test"
                      ]
                    },
                    "iterations": [
                      {
                        "test": [
                          0.684317828
                        ],
                        "passed_time": 0.08549323278,
                        "iteration": 0,
                        "remaining_time": 85.40773954,
                        "learn": [
                          0.6843458388
                        ]
                      },
                      {
                        "test": [
                          0.6764187403
                        ],
                        "passed_time": 0.1628196136,
                        "iteration": 1,
                        "remaining_time": 81.24698721,
                        "learn": [
                          0.6763065196
                        ]
                      },
                      {
                        "test": [
                          0.6704733416
                        ],
                        "passed_time": 0.2362520286,
                        "iteration": 2,
                        "remaining_time": 78.51442416,
                        "learn": [
                          0.6701559087
                        ]
                      },
                      {
                        "test": [
                          0.6649623513
                        ],
                        "passed_time": 0.3079121076,
                        "iteration": 3,
                        "remaining_time": 76.67011479,
                        "learn": [
                          0.6643548771
                        ]
                      },
                      {
                        "test": [
                          0.6602560863
                        ],
                        "passed_time": 0.3793983435,
                        "iteration": 4,
                        "remaining_time": 75.50027036,
                        "learn": [
                          0.6595143603
                        ]
                      },
                      {
                        "test": [
                          0.6560062992
                        ],
                        "passed_time": 0.4582033739,
                        "iteration": 5,
                        "remaining_time": 75.90902561,
                        "learn": [
                          0.6552312626
                        ]
                      },
                      {
                        "test": [
                          0.652570036
                        ],
                        "passed_time": 0.5407287431,
                        "iteration": 6,
                        "remaining_time": 76.70623455,
                        "learn": [
                          0.6517225614
                        ]
                      },
                      {
                        "test": [
                          0.6497315839
                        ],
                        "passed_time": 0.6212454107,
                        "iteration": 7,
                        "remaining_time": 77.03443093,
                        "learn": [
                          0.6489019761
                        ]
                      },
                      {
                        "test": [
                          0.6473024597
                        ],
                        "passed_time": 0.6949639953,
                        "iteration": 8,
                        "remaining_time": 76.52325771,
                        "learn": [
                          0.6462130704
                        ]
                      },
                      {
                        "test": [
                          0.6450974634
                        ],
                        "passed_time": 0.7697561134,
                        "iteration": 9,
                        "remaining_time": 76.20585523,
                        "learn": [
                          0.6439100762
                        ]
                      },
                      {
                        "test": [
                          0.6434056423
                        ],
                        "passed_time": 0.8596560419,
                        "iteration": 10,
                        "remaining_time": 77.29089322,
                        "learn": [
                          0.6420420534
                        ]
                      },
                      {
                        "test": [
                          0.6415098232
                        ],
                        "passed_time": 0.953835654,
                        "iteration": 11,
                        "remaining_time": 78.53246885,
                        "learn": [
                          0.6401387054
                        ]
                      },
                      {
                        "test": [
                          0.6397485008
                        ],
                        "passed_time": 1.033317066,
                        "iteration": 12,
                        "remaining_time": 78.45261106,
                        "learn": [
                          0.6383095563
                        ]
                      },
                      {
                        "test": [
                          0.6384187662
                        ],
                        "passed_time": 1.110081608,
                        "iteration": 13,
                        "remaining_time": 78.1814618,
                        "learn": [
                          0.6368986494
                        ]
                      },
                      {
                        "test": [
                          0.6374140218
                        ],
                        "passed_time": 1.19900751,
                        "iteration": 14,
                        "remaining_time": 78.73482647,
                        "learn": [
                          0.6357301256
                        ]
                      },
                      {
                        "test": [
                          0.6361709307
                        ],
                        "passed_time": 1.271486498,
                        "iteration": 15,
                        "remaining_time": 78.19641965,
                        "learn": [
                          0.6343792626
                        ]
                      },
                      {
                        "test": [
                          0.6350280084
                        ],
                        "passed_time": 1.347321648,
                        "iteration": 16,
                        "remaining_time": 77.90689295,
                        "learn": [
                          0.6332869706
                        ]
                      },
                      {
                        "test": [
                          0.6346910252
                        ],
                        "passed_time": 1.416912301,
                        "iteration": 17,
                        "remaining_time": 77.30043776,
                        "learn": [
                          0.6329006725
                        ]
                      },
                      {
                        "test": [
                          0.6340418285
                        ],
                        "passed_time": 1.499361687,
                        "iteration": 18,
                        "remaining_time": 77.41441133,
                        "learn": [
                          0.6321961271
                        ]
                      },
                      {
                        "test": [
                          0.6332075424
                        ],
                        "passed_time": 1.585674175,
                        "iteration": 19,
                        "remaining_time": 77.69803456,
                        "learn": [
                          0.6312720818
                        ]
                      },
                      {
                        "test": [
                          0.6320866432
                        ],
                        "passed_time": 1.674844357,
                        "iteration": 20,
                        "remaining_time": 78.07964883,
                        "learn": [
                          0.6302595148
                        ]
                      },
                      {
                        "test": [
                          0.6316593713
                        ],
                        "passed_time": 1.746901815,
                        "iteration": 21,
                        "remaining_time": 77.65772615,
                        "learn": [
                          0.6297854421
                        ]
                      },
                      {
                        "test": [
                          0.6313455604
                        ],
                        "passed_time": 1.811026051,
                        "iteration": 22,
                        "remaining_time": 76.92923706,
                        "learn": [
                          0.6292786618
                        ]
                      },
                      {
                        "test": [
                          0.6307927215
                        ],
                        "passed_time": 1.900047534,
                        "iteration": 23,
                        "remaining_time": 77.2685997,
                        "learn": [
                          0.6286983356
                        ]
                      },
                      {
                        "test": [
                          0.6302512384
                        ],
                        "passed_time": 1.975656152,
                        "iteration": 24,
                        "remaining_time": 77.05058995,
                        "learn": [
                          0.6281169558
                        ]
                      },
                      {
                        "test": [
                          0.6294434232
                        ],
                        "passed_time": 2.053575487,
                        "iteration": 25,
                        "remaining_time": 76.93009709,
                        "learn": [
                          0.6274231614
                        ]
                      },
                      {
                        "test": [
                          0.6290783352
                        ],
                        "passed_time": 2.131628466,
                        "iteration": 26,
                        "remaining_time": 76.81757398,
                        "learn": [
                          0.6269166026
                        ]
                      },
                      {
                        "test": [
                          0.6282632565
                        ],
                        "passed_time": 2.194048698,
                        "iteration": 27,
                        "remaining_time": 76.16483336,
                        "learn": [
                          0.6262262171
                        ]
                      },
                      {
                        "test": [
                          0.6274096765
                        ],
                        "passed_time": 2.27011861,
                        "iteration": 28,
                        "remaining_time": 76.00983346,
                        "learn": [
                          0.6255011237
                        ]
                      },
                      {
                        "test": [
                          0.6265302222
                        ],
                        "passed_time": 2.34856538,
                        "iteration": 29,
                        "remaining_time": 75.93694728,
                        "learn": [
                          0.6248094488
                        ]
                      },
                      {
                        "test": [
                          0.6262735486
                        ],
                        "passed_time": 2.419856359,
                        "iteration": 30,
                        "remaining_time": 75.6400262,
                        "learn": [
                          0.6243763938
                        ]
                      },
                      {
                        "test": [
                          0.6260143897
                        ],
                        "passed_time": 2.497902411,
                        "iteration": 31,
                        "remaining_time": 75.56154792,
                        "learn": [
                          0.624064932
                        ]
                      },
                      {
                        "test": [
                          0.6257152131
                        ],
                        "passed_time": 2.574920124,
                        "iteration": 32,
                        "remaining_time": 75.45296242,
                        "learn": [
                          0.623798687
                        ]
                      },
                      {
                        "test": [
                          0.6252213243
                        ],
                        "passed_time": 2.653582302,
                        "iteration": 33,
                        "remaining_time": 75.39295599,
                        "learn": [
                          0.623333653
                        ]
                      },
                      {
                        "test": [
                          0.6250388526
                        ],
                        "passed_time": 2.723294376,
                        "iteration": 34,
                        "remaining_time": 75.08511637,
                        "learn": [
                          0.6231219937
                        ]
                      },
                      {
                        "test": [
                          0.624909344
                        ],
                        "passed_time": 2.798481446,
                        "iteration": 35,
                        "remaining_time": 74.93711429,
                        "learn": [
                          0.6229618501
                        ]
                      },
                      {
                        "test": [
                          0.6246322537
                        ],
                        "passed_time": 2.86404449,
                        "iteration": 36,
                        "remaining_time": 74.54256334,
                        "learn": [
                          0.6226429019
                        ]
                      },
                      {
                        "test": [
                          0.6243391135
                        ],
                        "passed_time": 2.948296371,
                        "iteration": 37,
                        "remaining_time": 74.63845022,
                        "learn": [
                          0.6223236002
                        ]
                      },
                      {
                        "test": [
                          0.6237573724
                        ],
                        "passed_time": 3.031418495,
                        "iteration": 38,
                        "remaining_time": 74.69726087,
                        "learn": [
                          0.6218272062
                        ]
                      },
                      {
                        "test": [
                          0.6235144289
                        ],
                        "passed_time": 3.108292502,
                        "iteration": 39,
                        "remaining_time": 74.59902005,
                        "learn": [
                          0.6214997721
                        ]
                      },
                      {
                        "test": [
                          0.6234908697
                        ],
                        "passed_time": 3.188040875,
                        "iteration": 40,
                        "remaining_time": 74.56905364,
                        "learn": [
                          0.6213298712
                        ]
                      },
                      {
                        "test": [
                          0.6233296798
                        ],
                        "passed_time": 3.257331062,
                        "iteration": 41,
                        "remaining_time": 74.29817041,
                        "learn": [
                          0.6211235437
                        ]
                      },
                      {
                        "test": [
                          0.6227782517
                        ],
                        "passed_time": 3.330544792,
                        "iteration": 42,
                        "remaining_time": 74.12398526,
                        "learn": [
                          0.620644507
                        ]
                      },
                      {
                        "test": [
                          0.6226823098
                        ],
                        "passed_time": 3.395486506,
                        "iteration": 43,
                        "remaining_time": 73.77466136,
                        "learn": [
                          0.6204245485
                        ]
                      },
                      {
                        "test": [
                          0.62181226
                        ],
                        "passed_time": 3.4806294,
                        "iteration": 44,
                        "remaining_time": 73.8666906,
                        "learn": [
                          0.6196840776
                        ]
                      },
                      {
                        "test": [
                          0.6217076487
                        ],
                        "passed_time": 3.553353044,
                        "iteration": 45,
                        "remaining_time": 73.69345225,
                        "learn": [
                          0.6194975067
                        ]
                      },
                      {
                        "test": [
                          0.6215392705
                        ],
                        "passed_time": 3.629270931,
                        "iteration": 46,
                        "remaining_time": 73.58925952,
                        "learn": [
                          0.6192681956
                        ]
                      },
                      {
                        "test": [
                          0.6214101739
                        ],
                        "passed_time": 3.703403585,
                        "iteration": 47,
                        "remaining_time": 73.45083776,
                        "learn": [
                          0.619115375
                        ]
                      },
                      {
                        "test": [
                          0.6212863311
                        ],
                        "passed_time": 3.77157958,
                        "iteration": 48,
                        "remaining_time": 73.19943226,
                        "learn": [
                          0.6189394156
                        ]
                      },
                      {
                        "test": [
                          0.6209078032
                        ],
                        "passed_time": 3.845834091,
                        "iteration": 49,
                        "remaining_time": 73.07084773,
                        "learn": [
                          0.6185395365
                        ]
                      },
                      {
                        "test": [
                          0.620576093
                        ],
                        "passed_time": 3.916391115,
                        "iteration": 50,
                        "remaining_time": 72.87559154,
                        "learn": [
                          0.6182160159
                        ]
                      },
                      {
                        "test": [
                          0.6205433707
                        ],
                        "passed_time": 3.996225168,
                        "iteration": 51,
                        "remaining_time": 72.85425883,
                        "learn": [
                          0.6181226956
                        ]
                      },
                      {
                        "test": [
                          0.6203646379
                        ],
                        "passed_time": 4.064841137,
                        "iteration": 52,
                        "remaining_time": 72.63027465,
                        "learn": [
                          0.6177579102
                        ]
                      },
                      {
                        "test": [
                          0.6199728415
                        ],
                        "passed_time": 4.138819161,
                        "iteration": 53,
                        "remaining_time": 72.50598012,
                        "learn": [
                          0.6172740495
                        ]
                      },
                      {
                        "test": [
                          0.6195999639
                        ],
                        "passed_time": 4.228600159,
                        "iteration": 54,
                        "remaining_time": 72.6550391,
                        "learn": [
                          0.6168926148
                        ]
                      },
                      {
                        "test": [
                          0.619462185
                        ],
                        "passed_time": 4.313137108,
                        "iteration": 55,
                        "remaining_time": 72.70716839,
                        "learn": [
                          0.616617738
                        ]
                      },
                      {
                        "test": [
                          0.6194183941
                        ],
                        "passed_time": 4.377809305,
                        "iteration": 56,
                        "remaining_time": 72.42586272,
                        "learn": [
                          0.6165500479
                        ]
                      },
                      {
                        "test": [
                          0.6192948737
                        ],
                        "passed_time": 4.456970794,
                        "iteration": 57,
                        "remaining_time": 72.38735325,
                        "learn": [
                          0.6163703775
                        ]
                      },
                      {
                        "test": [
                          0.6190253697
                        ],
                        "passed_time": 4.528126582,
                        "iteration": 58,
                        "remaining_time": 72.21978159,
                        "learn": [
                          0.6161079984
                        ]
                      },
                      {
                        "test": [
                          0.6187448547
                        ],
                        "passed_time": 4.594903355,
                        "iteration": 59,
                        "remaining_time": 71.98681922,
                        "learn": [
                          0.6158598264
                        ]
                      },
                      {
                        "test": [
                          0.6185658663
                        ],
                        "passed_time": 4.676948447,
                        "iteration": 60,
                        "remaining_time": 71.99433757,
                        "learn": [
                          0.6156136182
                        ]
                      },
                      {
                        "test": [
                          0.6184789865
                        ],
                        "passed_time": 4.756871162,
                        "iteration": 61,
                        "remaining_time": 71.96685726,
                        "learn": [
                          0.6154931058
                        ]
                      },
                      {
                        "test": [
                          0.6184087089
                        ],
                        "passed_time": 4.828003848,
                        "iteration": 62,
                        "remaining_time": 71.80697786,
                        "learn": [
                          0.6154126193
                        ]
                      },
                      {
                        "test": [
                          0.6183653557
                        ],
                        "passed_time": 4.89323533,
                        "iteration": 63,
                        "remaining_time": 71.5635667,
                        "learn": [
                          0.6153037156
                        ]
                      },
                      {
                        "test": [
                          0.6183102281
                        ],
                        "passed_time": 4.936601326,
                        "iteration": 64,
                        "remaining_time": 71.01111138,
                        "learn": [
                          0.615255537
                        ]
                      },
                      {
                        "test": [
                          0.6178342606
                        ],
                        "passed_time": 5.025487967,
                        "iteration": 65,
                        "remaining_time": 71.11826911,
                        "learn": [
                          0.6148979713
                        ]
                      },
                      {
                        "test": [
                          0.6175093896
                        ],
                        "passed_time": 5.113298346,
                        "iteration": 66,
                        "remaining_time": 71.20458742,
                        "learn": [
                          0.6144831466
                        ]
                      },
                      {
                        "test": [
                          0.6174491106
                        ],
                        "passed_time": 5.179329211,
                        "iteration": 67,
                        "remaining_time": 70.98727683,
                        "learn": [
                          0.6144090287
                        ]
                      },
                      {
                        "test": [
                          0.6172558352
                        ],
                        "passed_time": 5.255042702,
                        "iteration": 68,
                        "remaining_time": 70.90499645,
                        "learn": [
                          0.6141151113
                        ]
                      },
                      {
                        "test": [
                          0.6172055306
                        ],
                        "passed_time": 5.344887553,
                        "iteration": 69,
                        "remaining_time": 71.01064892,
                        "learn": [
                          0.6139490327
                        ]
                      },
                      {
                        "test": [
                          0.6168524366
                        ],
                        "passed_time": 5.412979875,
                        "iteration": 70,
                        "remaining_time": 70.8261733,
                        "learn": [
                          0.6136867924
                        ]
                      },
                      {
                        "test": [
                          0.6168316509
                        ],
                        "passed_time": 5.489063441,
                        "iteration": 71,
                        "remaining_time": 70.74792879,
                        "learn": [
                          0.6136114764
                        ]
                      },
                      {
                        "test": [
                          0.6167062848
                        ],
                        "passed_time": 5.557362224,
                        "iteration": 72,
                        "remaining_time": 70.57088741,
                        "learn": [
                          0.6134639374
                        ]
                      },
                      {
                        "test": [
                          0.6161785646
                        ],
                        "passed_time": 5.6430781,
                        "iteration": 73,
                        "remaining_time": 70.61473407,
                        "learn": [
                          0.61309144
                        ]
                      },
                      {
                        "test": [
                          0.6160602689
                        ],
                        "passed_time": 5.720290672,
                        "iteration": 74,
                        "remaining_time": 70.55025162,
                        "learn": [
                          0.6129840339
                        ]
                      },
                      {
                        "test": [
                          0.615952435
                        ],
                        "passed_time": 5.79465495,
                        "iteration": 75,
                        "remaining_time": 70.45080492,
                        "learn": [
                          0.6128823294
                        ]
                      },
                      {
                        "test": [
                          0.615900661
                        ],
                        "passed_time": 5.851984365,
                        "iteration": 76,
                        "remaining_time": 70.14781258,
                        "learn": [
                          0.6128177142
                        ]
                      },
                      {
                        "test": [
                          0.6155949574
                        ],
                        "passed_time": 5.929780027,
                        "iteration": 77,
                        "remaining_time": 70.09304083,
                        "learn": [
                          0.6125450231
                        ]
                      },
                      {
                        "test": [
                          0.6151004717
                        ],
                        "passed_time": 6.018147938,
                        "iteration": 78,
                        "remaining_time": 70.16093989,
                        "learn": [
                          0.6121254993
                        ]
                      },
                      {
                        "test": [
                          0.6151207961
                        ],
                        "passed_time": 6.098030853,
                        "iteration": 79,
                        "remaining_time": 70.12735481,
                        "learn": [
                          0.6120020175
                        ]
                      },
                      {
                        "test": [
                          0.6150839062
                        ],
                        "passed_time": 6.177273613,
                        "iteration": 80,
                        "remaining_time": 70.08536358,
                        "learn": [
                          0.6119434352
                        ]
                      },
                      {
                        "test": [
                          0.6150011668
                        ],
                        "passed_time": 6.253392769,
                        "iteration": 81,
                        "remaining_time": 70.00749465,
                        "learn": [
                          0.6118082048
                        ]
                      },
                      {
                        "test": [
                          0.6148848004
                        ],
                        "passed_time": 6.329799065,
                        "iteration": 82,
                        "remaining_time": 69.93284027,
                        "learn": [
                          0.6116619821
                        ]
                      },
                      {
                        "test": [
                          0.6145881743
                        ],
                        "passed_time": 6.411760934,
                        "iteration": 83,
                        "remaining_time": 69.91872638,
                        "learn": [
                          0.6113065738
                        ]
                      },
                      {
                        "test": [
                          0.6142330331
                        ],
                        "passed_time": 6.502297991,
                        "iteration": 84,
                        "remaining_time": 69.99532543,
                        "learn": [
                          0.6109852812
                        ]
                      },
                      {
                        "test": [
                          0.6140980802
                        ],
                        "passed_time": 6.570313404,
                        "iteration": 85,
                        "remaining_time": 69.82867966,
                        "learn": [
                          0.6108932379
                        ]
                      },
                      {
                        "test": [
                          0.6140650131
                        ],
                        "passed_time": 6.644983645,
                        "iteration": 86,
                        "remaining_time": 69.73413871,
                        "learn": [
                          0.6108116097
                        ]
                      },
                      {
                        "test": [
                          0.6141148127
                        ],
                        "passed_time": 6.712048552,
                        "iteration": 87,
                        "remaining_time": 69.56123044,
                        "learn": [
                          0.6107342406
                        ]
                      },
                      {
                        "test": [
                          0.6138371146
                        ],
                        "passed_time": 6.77422452,
                        "iteration": 88,
                        "remaining_time": 69.34065773,
                        "learn": [
                          0.6104863169
                        ]
                      },
                      {
                        "test": [
                          0.6134429309
                        ],
                        "passed_time": 6.840774912,
                        "iteration": 89,
                        "remaining_time": 69.16783522,
                        "learn": [
                          0.610179827
                        ]
                      },
                      {
                        "test": [
                          0.6132730376
                        ],
                        "passed_time": 6.925578594,
                        "iteration": 90,
                        "remaining_time": 69.17968068,
                        "learn": [
                          0.6098813235
                        ]
                      },
                      {
                        "test": [
                          0.6132457456
                        ],
                        "passed_time": 7.000343853,
                        "iteration": 91,
                        "remaining_time": 69.0903502,
                        "learn": [
                          0.609824736
                        ]
                      },
                      {
                        "test": [
                          0.6129836933
                        ],
                        "passed_time": 7.074116154,
                        "iteration": 92,
                        "remaining_time": 68.99164894,
                        "learn": [
                          0.6096037814
                        ]
                      },
                      {
                        "test": [
                          0.612874169
                        ],
                        "passed_time": 7.154603558,
                        "iteration": 93,
                        "remaining_time": 68.95820025,
                        "learn": [
                          0.6094214474
                        ]
                      },
                      {
                        "test": [
                          0.6128946183
                        ],
                        "passed_time": 7.211301436,
                        "iteration": 94,
                        "remaining_time": 68.69713473,
                        "learn": [
                          0.6094020466
                        ]
                      },
                      {
                        "test": [
                          0.6127681528
                        ],
                        "passed_time": 7.297051957,
                        "iteration": 95,
                        "remaining_time": 68.71390593,
                        "learn": [
                          0.6091743813
                        ]
                      },
                      {
                        "test": [
                          0.6125739952
                        ],
                        "passed_time": 7.374783071,
                        "iteration": 96,
                        "remaining_time": 68.65390838,
                        "learn": [
                          0.6089692736
                        ]
                      },
                      {
                        "test": [
                          0.6125115656
                        ],
                        "passed_time": 7.438328591,
                        "iteration": 97,
                        "remaining_time": 68.46298356,
                        "learn": [
                          0.6089257168
                        ]
                      },
                      {
                        "test": [
                          0.6125074894
                        ],
                        "passed_time": 7.509095591,
                        "iteration": 98,
                        "remaining_time": 68.34035483,
                        "learn": [
                          0.6088434607
                        ]
                      },
                      {
                        "test": [
                          0.6122947694
                        ],
                        "passed_time": 7.583859623,
                        "iteration": 99,
                        "remaining_time": 68.2547366,
                        "learn": [
                          0.6085024585
                        ]
                      },
                      {
                        "test": [
                          0.6122440971
                        ],
                        "passed_time": 7.650750554,
                        "iteration": 100,
                        "remaining_time": 68.09925493,
                        "learn": [
                          0.6084618819
                        ]
                      },
                      {
                        "test": [
                          0.6122370935
                        ],
                        "passed_time": 7.723899825,
                        "iteration": 101,
                        "remaining_time": 68.00060827,
                        "learn": [
                          0.608433328
                        ]
                      },
                      {
                        "test": [
                          0.6122003033
                        ],
                        "passed_time": 7.800269444,
                        "iteration": 102,
                        "remaining_time": 67.93050186,
                        "learn": [
                          0.6083595256
                        ]
                      },
                      {
                        "test": [
                          0.6121518621
                        ],
                        "passed_time": 7.873764261,
                        "iteration": 103,
                        "remaining_time": 67.83550748,
                        "learn": [
                          0.6082894232
                        ]
                      },
                      {
                        "test": [
                          0.6119850964
                        ],
                        "passed_time": 7.948829581,
                        "iteration": 104,
                        "remaining_time": 67.75430929,
                        "learn": [
                          0.6080317313
                        ]
                      },
                      {
                        "test": [
                          0.6118913519
                        ],
                        "passed_time": 8.053287329,
                        "iteration": 105,
                        "remaining_time": 67.92112144,
                        "learn": [
                          0.6078798881
                        ]
                      },
                      {
                        "test": [
                          0.6117618451
                        ],
                        "passed_time": 8.120485314,
                        "iteration": 106,
                        "remaining_time": 67.7719008,
                        "learn": [
                          0.6077016096
                        ]
                      },
                      {
                        "test": [
                          0.6117185101
                        ],
                        "passed_time": 8.191655532,
                        "iteration": 107,
                        "remaining_time": 67.65700681,
                        "learn": [
                          0.6076112968
                        ]
                      },
                      {
                        "test": [
                          0.6115493495
                        ],
                        "passed_time": 8.262339837,
                        "iteration": 108,
                        "remaining_time": 67.53894307,
                        "learn": [
                          0.6073905183
                        ]
                      },
                      {
                        "test": [
                          0.6116338927
                        ],
                        "passed_time": 8.339246896,
                        "iteration": 109,
                        "remaining_time": 67.47208852,
                        "learn": [
                          0.6072682102
                        ]
                      },
                      {
                        "test": [
                          0.6115093787
                        ],
                        "passed_time": 8.417362001,
                        "iteration": 110,
                        "remaining_time": 67.4147281,
                        "learn": [
                          0.6071632623
                        ]
                      },
                      {
                        "test": [
                          0.6112933107
                        ],
                        "passed_time": 8.493682985,
                        "iteration": 111,
                        "remaining_time": 67.34277224,
                        "learn": [
                          0.6069657162
                        ]
                      },
                      {
                        "test": [
                          0.6112027101
                        ],
                        "passed_time": 8.56902821,
                        "iteration": 112,
                        "remaining_time": 67.26307984,
                        "learn": [
                          0.6067911434
                        ]
                      },
                      {
                        "test": [
                          0.6111614967
                        ],
                        "passed_time": 8.632819473,
                        "iteration": 113,
                        "remaining_time": 67.09366714,
                        "learn": [
                          0.6067449605
                        ]
                      },
                      {
                        "test": [
                          0.6109645347
                        ],
                        "passed_time": 8.710854755,
                        "iteration": 114,
                        "remaining_time": 67.03570833,
                        "learn": [
                          0.6065245733
                        ]
                      },
                      {
                        "test": [
                          0.6108262436
                        ],
                        "passed_time": 8.79000643,
                        "iteration": 115,
                        "remaining_time": 66.98591107,
                        "learn": [
                          0.6064008217
                        ]
                      },
                      {
                        "test": [
                          0.6105637685
                        ],
                        "passed_time": 8.865786504,
                        "iteration": 116,
                        "remaining_time": 66.91016652,
                        "learn": [
                          0.6061805395
                        ]
                      },
                      {
                        "test": [
                          0.6106412938
                        ],
                        "passed_time": 8.94704528,
                        "iteration": 117,
                        "remaining_time": 66.87537235,
                        "learn": [
                          0.6060944561
                        ]
                      },
                      {
                        "test": [
                          0.6102931955
                        ],
                        "passed_time": 9.024731491,
                        "iteration": 118,
                        "remaining_time": 66.81334826,
                        "learn": [
                          0.6057969842
                        ]
                      },
                      {
                        "test": [
                          0.6101554568
                        ],
                        "passed_time": 9.106194213,
                        "iteration": 119,
                        "remaining_time": 66.77875756,
                        "learn": [
                          0.60556367
                        ]
                      },
                      {
                        "test": [
                          0.6101852564
                        ],
                        "passed_time": 9.182865334,
                        "iteration": 120,
                        "remaining_time": 66.70858371,
                        "learn": [
                          0.6054771046
                        ]
                      },
                      {
                        "test": [
                          0.6101906949
                        ],
                        "passed_time": 9.254300645,
                        "iteration": 121,
                        "remaining_time": 66.60062267,
                        "learn": [
                          0.6053648977
                        ]
                      },
                      {
                        "test": [
                          0.610150754
                        ],
                        "passed_time": 9.322513884,
                        "iteration": 122,
                        "remaining_time": 66.47028192,
                        "learn": [
                          0.605176003
                        ]
                      },
                      {
                        "test": [
                          0.610089149
                        ],
                        "passed_time": 9.394132012,
                        "iteration": 123,
                        "remaining_time": 66.36499712,
                        "learn": [
                          0.6050757747
                        ]
                      },
                      {
                        "test": [
                          0.6099189384
                        ],
                        "passed_time": 9.471015927,
                        "iteration": 124,
                        "remaining_time": 66.29711149,
                        "learn": [
                          0.6048288812
                        ]
                      },
                      {
                        "test": [
                          0.6098821453
                        ],
                        "passed_time": 9.543771256,
                        "iteration": 125,
                        "remaining_time": 66.20044506,
                        "learn": [
                          0.604745862
                        ]
                      },
                      {
                        "test": [
                          0.6096910976
                        ],
                        "passed_time": 9.622041256,
                        "iteration": 126,
                        "remaining_time": 66.14206312,
                        "learn": [
                          0.6044883664
                        ]
                      },
                      {
                        "test": [
                          0.6095329535
                        ],
                        "passed_time": 9.697686101,
                        "iteration": 127,
                        "remaining_time": 66.06548656,
                        "learn": [
                          0.6042607166
                        ]
                      },
                      {
                        "test": [
                          0.6093310109
                        ],
                        "passed_time": 9.773038844,
                        "iteration": 128,
                        "remaining_time": 65.98695219,
                        "learn": [
                          0.6040396376
                        ]
                      },
                      {
                        "test": [
                          0.6088680544
                        ],
                        "passed_time": 9.843113136,
                        "iteration": 129,
                        "remaining_time": 65.87314175,
                        "learn": [
                          0.6036789383
                        ]
                      },
                      {
                        "test": [
                          0.6088707692
                        ],
                        "passed_time": 9.93195777,
                        "iteration": 130,
                        "remaining_time": 65.88451376,
                        "learn": [
                          0.6035183552
                        ]
                      },
                      {
                        "test": [
                          0.6085167476
                        ],
                        "passed_time": 10.01906402,
                        "iteration": 131,
                        "remaining_time": 65.88293612,
                        "learn": [
                          0.6032408441
                        ]
                      },
                      {
                        "test": [
                          0.6084085949
                        ],
                        "passed_time": 10.11394232,
                        "iteration": 132,
                        "remaining_time": 65.93073676,
                        "learn": [
                          0.6030518771
                        ]
                      },
                      {
                        "test": [
                          0.6082122618
                        ],
                        "passed_time": 10.19103765,
                        "iteration": 133,
                        "remaining_time": 65.86148214,
                        "learn": [
                          0.6028879756
                        ]
                      },
                      {
                        "test": [
                          0.6078480612
                        ],
                        "passed_time": 10.2608172,
                        "iteration": 134,
                        "remaining_time": 65.74523611,
                        "learn": [
                          0.6025987993
                        ]
                      },
                      {
                        "test": [
                          0.6077834211
                        ],
                        "passed_time": 10.33095397,
                        "iteration": 135,
                        "remaining_time": 65.63194287,
                        "learn": [
                          0.6024940544
                        ]
                      },
                      {
                        "test": [
                          0.6076399374
                        ],
                        "passed_time": 10.41317593,
                        "iteration": 136,
                        "remaining_time": 65.5954075,
                        "learn": [
                          0.6022315326
                        ]
                      },
                      {
                        "test": [
                          0.6072931317
                        ],
                        "passed_time": 10.49177671,
                        "iteration": 137,
                        "remaining_time": 65.53559077,
                        "learn": [
                          0.60187715
                        ]
                      },
                      {
                        "test": [
                          0.607164351
                        ],
                        "passed_time": 10.58101601,
                        "iteration": 138,
                        "remaining_time": 65.54140133,
                        "learn": [
                          0.6017302759
                        ]
                      },
                      {
                        "test": [
                          0.6069953527
                        ],
                        "passed_time": 10.66209991,
                        "iteration": 139,
                        "remaining_time": 65.49575656,
                        "learn": [
                          0.6014804333
                        ]
                      },
                      {
                        "test": [
                          0.6069762069
                        ],
                        "passed_time": 10.72960881,
                        "iteration": 140,
                        "remaining_time": 65.36690755,
                        "learn": [
                          0.6014082308
                        ]
                      },
                      {
                        "test": [
                          0.6068473738
                        ],
                        "passed_time": 10.80509763,
                        "iteration": 141,
                        "remaining_time": 65.28713921,
                        "learn": [
                          0.6012500545
                        ]
                      },
                      {
                        "test": [
                          0.6066790229
                        ],
                        "passed_time": 10.87546216,
                        "iteration": 142,
                        "remaining_time": 65.17672075,
                        "learn": [
                          0.6010400119
                        ]
                      },
                      {
                        "test": [
                          0.606360462
                        ],
                        "passed_time": 10.95218334,
                        "iteration": 143,
                        "remaining_time": 65.10464542,
                        "learn": [
                          0.6007570183
                        ]
                      },
                      {
                        "test": [
                          0.6062859701
                        ],
                        "passed_time": 11.03863607,
                        "iteration": 144,
                        "remaining_time": 65.08988855,
                        "learn": [
                          0.6005103622
                        ]
                      },
                      {
                        "test": [
                          0.6061425251
                        ],
                        "passed_time": 11.13428156,
                        "iteration": 145,
                        "remaining_time": 65.12792091,
                        "learn": [
                          0.6003165872
                        ]
                      },
                      {
                        "test": [
                          0.6059298106
                        ],
                        "passed_time": 11.20948468,
                        "iteration": 146,
                        "remaining_time": 65.04551313,
                        "learn": [
                          0.6000380454
                        ]
                      },
                      {
                        "test": [
                          0.6056016579
                        ],
                        "passed_time": 11.29625123,
                        "iteration": 147,
                        "remaining_time": 65.02977062,
                        "learn": [
                          0.5997190884
                        ]
                      },
                      {
                        "test": [
                          0.6055627396
                        ],
                        "passed_time": 11.37520025,
                        "iteration": 148,
                        "remaining_time": 64.96842561,
                        "learn": [
                          0.5994924745
                        ]
                      },
                      {
                        "test": [
                          0.6052326975
                        ],
                        "passed_time": 11.44393521,
                        "iteration": 149,
                        "remaining_time": 64.84896617,
                        "learn": [
                          0.5992520598
                        ]
                      },
                      {
                        "test": [
                          0.6050798345
                        ],
                        "passed_time": 11.52777418,
                        "iteration": 150,
                        "remaining_time": 64.81510118,
                        "learn": [
                          0.5989907636
                        ]
                      },
                      {
                        "test": [
                          0.6050363544
                        ],
                        "passed_time": 11.6068331,
                        "iteration": 151,
                        "remaining_time": 64.753911,
                        "learn": [
                          0.5988021897
                        ]
                      },
                      {
                        "test": [
                          0.605016583
                        ],
                        "passed_time": 11.68470164,
                        "iteration": 152,
                        "remaining_time": 64.6858973,
                        "learn": [
                          0.59872381
                        ]
                      },
                      {
                        "test": [
                          0.6048627545
                        ],
                        "passed_time": 11.76050345,
                        "iteration": 153,
                        "remaining_time": 64.60640209,
                        "learn": [
                          0.598541939
                        ]
                      },
                      {
                        "test": [
                          0.6047726438
                        ],
                        "passed_time": 11.83318109,
                        "iteration": 154,
                        "remaining_time": 64.50992273,
                        "learn": [
                          0.5983286688
                        ]
                      },
                      {
                        "test": [
                          0.6047504136
                        ],
                        "passed_time": 11.90359774,
                        "iteration": 155,
                        "remaining_time": 64.40151598,
                        "learn": [
                          0.5982525638
                        ]
                      },
                      {
                        "test": [
                          0.6045153308
                        ],
                        "passed_time": 11.98147961,
                        "iteration": 156,
                        "remaining_time": 64.33367714,
                        "learn": [
                          0.5979383623
                        ]
                      },
                      {
                        "test": [
                          0.6041228465
                        ],
                        "passed_time": 12.06180653,
                        "iteration": 157,
                        "remaining_time": 64.27874111,
                        "learn": [
                          0.5976245568
                        ]
                      },
                      {
                        "test": [
                          0.6039793218
                        ],
                        "passed_time": 12.14671422,
                        "iteration": 158,
                        "remaining_time": 64.24771484,
                        "learn": [
                          0.5974524147
                        ]
                      },
                      {
                        "test": [
                          0.6039775503
                        ],
                        "passed_time": 12.25179335,
                        "iteration": 159,
                        "remaining_time": 64.32191506,
                        "learn": [
                          0.5973711031
                        ]
                      },
                      {
                        "test": [
                          0.6039207121
                        ],
                        "passed_time": 12.3259516,
                        "iteration": 160,
                        "remaining_time": 64.23275399,
                        "learn": [
                          0.5972659636
                        ]
                      },
                      {
                        "test": [
                          0.6035953949
                        ],
                        "passed_time": 12.40351017,
                        "iteration": 161,
                        "remaining_time": 64.1613674,
                        "learn": [
                          0.5970092769
                        ]
                      },
                      {
                        "test": [
                          0.6035488934
                        ],
                        "passed_time": 12.48555524,
                        "iteration": 162,
                        "remaining_time": 64.11294317,
                        "learn": [
                          0.5968754323
                        ]
                      },
                      {
                        "test": [
                          0.603509264
                        ],
                        "passed_time": 12.56363705,
                        "iteration": 163,
                        "remaining_time": 64.04390593,
                        "learn": [
                          0.5967808365
                        ]
                      },
                      {
                        "test": [
                          0.6034636395
                        ],
                        "passed_time": 12.63184,
                        "iteration": 164,
                        "remaining_time": 63.92476609,
                        "learn": [
                          0.5966750819
                        ]
                      },
                      {
                        "test": [
                          0.6031812194
                        ],
                        "passed_time": 12.70965772,
                        "iteration": 165,
                        "remaining_time": 63.85454539,
                        "learn": [
                          0.5964257015
                        ]
                      },
                      {
                        "test": [
                          0.6030045215
                        ],
                        "passed_time": 12.78476075,
                        "iteration": 166,
                        "remaining_time": 63.77069284,
                        "learn": [
                          0.5962043441
                        ]
                      },
                      {
                        "test": [
                          0.6028928543
                        ],
                        "passed_time": 12.85724082,
                        "iteration": 167,
                        "remaining_time": 63.67395453,
                        "learn": [
                          0.5960719613
                        ]
                      },
                      {
                        "test": [
                          0.602833733
                        ],
                        "passed_time": 12.92985297,
                        "iteration": 168,
                        "remaining_time": 63.57815277,
                        "learn": [
                          0.5959479382
                        ]
                      },
                      {
                        "test": [
                          0.6028107258
                        ],
                        "passed_time": 13.01017685,
                        "iteration": 169,
                        "remaining_time": 63.52027519,
                        "learn": [
                          0.5957309103
                        ]
                      },
                      {
                        "test": [
                          0.6026435472
                        ],
                        "passed_time": 13.08711204,
                        "iteration": 170,
                        "remaining_time": 63.44570691,
                        "learn": [
                          0.5955392745
                        ]
                      },
                      {
                        "test": [
                          0.6024433443
                        ],
                        "passed_time": 13.18462216,
                        "iteration": 171,
                        "remaining_time": 63.47015786,
                        "learn": [
                          0.5953053062
                        ]
                      },
                      {
                        "test": [
                          0.6024236467
                        ],
                        "passed_time": 13.26355109,
                        "iteration": 172,
                        "remaining_time": 63.40437429,
                        "learn": [
                          0.5951342102
                        ]
                      },
                      {
                        "test": [
                          0.6022832206
                        ],
                        "passed_time": 13.34504345,
                        "iteration": 173,
                        "remaining_time": 63.35060856,
                        "learn": [
                          0.5949542879
                        ]
                      },
                      {
                        "test": [
                          0.602212001
                        ],
                        "passed_time": 13.42399029,
                        "iteration": 174,
                        "remaining_time": 63.28452564,
                        "learn": [
                          0.5947561937
                        ]
                      },
                      {
                        "test": [
                          0.6021489924
                        ],
                        "passed_time": 13.49432022,
                        "iteration": 175,
                        "remaining_time": 63.17795378,
                        "learn": [
                          0.5946129436
                        ]
                      },
                      {
                        "test": [
                          0.6020860982
                        ],
                        "passed_time": 13.57845255,
                        "iteration": 176,
                        "remaining_time": 63.13596865,
                        "learn": [
                          0.5944926007
                        ]
                      },
                      {
                        "test": [
                          0.6018129486
                        ],
                        "passed_time": 13.64825626,
                        "iteration": 177,
                        "remaining_time": 63.0273407,
                        "learn": [
                          0.5942487042
                        ]
                      },
                      {
                        "test": [
                          0.601754126
                        ],
                        "passed_time": 13.72157992,
                        "iteration": 178,
                        "remaining_time": 62.93529113,
                        "learn": [
                          0.5941329377
                        ]
                      },
                      {
                        "test": [
                          0.6015044437
                        ],
                        "passed_time": 13.79886465,
                        "iteration": 179,
                        "remaining_time": 62.86149453,
                        "learn": [
                          0.5939070755
                        ]
                      },
                      {
                        "test": [
                          0.6012553896
                        ],
                        "passed_time": 13.88465155,
                        "iteration": 180,
                        "remaining_time": 62.82613051,
                        "learn": [
                          0.593717683
                        ]
                      },
                      {
                        "test": [
                          0.601121491
                        ],
                        "passed_time": 13.96133738,
                        "iteration": 181,
                        "remaining_time": 62.74930756,
                        "learn": [
                          0.5935948058
                        ]
                      },
                      {
                        "test": [
                          0.6009988631
                        ],
                        "passed_time": 14.02872981,
                        "iteration": 182,
                        "remaining_time": 62.63099591,
                        "learn": [
                          0.5934412489
                        ]
                      },
                      {
                        "test": [
                          0.6008943676
                        ],
                        "passed_time": 14.1108372,
                        "iteration": 183,
                        "remaining_time": 62.57849543,
                        "learn": [
                          0.5932618243
                        ]
                      },
                      {
                        "test": [
                          0.6007889767
                        ],
                        "passed_time": 14.20203743,
                        "iteration": 184,
                        "remaining_time": 62.56573247,
                        "learn": [
                          0.5930823673
                        ]
                      },
                      {
                        "test": [
                          0.6008547789
                        ],
                        "passed_time": 14.27544317,
                        "iteration": 185,
                        "remaining_time": 62.4742513,
                        "learn": [
                          0.5929484684
                        ]
                      },
                      {
                        "test": [
                          0.6008683955
                        ],
                        "passed_time": 14.35769,
                        "iteration": 186,
                        "remaining_time": 62.42140089,
                        "learn": [
                          0.5927329652
                        ]
                      },
                      {
                        "test": [
                          0.6006897151
                        ],
                        "passed_time": 14.43763175,
                        "iteration": 187,
                        "remaining_time": 62.35828179,
                        "learn": [
                          0.592599138
                        ]
                      },
                      {
                        "test": [
                          0.6006918626
                        ],
                        "passed_time": 14.50070483,
                        "iteration": 188,
                        "remaining_time": 62.22260115,
                        "learn": [
                          0.5925481953
                        ]
                      },
                      {
                        "test": [
                          0.6007503583
                        ],
                        "passed_time": 14.58974004,
                        "iteration": 189,
                        "remaining_time": 62.19836545,
                        "learn": [
                          0.5923847259
                        ]
                      },
                      {
                        "test": [
                          0.6005916686
                        ],
                        "passed_time": 14.66779361,
                        "iteration": 190,
                        "remaining_time": 62.12693735,
                        "learn": [
                          0.5922662022
                        ]
                      },
                      {
                        "test": [
                          0.6004366397
                        ],
                        "passed_time": 14.74167097,
                        "iteration": 191,
                        "remaining_time": 62.03786534,
                        "learn": [
                          0.5920794758
                        ]
                      },
                      {
                        "test": [
                          0.6004297021
                        ],
                        "passed_time": 14.81612455,
                        "iteration": 192,
                        "remaining_time": 61.95136017,
                        "learn": [
                          0.5919681001
                        ]
                      },
                      {
                        "test": [
                          0.600303755
                        ],
                        "passed_time": 14.89512809,
                        "iteration": 193,
                        "remaining_time": 61.88388266,
                        "learn": [
                          0.5917828423
                        ]
                      },
                      {
                        "test": [
                          0.6003023562
                        ],
                        "passed_time": 14.97387424,
                        "iteration": 194,
                        "remaining_time": 61.81522444,
                        "learn": [
                          0.5916382403
                        ]
                      },
                      {
                        "test": [
                          0.6002056596
                        ],
                        "passed_time": 15.05309177,
                        "iteration": 195,
                        "remaining_time": 61.74839683,
                        "learn": [
                          0.5914790392
                        ]
                      },
                      {
                        "test": [
                          0.6000364914
                        ],
                        "passed_time": 15.12705138,
                        "iteration": 196,
                        "remaining_time": 61.66001146,
                        "learn": [
                          0.5913135903
                        ]
                      },
                      {
                        "test": [
                          0.5998866
                        ],
                        "passed_time": 15.22521515,
                        "iteration": 197,
                        "remaining_time": 61.66981085,
                        "learn": [
                          0.5910979644
                        ]
                      },
                      {
                        "test": [
                          0.5997146853
                        ],
                        "passed_time": 15.31048995,
                        "iteration": 198,
                        "remaining_time": 61.62664549,
                        "learn": [
                          0.5909358002
                        ]
                      },
                      {
                        "test": [
                          0.5995770979
                        ],
                        "passed_time": 15.36886589,
                        "iteration": 199,
                        "remaining_time": 61.47546355,
                        "learn": [
                          0.5907865745
                        ]
                      },
                      {
                        "test": [
                          0.5995009422
                        ],
                        "passed_time": 15.43957356,
                        "iteration": 200,
                        "remaining_time": 61.37422526,
                        "learn": [
                          0.5906766923
                        ]
                      },
                      {
                        "test": [
                          0.5994248035
                        ],
                        "passed_time": 15.53122702,
                        "iteration": 201,
                        "remaining_time": 61.35603546,
                        "learn": [
                          0.5905429249
                        ]
                      },
                      {
                        "test": [
                          0.5994217603
                        ],
                        "passed_time": 15.59959932,
                        "iteration": 202,
                        "remaining_time": 61.24571754,
                        "learn": [
                          0.590481516
                        ]
                      },
                      {
                        "test": [
                          0.5994092991
                        ],
                        "passed_time": 15.67719826,
                        "iteration": 203,
                        "remaining_time": 61.17181283,
                        "learn": [
                          0.5903560126
                        ]
                      },
                      {
                        "test": [
                          0.5992305415
                        ],
                        "passed_time": 15.76234148,
                        "iteration": 204,
                        "remaining_time": 61.12712916,
                        "learn": [
                          0.5901776219
                        ]
                      },
                      {
                        "test": [
                          0.5990981112
                        ],
                        "passed_time": 15.85036249,
                        "iteration": 205,
                        "remaining_time": 61.09314473,
                        "learn": [
                          0.5900255414
                        ]
                      },
                      {
                        "test": [
                          0.5990531591
                        ],
                        "passed_time": 15.91552125,
                        "iteration": 206,
                        "remaining_time": 60.97105482,
                        "learn": [
                          0.5899081616
                        ]
                      },
                      {
                        "test": [
                          0.5989458295
                        ],
                        "passed_time": 15.99218386,
                        "iteration": 207,
                        "remaining_time": 60.89331547,
                        "learn": [
                          0.5897415419
                        ]
                      },
                      {
                        "test": [
                          0.5988939574
                        ],
                        "passed_time": 16.07064665,
                        "iteration": 208,
                        "remaining_time": 60.8223995,
                        "learn": [
                          0.5896293599
                        ]
                      },
                      {
                        "test": [
                          0.5988352915
                        ],
                        "passed_time": 16.15274748,
                        "iteration": 209,
                        "remaining_time": 60.76509768,
                        "learn": [
                          0.5895240447
                        ]
                      },
                      {
                        "test": [
                          0.5989067184
                        ],
                        "passed_time": 16.24664231,
                        "iteration": 210,
                        "remaining_time": 60.75166248,
                        "learn": [
                          0.5894501314
                        ]
                      },
                      {
                        "test": [
                          0.5986801838
                        ],
                        "passed_time": 16.32394699,
                        "iteration": 211,
                        "remaining_time": 60.67580295,
                        "learn": [
                          0.5891882802
                        ]
                      },
                      {
                        "test": [
                          0.598595614
                        ],
                        "passed_time": 16.40105675,
                        "iteration": 212,
                        "remaining_time": 60.59920967,
                        "learn": [
                          0.589049788
                        ]
                      },
                      {
                        "test": [
                          0.5985230353
                        ],
                        "passed_time": 16.47948255,
                        "iteration": 213,
                        "remaining_time": 60.52744526,
                        "learn": [
                          0.5889148327
                        ]
                      },
                      {
                        "test": [
                          0.5985512738
                        ],
                        "passed_time": 16.5611486,
                        "iteration": 214,
                        "remaining_time": 60.46744956,
                        "learn": [
                          0.5888374796
                        ]
                      },
                      {
                        "test": [
                          0.598489279
                        ],
                        "passed_time": 16.63335498,
                        "iteration": 215,
                        "remaining_time": 60.37291808,
                        "learn": [
                          0.5886812902
                        ]
                      },
                      {
                        "test": [
                          0.5984890861
                        ],
                        "passed_time": 16.7014604,
                        "iteration": 216,
                        "remaining_time": 60.26379488,
                        "learn": [
                          0.5886211504
                        ]
                      },
                      {
                        "test": [
                          0.598531614
                        ],
                        "passed_time": 16.7700098,
                        "iteration": 217,
                        "remaining_time": 60.15664065,
                        "learn": [
                          0.5885048895
                        ]
                      },
                      {
                        "test": [
                          0.5985318364
                        ],
                        "passed_time": 16.84169969,
                        "iteration": 218,
                        "remaining_time": 60.06103861,
                        "learn": [
                          0.5884142881
                        ]
                      },
                      {
                        "test": [
                          0.5985666514
                        ],
                        "passed_time": 16.92661477,
                        "iteration": 219,
                        "remaining_time": 60.01254327,
                        "learn": [
                          0.5883185279
                        ]
                      },
                      {
                        "test": [
                          0.5986081466
                        ],
                        "passed_time": 17.00200606,
                        "iteration": 220,
                        "remaining_time": 59.93014806,
                        "learn": [
                          0.5882047876
                        ]
                      },
                      {
                        "test": [
                          0.5986062237
                        ],
                        "passed_time": 17.07768915,
                        "iteration": 221,
                        "remaining_time": 59.84883855,
                        "learn": [
                          0.5881395997
                        ]
                      }
                    ]
                  },
                  "total_iterations": 1000,
                  "passed_iterations": 221
                },
                "path": "catboost_info",
                "name": "catboost_info"
              }
            },
            "_view_module": "catboost-widget",
            "_model_module_version": "^1.0.0",
            "_view_count": null,
            "_view_module_version": "^1.0.0",
            "layout": "IPY_MODEL_acb70340c78542aeb310e2b6e9a4d7c8",
            "_model_module": "catboost-widget"
          }
        },
        "f30f62552b2444619fc5b84f17e096a4": {
          "model_module": "catboost-widget",
          "model_name": "CatboostWidgetModel",
          "state": {
            "_view_name": "CatboostWidgetView",
            "_dom_classes": [],
            "_model_name": "CatboostWidgetModel",
            "data": {
              "catboost_info": {
                "content": {
                  "data": {
                    "meta": {
                      "name": "experiment",
                      "parameters": "",
                      "test_metrics": [
                        {
                          "best_value": "Min",
                          "name": "Logloss"
                        }
                      ],
                      "learn_sets": [
                        "learn"
                      ],
                      "launch_mode": "Train",
                      "learn_metrics": [
                        {
                          "best_value": "Min",
                          "name": "Logloss"
                        }
                      ],
                      "iteration_count": 1000,
                      "test_sets": [
                        "test"
                      ]
                    },
                    "iterations": [
                      {
                        "test": [
                          0.6859596728
                        ],
                        "passed_time": 0.03158845932,
                        "iteration": 0,
                        "remaining_time": 31.55687086,
                        "learn": [
                          0.6857052405
                        ]
                      },
                      {
                        "test": [
                          0.6775524893
                        ],
                        "passed_time": 0.06452708522,
                        "iteration": 1,
                        "remaining_time": 32.19901553,
                        "learn": [
                          0.6772180468
                        ]
                      },
                      {
                        "test": [
                          0.672449341
                        ],
                        "passed_time": 0.09329977494,
                        "iteration": 2,
                        "remaining_time": 31.0066252,
                        "learn": [
                          0.6716678944
                        ]
                      },
                      {
                        "test": [
                          0.6679889096
                        ],
                        "passed_time": 0.1227588795,
                        "iteration": 3,
                        "remaining_time": 30.566961,
                        "learn": [
                          0.6668634038
                        ]
                      },
                      {
                        "test": [
                          0.6638760056
                        ],
                        "passed_time": 0.1515730966,
                        "iteration": 4,
                        "remaining_time": 30.16304622,
                        "learn": [
                          0.6625735606
                        ]
                      },
                      {
                        "test": [
                          0.6586509182
                        ],
                        "passed_time": 0.1807723764,
                        "iteration": 5,
                        "remaining_time": 29.94795703,
                        "learn": [
                          0.657272985
                        ]
                      },
                      {
                        "test": [
                          0.6553326504
                        ],
                        "passed_time": 0.2164900454,
                        "iteration": 6,
                        "remaining_time": 30.71065929,
                        "learn": [
                          0.654051097
                        ]
                      },
                      {
                        "test": [
                          0.6517485299
                        ],
                        "passed_time": 0.2611713817,
                        "iteration": 7,
                        "remaining_time": 32.38525133,
                        "learn": [
                          0.6504195746
                        ]
                      },
                      {
                        "test": [
                          0.6498392169
                        ],
                        "passed_time": 0.2899524371,
                        "iteration": 8,
                        "remaining_time": 31.92698502,
                        "learn": [
                          0.6484917524
                        ]
                      },
                      {
                        "test": [
                          0.6475159869
                        ],
                        "passed_time": 0.3234040797,
                        "iteration": 9,
                        "remaining_time": 32.01700389,
                        "learn": [
                          0.6460482309
                        ]
                      },
                      {
                        "test": [
                          0.6450972913
                        ],
                        "passed_time": 0.3727430088,
                        "iteration": 10,
                        "remaining_time": 33.51298506,
                        "learn": [
                          0.6433932017
                        ]
                      },
                      {
                        "test": [
                          0.6439586994
                        ],
                        "passed_time": 0.4018734284,
                        "iteration": 11,
                        "remaining_time": 33.08757894,
                        "learn": [
                          0.6420995876
                        ]
                      },
                      {
                        "test": [
                          0.6420377982
                        ],
                        "passed_time": 0.4381514002,
                        "iteration": 12,
                        "remaining_time": 33.26580246,
                        "learn": [
                          0.6400235396
                        ]
                      },
                      {
                        "test": [
                          0.6412277415
                        ],
                        "passed_time": 0.4671511169,
                        "iteration": 13,
                        "remaining_time": 32.9007858,
                        "learn": [
                          0.6389737184
                        ]
                      },
                      {
                        "test": [
                          0.6393780912
                        ],
                        "passed_time": 0.4999200465,
                        "iteration": 14,
                        "remaining_time": 32.82808305,
                        "learn": [
                          0.6370476085
                        ]
                      },
                      {
                        "test": [
                          0.6373805068
                        ],
                        "passed_time": 0.5293619768,
                        "iteration": 15,
                        "remaining_time": 32.55576157,
                        "learn": [
                          0.6352719093
                        ]
                      },
                      {
                        "test": [
                          0.635446431
                        ],
                        "passed_time": 0.5647555215,
                        "iteration": 16,
                        "remaining_time": 32.65615751,
                        "learn": [
                          0.6333668259
                        ]
                      },
                      {
                        "test": [
                          0.6346991869
                        ],
                        "passed_time": 0.5986333893,
                        "iteration": 17,
                        "remaining_time": 32.65877713,
                        "learn": [
                          0.632507142
                        ]
                      },
                      {
                        "test": [
                          0.6334172132
                        ],
                        "passed_time": 0.6292526709,
                        "iteration": 18,
                        "remaining_time": 32.48930896,
                        "learn": [
                          0.6311949299
                        ]
                      },
                      {
                        "test": [
                          0.6328847212
                        ],
                        "passed_time": 0.664941783,
                        "iteration": 19,
                        "remaining_time": 32.58214737,
                        "learn": [
                          0.6306038339
                        ]
                      },
                      {
                        "test": [
                          0.6312862293
                        ],
                        "passed_time": 0.6981766212,
                        "iteration": 20,
                        "remaining_time": 32.54832915,
                        "learn": [
                          0.6288164304
                        ]
                      },
                      {
                        "test": [
                          0.6308630324
                        ],
                        "passed_time": 0.7394807972,
                        "iteration": 21,
                        "remaining_time": 32.87328271,
                        "learn": [
                          0.6282891942
                        ]
                      },
                      {
                        "test": [
                          0.6304673501
                        ],
                        "passed_time": 0.7715095531,
                        "iteration": 22,
                        "remaining_time": 32.77238406,
                        "learn": [
                          0.6277856822
                        ]
                      },
                      {
                        "test": [
                          0.6292812034
                        ],
                        "passed_time": 0.8095737532,
                        "iteration": 23,
                        "remaining_time": 32.92266596,
                        "learn": [
                          0.6266470117
                        ]
                      },
                      {
                        "test": [
                          0.6282306776
                        ],
                        "passed_time": 0.8425028615,
                        "iteration": 24,
                        "remaining_time": 32.8576116,
                        "learn": [
                          0.6255105318
                        ]
                      },
                      {
                        "test": [
                          0.627904865
                        ],
                        "passed_time": 0.8792827544,
                        "iteration": 25,
                        "remaining_time": 32.93928472,
                        "learn": [
                          0.62510132
                        ]
                      },
                      {
                        "test": [
                          0.6276112805
                        ],
                        "passed_time": 0.9062512155,
                        "iteration": 26,
                        "remaining_time": 32.65860862,
                        "learn": [
                          0.6247361127
                        ]
                      },
                      {
                        "test": [
                          0.6270448724
                        ],
                        "passed_time": 0.948756192,
                        "iteration": 27,
                        "remaining_time": 32.93539352,
                        "learn": [
                          0.6240780908
                        ]
                      },
                      {
                        "test": [
                          0.6254295798
                        ],
                        "passed_time": 0.9812323162,
                        "iteration": 28,
                        "remaining_time": 32.85436479,
                        "learn": [
                          0.6226083016
                        ]
                      },
                      {
                        "test": [
                          0.6242971337
                        ],
                        "passed_time": 1.011884822,
                        "iteration": 29,
                        "remaining_time": 32.71760923,
                        "learn": [
                          0.6216471669
                        ]
                      },
                      {
                        "test": [
                          0.623803578
                        ],
                        "passed_time": 1.041911296,
                        "iteration": 30,
                        "remaining_time": 32.5681305,
                        "learn": [
                          0.6211372931
                        ]
                      },
                      {
                        "test": [
                          0.6231496978
                        ],
                        "passed_time": 1.078134668,
                        "iteration": 31,
                        "remaining_time": 32.61357369,
                        "learn": [
                          0.6204030016
                        ]
                      },
                      {
                        "test": [
                          0.6229276148
                        ],
                        "passed_time": 1.110473555,
                        "iteration": 32,
                        "remaining_time": 32.54024024,
                        "learn": [
                          0.6201173123
                        ]
                      },
                      {
                        "test": [
                          0.6220269909
                        ],
                        "passed_time": 1.145735717,
                        "iteration": 33,
                        "remaining_time": 32.55237361,
                        "learn": [
                          0.619265601
                        ]
                      },
                      {
                        "test": [
                          0.6217515951
                        ],
                        "passed_time": 1.178583014,
                        "iteration": 34,
                        "remaining_time": 32.49521738,
                        "learn": [
                          0.6189625292
                        ]
                      },
                      {
                        "test": [
                          0.6211208598
                        ],
                        "passed_time": 1.218660289,
                        "iteration": 35,
                        "remaining_time": 32.63301441,
                        "learn": [
                          0.6183125903
                        ]
                      },
                      {
                        "test": [
                          0.6201646988
                        ],
                        "passed_time": 1.250895529,
                        "iteration": 36,
                        "remaining_time": 32.55709174,
                        "learn": [
                          0.617421021
                        ]
                      },
                      {
                        "test": [
                          0.6195390184
                        ],
                        "passed_time": 1.288041631,
                        "iteration": 37,
                        "remaining_time": 32.60779077,
                        "learn": [
                          0.6168580603
                        ]
                      },
                      {
                        "test": [
                          0.6193788382
                        ],
                        "passed_time": 1.326313523,
                        "iteration": 38,
                        "remaining_time": 32.68172554,
                        "learn": [
                          0.616607357
                        ]
                      },
                      {
                        "test": [
                          0.6191491727
                        ],
                        "passed_time": 1.36864802,
                        "iteration": 39,
                        "remaining_time": 32.84755247,
                        "learn": [
                          0.6163863887
                        ]
                      },
                      {
                        "test": [
                          0.6176215237
                        ],
                        "passed_time": 1.407478632,
                        "iteration": 40,
                        "remaining_time": 32.9212685,
                        "learn": [
                          0.6148475635
                        ]
                      },
                      {
                        "test": [
                          0.617368014
                        ],
                        "passed_time": 1.440694726,
                        "iteration": 41,
                        "remaining_time": 32.86156066,
                        "learn": [
                          0.6145179801
                        ]
                      },
                      {
                        "test": [
                          0.6163344708
                        ],
                        "passed_time": 1.474325415,
                        "iteration": 42,
                        "remaining_time": 32.81231214,
                        "learn": [
                          0.6134434131
                        ]
                      },
                      {
                        "test": [
                          0.6155052267
                        ],
                        "passed_time": 1.511857357,
                        "iteration": 43,
                        "remaining_time": 32.84853712,
                        "learn": [
                          0.6125205743
                        ]
                      },
                      {
                        "test": [
                          0.6146597006
                        ],
                        "passed_time": 1.54583649,
                        "iteration": 44,
                        "remaining_time": 32.8060855,
                        "learn": [
                          0.6116268301
                        ]
                      },
                      {
                        "test": [
                          0.6144187153
                        ],
                        "passed_time": 1.577861031,
                        "iteration": 45,
                        "remaining_time": 32.72346573,
                        "learn": [
                          0.6113246987
                        ]
                      },
                      {
                        "test": [
                          0.6136076235
                        ],
                        "passed_time": 1.607564285,
                        "iteration": 46,
                        "remaining_time": 32.59593113,
                        "learn": [
                          0.6105923439
                        ]
                      },
                      {
                        "test": [
                          0.6132826405
                        ],
                        "passed_time": 1.643049972,
                        "iteration": 47,
                        "remaining_time": 32.58715777,
                        "learn": [
                          0.610107193
                        ]
                      },
                      {
                        "test": [
                          0.6123489818
                        ],
                        "passed_time": 1.671291119,
                        "iteration": 48,
                        "remaining_time": 32.43669089,
                        "learn": [
                          0.6093274327
                        ]
                      },
                      {
                        "test": [
                          0.6114478786
                        ],
                        "passed_time": 1.704951776,
                        "iteration": 49,
                        "remaining_time": 32.39408374,
                        "learn": [
                          0.6083517723
                        ]
                      },
                      {
                        "test": [
                          0.6107904903
                        ],
                        "passed_time": 1.735879383,
                        "iteration": 50,
                        "remaining_time": 32.30097127,
                        "learn": [
                          0.6077235327
                        ]
                      },
                      {
                        "test": [
                          0.6105130818
                        ],
                        "passed_time": 1.772247281,
                        "iteration": 51,
                        "remaining_time": 32.30943119,
                        "learn": [
                          0.6074180137
                        ]
                      },
                      {
                        "test": [
                          0.6103051008
                        ],
                        "passed_time": 1.805522326,
                        "iteration": 52,
                        "remaining_time": 32.26093666,
                        "learn": [
                          0.6072362392
                        ]
                      },
                      {
                        "test": [
                          0.6095278186
                        ],
                        "passed_time": 1.837560621,
                        "iteration": 53,
                        "remaining_time": 32.19133976,
                        "learn": [
                          0.6064093778
                        ]
                      },
                      {
                        "test": [
                          0.6091606058
                        ],
                        "passed_time": 1.872852702,
                        "iteration": 54,
                        "remaining_time": 32.1790146,
                        "learn": [
                          0.6060726064
                        ]
                      },
                      {
                        "test": [
                          0.6089672601
                        ],
                        "passed_time": 1.905129455,
                        "iteration": 55,
                        "remaining_time": 32.11503938,
                        "learn": [
                          0.6058677016
                        ]
                      },
                      {
                        "test": [
                          0.6085034641
                        ],
                        "passed_time": 1.946511932,
                        "iteration": 56,
                        "remaining_time": 32.20282022,
                        "learn": [
                          0.6053198573
                        ]
                      },
                      {
                        "test": [
                          0.6084295819
                        ],
                        "passed_time": 1.982911474,
                        "iteration": 57,
                        "remaining_time": 32.2052174,
                        "learn": [
                          0.6052149386
                        ]
                      },
                      {
                        "test": [
                          0.6082269111
                        ],
                        "passed_time": 2.016056286,
                        "iteration": 58,
                        "remaining_time": 32.15438924,
                        "learn": [
                          0.6050379426
                        ]
                      },
                      {
                        "test": [
                          0.6077149827
                        ],
                        "passed_time": 2.057480203,
                        "iteration": 59,
                        "remaining_time": 32.23385652,
                        "learn": [
                          0.60448961
                        ]
                      },
                      {
                        "test": [
                          0.6072910157
                        ],
                        "passed_time": 2.088312838,
                        "iteration": 60,
                        "remaining_time": 32.14632384,
                        "learn": [
                          0.6040553993
                        ]
                      },
                      {
                        "test": [
                          0.6066088218
                        ],
                        "passed_time": 2.117501298,
                        "iteration": 61,
                        "remaining_time": 32.03574544,
                        "learn": [
                          0.6033190397
                        ]
                      },
                      {
                        "test": [
                          0.6064884838
                        ],
                        "passed_time": 2.149490629,
                        "iteration": 62,
                        "remaining_time": 31.96940825,
                        "learn": [
                          0.603128935
                        ]
                      },
                      {
                        "test": [
                          0.606234055
                        ],
                        "passed_time": 2.183841449,
                        "iteration": 63,
                        "remaining_time": 31.9386812,
                        "learn": [
                          0.6028200701
                        ]
                      },
                      {
                        "test": [
                          0.6060200661
                        ],
                        "passed_time": 2.217477481,
                        "iteration": 64,
                        "remaining_time": 31.89756068,
                        "learn": [
                          0.602631662
                        ]
                      },
                      {
                        "test": [
                          0.6055515714
                        ],
                        "passed_time": 2.250574519,
                        "iteration": 65,
                        "remaining_time": 31.84903941,
                        "learn": [
                          0.6020471379
                        ]
                      },
                      {
                        "test": [
                          0.6050492003
                        ],
                        "passed_time": 2.285713823,
                        "iteration": 66,
                        "remaining_time": 31.82941787,
                        "learn": [
                          0.6015746794
                        ]
                      },
                      {
                        "test": [
                          0.604317919
                        ],
                        "passed_time": 2.316044914,
                        "iteration": 67,
                        "remaining_time": 31.74343912,
                        "learn": [
                          0.6008282717
                        ]
                      },
                      {
                        "test": [
                          0.6041944161
                        ],
                        "passed_time": 2.359944511,
                        "iteration": 68,
                        "remaining_time": 31.84214984,
                        "learn": [
                          0.6006859137
                        ]
                      },
                      {
                        "test": [
                          0.6039481535
                        ],
                        "passed_time": 2.394488222,
                        "iteration": 69,
                        "remaining_time": 31.81248638,
                        "learn": [
                          0.6004016025
                        ]
                      },
                      {
                        "test": [
                          0.6038716743
                        ],
                        "passed_time": 2.427907095,
                        "iteration": 70,
                        "remaining_time": 31.76796748,
                        "learn": [
                          0.6002717744
                        ]
                      },
                      {
                        "test": [
                          0.6034208061
                        ],
                        "passed_time": 2.460938124,
                        "iteration": 71,
                        "remaining_time": 31.71875804,
                        "learn": [
                          0.5997724422
                        ]
                      },
                      {
                        "test": [
                          0.6034059641
                        ],
                        "passed_time": 2.492341745,
                        "iteration": 72,
                        "remaining_time": 31.64932599,
                        "learn": [
                          0.5996504922
                        ]
                      },
                      {
                        "test": [
                          0.6031494567
                        ],
                        "passed_time": 2.523592409,
                        "iteration": 73,
                        "remaining_time": 31.57900772,
                        "learn": [
                          0.5994128925
                        ]
                      },
                      {
                        "test": [
                          0.6030160001
                        ],
                        "passed_time": 2.555961339,
                        "iteration": 74,
                        "remaining_time": 31.52352318,
                        "learn": [
                          0.5992125242
                        ]
                      },
                      {
                        "test": [
                          0.6029096738
                        ],
                        "passed_time": 2.595015152,
                        "iteration": 75,
                        "remaining_time": 31.54992106,
                        "learn": [
                          0.5990926252
                        ]
                      },
                      {
                        "test": [
                          0.6025525493
                        ],
                        "passed_time": 2.624141902,
                        "iteration": 76,
                        "remaining_time": 31.45562305,
                        "learn": [
                          0.5987167469
                        ]
                      },
                      {
                        "test": [
                          0.6021513269
                        ],
                        "passed_time": 2.657712307,
                        "iteration": 77,
                        "remaining_time": 31.4155224,
                        "learn": [
                          0.5984060167
                        ]
                      },
                      {
                        "test": [
                          0.6020503085
                        ],
                        "passed_time": 2.694651199,
                        "iteration": 78,
                        "remaining_time": 31.41485765,
                        "learn": [
                          0.5983044131
                        ]
                      },
                      {
                        "test": [
                          0.6019403639
                        ],
                        "passed_time": 2.728154797,
                        "iteration": 79,
                        "remaining_time": 31.37378016,
                        "learn": [
                          0.598192666
                        ]
                      },
                      {
                        "test": [
                          0.6019050903
                        ],
                        "passed_time": 2.760797128,
                        "iteration": 80,
                        "remaining_time": 31.32311804,
                        "learn": [
                          0.5980491252
                        ]
                      },
                      {
                        "test": [
                          0.6015300768
                        ],
                        "passed_time": 2.791320149,
                        "iteration": 81,
                        "remaining_time": 31.24916947,
                        "learn": [
                          0.5977094757
                        ]
                      },
                      {
                        "test": [
                          0.6014488013
                        ],
                        "passed_time": 2.827697278,
                        "iteration": 82,
                        "remaining_time": 31.24094462,
                        "learn": [
                          0.597548312
                        ]
                      },
                      {
                        "test": [
                          0.6013721668
                        ],
                        "passed_time": 2.86007107,
                        "iteration": 83,
                        "remaining_time": 31.18839405,
                        "learn": [
                          0.5973594912
                        ]
                      },
                      {
                        "test": [
                          0.6012320588
                        ],
                        "passed_time": 2.894476725,
                        "iteration": 84,
                        "remaining_time": 31.15819063,
                        "learn": [
                          0.5972001941
                        ]
                      },
                      {
                        "test": [
                          0.6011383999
                        ],
                        "passed_time": 2.926868649,
                        "iteration": 85,
                        "remaining_time": 31.10648774,
                        "learn": [
                          0.5969742429
                        ]
                      },
                      {
                        "test": [
                          0.6010783146
                        ],
                        "passed_time": 2.974261463,
                        "iteration": 86,
                        "remaining_time": 31.21265191,
                        "learn": [
                          0.5967922196
                        ]
                      },
                      {
                        "test": [
                          0.6010004512
                        ],
                        "passed_time": 3.008426604,
                        "iteration": 87,
                        "remaining_time": 31.17823935,
                        "learn": [
                          0.5966741135
                        ]
                      },
                      {
                        "test": [
                          0.6007541177
                        ],
                        "passed_time": 3.04146881,
                        "iteration": 88,
                        "remaining_time": 31.13233804,
                        "learn": [
                          0.5964553511
                        ]
                      },
                      {
                        "test": [
                          0.6004240061
                        ],
                        "passed_time": 3.075306283,
                        "iteration": 89,
                        "remaining_time": 31.09476353,
                        "learn": [
                          0.5961333942
                        ]
                      },
                      {
                        "test": [
                          0.6003061072
                        ],
                        "passed_time": 3.108449907,
                        "iteration": 90,
                        "remaining_time": 31.05034028,
                        "learn": [
                          0.5959320724
                        ]
                      },
                      {
                        "test": [
                          0.5999985582
                        ],
                        "passed_time": 3.137990993,
                        "iteration": 91,
                        "remaining_time": 30.97060676,
                        "learn": [
                          0.5956668628
                        ]
                      },
                      {
                        "test": [
                          0.5998907281
                        ],
                        "passed_time": 3.17654374,
                        "iteration": 92,
                        "remaining_time": 30.97984056,
                        "learn": [
                          0.5954316322
                        ]
                      },
                      {
                        "test": [
                          0.5995271241
                        ],
                        "passed_time": 3.210217064,
                        "iteration": 93,
                        "remaining_time": 30.94102829,
                        "learn": [
                          0.5950017144
                        ]
                      },
                      {
                        "test": [
                          0.5994185764
                        ],
                        "passed_time": 3.250661372,
                        "iteration": 94,
                        "remaining_time": 30.96682675,
                        "learn": [
                          0.5948373071
                        ]
                      },
                      {
                        "test": [
                          0.5994330672
                        ],
                        "passed_time": 3.283640485,
                        "iteration": 95,
                        "remaining_time": 30.9209479,
                        "learn": [
                          0.5947223302
                        ]
                      },
                      {
                        "test": [
                          0.5993891909
                        ],
                        "passed_time": 3.31564348,
                        "iteration": 96,
                        "remaining_time": 30.86624806,
                        "learn": [
                          0.594614261
                        ]
                      },
                      {
                        "test": [
                          0.5993318414
                        ],
                        "passed_time": 3.356858602,
                        "iteration": 97,
                        "remaining_time": 30.8968006,
                        "learn": [
                          0.5944686268
                        ]
                      },
                      {
                        "test": [
                          0.5992409775
                        ],
                        "passed_time": 3.389637896,
                        "iteration": 98,
                        "remaining_time": 30.84912873,
                        "learn": [
                          0.5943260791
                        ]
                      },
                      {
                        "test": [
                          0.5992113287
                        ],
                        "passed_time": 3.422567586,
                        "iteration": 99,
                        "remaining_time": 30.80310827,
                        "learn": [
                          0.5942114795
                        ]
                      },
                      {
                        "test": [
                          0.5989515393
                        ],
                        "passed_time": 3.460626599,
                        "iteration": 100,
                        "remaining_time": 30.8030031,
                        "learn": [
                          0.5939646856
                        ]
                      },
                      {
                        "test": [
                          0.5989438396
                        ],
                        "passed_time": 3.493296408,
                        "iteration": 101,
                        "remaining_time": 30.75470759,
                        "learn": [
                          0.5937870026
                        ]
                      },
                      {
                        "test": [
                          0.5987290214
                        ],
                        "passed_time": 3.530710469,
                        "iteration": 102,
                        "remaining_time": 30.74803194,
                        "learn": [
                          0.5935590822
                        ]
                      },
                      {
                        "test": [
                          0.5985231868
                        ],
                        "passed_time": 3.566288183,
                        "iteration": 103,
                        "remaining_time": 30.72494435,
                        "learn": [
                          0.5933575837
                        ]
                      },
                      {
                        "test": [
                          0.5984587781
                        ],
                        "passed_time": 3.599303722,
                        "iteration": 104,
                        "remaining_time": 30.67977934,
                        "learn": [
                          0.5932417908
                        ]
                      },
                      {
                        "test": [
                          0.5983338453
                        ],
                        "passed_time": 3.632985027,
                        "iteration": 105,
                        "remaining_time": 30.64045863,
                        "learn": [
                          0.5930557354
                        ]
                      },
                      {
                        "test": [
                          0.5983051654
                        ],
                        "passed_time": 3.668858151,
                        "iteration": 106,
                        "remaining_time": 30.61953579,
                        "learn": [
                          0.5929178104
                        ]
                      },
                      {
                        "test": [
                          0.5982028702
                        ],
                        "passed_time": 3.700630797,
                        "iteration": 107,
                        "remaining_time": 30.56446918,
                        "learn": [
                          0.5926137363
                        ]
                      },
                      {
                        "test": [
                          0.5980545911
                        ],
                        "passed_time": 3.734184866,
                        "iteration": 108,
                        "remaining_time": 30.52439188,
                        "learn": [
                          0.5923926026
                        ]
                      },
                      {
                        "test": [
                          0.5980413736
                        ],
                        "passed_time": 3.765844086,
                        "iteration": 109,
                        "remaining_time": 30.46910215,
                        "learn": [
                          0.5922574453
                        ]
                      },
                      {
                        "test": [
                          0.5978846332
                        ],
                        "passed_time": 3.798270947,
                        "iteration": 110,
                        "remaining_time": 30.42038624,
                        "learn": [
                          0.5920760446
                        ]
                      },
                      {
                        "test": [
                          0.5978332238
                        ],
                        "passed_time": 3.839379786,
                        "iteration": 111,
                        "remaining_time": 30.44079688,
                        "learn": [
                          0.5919040542
                        ]
                      },
                      {
                        "test": [
                          0.5977444556
                        ],
                        "passed_time": 3.879180727,
                        "iteration": 112,
                        "remaining_time": 30.44985225,
                        "learn": [
                          0.5917812187
                        ]
                      },
                      {
                        "test": [
                          0.5973956472
                        ],
                        "passed_time": 3.909552378,
                        "iteration": 113,
                        "remaining_time": 30.38476673,
                        "learn": [
                          0.5914956713
                        ]
                      },
                      {
                        "test": [
                          0.5971399968
                        ],
                        "passed_time": 3.956101825,
                        "iteration": 114,
                        "remaining_time": 30.44478361,
                        "learn": [
                          0.5912605205
                        ]
                      },
                      {
                        "test": [
                          0.5970572101
                        ],
                        "passed_time": 3.989989385,
                        "iteration": 115,
                        "remaining_time": 30.40647083,
                        "learn": [
                          0.5911247156
                        ]
                      },
                      {
                        "test": [
                          0.5970720147
                        ],
                        "passed_time": 4.021955952,
                        "iteration": 116,
                        "remaining_time": 30.35373595,
                        "learn": [
                          0.5910059498
                        ]
                      },
                      {
                        "test": [
                          0.5969845194
                        ],
                        "passed_time": 4.054275914,
                        "iteration": 117,
                        "remaining_time": 30.30399454,
                        "learn": [
                          0.5907846885
                        ]
                      },
                      {
                        "test": [
                          0.5969958193
                        ],
                        "passed_time": 4.090300468,
                        "iteration": 118,
                        "remaining_time": 30.28197238,
                        "learn": [
                          0.590702967
                        ]
                      },
                      {
                        "test": [
                          0.5969891843
                        ],
                        "passed_time": 4.123161763,
                        "iteration": 119,
                        "remaining_time": 30.2365196,
                        "learn": [
                          0.5906205528
                        ]
                      },
                      {
                        "test": [
                          0.5968448871
                        ],
                        "passed_time": 4.15286678,
                        "iteration": 120,
                        "remaining_time": 30.16834628,
                        "learn": [
                          0.5904241406
                        ]
                      },
                      {
                        "test": [
                          0.5968116963
                        ],
                        "passed_time": 4.184975969,
                        "iteration": 121,
                        "remaining_time": 30.11810574,
                        "learn": [
                          0.5903352347
                        ]
                      },
                      {
                        "test": [
                          0.5966580696
                        ],
                        "passed_time": 4.221108268,
                        "iteration": 122,
                        "remaining_time": 30.09684513,
                        "learn": [
                          0.5901686332
                        ]
                      },
                      {
                        "test": [
                          0.5965805514
                        ],
                        "passed_time": 4.250259433,
                        "iteration": 123,
                        "remaining_time": 30.02602632,
                        "learn": [
                          0.5899740651
                        ]
                      },
                      {
                        "test": [
                          0.5963023384
                        ],
                        "passed_time": 4.306566216,
                        "iteration": 124,
                        "remaining_time": 30.14596351,
                        "learn": [
                          0.5896986897
                        ]
                      },
                      {
                        "test": [
                          0.5962247338
                        ],
                        "passed_time": 4.344616497,
                        "iteration": 125,
                        "remaining_time": 30.13646681,
                        "learn": [
                          0.5895227032
                        ]
                      },
                      {
                        "test": [
                          0.5961197778
                        ],
                        "passed_time": 4.377610907,
                        "iteration": 126,
                        "remaining_time": 30.09176631,
                        "learn": [
                          0.5893005121
                        ]
                      },
                      {
                        "test": [
                          0.5961376649
                        ],
                        "passed_time": 4.409058273,
                        "iteration": 127,
                        "remaining_time": 30.03670948,
                        "learn": [
                          0.58915637
                        ]
                      },
                      {
                        "test": [
                          0.5960976955
                        ],
                        "passed_time": 4.443921216,
                        "iteration": 128,
                        "remaining_time": 30.00508046,
                        "learn": [
                          0.5889875402
                        ]
                      },
                      {
                        "test": [
                          0.5959726862
                        ],
                        "passed_time": 4.480952833,
                        "iteration": 129,
                        "remaining_time": 29.98791511,
                        "learn": [
                          0.5887939646
                        ]
                      },
                      {
                        "test": [
                          0.5959726991
                        ],
                        "passed_time": 4.519773253,
                        "iteration": 130,
                        "remaining_time": 29.98231265,
                        "learn": [
                          0.5886658688
                        ]
                      },
                      {
                        "test": [
                          0.5958361858
                        ],
                        "passed_time": 4.556740875,
                        "iteration": 131,
                        "remaining_time": 29.96402333,
                        "learn": [
                          0.588457049
                        ]
                      },
                      {
                        "test": [
                          0.595666886
                        ],
                        "passed_time": 4.589522112,
                        "iteration": 132,
                        "remaining_time": 29.91816294,
                        "learn": [
                          0.5883080418
                        ]
                      },
                      {
                        "test": [
                          0.5954847421
                        ],
                        "passed_time": 4.622798684,
                        "iteration": 133,
                        "remaining_time": 29.87569896,
                        "learn": [
                          0.5881156417
                        ]
                      },
                      {
                        "test": [
                          0.5954480167
                        ],
                        "passed_time": 4.655162336,
                        "iteration": 134,
                        "remaining_time": 29.82752163,
                        "learn": [
                          0.5879870164
                        ]
                      },
                      {
                        "test": [
                          0.5954168472
                        ],
                        "passed_time": 4.688600857,
                        "iteration": 135,
                        "remaining_time": 29.78640544,
                        "learn": [
                          0.5878608489
                        ]
                      },
                      {
                        "test": [
                          0.5952327889
                        ],
                        "passed_time": 4.723414137,
                        "iteration": 136,
                        "remaining_time": 29.75406131,
                        "learn": [
                          0.5876194017
                        ]
                      },
                      {
                        "test": [
                          0.5952066943
                        ],
                        "passed_time": 4.756491238,
                        "iteration": 137,
                        "remaining_time": 29.71083657,
                        "learn": [
                          0.5874932779
                        ]
                      },
                      {
                        "test": [
                          0.5951424862
                        ],
                        "passed_time": 4.794797395,
                        "iteration": 138,
                        "remaining_time": 29.70014789,
                        "learn": [
                          0.5873807403
                        ]
                      },
                      {
                        "test": [
                          0.5950553863
                        ],
                        "passed_time": 4.826800502,
                        "iteration": 139,
                        "remaining_time": 29.65034594,
                        "learn": [
                          0.5871781647
                        ]
                      },
                      {
                        "test": [
                          0.5950319058
                        ],
                        "passed_time": 4.858611885,
                        "iteration": 140,
                        "remaining_time": 29.59962843,
                        "learn": [
                          0.5870551479
                        ]
                      },
                      {
                        "test": [
                          0.5950322798
                        ],
                        "passed_time": 4.891378466,
                        "iteration": 141,
                        "remaining_time": 29.55494876,
                        "learn": [
                          0.5868957506
                        ]
                      },
                      {
                        "test": [
                          0.5948701736
                        ],
                        "passed_time": 4.927431689,
                        "iteration": 142,
                        "remaining_time": 29.53013257,
                        "learn": [
                          0.586719201
                        ]
                      },
                      {
                        "test": [
                          0.5946606917
                        ],
                        "passed_time": 4.975085618,
                        "iteration": 143,
                        "remaining_time": 29.57412006,
                        "learn": [
                          0.5864923119
                        ]
                      },
                      {
                        "test": [
                          0.5946144035
                        ],
                        "passed_time": 5.007955944,
                        "iteration": 144,
                        "remaining_time": 29.52967125,
                        "learn": [
                          0.586323597
                        ]
                      },
                      {
                        "test": [
                          0.5946032184
                        ],
                        "passed_time": 5.044648317,
                        "iteration": 145,
                        "remaining_time": 29.50773742,
                        "learn": [
                          0.5861980758
                        ]
                      },
                      {
                        "test": [
                          0.5946065085
                        ],
                        "passed_time": 5.082064469,
                        "iteration": 146,
                        "remaining_time": 29.48980267,
                        "learn": [
                          0.5860508905
                        ]
                      },
                      {
                        "test": [
                          0.5944807306
                        ],
                        "passed_time": 5.114779435,
                        "iteration": 147,
                        "remaining_time": 29.44454107,
                        "learn": [
                          0.5859169341
                        ]
                      },
                      {
                        "test": [
                          0.5944235748
                        ],
                        "passed_time": 5.151567153,
                        "iteration": 148,
                        "remaining_time": 29.42270904,
                        "learn": [
                          0.5857062251
                        ]
                      },
                      {
                        "test": [
                          0.5944090943
                        ],
                        "passed_time": 5.184450527,
                        "iteration": 149,
                        "remaining_time": 29.37855299,
                        "learn": [
                          0.5855347562
                        ]
                      },
                      {
                        "test": [
                          0.594425509
                        ],
                        "passed_time": 5.217218294,
                        "iteration": 150,
                        "remaining_time": 29.33389624,
                        "learn": [
                          0.5854092044
                        ]
                      },
                      {
                        "test": [
                          0.5942657876
                        ],
                        "passed_time": 5.24997336,
                        "iteration": 151,
                        "remaining_time": 29.28932506,
                        "learn": [
                          0.5852362349
                        ]
                      },
                      {
                        "test": [
                          0.594078297
                        ],
                        "passed_time": 5.283386134,
                        "iteration": 152,
                        "remaining_time": 29.24854938,
                        "learn": [
                          0.5849888186
                        ]
                      },
                      {
                        "test": [
                          0.5939570983
                        ],
                        "passed_time": 5.318288942,
                        "iteration": 153,
                        "remaining_time": 29.21605483,
                        "learn": [
                          0.5848387517
                        ]
                      },
                      {
                        "test": [
                          0.5938851213
                        ],
                        "passed_time": 5.36111417,
                        "iteration": 154,
                        "remaining_time": 29.22671919,
                        "learn": [
                          0.5846507133
                        ]
                      },
                      {
                        "test": [
                          0.59386773
                        ],
                        "passed_time": 5.399134304,
                        "iteration": 155,
                        "remaining_time": 29.21070098,
                        "learn": [
                          0.5845013703
                        ]
                      },
                      {
                        "test": [
                          0.593854655
                        ],
                        "passed_time": 5.432085359,
                        "iteration": 156,
                        "remaining_time": 29.16718444,
                        "learn": [
                          0.5843746867
                        ]
                      },
                      {
                        "test": [
                          0.5937260102
                        ],
                        "passed_time": 5.465287688,
                        "iteration": 157,
                        "remaining_time": 29.12514072,
                        "learn": [
                          0.5842058356
                        ]
                      },
                      {
                        "test": [
                          0.5936876584
                        ],
                        "passed_time": 5.498683867,
                        "iteration": 158,
                        "remaining_time": 29.08423354,
                        "learn": [
                          0.5840262636
                        ]
                      },
                      {
                        "test": [
                          0.5936463687
                        ],
                        "passed_time": 5.532544338,
                        "iteration": 159,
                        "remaining_time": 29.04585778,
                        "learn": [
                          0.5838436711
                        ]
                      },
                      {
                        "test": [
                          0.5936912404
                        ],
                        "passed_time": 5.570627376,
                        "iteration": 160,
                        "remaining_time": 29.02954266,
                        "learn": [
                          0.5836907271
                        ]
                      },
                      {
                        "test": [
                          0.5935839201
                        ],
                        "passed_time": 5.602833294,
                        "iteration": 161,
                        "remaining_time": 28.98255741,
                        "learn": [
                          0.5834918422
                        ]
                      },
                      {
                        "test": [
                          0.5934925131
                        ],
                        "passed_time": 5.636505344,
                        "iteration": 162,
                        "remaining_time": 28.94328204,
                        "learn": [
                          0.5833941995
                        ]
                      },
                      {
                        "test": [
                          0.5935653339
                        ],
                        "passed_time": 5.673287158,
                        "iteration": 163,
                        "remaining_time": 28.91992722,
                        "learn": [
                          0.5832658155
                        ]
                      },
                      {
                        "test": [
                          0.5935270983
                        ],
                        "passed_time": 5.714965083,
                        "iteration": 164,
                        "remaining_time": 28.92118693,
                        "learn": [
                          0.5831509103
                        ]
                      },
                      {
                        "test": [
                          0.5933550437
                        ],
                        "passed_time": 5.745876435,
                        "iteration": 165,
                        "remaining_time": 28.86783703,
                        "learn": [
                          0.5829760529
                        ]
                      },
                      {
                        "test": [
                          0.5933236301
                        ],
                        "passed_time": 5.785062136,
                        "iteration": 166,
                        "remaining_time": 28.8560285,
                        "learn": [
                          0.5828020784
                        ]
                      },
                      {
                        "test": [
                          0.5931297523
                        ],
                        "passed_time": 5.820230411,
                        "iteration": 167,
                        "remaining_time": 28.82399823,
                        "learn": [
                          0.5825890236
                        ]
                      },
                      {
                        "test": [
                          0.5931827538
                        ],
                        "passed_time": 5.853051582,
                        "iteration": 168,
                        "remaining_time": 28.78038973,
                        "learn": [
                          0.582421139
                        ]
                      },
                      {
                        "test": [
                          0.5932037738
                        ],
                        "passed_time": 5.885870798,
                        "iteration": 169,
                        "remaining_time": 28.7368986,
                        "learn": [
                          0.5822323604
                        ]
                      },
                      {
                        "test": [
                          0.5931901588
                        ],
                        "passed_time": 5.918736296,
                        "iteration": 170,
                        "remaining_time": 28.69375666,
                        "learn": [
                          0.5820696786
                        ]
                      },
                      {
                        "test": [
                          0.5931534891
                        ],
                        "passed_time": 5.949585581,
                        "iteration": 171,
                        "remaining_time": 28.64102826,
                        "learn": [
                          0.5819187277
                        ]
                      },
                      {
                        "test": [
                          0.5930681529
                        ],
                        "passed_time": 6.011158051,
                        "iteration": 172,
                        "remaining_time": 28.73542028,
                        "learn": [
                          0.5817479157
                        ]
                      },
                      {
                        "test": [
                          0.5927629926
                        ],
                        "passed_time": 6.040653458,
                        "iteration": 173,
                        "remaining_time": 28.67574573,
                        "learn": [
                          0.5815593211
                        ]
                      },
                      {
                        "test": [
                          0.592849879
                        ],
                        "passed_time": 6.073475107,
                        "iteration": 174,
                        "remaining_time": 28.63209694,
                        "learn": [
                          0.5814776006
                        ]
                      },
                      {
                        "test": [
                          0.5926137908
                        ],
                        "passed_time": 6.103559067,
                        "iteration": 175,
                        "remaining_time": 28.57575381,
                        "learn": [
                          0.5812870205
                        ]
                      },
                      {
                        "test": [
                          0.5927150632
                        ],
                        "passed_time": 6.137324534,
                        "iteration": 176,
                        "remaining_time": 28.53682538,
                        "learn": [
                          0.5810964355
                        ]
                      },
                      {
                        "test": [
                          0.5926839726
                        ],
                        "passed_time": 6.169648763,
                        "iteration": 177,
                        "remaining_time": 28.49129934,
                        "learn": [
                          0.5809259464
                        ]
                      },
                      {
                        "test": [
                          0.592696081
                        ],
                        "passed_time": 6.201617074,
                        "iteration": 178,
                        "remaining_time": 28.44428837,
                        "learn": [
                          0.5808410408
                        ]
                      },
                      {
                        "test": [
                          0.5924796864
                        ],
                        "passed_time": 6.240359439,
                        "iteration": 179,
                        "remaining_time": 28.42830411,
                        "learn": [
                          0.5806119621
                        ]
                      },
                      {
                        "test": [
                          0.5924792813
                        ],
                        "passed_time": 6.272074699,
                        "iteration": 180,
                        "remaining_time": 28.3802717,
                        "learn": [
                          0.5805432258
                        ]
                      },
                      {
                        "test": [
                          0.5924387935
                        ],
                        "passed_time": 6.304518644,
                        "iteration": 181,
                        "remaining_time": 28.33569369,
                        "learn": [
                          0.5804316801
                        ]
                      },
                      {
                        "test": [
                          0.5924520547
                        ],
                        "passed_time": 6.343710536,
                        "iteration": 182,
                        "remaining_time": 28.32137436,
                        "learn": [
                          0.58031909
                        ]
                      },
                      {
                        "test": [
                          0.5924879717
                        ],
                        "passed_time": 6.38313385,
                        "iteration": 183,
                        "remaining_time": 28.30781099,
                        "learn": [
                          0.5801976199
                        ]
                      },
                      {
                        "test": [
                          0.5925037082
                        ],
                        "passed_time": 6.416287428,
                        "iteration": 184,
                        "remaining_time": 28.26634732,
                        "learn": [
                          0.5800819396
                        ]
                      },
                      {
                        "test": [
                          0.5923784799
                        ],
                        "passed_time": 6.454617981,
                        "iteration": 185,
                        "remaining_time": 28.24762923,
                        "learn": [
                          0.5799675118
                        ]
                      },
                      {
                        "test": [
                          0.5922145001
                        ],
                        "passed_time": 6.487437473,
                        "iteration": 186,
                        "remaining_time": 28.20474152,
                        "learn": [
                          0.5797912839
                        ]
                      },
                      {
                        "test": [
                          0.5923142572
                        ],
                        "passed_time": 6.521827366,
                        "iteration": 187,
                        "remaining_time": 28.16874373,
                        "learn": [
                          0.5796420396
                        ]
                      },
                      {
                        "test": [
                          0.5922823924
                        ],
                        "passed_time": 6.554367152,
                        "iteration": 188,
                        "remaining_time": 28.12482413,
                        "learn": [
                          0.5795204548
                        ]
                      },
                      {
                        "test": [
                          0.5923110218
                        ],
                        "passed_time": 6.587312933,
                        "iteration": 189,
                        "remaining_time": 28.08275514,
                        "learn": [
                          0.5793486447
                        ]
                      },
                      {
                        "test": [
                          0.5923553849
                        ],
                        "passed_time": 6.624812547,
                        "iteration": 190,
                        "remaining_time": 28.0600699,
                        "learn": [
                          0.5792010309
                        ]
                      },
                      {
                        "test": [
                          0.5923464851
                        ],
                        "passed_time": 6.662378093,
                        "iteration": 191,
                        "remaining_time": 28.03750781,
                        "learn": [
                          0.5790296798
                        ]
                      }
                    ]
                  },
                  "total_iterations": 1000,
                  "passed_iterations": 191
                },
                "path": "catboost_info",
                "name": "catboost_info"
              }
            },
            "_view_module": "catboost-widget",
            "_model_module_version": "^1.0.0",
            "_view_count": null,
            "_view_module_version": "^1.0.0",
            "layout": "IPY_MODEL_656532eddc4c49beb9cbccd5294e37c6",
            "_model_module": "catboost-widget"
          }
        },
        "7a645d67bd2a452ca3250658e8f4622b": {
          "model_module": "catboost-widget",
          "model_name": "CatboostWidgetModel",
          "state": {
            "_view_name": "CatboostWidgetView",
            "_dom_classes": [],
            "_model_name": "CatboostWidgetModel",
            "data": {
              "catboost_info": {
                "content": {
                  "data": {
                    "meta": {
                      "name": "experiment",
                      "parameters": "",
                      "test_metrics": [
                        {
                          "best_value": "Min",
                          "name": "Logloss"
                        }
                      ],
                      "learn_sets": [
                        "learn"
                      ],
                      "launch_mode": "Train",
                      "learn_metrics": [
                        {
                          "best_value": "Min",
                          "name": "Logloss"
                        }
                      ],
                      "iteration_count": 1000,
                      "test_sets": [
                        "test"
                      ]
                    },
                    "iterations": [
                      {
                        "test": [
                          0.6841530636
                        ],
                        "passed_time": 0.03977835432,
                        "iteration": 0,
                        "remaining_time": 39.73857596,
                        "learn": [
                          0.6837953898
                        ]
                      },
                      {
                        "test": [
                          0.6761778238
                        ],
                        "passed_time": 0.08113823607,
                        "iteration": 1,
                        "remaining_time": 40.4879798,
                        "learn": [
                          0.6752630958
                        ]
                      },
                      {
                        "test": [
                          0.6697953753
                        ],
                        "passed_time": 0.1266570363,
                        "iteration": 2,
                        "remaining_time": 42.09235506,
                        "learn": [
                          0.6684166279
                        ]
                      },
                      {
                        "test": [
                          0.6656142099
                        ],
                        "passed_time": 0.1619194753,
                        "iteration": 3,
                        "remaining_time": 40.31794934,
                        "learn": [
                          0.6639635387
                        ]
                      },
                      {
                        "test": [
                          0.6608069167
                        ],
                        "passed_time": 0.2102660836,
                        "iteration": 4,
                        "remaining_time": 41.84295064,
                        "learn": [
                          0.6588096361
                        ]
                      },
                      {
                        "test": [
                          0.6561996248
                        ],
                        "passed_time": 0.2434801286,
                        "iteration": 5,
                        "remaining_time": 40.33654131,
                        "learn": [
                          0.6539737493
                        ]
                      },
                      {
                        "test": [
                          0.6526086196
                        ],
                        "passed_time": 0.2997011584,
                        "iteration": 6,
                        "remaining_time": 42.51475005,
                        "learn": [
                          0.6499736982
                        ]
                      },
                      {
                        "test": [
                          0.6492972929
                        ],
                        "passed_time": 0.3364415899,
                        "iteration": 7,
                        "remaining_time": 41.71875715,
                        "learn": [
                          0.6466790144
                        ]
                      },
                      {
                        "test": [
                          0.646976779
                        ],
                        "passed_time": 0.3774696688,
                        "iteration": 8,
                        "remaining_time": 41.56360464,
                        "learn": [
                          0.6439373727
                        ]
                      },
                      {
                        "test": [
                          0.6444582003
                        ],
                        "passed_time": 0.4226915718,
                        "iteration": 9,
                        "remaining_time": 41.84646561,
                        "learn": [
                          0.641285985
                        ]
                      },
                      {
                        "test": [
                          0.6418169347
                        ],
                        "passed_time": 0.4638030713,
                        "iteration": 10,
                        "remaining_time": 41.70011251,
                        "learn": [
                          0.6387358547
                        ]
                      },
                      {
                        "test": [
                          0.6398310257
                        ],
                        "passed_time": 0.5102347025,
                        "iteration": 11,
                        "remaining_time": 42.00932384,
                        "learn": [
                          0.6366254457
                        ]
                      },
                      {
                        "test": [
                          0.6381343375
                        ],
                        "passed_time": 0.5444262438,
                        "iteration": 12,
                        "remaining_time": 41.33451559,
                        "learn": [
                          0.6348064526
                        ]
                      },
                      {
                        "test": [
                          0.6371182234
                        ],
                        "passed_time": 0.5829336714,
                        "iteration": 13,
                        "remaining_time": 41.05518571,
                        "learn": [
                          0.6337671473
                        ]
                      },
                      {
                        "test": [
                          0.6358426065
                        ],
                        "passed_time": 0.6186780663,
                        "iteration": 14,
                        "remaining_time": 40.62652635,
                        "learn": [
                          0.6322048779
                        ]
                      },
                      {
                        "test": [
                          0.6344545221
                        ],
                        "passed_time": 0.6582898102,
                        "iteration": 15,
                        "remaining_time": 40.48482333,
                        "learn": [
                          0.6305681461
                        ]
                      },
                      {
                        "test": [
                          0.6329235182
                        ],
                        "passed_time": 0.6943601172,
                        "iteration": 16,
                        "remaining_time": 40.15035266,
                        "learn": [
                          0.6291526025
                        ]
                      },
                      {
                        "test": [
                          0.632254179
                        ],
                        "passed_time": 0.7350257104,
                        "iteration": 17,
                        "remaining_time": 40.09973598,
                        "learn": [
                          0.6280313039
                        ]
                      },
                      {
                        "test": [
                          0.6313181932
                        ],
                        "passed_time": 0.772395983,
                        "iteration": 18,
                        "remaining_time": 39.88002418,
                        "learn": [
                          0.6268766631
                        ]
                      },
                      {
                        "test": [
                          0.6305145042
                        ],
                        "passed_time": 0.808011678,
                        "iteration": 19,
                        "remaining_time": 39.59257222,
                        "learn": [
                          0.6259447705
                        ]
                      },
                      {
                        "test": [
                          0.6300133668
                        ],
                        "passed_time": 0.8410305367,
                        "iteration": 20,
                        "remaining_time": 39.20804264,
                        "learn": [
                          0.6253509883
                        ]
                      },
                      {
                        "test": [
                          0.629090828
                        ],
                        "passed_time": 0.8977395273,
                        "iteration": 21,
                        "remaining_time": 39.90860262,
                        "learn": [
                          0.6241350866
                        ]
                      },
                      {
                        "test": [
                          0.6279647254
                        ],
                        "passed_time": 0.9325098727,
                        "iteration": 22,
                        "remaining_time": 39.61139764,
                        "learn": [
                          0.6227109312
                        ]
                      },
                      {
                        "test": [
                          0.6269202763
                        ],
                        "passed_time": 0.9655236246,
                        "iteration": 23,
                        "remaining_time": 39.2646274,
                        "learn": [
                          0.6214547299
                        ]
                      },
                      {
                        "test": [
                          0.6268113739
                        ],
                        "passed_time": 1.000310944,
                        "iteration": 24,
                        "remaining_time": 39.01212683,
                        "learn": [
                          0.6209330865
                        ]
                      },
                      {
                        "test": [
                          0.6266414272
                        ],
                        "passed_time": 1.037912086,
                        "iteration": 25,
                        "remaining_time": 38.88178352,
                        "learn": [
                          0.6202849099
                        ]
                      },
                      {
                        "test": [
                          0.6263233509
                        ],
                        "passed_time": 1.074165537,
                        "iteration": 26,
                        "remaining_time": 38.70974323,
                        "learn": [
                          0.6196774406
                        ]
                      },
                      {
                        "test": [
                          0.6251916703
                        ],
                        "passed_time": 1.117230319,
                        "iteration": 27,
                        "remaining_time": 38.7838525,
                        "learn": [
                          0.6186004706
                        ]
                      },
                      {
                        "test": [
                          0.6245077643
                        ],
                        "passed_time": 1.157293898,
                        "iteration": 28,
                        "remaining_time": 38.74939224,
                        "learn": [
                          0.6176522782
                        ]
                      },
                      {
                        "test": [
                          0.6241797602
                        ],
                        "passed_time": 1.194622537,
                        "iteration": 29,
                        "remaining_time": 38.6261287,
                        "learn": [
                          0.6172259165
                        ]
                      },
                      {
                        "test": [
                          0.6239901668
                        ],
                        "passed_time": 1.227962975,
                        "iteration": 30,
                        "remaining_time": 38.3837459,
                        "learn": [
                          0.6168018434
                        ]
                      },
                      {
                        "test": [
                          0.6237213707
                        ],
                        "passed_time": 1.262711869,
                        "iteration": 31,
                        "remaining_time": 38.19703405,
                        "learn": [
                          0.6163501
                        ]
                      },
                      {
                        "test": [
                          0.6226684733
                        ],
                        "passed_time": 1.298495626,
                        "iteration": 32,
                        "remaining_time": 38.04985667,
                        "learn": [
                          0.6147476789
                        ]
                      },
                      {
                        "test": [
                          0.6211570938
                        ],
                        "passed_time": 1.341299883,
                        "iteration": 33,
                        "remaining_time": 38.10869669,
                        "learn": [
                          0.6132255927
                        ]
                      },
                      {
                        "test": [
                          0.6203548677
                        ],
                        "passed_time": 1.376611336,
                        "iteration": 34,
                        "remaining_time": 37.95514113,
                        "learn": [
                          0.6121853047
                        ]
                      },
                      {
                        "test": [
                          0.6197165104
                        ],
                        "passed_time": 1.413671233,
                        "iteration": 35,
                        "remaining_time": 37.85497414,
                        "learn": [
                          0.6114538285
                        ]
                      },
                      {
                        "test": [
                          0.6193924692
                        ],
                        "passed_time": 1.448855189,
                        "iteration": 36,
                        "remaining_time": 37.70939317,
                        "learn": [
                          0.6109211104
                        ]
                      },
                      {
                        "test": [
                          0.6191918401
                        ],
                        "passed_time": 1.489703794,
                        "iteration": 37,
                        "remaining_time": 37.71302764,
                        "learn": [
                          0.6106699746
                        ]
                      },
                      {
                        "test": [
                          0.6178456207
                        ],
                        "passed_time": 1.523406532,
                        "iteration": 38,
                        "remaining_time": 37.53829942,
                        "learn": [
                          0.6094187114
                        ]
                      },
                      {
                        "test": [
                          0.6170706081
                        ],
                        "passed_time": 1.562187769,
                        "iteration": 39,
                        "remaining_time": 37.49250645,
                        "learn": [
                          0.6084705757
                        ]
                      },
                      {
                        "test": [
                          0.6165115421
                        ],
                        "passed_time": 1.597002191,
                        "iteration": 40,
                        "remaining_time": 37.35427075,
                        "learn": [
                          0.6075606321
                        ]
                      },
                      {
                        "test": [
                          0.6162337257
                        ],
                        "passed_time": 1.637025596,
                        "iteration": 41,
                        "remaining_time": 37.33977431,
                        "learn": [
                          0.607051269
                        ]
                      },
                      {
                        "test": [
                          0.6157411973
                        ],
                        "passed_time": 1.675874443,
                        "iteration": 42,
                        "remaining_time": 37.29794982,
                        "learn": [
                          0.606495763
                        ]
                      },
                      {
                        "test": [
                          0.6155256219
                        ],
                        "passed_time": 1.709920018,
                        "iteration": 43,
                        "remaining_time": 37.15189858,
                        "learn": [
                          0.6061093657
                        ]
                      },
                      {
                        "test": [
                          0.6146472969
                        ],
                        "passed_time": 1.744633756,
                        "iteration": 44,
                        "remaining_time": 37.02500527,
                        "learn": [
                          0.6052675221
                        ]
                      },
                      {
                        "test": [
                          0.6141127118
                        ],
                        "passed_time": 1.784075755,
                        "iteration": 45,
                        "remaining_time": 37.00017978,
                        "learn": [
                          0.6045495648
                        ]
                      },
                      {
                        "test": [
                          0.6137670393
                        ],
                        "passed_time": 1.823546092,
                        "iteration": 46,
                        "remaining_time": 36.97530693,
                        "learn": [
                          0.6039852207
                        ]
                      },
                      {
                        "test": [
                          0.6121715862
                        ],
                        "passed_time": 1.861951453,
                        "iteration": 47,
                        "remaining_time": 36.92870381,
                        "learn": [
                          0.6025315425
                        ]
                      },
                      {
                        "test": [
                          0.6119383551
                        ],
                        "passed_time": 1.912923547,
                        "iteration": 48,
                        "remaining_time": 37.12633252,
                        "learn": [
                          0.6021391028
                        ]
                      },
                      {
                        "test": [
                          0.6116574906
                        ],
                        "passed_time": 1.95077096,
                        "iteration": 49,
                        "remaining_time": 37.06464824,
                        "learn": [
                          0.6017037257
                        ]
                      },
                      {
                        "test": [
                          0.6114156853
                        ],
                        "passed_time": 1.990208107,
                        "iteration": 50,
                        "remaining_time": 37.03348026,
                        "learn": [
                          0.60134374
                        ]
                      },
                      {
                        "test": [
                          0.6113377772
                        ],
                        "passed_time": 2.028214422,
                        "iteration": 51,
                        "remaining_time": 36.97590908,
                        "learn": [
                          0.6011412196
                        ]
                      },
                      {
                        "test": [
                          0.6112363013
                        ],
                        "passed_time": 2.063275866,
                        "iteration": 52,
                        "remaining_time": 36.86645746,
                        "learn": [
                          0.6007969773
                        ]
                      },
                      {
                        "test": [
                          0.6111641973
                        ],
                        "passed_time": 2.096273062,
                        "iteration": 53,
                        "remaining_time": 36.72359845,
                        "learn": [
                          0.6006051755
                        ]
                      },
                      {
                        "test": [
                          0.6108066034
                        ],
                        "passed_time": 2.130347244,
                        "iteration": 54,
                        "remaining_time": 36.60323901,
                        "learn": [
                          0.6002201793
                        ]
                      },
                      {
                        "test": [
                          0.6103555163
                        ],
                        "passed_time": 2.165284754,
                        "iteration": 55,
                        "remaining_time": 36.50051442,
                        "learn": [
                          0.5996516455
                        ]
                      },
                      {
                        "test": [
                          0.6102638201
                        ],
                        "passed_time": 2.207749653,
                        "iteration": 56,
                        "remaining_time": 36.52470039,
                        "learn": [
                          0.5993584252
                        ]
                      },
                      {
                        "test": [
                          0.6102492995
                        ],
                        "passed_time": 2.248443252,
                        "iteration": 57,
                        "remaining_time": 36.51781971,
                        "learn": [
                          0.599123187
                        ]
                      },
                      {
                        "test": [
                          0.6099731315
                        ],
                        "passed_time": 2.281594579,
                        "iteration": 58,
                        "remaining_time": 36.38949998,
                        "learn": [
                          0.5987228355
                        ]
                      },
                      {
                        "test": [
                          0.608718339
                        ],
                        "passed_time": 2.318350868,
                        "iteration": 59,
                        "remaining_time": 36.32083027,
                        "learn": [
                          0.5972946731
                        ]
                      },
                      {
                        "test": [
                          0.6082383278
                        ],
                        "passed_time": 2.35445433,
                        "iteration": 60,
                        "remaining_time": 36.24315763,
                        "learn": [
                          0.5967717398
                        ]
                      },
                      {
                        "test": [
                          0.6081709882
                        ],
                        "passed_time": 2.389855158,
                        "iteration": 61,
                        "remaining_time": 36.15619578,
                        "learn": [
                          0.5964064346
                        ]
                      },
                      {
                        "test": [
                          0.6075352519
                        ],
                        "passed_time": 2.429365361,
                        "iteration": 62,
                        "remaining_time": 36.13198958,
                        "learn": [
                          0.5957800455
                        ]
                      },
                      {
                        "test": [
                          0.6070023768
                        ],
                        "passed_time": 2.465029176,
                        "iteration": 63,
                        "remaining_time": 36.0510517,
                        "learn": [
                          0.5951486731
                        ]
                      },
                      {
                        "test": [
                          0.6063398244
                        ],
                        "passed_time": 2.501993244,
                        "iteration": 64,
                        "remaining_time": 35.99021051,
                        "learn": [
                          0.5944574572
                        ]
                      },
                      {
                        "test": [
                          0.606106582
                        ],
                        "passed_time": 2.540781368,
                        "iteration": 65,
                        "remaining_time": 35.95590603,
                        "learn": [
                          0.5941854533
                        ]
                      },
                      {
                        "test": [
                          0.6062263411
                        ],
                        "passed_time": 2.575650292,
                        "iteration": 66,
                        "remaining_time": 35.86689138,
                        "learn": [
                          0.5939472158
                        ]
                      },
                      {
                        "test": [
                          0.6060883042
                        ],
                        "passed_time": 2.610139963,
                        "iteration": 67,
                        "remaining_time": 35.77427126,
                        "learn": [
                          0.5937174488
                        ]
                      },
                      {
                        "test": [
                          0.605960241
                        ],
                        "passed_time": 2.649193104,
                        "iteration": 68,
                        "remaining_time": 35.74490986,
                        "learn": [
                          0.5934255235
                        ]
                      },
                      {
                        "test": [
                          0.6053960384
                        ],
                        "passed_time": 2.685141301,
                        "iteration": 69,
                        "remaining_time": 35.67402015,
                        "learn": [
                          0.5927770152
                        ]
                      },
                      {
                        "test": [
                          0.6052475111
                        ],
                        "passed_time": 2.718476091,
                        "iteration": 70,
                        "remaining_time": 35.56991955,
                        "learn": [
                          0.5925723916
                        ]
                      },
                      {
                        "test": [
                          0.6046225551
                        ],
                        "passed_time": 2.75606089,
                        "iteration": 71,
                        "remaining_time": 35.52256258,
                        "learn": [
                          0.5919296696
                        ]
                      },
                      {
                        "test": [
                          0.6042599448
                        ],
                        "passed_time": 2.794397018,
                        "iteration": 72,
                        "remaining_time": 35.48501419,
                        "learn": [
                          0.5915178633
                        ]
                      },
                      {
                        "test": [
                          0.6043284625
                        ],
                        "passed_time": 2.834952003,
                        "iteration": 73,
                        "remaining_time": 35.47521019,
                        "learn": [
                          0.5913119247
                        ]
                      },
                      {
                        "test": [
                          0.6042059538
                        ],
                        "passed_time": 2.894173562,
                        "iteration": 74,
                        "remaining_time": 35.69480726,
                        "learn": [
                          0.5911756628
                        ]
                      },
                      {
                        "test": [
                          0.6039868825
                        ],
                        "passed_time": 2.930273183,
                        "iteration": 75,
                        "remaining_time": 35.6259529,
                        "learn": [
                          0.5908394008
                        ]
                      },
                      {
                        "test": [
                          0.6040172244
                        ],
                        "passed_time": 2.964353017,
                        "iteration": 76,
                        "remaining_time": 35.53373812,
                        "learn": [
                          0.5906942756
                        ]
                      },
                      {
                        "test": [
                          0.603904308
                        ],
                        "passed_time": 2.998479257,
                        "iteration": 77,
                        "remaining_time": 35.4435625,
                        "learn": [
                          0.5904524842
                        ]
                      },
                      {
                        "test": [
                          0.6034520673
                        ],
                        "passed_time": 3.03452281,
                        "iteration": 78,
                        "remaining_time": 35.37715833,
                        "learn": [
                          0.5899202334
                        ]
                      },
                      {
                        "test": [
                          0.6033463301
                        ],
                        "passed_time": 3.066266736,
                        "iteration": 79,
                        "remaining_time": 35.26206746,
                        "learn": [
                          0.5897273018
                        ]
                      },
                      {
                        "test": [
                          0.6026965138
                        ],
                        "passed_time": 3.108237475,
                        "iteration": 80,
                        "remaining_time": 35.26506469,
                        "learn": [
                          0.5889442028
                        ]
                      },
                      {
                        "test": [
                          0.6025066799
                        ],
                        "passed_time": 3.149500512,
                        "iteration": 81,
                        "remaining_time": 35.25904231,
                        "learn": [
                          0.5887663423
                        ]
                      },
                      {
                        "test": [
                          0.6024076837
                        ],
                        "passed_time": 3.184886522,
                        "iteration": 82,
                        "remaining_time": 35.18724025,
                        "learn": [
                          0.5885816411
                        ]
                      },
                      {
                        "test": [
                          0.6023477169
                        ],
                        "passed_time": 3.219297298,
                        "iteration": 83,
                        "remaining_time": 35.10567054,
                        "learn": [
                          0.5883880986
                        ]
                      },
                      {
                        "test": [
                          0.6023331187
                        ],
                        "passed_time": 3.253805012,
                        "iteration": 84,
                        "remaining_time": 35.02625396,
                        "learn": [
                          0.5881631504
                        ]
                      },
                      {
                        "test": [
                          0.6021409441
                        ],
                        "passed_time": 3.289392309,
                        "iteration": 85,
                        "remaining_time": 34.95935547,
                        "learn": [
                          0.5879181109
                        ]
                      },
                      {
                        "test": [
                          0.6020043185
                        ],
                        "passed_time": 3.326358672,
                        "iteration": 86,
                        "remaining_time": 34.90764905,
                        "learn": [
                          0.5877280046
                        ]
                      },
                      {
                        "test": [
                          0.6013472763
                        ],
                        "passed_time": 3.358176512,
                        "iteration": 87,
                        "remaining_time": 34.80292022,
                        "learn": [
                          0.5871353679
                        ]
                      },
                      {
                        "test": [
                          0.6013735674
                        ],
                        "passed_time": 3.39516821,
                        "iteration": 88,
                        "remaining_time": 34.7527892,
                        "learn": [
                          0.5869119918
                        ]
                      },
                      {
                        "test": [
                          0.6012970017
                        ],
                        "passed_time": 3.433847998,
                        "iteration": 89,
                        "remaining_time": 34.72001864,
                        "learn": [
                          0.5866371324
                        ]
                      },
                      {
                        "test": [
                          0.6009745703
                        ],
                        "passed_time": 3.474093049,
                        "iteration": 90,
                        "remaining_time": 34.70275365,
                        "learn": [
                          0.5863461934
                        ]
                      },
                      {
                        "test": [
                          0.6001259929
                        ],
                        "passed_time": 3.510167491,
                        "iteration": 91,
                        "remaining_time": 34.64382698,
                        "learn": [
                          0.5856135952
                        ]
                      },
                      {
                        "test": [
                          0.6000915843
                        ],
                        "passed_time": 3.55009597,
                        "iteration": 92,
                        "remaining_time": 34.62297897,
                        "learn": [
                          0.5854339394
                        ]
                      },
                      {
                        "test": [
                          0.6000624867
                        ],
                        "passed_time": 3.588616827,
                        "iteration": 93,
                        "remaining_time": 34.58815792,
                        "learn": [
                          0.585258169
                        ]
                      },
                      {
                        "test": [
                          0.600135534
                        ],
                        "passed_time": 3.624555573,
                        "iteration": 94,
                        "remaining_time": 34.52866098,
                        "learn": [
                          0.585098417
                        ]
                      },
                      {
                        "test": [
                          0.6001567016
                        ],
                        "passed_time": 3.661450582,
                        "iteration": 95,
                        "remaining_time": 34.47865965,
                        "learn": [
                          0.5848718653
                        ]
                      },
                      {
                        "test": [
                          0.5999427333
                        ],
                        "passed_time": 3.697654164,
                        "iteration": 96,
                        "remaining_time": 34.42249186,
                        "learn": [
                          0.584624563
                        ]
                      },
                      {
                        "test": [
                          0.5995529141
                        ],
                        "passed_time": 3.732303424,
                        "iteration": 97,
                        "remaining_time": 34.35242539,
                        "learn": [
                          0.5841696167
                        ]
                      },
                      {
                        "test": [
                          0.5994871997
                        ],
                        "passed_time": 3.779772163,
                        "iteration": 98,
                        "remaining_time": 34.39974464,
                        "learn": [
                          0.5840268608
                        ]
                      },
                      {
                        "test": [
                          0.5993566673
                        ],
                        "passed_time": 3.814974217,
                        "iteration": 99,
                        "remaining_time": 34.33476795,
                        "learn": [
                          0.5839253151
                        ]
                      },
                      {
                        "test": [
                          0.5993626461
                        ],
                        "passed_time": 3.85139912,
                        "iteration": 100,
                        "remaining_time": 34.28126543,
                        "learn": [
                          0.5838036443
                        ]
                      },
                      {
                        "test": [
                          0.5988043794
                        ],
                        "passed_time": 3.915023078,
                        "iteration": 101,
                        "remaining_time": 34.46755611,
                        "learn": [
                          0.583194656
                        ]
                      },
                      {
                        "test": [
                          0.5986854863
                        ],
                        "passed_time": 3.953255872,
                        "iteration": 102,
                        "remaining_time": 34.4278691,
                        "learn": [
                          0.5829843046
                        ]
                      },
                      {
                        "test": [
                          0.5985505719
                        ],
                        "passed_time": 4.003286376,
                        "iteration": 103,
                        "remaining_time": 34.48985185,
                        "learn": [
                          0.5828177161
                        ]
                      },
                      {
                        "test": [
                          0.5985050995
                        ],
                        "passed_time": 4.037572922,
                        "iteration": 104,
                        "remaining_time": 34.41550253,
                        "learn": [
                          0.5827071028
                        ]
                      },
                      {
                        "test": [
                          0.5978910535
                        ],
                        "passed_time": 4.076439519,
                        "iteration": 105,
                        "remaining_time": 34.38053707,
                        "learn": [
                          0.582170098
                        ]
                      },
                      {
                        "test": [
                          0.5978857956
                        ],
                        "passed_time": 4.111663367,
                        "iteration": 106,
                        "remaining_time": 34.31509707,
                        "learn": [
                          0.5820192159
                        ]
                      },
                      {
                        "test": [
                          0.5976658559
                        ],
                        "passed_time": 4.145983181,
                        "iteration": 107,
                        "remaining_time": 34.24274997,
                        "learn": [
                          0.5816555349
                        ]
                      },
                      {
                        "test": [
                          0.5977356945
                        ],
                        "passed_time": 4.181415185,
                        "iteration": 108,
                        "remaining_time": 34.18019202,
                        "learn": [
                          0.5815602205
                        ]
                      },
                      {
                        "test": [
                          0.5976805723
                        ],
                        "passed_time": 4.218804232,
                        "iteration": 109,
                        "remaining_time": 34.13396151,
                        "learn": [
                          0.5814074421
                        ]
                      },
                      {
                        "test": [
                          0.5977342497
                        ],
                        "passed_time": 4.252039778,
                        "iteration": 110,
                        "remaining_time": 34.05462489,
                        "learn": [
                          0.581336453
                        ]
                      },
                      {
                        "test": [
                          0.5975618335
                        ],
                        "passed_time": 4.286530943,
                        "iteration": 111,
                        "remaining_time": 33.98606676,
                        "learn": [
                          0.5812205728
                        ]
                      },
                      {
                        "test": [
                          0.5976268944
                        ],
                        "passed_time": 4.321210487,
                        "iteration": 112,
                        "remaining_time": 33.91959029,
                        "learn": [
                          0.5810342813
                        ]
                      },
                      {
                        "test": [
                          0.5975484486
                        ],
                        "passed_time": 4.356655116,
                        "iteration": 113,
                        "remaining_time": 33.85961783,
                        "learn": [
                          0.5808894995
                        ]
                      },
                      {
                        "test": [
                          0.5974231001
                        ],
                        "passed_time": 4.397360069,
                        "iteration": 114,
                        "remaining_time": 33.84055357,
                        "learn": [
                          0.5806929355
                        ]
                      },
                      {
                        "test": [
                          0.5971285387
                        ],
                        "passed_time": 4.438044859,
                        "iteration": 115,
                        "remaining_time": 33.82096255,
                        "learn": [
                          0.5802331822
                        ]
                      },
                      {
                        "test": [
                          0.5970235906
                        ],
                        "passed_time": 4.471547026,
                        "iteration": 116,
                        "remaining_time": 33.74680362,
                        "learn": [
                          0.5800719495
                        ]
                      },
                      {
                        "test": [
                          0.5969740929
                        ],
                        "passed_time": 4.506674613,
                        "iteration": 117,
                        "remaining_time": 33.68548312,
                        "learn": [
                          0.5798566629
                        ]
                      },
                      {
                        "test": [
                          0.5963452748
                        ],
                        "passed_time": 4.539330691,
                        "iteration": 118,
                        "remaining_time": 33.60630537,
                        "learn": [
                          0.5792740559
                        ]
                      },
                      {
                        "test": [
                          0.5963610625
                        ],
                        "passed_time": 4.573047906,
                        "iteration": 119,
                        "remaining_time": 33.53568465,
                        "learn": [
                          0.5790990901
                        ]
                      },
                      {
                        "test": [
                          0.5963136147
                        ],
                        "passed_time": 4.611236685,
                        "iteration": 120,
                        "remaining_time": 33.49815741,
                        "learn": [
                          0.5788789908
                        ]
                      },
                      {
                        "test": [
                          0.5961443602
                        ],
                        "passed_time": 4.652101988,
                        "iteration": 121,
                        "remaining_time": 33.47988152,
                        "learn": [
                          0.578483644
                        ]
                      },
                      {
                        "test": [
                          0.595942495
                        ],
                        "passed_time": 4.68660362,
                        "iteration": 122,
                        "remaining_time": 33.41586483,
                        "learn": [
                          0.5782369791
                        ]
                      },
                      {
                        "test": [
                          0.5956692772
                        ],
                        "passed_time": 4.719052882,
                        "iteration": 123,
                        "remaining_time": 33.3378252,
                        "learn": [
                          0.5779173629
                        ]
                      },
                      {
                        "test": [
                          0.59569146
                        ],
                        "passed_time": 4.75823402,
                        "iteration": 124,
                        "remaining_time": 33.30763814,
                        "learn": [
                          0.5776951286
                        ]
                      },
                      {
                        "test": [
                          0.5957175709
                        ],
                        "passed_time": 4.79305011,
                        "iteration": 125,
                        "remaining_time": 33.24703013,
                        "learn": [
                          0.5774300676
                        ]
                      },
                      {
                        "test": [
                          0.5953084434
                        ],
                        "passed_time": 4.824185524,
                        "iteration": 126,
                        "remaining_time": 33.16152726,
                        "learn": [
                          0.5770528655
                        ]
                      },
                      {
                        "test": [
                          0.5952609223
                        ],
                        "passed_time": 4.865470359,
                        "iteration": 127,
                        "remaining_time": 33.14601682,
                        "learn": [
                          0.5768093743
                        ]
                      },
                      {
                        "test": [
                          0.595203091
                        ],
                        "passed_time": 4.924891683,
                        "iteration": 128,
                        "remaining_time": 33.25256322,
                        "learn": [
                          0.57671194
                        ]
                      },
                      {
                        "test": [
                          0.5951464919
                        ],
                        "passed_time": 4.960985005,
                        "iteration": 129,
                        "remaining_time": 33.20043811,
                        "learn": [
                          0.5763840065
                        ]
                      },
                      {
                        "test": [
                          0.5950066682
                        ],
                        "passed_time": 4.995970366,
                        "iteration": 130,
                        "remaining_time": 33.141208,
                        "learn": [
                          0.5761542111
                        ]
                      },
                      {
                        "test": [
                          0.5949258276
                        ],
                        "passed_time": 5.034836719,
                        "iteration": 131,
                        "remaining_time": 33.1078657,
                        "learn": [
                          0.5759840999
                        ]
                      },
                      {
                        "test": [
                          0.5948892068
                        ],
                        "passed_time": 5.071075788,
                        "iteration": 132,
                        "remaining_time": 33.05731359,
                        "learn": [
                          0.5758132844
                        ]
                      },
                      {
                        "test": [
                          0.5948300545
                        ],
                        "passed_time": 5.106246674,
                        "iteration": 133,
                        "remaining_time": 33.00007179,
                        "learn": [
                          0.5756330437
                        ]
                      },
                      {
                        "test": [
                          0.5948429517
                        ],
                        "passed_time": 5.141469448,
                        "iteration": 134,
                        "remaining_time": 32.94348942,
                        "learn": [
                          0.57542712
                        ]
                      },
                      {
                        "test": [
                          0.5947346936
                        ],
                        "passed_time": 5.18035115,
                        "iteration": 135,
                        "remaining_time": 32.91046613,
                        "learn": [
                          0.57522403
                        ]
                      },
                      {
                        "test": [
                          0.5947667181
                        ],
                        "passed_time": 5.214224187,
                        "iteration": 136,
                        "remaining_time": 32.84580637,
                        "learn": [
                          0.5750439786
                        ]
                      },
                      {
                        "test": [
                          0.594757573
                        ],
                        "passed_time": 5.249282247,
                        "iteration": 137,
                        "remaining_time": 32.7889949,
                        "learn": [
                          0.5748285032
                        ]
                      },
                      {
                        "test": [
                          0.5943658646
                        ],
                        "passed_time": 5.287989551,
                        "iteration": 138,
                        "remaining_time": 32.75510075,
                        "learn": [
                          0.5743432091
                        ]
                      },
                      {
                        "test": [
                          0.5944760942
                        ],
                        "passed_time": 5.321865639,
                        "iteration": 139,
                        "remaining_time": 32.69146035,
                        "learn": [
                          0.5741530093
                        ]
                      },
                      {
                        "test": [
                          0.5943744363
                        ],
                        "passed_time": 5.360241047,
                        "iteration": 140,
                        "remaining_time": 32.6556529,
                        "learn": [
                          0.5739077582
                        ]
                      },
                      {
                        "test": [
                          0.5941557323
                        ],
                        "passed_time": 5.395190806,
                        "iteration": 141,
                        "remaining_time": 32.59911065,
                        "learn": [
                          0.5735692531
                        ]
                      },
                      {
                        "test": [
                          0.5941441803
                        ],
                        "passed_time": 5.432036059,
                        "iteration": 142,
                        "remaining_time": 32.55423009,
                        "learn": [
                          0.5733134654
                        ]
                      },
                      {
                        "test": [
                          0.594205188
                        ],
                        "passed_time": 5.466220883,
                        "iteration": 143,
                        "remaining_time": 32.49364636,
                        "learn": [
                          0.5730691984
                        ]
                      },
                      {
                        "test": [
                          0.5942592057
                        ],
                        "passed_time": 5.502371716,
                        "iteration": 144,
                        "remaining_time": 32.44501943,
                        "learn": [
                          0.5728950381
                        ]
                      },
                      {
                        "test": [
                          0.5942157783
                        ],
                        "passed_time": 5.537338792,
                        "iteration": 145,
                        "remaining_time": 32.38963923,
                        "learn": [
                          0.5725741511
                        ]
                      },
                      {
                        "test": [
                          0.5942358198
                        ],
                        "passed_time": 5.57179228,
                        "iteration": 146,
                        "remaining_time": 32.33155656,
                        "learn": [
                          0.5722808805
                        ]
                      },
                      {
                        "test": [
                          0.5942028682
                        ],
                        "passed_time": 5.606638285,
                        "iteration": 147,
                        "remaining_time": 32.27605283,
                        "learn": [
                          0.5720804705
                        ]
                      }
                    ]
                  },
                  "total_iterations": 1000,
                  "passed_iterations": 147
                },
                "path": "catboost_info",
                "name": "catboost_info"
              }
            },
            "_view_module": "catboost-widget",
            "_model_module_version": "^1.0.0",
            "_view_count": null,
            "_view_module_version": "^1.0.0",
            "layout": "IPY_MODEL_50defee9854e4d06bbbb2f998f948cec",
            "_model_module": "catboost-widget"
          }
        },
        "fac9318d3e664dd7b4c444566fc278bc": {
          "model_module": "catboost-widget",
          "model_name": "CatboostWidgetModel",
          "state": {
            "_view_name": "CatboostWidgetView",
            "_dom_classes": [],
            "_model_name": "CatboostWidgetModel",
            "data": {
              "catboost_info": {
                "content": {
                  "data": {
                    "meta": {
                      "name": "experiment",
                      "parameters": "",
                      "test_metrics": [
                        {
                          "best_value": "Min",
                          "name": "Logloss"
                        }
                      ],
                      "learn_sets": [
                        "learn"
                      ],
                      "launch_mode": "Train",
                      "learn_metrics": [
                        {
                          "best_value": "Min",
                          "name": "Logloss"
                        }
                      ],
                      "iteration_count": 1000,
                      "test_sets": [
                        "test"
                      ]
                    },
                    "iterations": [
                      {
                        "test": [
                          0.6751103072
                        ],
                        "passed_time": 0.03062374248,
                        "iteration": 0,
                        "remaining_time": 30.59311874,
                        "learn": [
                          0.6754394136
                        ]
                      },
                      {
                        "test": [
                          0.6607935491
                        ],
                        "passed_time": 0.07332633911,
                        "iteration": 1,
                        "remaining_time": 36.58984322,
                        "learn": [
                          0.6613844079
                        ]
                      },
                      {
                        "test": [
                          0.649290416
                        ],
                        "passed_time": 0.1066172731,
                        "iteration": 2,
                        "remaining_time": 35.43247375,
                        "learn": [
                          0.6502371179
                        ]
                      },
                      {
                        "test": [
                          0.639422458
                        ],
                        "passed_time": 0.14635625,
                        "iteration": 3,
                        "remaining_time": 36.44270624,
                        "learn": [
                          0.6407525889
                        ]
                      },
                      {
                        "test": [
                          0.6312792379
                        ],
                        "passed_time": 0.1757472552,
                        "iteration": 4,
                        "remaining_time": 34.97370379,
                        "learn": [
                          0.6329813234
                        ]
                      },
                      {
                        "test": [
                          0.6250120993
                        ],
                        "passed_time": 0.2139540157,
                        "iteration": 5,
                        "remaining_time": 35.4450486,
                        "learn": [
                          0.626919655
                        ]
                      },
                      {
                        "test": [
                          0.619552663
                        ],
                        "passed_time": 0.2474120201,
                        "iteration": 6,
                        "remaining_time": 35.09716227,
                        "learn": [
                          0.6217212494
                        ]
                      },
                      {
                        "test": [
                          0.6152153147
                        ],
                        "passed_time": 0.2803924613,
                        "iteration": 7,
                        "remaining_time": 34.7686652,
                        "learn": [
                          0.6175372319
                        ]
                      },
                      {
                        "test": [
                          0.6112627303
                        ],
                        "passed_time": 0.3171477132,
                        "iteration": 8,
                        "remaining_time": 34.92148709,
                        "learn": [
                          0.613859157
                        ]
                      },
                      {
                        "test": [
                          0.6081331636
                        ],
                        "passed_time": 0.3542826071,
                        "iteration": 9,
                        "remaining_time": 35.0739781,
                        "learn": [
                          0.610832781
                        ]
                      },
                      {
                        "test": [
                          0.6057844573
                        ],
                        "passed_time": 0.3949128387,
                        "iteration": 10,
                        "remaining_time": 35.50625432,
                        "learn": [
                          0.6086434531
                        ]
                      },
                      {
                        "test": [
                          0.6036256364
                        ],
                        "passed_time": 0.4325232118,
                        "iteration": 11,
                        "remaining_time": 35.61107777,
                        "learn": [
                          0.606537279
                        ]
                      },
                      {
                        "test": [
                          0.6014200127
                        ],
                        "passed_time": 0.4617044924,
                        "iteration": 12,
                        "remaining_time": 35.05402569,
                        "learn": [
                          0.6045639501
                        ]
                      },
                      {
                        "test": [
                          0.6000142918
                        ],
                        "passed_time": 0.5031917711,
                        "iteration": 13,
                        "remaining_time": 35.43907759,
                        "learn": [
                          0.603115761
                        ]
                      },
                      {
                        "test": [
                          0.5986856845
                        ],
                        "passed_time": 0.534487637,
                        "iteration": 14,
                        "remaining_time": 35.09802149,
                        "learn": [
                          0.6018191552
                        ]
                      },
                      {
                        "test": [
                          0.5972712291
                        ],
                        "passed_time": 0.5646362783,
                        "iteration": 15,
                        "remaining_time": 34.72513111,
                        "learn": [
                          0.6005172028
                        ]
                      },
                      {
                        "test": [
                          0.5959980223
                        ],
                        "passed_time": 0.5956218504,
                        "iteration": 16,
                        "remaining_time": 34.44095759,
                        "learn": [
                          0.5993697039
                        ]
                      },
                      {
                        "test": [
                          0.5950410951
                        ],
                        "passed_time": 0.629351552,
                        "iteration": 17,
                        "remaining_time": 34.33462356,
                        "learn": [
                          0.5983974653
                        ]
                      },
                      {
                        "test": [
                          0.594506289
                        ],
                        "passed_time": 0.6732177136,
                        "iteration": 18,
                        "remaining_time": 34.75929353,
                        "learn": [
                          0.5977521209
                        ]
                      },
                      {
                        "test": [
                          0.5938811394
                        ],
                        "passed_time": 0.7111266329,
                        "iteration": 19,
                        "remaining_time": 34.84520501,
                        "learn": [
                          0.5970720741
                        ]
                      },
                      {
                        "test": [
                          0.5932593819
                        ],
                        "passed_time": 0.7452187812,
                        "iteration": 20,
                        "remaining_time": 34.74138985,
                        "learn": [
                          0.5963131562
                        ]
                      },
                      {
                        "test": [
                          0.5922151719
                        ],
                        "passed_time": 0.7794719761,
                        "iteration": 21,
                        "remaining_time": 34.65107239,
                        "learn": [
                          0.5954002301
                        ]
                      },
                      {
                        "test": [
                          0.5915698925
                        ],
                        "passed_time": 0.821838865,
                        "iteration": 22,
                        "remaining_time": 34.9102857,
                        "learn": [
                          0.5947532608
                        ]
                      },
                      {
                        "test": [
                          0.5912615383
                        ],
                        "passed_time": 0.855001401,
                        "iteration": 23,
                        "remaining_time": 34.77005698,
                        "learn": [
                          0.5942862804
                        ]
                      },
                      {
                        "test": [
                          0.5908472598
                        ],
                        "passed_time": 0.8925206337,
                        "iteration": 24,
                        "remaining_time": 34.80830472,
                        "learn": [
                          0.5936818277
                        ]
                      },
                      {
                        "test": [
                          0.5904375343
                        ],
                        "passed_time": 0.9254303448,
                        "iteration": 25,
                        "remaining_time": 34.66804445,
                        "learn": [
                          0.5932633969
                        ]
                      },
                      {
                        "test": [
                          0.5901061178
                        ],
                        "passed_time": 0.9605714855,
                        "iteration": 26,
                        "remaining_time": 34.6161502,
                        "learn": [
                          0.5929483557
                        ]
                      },
                      {
                        "test": [
                          0.5898902882
                        ],
                        "passed_time": 0.9942590958,
                        "iteration": 27,
                        "remaining_time": 34.51499433,
                        "learn": [
                          0.5925906191
                        ]
                      },
                      {
                        "test": [
                          0.5896201849
                        ],
                        "passed_time": 1.028160367,
                        "iteration": 28,
                        "remaining_time": 34.42564538,
                        "learn": [
                          0.5922411678
                        ]
                      },
                      {
                        "test": [
                          0.5891584803
                        ],
                        "passed_time": 1.063318632,
                        "iteration": 29,
                        "remaining_time": 34.38063576,
                        "learn": [
                          0.5917137801
                        ]
                      },
                      {
                        "test": [
                          0.5889915138
                        ],
                        "passed_time": 1.102873812,
                        "iteration": 30,
                        "remaining_time": 34.47370076,
                        "learn": [
                          0.5914846401
                        ]
                      },
                      {
                        "test": [
                          0.5887984331
                        ],
                        "passed_time": 1.139712805,
                        "iteration": 31,
                        "remaining_time": 34.47631237,
                        "learn": [
                          0.5911504563
                        ]
                      },
                      {
                        "test": [
                          0.5886935865
                        ],
                        "passed_time": 1.172257021,
                        "iteration": 32,
                        "remaining_time": 34.35068301,
                        "learn": [
                          0.5909910682
                        ]
                      },
                      {
                        "test": [
                          0.5885194911
                        ],
                        "passed_time": 1.208489155,
                        "iteration": 33,
                        "remaining_time": 34.33530951,
                        "learn": [
                          0.5907512582
                        ]
                      },
                      {
                        "test": [
                          0.5883066682
                        ],
                        "passed_time": 1.241258807,
                        "iteration": 34,
                        "remaining_time": 34.22327854,
                        "learn": [
                          0.5905545148
                        ]
                      },
                      {
                        "test": [
                          0.5876416335
                        ],
                        "passed_time": 1.273696286,
                        "iteration": 35,
                        "remaining_time": 34.1067561,
                        "learn": [
                          0.5899015281
                        ]
                      },
                      {
                        "test": [
                          0.5873475499
                        ],
                        "passed_time": 1.313619581,
                        "iteration": 36,
                        "remaining_time": 34.18961232,
                        "learn": [
                          0.5895129854
                        ]
                      },
                      {
                        "test": [
                          0.5872029556
                        ],
                        "passed_time": 1.34721039,
                        "iteration": 37,
                        "remaining_time": 34.1056946,
                        "learn": [
                          0.589249912
                        ]
                      },
                      {
                        "test": [
                          0.5871086231
                        ],
                        "passed_time": 1.383904282,
                        "iteration": 38,
                        "remaining_time": 34.1008209,
                        "learn": [
                          0.5890953172
                        ]
                      },
                      {
                        "test": [
                          0.5869180323
                        ],
                        "passed_time": 1.416658058,
                        "iteration": 39,
                        "remaining_time": 33.9997934,
                        "learn": [
                          0.588786189
                        ]
                      },
                      {
                        "test": [
                          0.5863491886
                        ],
                        "passed_time": 1.445674256,
                        "iteration": 40,
                        "remaining_time": 33.81467346,
                        "learn": [
                          0.5883095619
                        ]
                      },
                      {
                        "test": [
                          0.5862064496
                        ],
                        "passed_time": 1.478197018,
                        "iteration": 41,
                        "remaining_time": 33.71697007,
                        "learn": [
                          0.588106095
                        ]
                      },
                      {
                        "test": [
                          0.5860476892
                        ],
                        "passed_time": 1.510052442,
                        "iteration": 42,
                        "remaining_time": 33.60744622,
                        "learn": [
                          0.5878589803
                        ]
                      },
                      {
                        "test": [
                          0.5858550279
                        ],
                        "passed_time": 1.540994117,
                        "iteration": 43,
                        "remaining_time": 33.48159946,
                        "learn": [
                          0.5876631477
                        ]
                      },
                      {
                        "test": [
                          0.5857690553
                        ],
                        "passed_time": 1.577965168,
                        "iteration": 44,
                        "remaining_time": 33.48792745,
                        "learn": [
                          0.5874534097
                        ]
                      },
                      {
                        "test": [
                          0.5856927796
                        ],
                        "passed_time": 1.611304844,
                        "iteration": 45,
                        "remaining_time": 33.41706132,
                        "learn": [
                          0.5872368056
                        ]
                      },
                      {
                        "test": [
                          0.5856319973
                        ],
                        "passed_time": 1.648751364,
                        "iteration": 46,
                        "remaining_time": 33.4310649,
                        "learn": [
                          0.5870766463
                        ]
                      },
                      {
                        "test": [
                          0.5855807732
                        ],
                        "passed_time": 1.682806674,
                        "iteration": 47,
                        "remaining_time": 33.3756657,
                        "learn": [
                          0.5869317322
                        ]
                      },
                      {
                        "test": [
                          0.585448052
                        ],
                        "passed_time": 1.720081213,
                        "iteration": 48,
                        "remaining_time": 33.38361702,
                        "learn": [
                          0.5866377184
                        ]
                      },
                      {
                        "test": [
                          0.5854376286
                        ],
                        "passed_time": 1.756227794,
                        "iteration": 49,
                        "remaining_time": 33.36832809,
                        "learn": [
                          0.5864714702
                        ]
                      },
                      {
                        "test": [
                          0.585341296
                        ],
                        "passed_time": 1.794910881,
                        "iteration": 50,
                        "remaining_time": 33.39942012,
                        "learn": [
                          0.5862536845
                        ]
                      },
                      {
                        "test": [
                          0.5851414162
                        ],
                        "passed_time": 1.828801138,
                        "iteration": 51,
                        "remaining_time": 33.34045152,
                        "learn": [
                          0.5860437814
                        ]
                      },
                      {
                        "test": [
                          0.5851022355
                        ],
                        "passed_time": 1.861667705,
                        "iteration": 52,
                        "remaining_time": 33.26413805,
                        "learn": [
                          0.5858874789
                        ]
                      },
                      {
                        "test": [
                          0.5848332347
                        ],
                        "passed_time": 1.897607334,
                        "iteration": 53,
                        "remaining_time": 33.24326922,
                        "learn": [
                          0.5855496147
                        ]
                      },
                      {
                        "test": [
                          0.584718706
                        ],
                        "passed_time": 1.935554701,
                        "iteration": 54,
                        "remaining_time": 33.25634895,
                        "learn": [
                          0.5853591287
                        ]
                      },
                      {
                        "test": [
                          0.5844426111
                        ],
                        "passed_time": 1.979025479,
                        "iteration": 55,
                        "remaining_time": 33.36071522,
                        "learn": [
                          0.5850625551
                        ]
                      },
                      {
                        "test": [
                          0.5844157673
                        ],
                        "passed_time": 2.010584471,
                        "iteration": 56,
                        "remaining_time": 33.2628273,
                        "learn": [
                          0.5849041141
                        ]
                      },
                      {
                        "test": [
                          0.5843881708
                        ],
                        "passed_time": 2.04384508,
                        "iteration": 57,
                        "remaining_time": 33.19486319,
                        "learn": [
                          0.5848058498
                        ]
                      },
                      {
                        "test": [
                          0.5842778288
                        ],
                        "passed_time": 2.076767366,
                        "iteration": 58,
                        "remaining_time": 33.12267952,
                        "learn": [
                          0.5846989769
                        ]
                      },
                      {
                        "test": [
                          0.583916905
                        ],
                        "passed_time": 2.109221427,
                        "iteration": 59,
                        "remaining_time": 33.04446903,
                        "learn": [
                          0.5844040722
                        ]
                      },
                      {
                        "test": [
                          0.5839633167
                        ],
                        "passed_time": 2.142840229,
                        "iteration": 60,
                        "remaining_time": 32.98568812,
                        "learn": [
                          0.584332977
                        ]
                      },
                      {
                        "test": [
                          0.5839490579
                        ],
                        "passed_time": 2.177206577,
                        "iteration": 61,
                        "remaining_time": 32.93902853,
                        "learn": [
                          0.5841529465
                        ]
                      },
                      {
                        "test": [
                          0.5836923498
                        ],
                        "passed_time": 2.214542187,
                        "iteration": 62,
                        "remaining_time": 32.9369211,
                        "learn": [
                          0.5839260986
                        ]
                      },
                      {
                        "test": [
                          0.5837471802
                        ],
                        "passed_time": 2.247852513,
                        "iteration": 63,
                        "remaining_time": 32.874843,
                        "learn": [
                          0.583756969
                        ]
                      },
                      {
                        "test": [
                          0.5837825048
                        ],
                        "passed_time": 2.280659092,
                        "iteration": 64,
                        "remaining_time": 32.80640386,
                        "learn": [
                          0.5836282731
                        ]
                      },
                      {
                        "test": [
                          0.5836371742
                        ],
                        "passed_time": 2.313751318,
                        "iteration": 65,
                        "remaining_time": 32.74308683,
                        "learn": [
                          0.5834407711
                        ]
                      },
                      {
                        "test": [
                          0.5836134702
                        ],
                        "passed_time": 2.346447856,
                        "iteration": 66,
                        "remaining_time": 32.67516194,
                        "learn": [
                          0.5833488194
                        ]
                      },
                      {
                        "test": [
                          0.5834638083
                        ],
                        "passed_time": 2.385617599,
                        "iteration": 67,
                        "remaining_time": 32.69699415,
                        "learn": [
                          0.5831557171
                        ]
                      },
                      {
                        "test": [
                          0.5834469705
                        ],
                        "passed_time": 2.418567698,
                        "iteration": 68,
                        "remaining_time": 32.63313807,
                        "learn": [
                          0.5829868981
                        ]
                      },
                      {
                        "test": [
                          0.5833467808
                        ],
                        "passed_time": 2.452270654,
                        "iteration": 69,
                        "remaining_time": 32.58016726,
                        "learn": [
                          0.5828203046
                        ]
                      },
                      {
                        "test": [
                          0.5831717832
                        ],
                        "passed_time": 2.489621418,
                        "iteration": 70,
                        "remaining_time": 32.57546898,
                        "learn": [
                          0.5826857154
                        ]
                      },
                      {
                        "test": [
                          0.5830701977
                        ],
                        "passed_time": 2.522870562,
                        "iteration": 71,
                        "remaining_time": 32.51699835,
                        "learn": [
                          0.5825334877
                        ]
                      },
                      {
                        "test": [
                          0.5828618891
                        ],
                        "passed_time": 2.555863599,
                        "iteration": 72,
                        "remaining_time": 32.45596652,
                        "learn": [
                          0.5823192098
                        ]
                      },
                      {
                        "test": [
                          0.5827922393
                        ],
                        "passed_time": 2.592651241,
                        "iteration": 73,
                        "remaining_time": 32.44317634,
                        "learn": [
                          0.5821955709
                        ]
                      },
                      {
                        "test": [
                          0.5826873151
                        ],
                        "passed_time": 2.619994566,
                        "iteration": 74,
                        "remaining_time": 32.31326631,
                        "learn": [
                          0.5820902393
                        ]
                      },
                      {
                        "test": [
                          0.5826251376
                        ],
                        "passed_time": 2.652877513,
                        "iteration": 75,
                        "remaining_time": 32.25340555,
                        "learn": [
                          0.5818827129
                        ]
                      },
                      {
                        "test": [
                          0.58250253
                        ],
                        "passed_time": 2.688900479,
                        "iteration": 76,
                        "remaining_time": 32.23188496,
                        "learn": [
                          0.5817538673
                        ]
                      },
                      {
                        "test": [
                          0.5824943556
                        ],
                        "passed_time": 2.721989352,
                        "iteration": 77,
                        "remaining_time": 32.17531003,
                        "learn": [
                          0.5816098738
                        ]
                      },
                      {
                        "test": [
                          0.5823984611
                        ],
                        "passed_time": 2.756369777,
                        "iteration": 78,
                        "remaining_time": 32.1343869,
                        "learn": [
                          0.5815177006
                        ]
                      },
                      {
                        "test": [
                          0.5822957833
                        ],
                        "passed_time": 2.81097556,
                        "iteration": 79,
                        "remaining_time": 32.32621894,
                        "learn": [
                          0.5813397625
                        ]
                      },
                      {
                        "test": [
                          0.5822681856
                        ],
                        "passed_time": 2.844375151,
                        "iteration": 80,
                        "remaining_time": 32.27136745,
                        "learn": [
                          0.5812382091
                        ]
                      },
                      {
                        "test": [
                          0.582316013
                        ],
                        "passed_time": 2.877561124,
                        "iteration": 81,
                        "remaining_time": 32.2146477,
                        "learn": [
                          0.5811079771
                        ]
                      },
                      {
                        "test": [
                          0.5823060567
                        ],
                        "passed_time": 2.928983577,
                        "iteration": 82,
                        "remaining_time": 32.35997518,
                        "learn": [
                          0.5809630431
                        ]
                      },
                      {
                        "test": [
                          0.5823179231
                        ],
                        "passed_time": 2.96575838,
                        "iteration": 83,
                        "remaining_time": 32.340889,
                        "learn": [
                          0.5808420114
                        ]
                      },
                      {
                        "test": [
                          0.582279902
                        ],
                        "passed_time": 2.996480772,
                        "iteration": 84,
                        "remaining_time": 32.2562342,
                        "learn": [
                          0.5807323973
                        ]
                      },
                      {
                        "test": [
                          0.5821851714
                        ],
                        "passed_time": 3.035402219,
                        "iteration": 85,
                        "remaining_time": 32.25997242,
                        "learn": [
                          0.5805718915
                        ]
                      },
                      {
                        "test": [
                          0.5821565846
                        ],
                        "passed_time": 3.072572391,
                        "iteration": 86,
                        "remaining_time": 32.24435164,
                        "learn": [
                          0.5804609477
                        ]
                      },
                      {
                        "test": [
                          0.5820383884
                        ],
                        "passed_time": 3.109952373,
                        "iteration": 87,
                        "remaining_time": 32.2304155,
                        "learn": [
                          0.5802648463
                        ]
                      },
                      {
                        "test": [
                          0.5820833457
                        ],
                        "passed_time": 3.141110398,
                        "iteration": 88,
                        "remaining_time": 32.15226486,
                        "learn": [
                          0.5801193554
                        ]
                      },
                      {
                        "test": [
                          0.5820509484
                        ],
                        "passed_time": 3.175679925,
                        "iteration": 89,
                        "remaining_time": 32.10965257,
                        "learn": [
                          0.5799751669
                        ]
                      },
                      {
                        "test": [
                          0.5820885905
                        ],
                        "passed_time": 3.209177658,
                        "iteration": 90,
                        "remaining_time": 32.05651089,
                        "learn": [
                          0.5798824392
                        ]
                      },
                      {
                        "test": [
                          0.5819765704
                        ],
                        "passed_time": 3.247551271,
                        "iteration": 91,
                        "remaining_time": 32.05191906,
                        "learn": [
                          0.5797834813
                        ]
                      },
                      {
                        "test": [
                          0.5818903201
                        ],
                        "passed_time": 3.281983899,
                        "iteration": 92,
                        "remaining_time": 32.00816556,
                        "learn": [
                          0.5796676424
                        ]
                      },
                      {
                        "test": [
                          0.5818379728
                        ],
                        "passed_time": 3.317360437,
                        "iteration": 93,
                        "remaining_time": 31.97370804,
                        "learn": [
                          0.5794989012
                        ]
                      },
                      {
                        "test": [
                          0.5818612869
                        ],
                        "passed_time": 3.350411624,
                        "iteration": 94,
                        "remaining_time": 31.91707916,
                        "learn": [
                          0.5794376387
                        ]
                      },
                      {
                        "test": [
                          0.5818547013
                        ],
                        "passed_time": 3.384506705,
                        "iteration": 95,
                        "remaining_time": 31.87077147,
                        "learn": [
                          0.5793525343
                        ]
                      },
                      {
                        "test": [
                          0.5817337715
                        ],
                        "passed_time": 3.423914713,
                        "iteration": 96,
                        "remaining_time": 31.87417512,
                        "learn": [
                          0.5791791834
                        ]
                      },
                      {
                        "test": [
                          0.5816526805
                        ],
                        "passed_time": 3.45937708,
                        "iteration": 97,
                        "remaining_time": 31.84038904,
                        "learn": [
                          0.5790548064
                        ]
                      },
                      {
                        "test": [
                          0.5816516877
                        ],
                        "passed_time": 3.493119492,
                        "iteration": 98,
                        "remaining_time": 31.79091578,
                        "learn": [
                          0.5789241025
                        ]
                      },
                      {
                        "test": [
                          0.581536689
                        ],
                        "passed_time": 3.526529454,
                        "iteration": 99,
                        "remaining_time": 31.73876509,
                        "learn": [
                          0.5786894733
                        ]
                      },
                      {
                        "test": [
                          0.5815359656
                        ],
                        "passed_time": 3.560450189,
                        "iteration": 100,
                        "remaining_time": 31.69153188,
                        "learn": [
                          0.57853408
                        ]
                      },
                      {
                        "test": [
                          0.581562622
                        ],
                        "passed_time": 3.592620083,
                        "iteration": 101,
                        "remaining_time": 31.62914544,
                        "learn": [
                          0.5784595082
                        ]
                      },
                      {
                        "test": [
                          0.5816288562
                        ],
                        "passed_time": 3.626237143,
                        "iteration": 102,
                        "remaining_time": 31.57994871,
                        "learn": [
                          0.5783525768
                        ]
                      },
                      {
                        "test": [
                          0.5815342425
                        ],
                        "passed_time": 3.671936713,
                        "iteration": 103,
                        "remaining_time": 31.63514707,
                        "learn": [
                          0.5781852306
                        ]
                      },
                      {
                        "test": [
                          0.5815053018
                        ],
                        "passed_time": 3.704470518,
                        "iteration": 104,
                        "remaining_time": 31.57620108,
                        "learn": [
                          0.5780617906
                        ]
                      },
                      {
                        "test": [
                          0.5814254906
                        ],
                        "passed_time": 3.738479199,
                        "iteration": 105,
                        "remaining_time": 31.53019249,
                        "learn": [
                          0.5779125742
                        ]
                      },
                      {
                        "test": [
                          0.5813988868
                        ],
                        "passed_time": 3.772044155,
                        "iteration": 106,
                        "remaining_time": 31.48070496,
                        "learn": [
                          0.5777784233
                        ]
                      },
                      {
                        "test": [
                          0.5812532718
                        ],
                        "passed_time": 3.812719202,
                        "iteration": 107,
                        "remaining_time": 31.49023637,
                        "learn": [
                          0.5775298887
                        ]
                      },
                      {
                        "test": [
                          0.5811944229
                        ],
                        "passed_time": 3.846215677,
                        "iteration": 108,
                        "remaining_time": 31.44016668,
                        "learn": [
                          0.5774201905
                        ]
                      },
                      {
                        "test": [
                          0.5811171938
                        ],
                        "passed_time": 3.883394617,
                        "iteration": 109,
                        "remaining_time": 31.42019281,
                        "learn": [
                          0.5772601244
                        ]
                      },
                      {
                        "test": [
                          0.5811467069
                        ],
                        "passed_time": 3.931433032,
                        "iteration": 110,
                        "remaining_time": 31.48688257,
                        "learn": [
                          0.5771056774
                        ]
                      },
                      {
                        "test": [
                          0.5810967236
                        ],
                        "passed_time": 3.964117923,
                        "iteration": 111,
                        "remaining_time": 31.42979211,
                        "learn": [
                          0.5770123149
                        ]
                      },
                      {
                        "test": [
                          0.5810313456
                        ],
                        "passed_time": 3.999189328,
                        "iteration": 112,
                        "remaining_time": 31.39186667,
                        "learn": [
                          0.576849561
                        ]
                      },
                      {
                        "test": [
                          0.5808034913
                        ],
                        "passed_time": 4.035673299,
                        "iteration": 113,
                        "remaining_time": 31.36496967,
                        "learn": [
                          0.5766433339
                        ]
                      },
                      {
                        "test": [
                          0.5807072395
                        ],
                        "passed_time": 4.070181715,
                        "iteration": 114,
                        "remaining_time": 31.32270277,
                        "learn": [
                          0.5765134029
                        ]
                      },
                      {
                        "test": [
                          0.5807482151
                        ],
                        "passed_time": 4.106764493,
                        "iteration": 115,
                        "remaining_time": 31.29637769,
                        "learn": [
                          0.5764057371
                        ]
                      },
                      {
                        "test": [
                          0.5807339266
                        ],
                        "passed_time": 4.140783483,
                        "iteration": 116,
                        "remaining_time": 31.25052834,
                        "learn": [
                          0.5763310418
                        ]
                      },
                      {
                        "test": [
                          0.5807503717
                        ],
                        "passed_time": 4.175339175,
                        "iteration": 117,
                        "remaining_time": 31.20889112,
                        "learn": [
                          0.5761651519
                        ]
                      },
                      {
                        "test": [
                          0.5806808753
                        ],
                        "passed_time": 4.208642756,
                        "iteration": 118,
                        "remaining_time": 31.15810309,
                        "learn": [
                          0.5760322604
                        ]
                      },
                      {
                        "test": [
                          0.5806621196
                        ],
                        "passed_time": 4.241873485,
                        "iteration": 119,
                        "remaining_time": 31.10707222,
                        "learn": [
                          0.5759470875
                        ]
                      },
                      {
                        "test": [
                          0.5806592818
                        ],
                        "passed_time": 4.275650512,
                        "iteration": 120,
                        "remaining_time": 31.06030413,
                        "learn": [
                          0.5758652875
                        ]
                      },
                      {
                        "test": [
                          0.5806784803
                        ],
                        "passed_time": 4.318962294,
                        "iteration": 121,
                        "remaining_time": 31.08236799,
                        "learn": [
                          0.5757435594
                        ]
                      },
                      {
                        "test": [
                          0.5805768171
                        ],
                        "passed_time": 4.357270353,
                        "iteration": 122,
                        "remaining_time": 31.06769186,
                        "learn": [
                          0.5755976753
                        ]
                      },
                      {
                        "test": [
                          0.5804168859
                        ],
                        "passed_time": 4.396503364,
                        "iteration": 123,
                        "remaining_time": 31.05916892,
                        "learn": [
                          0.5754797634
                        ]
                      },
                      {
                        "test": [
                          0.5803898218
                        ],
                        "passed_time": 4.429403655,
                        "iteration": 124,
                        "remaining_time": 31.00582559,
                        "learn": [
                          0.575349738
                        ]
                      },
                      {
                        "test": [
                          0.5803986954
                        ],
                        "passed_time": 4.461995934,
                        "iteration": 125,
                        "remaining_time": 30.95067021,
                        "learn": [
                          0.57519057
                        ]
                      },
                      {
                        "test": [
                          0.5804047893
                        ],
                        "passed_time": 4.493931262,
                        "iteration": 126,
                        "remaining_time": 30.89135427,
                        "learn": [
                          0.575125233
                        ]
                      },
                      {
                        "test": [
                          0.5803506791
                        ],
                        "passed_time": 4.531317511,
                        "iteration": 127,
                        "remaining_time": 30.86960054,
                        "learn": [
                          0.5750156035
                        ]
                      },
                      {
                        "test": [
                          0.5802854588
                        ],
                        "passed_time": 4.564175909,
                        "iteration": 128,
                        "remaining_time": 30.81703269,
                        "learn": [
                          0.5748950006
                        ]
                      },
                      {
                        "test": [
                          0.5802178151
                        ],
                        "passed_time": 4.594469634,
                        "iteration": 129,
                        "remaining_time": 30.74760447,
                        "learn": [
                          0.574683538
                        ]
                      },
                      {
                        "test": [
                          0.5800996918
                        ],
                        "passed_time": 4.628018503,
                        "iteration": 130,
                        "remaining_time": 30.70036701,
                        "learn": [
                          0.5745421469
                        ]
                      },
                      {
                        "test": [
                          0.5800248782
                        ],
                        "passed_time": 4.662735818,
                        "iteration": 131,
                        "remaining_time": 30.66102038,
                        "learn": [
                          0.5743741962
                        ]
                      },
                      {
                        "test": [
                          0.5800772918
                        ],
                        "passed_time": 4.701992547,
                        "iteration": 132,
                        "remaining_time": 30.65133487,
                        "learn": [
                          0.5742668278
                        ]
                      },
                      {
                        "test": [
                          0.5800729472
                        ],
                        "passed_time": 4.740851817,
                        "iteration": 133,
                        "remaining_time": 30.63863935,
                        "learn": [
                          0.5741913315
                        ]
                      },
                      {
                        "test": [
                          0.5799789365
                        ],
                        "passed_time": 4.774024897,
                        "iteration": 134,
                        "remaining_time": 30.58912249,
                        "learn": [
                          0.5740251837
                        ]
                      },
                      {
                        "test": [
                          0.5799428958
                        ],
                        "passed_time": 4.817113941,
                        "iteration": 135,
                        "remaining_time": 30.60284151,
                        "learn": [
                          0.5739187809
                        ]
                      },
                      {
                        "test": [
                          0.5799271102
                        ],
                        "passed_time": 4.849921493,
                        "iteration": 136,
                        "remaining_time": 30.55096532,
                        "learn": [
                          0.5737419759
                        ]
                      },
                      {
                        "test": [
                          0.5799801648
                        ],
                        "passed_time": 4.885284348,
                        "iteration": 137,
                        "remaining_time": 30.51532687,
                        "learn": [
                          0.573599076
                        ]
                      },
                      {
                        "test": [
                          0.5798893335
                        ],
                        "passed_time": 4.924915552,
                        "iteration": 138,
                        "remaining_time": 30.50613158,
                        "learn": [
                          0.5734044474
                        ]
                      },
                      {
                        "test": [
                          0.5799061507
                        ],
                        "passed_time": 4.969339873,
                        "iteration": 139,
                        "remaining_time": 30.52594494,
                        "learn": [
                          0.5732344922
                        ]
                      },
                      {
                        "test": [
                          0.5799290394
                        ],
                        "passed_time": 5.003581789,
                        "iteration": 140,
                        "remaining_time": 30.48281388,
                        "learn": [
                          0.5730381776
                        ]
                      },
                      {
                        "test": [
                          0.5800033244
                        ],
                        "passed_time": 5.045364275,
                        "iteration": 141,
                        "remaining_time": 30.48537005,
                        "learn": [
                          0.5728675813
                        ]
                      },
                      {
                        "test": [
                          0.579820741
                        ],
                        "passed_time": 5.077943666,
                        "iteration": 142,
                        "remaining_time": 30.4321519,
                        "learn": [
                          0.5727121426
                        ]
                      },
                      {
                        "test": [
                          0.5798479325
                        ],
                        "passed_time": 5.111628334,
                        "iteration": 143,
                        "remaining_time": 30.38579065,
                        "learn": [
                          0.5726021407
                        ]
                      },
                      {
                        "test": [
                          0.5799073149
                        ],
                        "passed_time": 5.146507667,
                        "iteration": 144,
                        "remaining_time": 30.34664866,
                        "learn": [
                          0.572494034
                        ]
                      },
                      {
                        "test": [
                          0.57998853
                        ],
                        "passed_time": 5.186096835,
                        "iteration": 145,
                        "remaining_time": 30.33511437,
                        "learn": [
                          0.5723609074
                        ]
                      },
                      {
                        "test": [
                          0.580001813
                        ],
                        "passed_time": 5.219757266,
                        "iteration": 146,
                        "remaining_time": 30.28879556,
                        "learn": [
                          0.5722168119
                        ]
                      },
                      {
                        "test": [
                          0.5799963661
                        ],
                        "passed_time": 5.253422562,
                        "iteration": 147,
                        "remaining_time": 30.24267583,
                        "learn": [
                          0.5721325347
                        ]
                      }
                    ]
                  },
                  "total_iterations": 1000,
                  "passed_iterations": 147
                },
                "path": "catboost_info",
                "name": "catboost_info"
              }
            },
            "_view_module": "catboost-widget",
            "_model_module_version": "^1.0.0",
            "_view_count": null,
            "_view_module_version": "^1.0.0",
            "layout": "IPY_MODEL_1b6601b208ee4b6f9b54a203b6fc8692",
            "_model_module": "catboost-widget"
          }
        }
      }
    }
  },
  "cells": [
    {
      "cell_type": "markdown",
      "metadata": {
        "id": "view-in-github",
        "colab_type": "text"
      },
      "source": [
        "<a href=\"https://colab.research.google.com/github/swilsonmfc/bias_variance/blob/main/FeatureEngineering.ipynb\" target=\"_parent\"><img src=\"https://colab.research.google.com/assets/colab-badge.svg\" alt=\"Open In Colab\"/></a>"
      ]
    },
    {
      "cell_type": "markdown",
      "metadata": {
        "id": "x-Lxx8xJCxPY"
      },
      "source": [
        "# Feature Engineering"
      ]
    },
    {
      "cell_type": "markdown",
      "metadata": {
        "id": "FWL215GCC5CC"
      },
      "source": [
        "# Install"
      ]
    },
    {
      "cell_type": "code",
      "metadata": {
        "colab": {
          "base_uri": "https://localhost:8080/"
        },
        "id": "uQNYol_OC6W9",
        "outputId": "d0a4515d-8210-400e-8add-1a7219da1712"
      },
      "source": [
        "!pip install featuretools"
      ],
      "execution_count": 257,
      "outputs": [
        {
          "output_type": "stream",
          "text": [
            "Requirement already satisfied: featuretools in /usr/local/lib/python3.7/dist-packages (0.25.0)\n",
            "Requirement already satisfied: dask[dataframe]>=2.12.0 in /usr/local/lib/python3.7/dist-packages (from featuretools) (2.12.0)\n",
            "Requirement already satisfied: click>=7.0.0 in /usr/local/lib/python3.7/dist-packages (from featuretools) (7.1.2)\n",
            "Requirement already satisfied: cloudpickle>=0.4.0 in /usr/local/lib/python3.7/dist-packages (from featuretools) (1.3.0)\n",
            "Requirement already satisfied: pandas<2.0.0,>=1.2.0 in /usr/local/lib/python3.7/dist-packages (from featuretools) (1.2.4)\n",
            "Requirement already satisfied: scipy>=1.3.2 in /usr/local/lib/python3.7/dist-packages (from featuretools) (1.4.1)\n",
            "Requirement already satisfied: psutil>=5.6.6 in /usr/local/lib/python3.7/dist-packages (from featuretools) (5.8.0)\n",
            "Requirement already satisfied: distributed>=2.12.0 in /usr/local/lib/python3.7/dist-packages (from featuretools) (2021.6.0)\n",
            "Requirement already satisfied: tqdm>=4.32.0 in /usr/local/lib/python3.7/dist-packages (from featuretools) (4.41.1)\n",
            "Requirement already satisfied: pyyaml>=5.4 in /usr/local/lib/python3.7/dist-packages (from featuretools) (5.4.1)\n",
            "Requirement already satisfied: numpy>=1.16.6 in /usr/local/lib/python3.7/dist-packages (from featuretools) (1.19.5)\n",
            "Requirement already satisfied: partd>=0.3.10; extra == \"dataframe\" in /usr/local/lib/python3.7/dist-packages (from dask[dataframe]>=2.12.0->featuretools) (1.2.0)\n",
            "Requirement already satisfied: toolz>=0.7.3; extra == \"dataframe\" in /usr/local/lib/python3.7/dist-packages (from dask[dataframe]>=2.12.0->featuretools) (0.11.1)\n",
            "Requirement already satisfied: fsspec>=0.6.0; extra == \"dataframe\" in /usr/local/lib/python3.7/dist-packages (from dask[dataframe]>=2.12.0->featuretools) (2021.6.0)\n",
            "Requirement already satisfied: python-dateutil>=2.7.3 in /usr/local/lib/python3.7/dist-packages (from pandas<2.0.0,>=1.2.0->featuretools) (2.8.1)\n",
            "Requirement already satisfied: pytz>=2017.3 in /usr/local/lib/python3.7/dist-packages (from pandas<2.0.0,>=1.2.0->featuretools) (2018.9)\n",
            "Requirement already satisfied: setuptools in /usr/local/lib/python3.7/dist-packages (from distributed>=2.12.0->featuretools) (57.0.0)\n",
            "Requirement already satisfied: msgpack>=0.6.0 in /usr/local/lib/python3.7/dist-packages (from distributed>=2.12.0->featuretools) (1.0.2)\n",
            "Requirement already satisfied: sortedcontainers!=2.0.0,!=2.0.1 in /usr/local/lib/python3.7/dist-packages (from distributed>=2.12.0->featuretools) (2.4.0)\n",
            "Requirement already satisfied: tornado>=5; python_version < \"3.8\" in /usr/local/lib/python3.7/dist-packages (from distributed>=2.12.0->featuretools) (5.1.1)\n",
            "Requirement already satisfied: zict>=0.1.3 in /usr/local/lib/python3.7/dist-packages (from distributed>=2.12.0->featuretools) (2.0.0)\n",
            "Requirement already satisfied: tblib>=1.6.0 in /usr/local/lib/python3.7/dist-packages (from distributed>=2.12.0->featuretools) (1.7.0)\n",
            "Requirement already satisfied: locket in /usr/local/lib/python3.7/dist-packages (from partd>=0.3.10; extra == \"dataframe\"->dask[dataframe]>=2.12.0->featuretools) (0.2.1)\n",
            "Requirement already satisfied: six>=1.5 in /usr/local/lib/python3.7/dist-packages (from python-dateutil>=2.7.3->pandas<2.0.0,>=1.2.0->featuretools) (1.15.0)\n",
            "Requirement already satisfied: heapdict in /usr/local/lib/python3.7/dist-packages (from zict>=0.1.3->distributed>=2.12.0->featuretools) (1.0.1)\n"
          ],
          "name": "stdout"
        }
      ]
    },
    {
      "cell_type": "code",
      "metadata": {
        "colab": {
          "base_uri": "https://localhost:8080/"
        },
        "id": "OZftyuDKD08s",
        "outputId": "c4872dda-2b87-4f39-a026-234e4b367c50"
      },
      "source": [
        "!pip install catboost"
      ],
      "execution_count": 258,
      "outputs": [
        {
          "output_type": "stream",
          "text": [
            "Requirement already satisfied: catboost in /usr/local/lib/python3.7/dist-packages (0.26)\n",
            "Requirement already satisfied: numpy>=1.16.0 in /usr/local/lib/python3.7/dist-packages (from catboost) (1.19.5)\n",
            "Requirement already satisfied: graphviz in /usr/local/lib/python3.7/dist-packages (from catboost) (0.10.1)\n",
            "Requirement already satisfied: matplotlib in /usr/local/lib/python3.7/dist-packages (from catboost) (3.2.2)\n",
            "Requirement already satisfied: six in /usr/local/lib/python3.7/dist-packages (from catboost) (1.15.0)\n",
            "Requirement already satisfied: pandas>=0.24.0 in /usr/local/lib/python3.7/dist-packages (from catboost) (1.2.4)\n",
            "Requirement already satisfied: plotly in /usr/local/lib/python3.7/dist-packages (from catboost) (4.4.1)\n",
            "Requirement already satisfied: scipy in /usr/local/lib/python3.7/dist-packages (from catboost) (1.4.1)\n",
            "Requirement already satisfied: kiwisolver>=1.0.1 in /usr/local/lib/python3.7/dist-packages (from matplotlib->catboost) (1.3.1)\n",
            "Requirement already satisfied: python-dateutil>=2.1 in /usr/local/lib/python3.7/dist-packages (from matplotlib->catboost) (2.8.1)\n",
            "Requirement already satisfied: pyparsing!=2.0.4,!=2.1.2,!=2.1.6,>=2.0.1 in /usr/local/lib/python3.7/dist-packages (from matplotlib->catboost) (2.4.7)\n",
            "Requirement already satisfied: cycler>=0.10 in /usr/local/lib/python3.7/dist-packages (from matplotlib->catboost) (0.10.0)\n",
            "Requirement already satisfied: pytz>=2017.3 in /usr/local/lib/python3.7/dist-packages (from pandas>=0.24.0->catboost) (2018.9)\n",
            "Requirement already satisfied: retrying>=1.3.3 in /usr/local/lib/python3.7/dist-packages (from plotly->catboost) (1.3.3)\n"
          ],
          "name": "stdout"
        }
      ]
    },
    {
      "cell_type": "code",
      "metadata": {
        "colab": {
          "base_uri": "https://localhost:8080/"
        },
        "id": "TFcEGDw8D6d7",
        "outputId": "1b76ca11-6eda-4f05-aa4f-a5a8da6229ac"
      },
      "source": [
        "!pip install feature-engine"
      ],
      "execution_count": 259,
      "outputs": [
        {
          "output_type": "stream",
          "text": [
            "Requirement already satisfied: feature-engine in /usr/local/lib/python3.7/dist-packages (1.0.2)\n",
            "Requirement already satisfied: pandas>=1.0.3 in /usr/local/lib/python3.7/dist-packages (from feature-engine) (1.2.4)\n",
            "Requirement already satisfied: scipy>=1.4.1 in /usr/local/lib/python3.7/dist-packages (from feature-engine) (1.4.1)\n",
            "Requirement already satisfied: numpy>=1.18.2 in /usr/local/lib/python3.7/dist-packages (from feature-engine) (1.19.5)\n",
            "Requirement already satisfied: scikit-learn>=0.22.2 in /usr/local/lib/python3.7/dist-packages (from feature-engine) (0.22.2.post1)\n",
            "Requirement already satisfied: statsmodels>=0.11.1 in /usr/local/lib/python3.7/dist-packages (from feature-engine) (0.12.2)\n",
            "Requirement already satisfied: pytz>=2017.3 in /usr/local/lib/python3.7/dist-packages (from pandas>=1.0.3->feature-engine) (2018.9)\n",
            "Requirement already satisfied: python-dateutil>=2.7.3 in /usr/local/lib/python3.7/dist-packages (from pandas>=1.0.3->feature-engine) (2.8.1)\n",
            "Requirement already satisfied: joblib>=0.11 in /usr/local/lib/python3.7/dist-packages (from scikit-learn>=0.22.2->feature-engine) (1.0.1)\n",
            "Requirement already satisfied: patsy>=0.5 in /usr/local/lib/python3.7/dist-packages (from statsmodels>=0.11.1->feature-engine) (0.5.1)\n",
            "Requirement already satisfied: six>=1.5 in /usr/local/lib/python3.7/dist-packages (from python-dateutil>=2.7.3->pandas>=1.0.3->feature-engine) (1.15.0)\n"
          ],
          "name": "stdout"
        }
      ]
    },
    {
      "cell_type": "markdown",
      "metadata": {
        "id": "d5YqIcL7C8iH"
      },
      "source": [
        "# Setup\n",
        "* Restart Kernel"
      ]
    },
    {
      "cell_type": "code",
      "metadata": {
        "id": "95kc4257DCFN"
      },
      "source": [
        "import featuretools as ft\n",
        "import pandas as pd\n",
        "import numpy as np\n",
        "import matplotlib.pyplot as plt\n",
        "\n",
        "from catboost import CatBoostClassifier\n",
        "import feature_engine as fe\n",
        "\n",
        "import feature_engine.encoding as ce\n",
        "import feature_engine.discretisation as dsc\n",
        "\n",
        "from sklearn.model_selection import train_test_split\n",
        "from sklearn.metrics import classification_report\n",
        "from sklearn.metrics import log_loss\n",
        "from sklearn.metrics import accuracy_score\n",
        "from sklearn.metrics import roc_auc_score\n",
        "from sklearn.metrics import f1_score\n",
        "from sklearn.metrics import recall_score"
      ],
      "execution_count": 260,
      "outputs": []
    },
    {
      "cell_type": "markdown",
      "metadata": {
        "id": "cZR6PT9rDlC-"
      },
      "source": [
        "# Data"
      ]
    },
    {
      "cell_type": "code",
      "metadata": {
        "id": "MYVB0yT1Dmwp"
      },
      "source": [
        "df = pd.read_csv('https://raw.githubusercontent.com/Featuretools/predict-appointment-noshow/master/data/KaggleV2-May-2016.csv')"
      ],
      "execution_count": 261,
      "outputs": []
    },
    {
      "cell_type": "code",
      "metadata": {
        "id": "99f3YriXDo1y"
      },
      "source": [
        "df.columns = [col.lower() for col in df.columns]\n",
        "df = df.rename(columns={'patientid': 'patient_id',\n",
        "                        'appointmentid': 'appointment_id',\n",
        "                        'scheduledday': 'scheduled_day',\n",
        "                        'appointmentday': 'appointment_day',\n",
        "                        'no-show': 'no_show',\n",
        "                        'hipertension': 'hypertension',\n",
        "                        'handcap': 'handicap'})\n",
        "df['scheduled_day']   = pd.to_datetime(df['scheduled_day']).dt.tz_convert(None)\n",
        "df['appointment_day'] = pd.to_datetime(df['appointment_day']).dt.tz_convert(None)\n",
        "df['no_show'] = np.where(df.no_show == 'Yes', 1, 0)"
      ],
      "execution_count": 262,
      "outputs": []
    },
    {
      "cell_type": "markdown",
      "metadata": {
        "id": "DsRKS4RsE8Pu"
      },
      "source": [
        "# EDA"
      ]
    },
    {
      "cell_type": "markdown",
      "metadata": {
        "id": "6OmCLBVLGcpC"
      },
      "source": [
        "## Missing"
      ]
    },
    {
      "cell_type": "code",
      "metadata": {
        "colab": {
          "base_uri": "https://localhost:8080/"
        },
        "id": "dZlmuyVtFuWj",
        "outputId": "713674cb-0b1a-4551-d5f2-255acde143be"
      },
      "source": [
        "df.isna().sum()"
      ],
      "execution_count": 263,
      "outputs": [
        {
          "output_type": "execute_result",
          "data": {
            "text/plain": [
              "patient_id         0\n",
              "appointment_id     0\n",
              "gender             0\n",
              "scheduled_day      0\n",
              "appointment_day    0\n",
              "age                0\n",
              "neighbourhood      0\n",
              "scholarship        0\n",
              "hypertension       0\n",
              "diabetes           0\n",
              "alcoholism         0\n",
              "handicap           0\n",
              "sms_received       0\n",
              "no_show            0\n",
              "dtype: int64"
            ]
          },
          "metadata": {
            "tags": []
          },
          "execution_count": 263
        }
      ]
    },
    {
      "cell_type": "markdown",
      "metadata": {
        "id": "aQNXxRl9BWqU"
      },
      "source": [
        "## Class Balance"
      ]
    },
    {
      "cell_type": "code",
      "metadata": {
        "colab": {
          "base_uri": "https://localhost:8080/"
        },
        "id": "XAHH9wgfCsH0",
        "outputId": "f7b67afe-7a3b-4baf-9b38-4bdf2ccbb23b"
      },
      "source": [
        "WEIGHTS = [len(df) / (2 * sum(np.where(df.no_show == 0, 1, 0))),\n",
        "           len(df) / (2 * sum(df.no_show))]\n",
        "print(WEIGHTS)"
      ],
      "execution_count": 264,
      "outputs": [
        {
          "output_type": "stream",
          "text": [
            "[0.6265134681661527, 2.4760741968726196]\n"
          ],
          "name": "stdout"
        }
      ]
    },
    {
      "cell_type": "code",
      "metadata": {
        "colab": {
          "base_uri": "https://localhost:8080/",
          "height": 294
        },
        "id": "Ywro_ojsBZVk",
        "outputId": "cb0df51a-433a-48c2-ee7d-90a6816542bc"
      },
      "source": [
        "df.groupby('no_show').size().plot.bar()"
      ],
      "execution_count": 265,
      "outputs": [
        {
          "output_type": "execute_result",
          "data": {
            "text/plain": [
              "<matplotlib.axes._subplots.AxesSubplot at 0x7fdd45992210>"
            ]
          },
          "metadata": {
            "tags": []
          },
          "execution_count": 265
        },
        {
          "output_type": "display_data",
          "data": {
            "image/png": "[encoded data removed]",
            "text/plain": [
              "<Figure size 432x288 with 1 Axes>"
            ]
          },
          "metadata": {
            "tags": [],
            "needs_background": "light"
          }
        }
      ]
    },
    {
      "cell_type": "markdown",
      "metadata": {
        "id": "_BokSUPazB2C"
      },
      "source": [
        "## Age"
      ]
    },
    {
      "cell_type": "code",
      "metadata": {
        "colab": {
          "base_uri": "https://localhost:8080/",
          "height": 314
        },
        "id": "M-mU9jLxzDFz",
        "outputId": "8871de45-82d8-4dcc-d595-ebf38bc5571b"
      },
      "source": [
        "df.hist('age')"
      ],
      "execution_count": 266,
      "outputs": [
        {
          "output_type": "execute_result",
          "data": {
            "text/plain": [
              "array([[<matplotlib.axes._subplots.AxesSubplot object at 0x7fdd4510a450>]],\n",
              "      dtype=object)"
            ]
          },
          "metadata": {
            "tags": []
          },
          "execution_count": 266
        },
        {
          "output_type": "display_data",
          "data": {
            "image/png": "[encoded data removed]",
            "text/plain": [
              "<Figure size 432x288 with 1 Axes>"
            ]
          },
          "metadata": {
            "tags": [],
            "needs_background": "light"
          }
        }
      ]
    },
    {
      "cell_type": "code",
      "metadata": {
        "colab": {
          "base_uri": "https://localhost:8080/",
          "height": 390
        },
        "id": "xJGl6sC3zaCG",
        "outputId": "fe3bb967-c4f1-48b2-b033-881af758643a"
      },
      "source": [
        "fig, ax = plt.subplots(ncols=2, nrows=1, figsize=(10,6), sharey=True)\n",
        "ax[0].hist(df[df.no_show == 0]['age'])\n",
        "ax[0].set_title('Showed')\n",
        "ax[1].hist(df[df.no_show == 1]['age'])\n",
        "ax[1].set_title('No Showed');"
      ],
      "execution_count": 267,
      "outputs": [
        {
          "output_type": "display_data",
          "data": {
            "image/png": "[encoded data removed]",
            "text/plain": [
              "<Figure size 720x432 with 2 Axes>"
            ]
          },
          "metadata": {
            "tags": [],
            "needs_background": "light"
          }
        }
      ]
    },
    {
      "cell_type": "markdown",
      "metadata": {
        "id": "CyF5i2EFsWnX"
      },
      "source": [
        "## Alcoholics"
      ]
    },
    {
      "cell_type": "code",
      "metadata": {
        "colab": {
          "base_uri": "https://localhost:8080/",
          "height": 293
        },
        "id": "UtXvd3_2sVcm",
        "outputId": "7bc746f2-6b9e-499a-8d18-296002a81128"
      },
      "source": [
        "df.groupby('alcoholism').size().plot.bar()"
      ],
      "execution_count": 268,
      "outputs": [
        {
          "output_type": "execute_result",
          "data": {
            "text/plain": [
              "<matplotlib.axes._subplots.AxesSubplot at 0x7fdd4591dc90>"
            ]
          },
          "metadata": {
            "tags": []
          },
          "execution_count": 268
        },
        {
          "output_type": "display_data",
          "data": {
            "image/png": "[encoded data removed]",
            "text/plain": [
              "<Figure size 432x288 with 1 Axes>"
            ]
          },
          "metadata": {
            "tags": [],
            "needs_background": "light"
          }
        }
      ]
    },
    {
      "cell_type": "code",
      "metadata": {
        "colab": {
          "base_uri": "https://localhost:8080/",
          "height": 136
        },
        "id": "7UZYPzL1uhYA",
        "outputId": "6961ee0e-7d30-4cfd-fc86-f1579ce3416e"
      },
      "source": [
        "pd.crosstab(df.alcoholism, df.no_show).apply(lambda r: r/r.sum(), axis=1)"
      ],
      "execution_count": 269,
      "outputs": [
        {
          "output_type": "execute_result",
          "data": {
            "text/html": [
              "<div>\n",
              "<style scoped>\n",
              "    .dataframe tbody tr th:only-of-type {\n",
              "        vertical-align: middle;\n",
              "    }\n",
              "\n",
              "    .dataframe tbody tr th {\n",
              "        vertical-align: top;\n",
              "    }\n",
              "\n",
              "    .dataframe thead th {\n",
              "        text-align: right;\n",
              "    }\n",
              "</style>\n",
              "<table border=\"1\" class=\"dataframe\">\n",
              "  <thead>\n",
              "    <tr style=\"text-align: right;\">\n",
              "      <th>no_show</th>\n",
              "      <th>0</th>\n",
              "      <th>1</th>\n",
              "    </tr>\n",
              "    <tr>\n",
              "      <th>alcoholism</th>\n",
              "      <th></th>\n",
              "      <th></th>\n",
              "    </tr>\n",
              "  </thead>\n",
              "  <tbody>\n",
              "    <tr>\n",
              "      <th>0</th>\n",
              "      <td>0.798054</td>\n",
              "      <td>0.201946</td>\n",
              "    </tr>\n",
              "    <tr>\n",
              "      <th>1</th>\n",
              "      <td>0.798512</td>\n",
              "      <td>0.201488</td>\n",
              "    </tr>\n",
              "  </tbody>\n",
              "</table>\n",
              "</div>"
            ],
            "text/plain": [
              "no_show            0         1\n",
              "alcoholism                    \n",
              "0           0.798054  0.201946\n",
              "1           0.798512  0.201488"
            ]
          },
          "metadata": {
            "tags": []
          },
          "execution_count": 269
        }
      ]
    },
    {
      "cell_type": "markdown",
      "metadata": {
        "id": "-xv5DVJwua3C"
      },
      "source": [
        "## Handicap"
      ]
    },
    {
      "cell_type": "code",
      "metadata": {
        "colab": {
          "base_uri": "https://localhost:8080/",
          "height": 293
        },
        "id": "Ccx3O2Yeue1J",
        "outputId": "5f404612-c404-403f-cfa2-bafa8d1c1558"
      },
      "source": [
        "df.groupby('handicap').size().plot.bar()"
      ],
      "execution_count": 270,
      "outputs": [
        {
          "output_type": "execute_result",
          "data": {
            "text/plain": [
              "<matplotlib.axes._subplots.AxesSubplot at 0x7fdd457f2c90>"
            ]
          },
          "metadata": {
            "tags": []
          },
          "execution_count": 270
        },
        {
          "output_type": "display_data",
          "data": {
            "image/png": "[encoded data removed]",
            "text/plain": [
              "<Figure size 432x288 with 1 Axes>"
            ]
          },
          "metadata": {
            "tags": [],
            "needs_background": "light"
          }
        }
      ]
    },
    {
      "cell_type": "code",
      "metadata": {
        "colab": {
          "base_uri": "https://localhost:8080/",
          "height": 225
        },
        "id": "mnYfFS0UvDTb",
        "outputId": "72dc5026-e422-44e2-d31e-04fc5bc71d8f"
      },
      "source": [
        "pd.crosstab(df.handicap, df.no_show).apply(lambda r: r/r.sum(), axis=1)"
      ],
      "execution_count": 271,
      "outputs": [
        {
          "output_type": "execute_result",
          "data": {
            "text/html": [
              "<div>\n",
              "<style scoped>\n",
              "    .dataframe tbody tr th:only-of-type {\n",
              "        vertical-align: middle;\n",
              "    }\n",
              "\n",
              "    .dataframe tbody tr th {\n",
              "        vertical-align: top;\n",
              "    }\n",
              "\n",
              "    .dataframe thead th {\n",
              "        text-align: right;\n",
              "    }\n",
              "</style>\n",
              "<table border=\"1\" class=\"dataframe\">\n",
              "  <thead>\n",
              "    <tr style=\"text-align: right;\">\n",
              "      <th>no_show</th>\n",
              "      <th>0</th>\n",
              "      <th>1</th>\n",
              "    </tr>\n",
              "    <tr>\n",
              "      <th>handicap</th>\n",
              "      <th></th>\n",
              "      <th></th>\n",
              "    </tr>\n",
              "  </thead>\n",
              "  <tbody>\n",
              "    <tr>\n",
              "      <th>0</th>\n",
              "      <td>0.797647</td>\n",
              "      <td>0.202353</td>\n",
              "    </tr>\n",
              "    <tr>\n",
              "      <th>1</th>\n",
              "      <td>0.820764</td>\n",
              "      <td>0.179236</td>\n",
              "    </tr>\n",
              "    <tr>\n",
              "      <th>2</th>\n",
              "      <td>0.797814</td>\n",
              "      <td>0.202186</td>\n",
              "    </tr>\n",
              "    <tr>\n",
              "      <th>3</th>\n",
              "      <td>0.769231</td>\n",
              "      <td>0.230769</td>\n",
              "    </tr>\n",
              "    <tr>\n",
              "      <th>4</th>\n",
              "      <td>0.666667</td>\n",
              "      <td>0.333333</td>\n",
              "    </tr>\n",
              "  </tbody>\n",
              "</table>\n",
              "</div>"
            ],
            "text/plain": [
              "no_show          0         1\n",
              "handicap                    \n",
              "0         0.797647  0.202353\n",
              "1         0.820764  0.179236\n",
              "2         0.797814  0.202186\n",
              "3         0.769231  0.230769\n",
              "4         0.666667  0.333333"
            ]
          },
          "metadata": {
            "tags": []
          },
          "execution_count": 271
        }
      ]
    },
    {
      "cell_type": "markdown",
      "metadata": {
        "id": "K2X808twvIZk"
      },
      "source": [
        "## Gender"
      ]
    },
    {
      "cell_type": "code",
      "metadata": {
        "colab": {
          "base_uri": "https://localhost:8080/",
          "height": 295
        },
        "id": "MSb75Xt1vKes",
        "outputId": "c4bae4bf-c482-4d69-8afd-88cbb5bcc4ea"
      },
      "source": [
        "df.groupby('gender').size().plot.bar()"
      ],
      "execution_count": 272,
      "outputs": [
        {
          "output_type": "execute_result",
          "data": {
            "text/plain": [
              "<matplotlib.axes._subplots.AxesSubplot at 0x7fdd457604d0>"
            ]
          },
          "metadata": {
            "tags": []
          },
          "execution_count": 272
        },
        {
          "output_type": "display_data",
          "data": {
            "image/png": "[encoded data removed]",
            "text/plain": [
              "<Figure size 432x288 with 1 Axes>"
            ]
          },
          "metadata": {
            "tags": [],
            "needs_background": "light"
          }
        }
      ]
    },
    {
      "cell_type": "code",
      "metadata": {
        "colab": {
          "base_uri": "https://localhost:8080/",
          "height": 136
        },
        "id": "R6eM7ek5vMKN",
        "outputId": "ad667eec-e7aa-459b-cee6-b862b7f0d1d5"
      },
      "source": [
        "pd.crosstab(df.gender, df.no_show).apply(lambda r: r/r.sum(), axis=1)"
      ],
      "execution_count": 273,
      "outputs": [
        {
          "output_type": "execute_result",
          "data": {
            "text/html": [
              "<div>\n",
              "<style scoped>\n",
              "    .dataframe tbody tr th:only-of-type {\n",
              "        vertical-align: middle;\n",
              "    }\n",
              "\n",
              "    .dataframe tbody tr th {\n",
              "        vertical-align: top;\n",
              "    }\n",
              "\n",
              "    .dataframe thead th {\n",
              "        text-align: right;\n",
              "    }\n",
              "</style>\n",
              "<table border=\"1\" class=\"dataframe\">\n",
              "  <thead>\n",
              "    <tr style=\"text-align: right;\">\n",
              "      <th>no_show</th>\n",
              "      <th>0</th>\n",
              "      <th>1</th>\n",
              "    </tr>\n",
              "    <tr>\n",
              "      <th>gender</th>\n",
              "      <th></th>\n",
              "      <th></th>\n",
              "    </tr>\n",
              "  </thead>\n",
              "  <tbody>\n",
              "    <tr>\n",
              "      <th>F</th>\n",
              "      <td>0.796854</td>\n",
              "      <td>0.203146</td>\n",
              "    </tr>\n",
              "    <tr>\n",
              "      <th>M</th>\n",
              "      <td>0.800321</td>\n",
              "      <td>0.199679</td>\n",
              "    </tr>\n",
              "  </tbody>\n",
              "</table>\n",
              "</div>"
            ],
            "text/plain": [
              "no_show         0         1\n",
              "gender                     \n",
              "F        0.796854  0.203146\n",
              "M        0.800321  0.199679"
            ]
          },
          "metadata": {
            "tags": []
          },
          "execution_count": 273
        }
      ]
    },
    {
      "cell_type": "markdown",
      "metadata": {
        "id": "04X_ZSehv3pA"
      },
      "source": [
        "## Scholarship"
      ]
    },
    {
      "cell_type": "code",
      "metadata": {
        "colab": {
          "base_uri": "https://localhost:8080/",
          "height": 293
        },
        "id": "7DgWE_vYwB5q",
        "outputId": "6e8ebb1f-d55c-4d02-d20c-6a24113cfcb1"
      },
      "source": [
        "df.groupby('scholarship').size().plot.bar()"
      ],
      "execution_count": 274,
      "outputs": [
        {
          "output_type": "execute_result",
          "data": {
            "text/plain": [
              "<matplotlib.axes._subplots.AxesSubplot at 0x7fdd456ce510>"
            ]
          },
          "metadata": {
            "tags": []
          },
          "execution_count": 274
        },
        {
          "output_type": "display_data",
          "data": {
            "image/png": "[encoded data removed]",
            "text/plain": [
              "<Figure size 432x288 with 1 Axes>"
            ]
          },
          "metadata": {
            "tags": [],
            "needs_background": "light"
          }
        }
      ]
    },
    {
      "cell_type": "code",
      "metadata": {
        "colab": {
          "base_uri": "https://localhost:8080/",
          "height": 136
        },
        "id": "ZGsOxQLRwMSC",
        "outputId": "de32aba3-1615-48ad-82e4-cd59d3944f7f"
      },
      "source": [
        "pd.crosstab(df.scholarship, df.no_show).apply(lambda r: r/r.sum(), axis=1)"
      ],
      "execution_count": 275,
      "outputs": [
        {
          "output_type": "execute_result",
          "data": {
            "text/html": [
              "<div>\n",
              "<style scoped>\n",
              "    .dataframe tbody tr th:only-of-type {\n",
              "        vertical-align: middle;\n",
              "    }\n",
              "\n",
              "    .dataframe tbody tr th {\n",
              "        vertical-align: top;\n",
              "    }\n",
              "\n",
              "    .dataframe thead th {\n",
              "        text-align: right;\n",
              "    }\n",
              "</style>\n",
              "<table border=\"1\" class=\"dataframe\">\n",
              "  <thead>\n",
              "    <tr style=\"text-align: right;\">\n",
              "      <th>no_show</th>\n",
              "      <th>0</th>\n",
              "      <th>1</th>\n",
              "    </tr>\n",
              "    <tr>\n",
              "      <th>scholarship</th>\n",
              "      <th></th>\n",
              "      <th></th>\n",
              "    </tr>\n",
              "  </thead>\n",
              "  <tbody>\n",
              "    <tr>\n",
              "      <th>0</th>\n",
              "      <td>0.801928</td>\n",
              "      <td>0.198072</td>\n",
              "    </tr>\n",
              "    <tr>\n",
              "      <th>1</th>\n",
              "      <td>0.762637</td>\n",
              "      <td>0.237363</td>\n",
              "    </tr>\n",
              "  </tbody>\n",
              "</table>\n",
              "</div>"
            ],
            "text/plain": [
              "no_show             0         1\n",
              "scholarship                    \n",
              "0            0.801928  0.198072\n",
              "1            0.762637  0.237363"
            ]
          },
          "metadata": {
            "tags": []
          },
          "execution_count": 275
        }
      ]
    },
    {
      "cell_type": "markdown",
      "metadata": {
        "id": "qZ25o339v3zp"
      },
      "source": [
        "## Hypertension"
      ]
    },
    {
      "cell_type": "code",
      "metadata": {
        "colab": {
          "base_uri": "https://localhost:8080/",
          "height": 293
        },
        "id": "i9sgerzowEf9",
        "outputId": "f9bf2fbe-b90e-4955-bde8-880e9a773f36"
      },
      "source": [
        "df.groupby('hypertension').size().plot.bar()"
      ],
      "execution_count": 276,
      "outputs": [
        {
          "output_type": "execute_result",
          "data": {
            "text/plain": [
              "<matplotlib.axes._subplots.AxesSubplot at 0x7fdd45638050>"
            ]
          },
          "metadata": {
            "tags": []
          },
          "execution_count": 276
        },
        {
          "output_type": "display_data",
          "data": {
            "image/png": "[encoded data removed]",
            "text/plain": [
              "<Figure size 432x288 with 1 Axes>"
            ]
          },
          "metadata": {
            "tags": [],
            "needs_background": "light"
          }
        }
      ]
    },
    {
      "cell_type": "code",
      "metadata": {
        "colab": {
          "base_uri": "https://localhost:8080/",
          "height": 136
        },
        "id": "s8p5cU8HwOsD",
        "outputId": "727688a0-b125-4c2a-9690-76ecf418c8b2"
      },
      "source": [
        "pd.crosstab(df.hypertension, df.no_show).apply(lambda r: r/r.sum(), axis=1)"
      ],
      "execution_count": 277,
      "outputs": [
        {
          "output_type": "execute_result",
          "data": {
            "text/html": [
              "<div>\n",
              "<style scoped>\n",
              "    .dataframe tbody tr th:only-of-type {\n",
              "        vertical-align: middle;\n",
              "    }\n",
              "\n",
              "    .dataframe tbody tr th {\n",
              "        vertical-align: top;\n",
              "    }\n",
              "\n",
              "    .dataframe thead th {\n",
              "        text-align: right;\n",
              "    }\n",
              "</style>\n",
              "<table border=\"1\" class=\"dataframe\">\n",
              "  <thead>\n",
              "    <tr style=\"text-align: right;\">\n",
              "      <th>no_show</th>\n",
              "      <th>0</th>\n",
              "      <th>1</th>\n",
              "    </tr>\n",
              "    <tr>\n",
              "      <th>hypertension</th>\n",
              "      <th></th>\n",
              "      <th></th>\n",
              "    </tr>\n",
              "  </thead>\n",
              "  <tbody>\n",
              "    <tr>\n",
              "      <th>0</th>\n",
              "      <td>0.790963</td>\n",
              "      <td>0.209037</td>\n",
              "    </tr>\n",
              "    <tr>\n",
              "      <th>1</th>\n",
              "      <td>0.826980</td>\n",
              "      <td>0.173020</td>\n",
              "    </tr>\n",
              "  </tbody>\n",
              "</table>\n",
              "</div>"
            ],
            "text/plain": [
              "no_show              0         1\n",
              "hypertension                    \n",
              "0             0.790963  0.209037\n",
              "1             0.826980  0.173020"
            ]
          },
          "metadata": {
            "tags": []
          },
          "execution_count": 277
        }
      ]
    },
    {
      "cell_type": "markdown",
      "metadata": {
        "id": "DY10_pr0v36W"
      },
      "source": [
        "## Diabetes"
      ]
    },
    {
      "cell_type": "code",
      "metadata": {
        "colab": {
          "base_uri": "https://localhost:8080/",
          "height": 293
        },
        "id": "4iFRpgrxwHGE",
        "outputId": "9048ac37-d0d5-4bbb-e2a1-0d67e36ba98a"
      },
      "source": [
        "df.groupby('diabetes').size().plot.bar()"
      ],
      "execution_count": 278,
      "outputs": [
        {
          "output_type": "execute_result",
          "data": {
            "text/plain": [
              "<matplotlib.axes._subplots.AxesSubplot at 0x7fdd45a64450>"
            ]
          },
          "metadata": {
            "tags": []
          },
          "execution_count": 278
        },
        {
          "output_type": "display_data",
          "data": {
            "image/png": "[encoded data removed]",
            "text/plain": [
              "<Figure size 432x288 with 1 Axes>"
            ]
          },
          "metadata": {
            "tags": [],
            "needs_background": "light"
          }
        }
      ]
    },
    {
      "cell_type": "code",
      "metadata": {
        "colab": {
          "base_uri": "https://localhost:8080/",
          "height": 136
        },
        "id": "EswaY2pSwRCt",
        "outputId": "5c3f4c8c-2884-4eae-91dd-97a140d7b358"
      },
      "source": [
        "pd.crosstab(df.diabetes, df.no_show).apply(lambda r: r/r.sum(), axis=1)"
      ],
      "execution_count": 279,
      "outputs": [
        {
          "output_type": "execute_result",
          "data": {
            "text/html": [
              "<div>\n",
              "<style scoped>\n",
              "    .dataframe tbody tr th:only-of-type {\n",
              "        vertical-align: middle;\n",
              "    }\n",
              "\n",
              "    .dataframe tbody tr th {\n",
              "        vertical-align: top;\n",
              "    }\n",
              "\n",
              "    .dataframe thead th {\n",
              "        text-align: right;\n",
              "    }\n",
              "</style>\n",
              "<table border=\"1\" class=\"dataframe\">\n",
              "  <thead>\n",
              "    <tr style=\"text-align: right;\">\n",
              "      <th>no_show</th>\n",
              "      <th>0</th>\n",
              "      <th>1</th>\n",
              "    </tr>\n",
              "    <tr>\n",
              "      <th>diabetes</th>\n",
              "      <th></th>\n",
              "      <th></th>\n",
              "    </tr>\n",
              "  </thead>\n",
              "  <tbody>\n",
              "    <tr>\n",
              "      <th>0</th>\n",
              "      <td>0.796372</td>\n",
              "      <td>0.203628</td>\n",
              "    </tr>\n",
              "    <tr>\n",
              "      <th>1</th>\n",
              "      <td>0.819967</td>\n",
              "      <td>0.180033</td>\n",
              "    </tr>\n",
              "  </tbody>\n",
              "</table>\n",
              "</div>"
            ],
            "text/plain": [
              "no_show          0         1\n",
              "diabetes                    \n",
              "0         0.796372  0.203628\n",
              "1         0.819967  0.180033"
            ]
          },
          "metadata": {
            "tags": []
          },
          "execution_count": 279
        }
      ]
    },
    {
      "cell_type": "markdown",
      "metadata": {
        "id": "-qbRECwov4Df"
      },
      "source": [
        "## SMS"
      ]
    },
    {
      "cell_type": "code",
      "metadata": {
        "colab": {
          "base_uri": "https://localhost:8080/",
          "height": 294
        },
        "id": "-utVbmvNwImc",
        "outputId": "702662b4-4ce4-4490-c760-9fb3d88a1152"
      },
      "source": [
        "df.groupby('sms_received').size().plot.bar()"
      ],
      "execution_count": 280,
      "outputs": [
        {
          "output_type": "execute_result",
          "data": {
            "text/plain": [
              "<matplotlib.axes._subplots.AxesSubplot at 0x7fdd45a99c90>"
            ]
          },
          "metadata": {
            "tags": []
          },
          "execution_count": 280
        },
        {
          "output_type": "display_data",
          "data": {
            "image/png": "[encoded data removed]",
            "text/plain": [
              "<Figure size 432x288 with 1 Axes>"
            ]
          },
          "metadata": {
            "tags": [],
            "needs_background": "light"
          }
        }
      ]
    },
    {
      "cell_type": "code",
      "metadata": {
        "colab": {
          "base_uri": "https://localhost:8080/",
          "height": 136
        },
        "id": "OeqWORq1wTfW",
        "outputId": "d94eedf3-3175-4d32-8618-c69cb0196083"
      },
      "source": [
        "pd.crosstab(df.sms_received, df.no_show).apply(lambda r: r/r.sum(), axis=1)"
      ],
      "execution_count": 281,
      "outputs": [
        {
          "output_type": "execute_result",
          "data": {
            "text/html": [
              "<div>\n",
              "<style scoped>\n",
              "    .dataframe tbody tr th:only-of-type {\n",
              "        vertical-align: middle;\n",
              "    }\n",
              "\n",
              "    .dataframe tbody tr th {\n",
              "        vertical-align: top;\n",
              "    }\n",
              "\n",
              "    .dataframe thead th {\n",
              "        text-align: right;\n",
              "    }\n",
              "</style>\n",
              "<table border=\"1\" class=\"dataframe\">\n",
              "  <thead>\n",
              "    <tr style=\"text-align: right;\">\n",
              "      <th>no_show</th>\n",
              "      <th>0</th>\n",
              "      <th>1</th>\n",
              "    </tr>\n",
              "    <tr>\n",
              "      <th>sms_received</th>\n",
              "      <th></th>\n",
              "      <th></th>\n",
              "    </tr>\n",
              "  </thead>\n",
              "  <tbody>\n",
              "    <tr>\n",
              "      <th>0</th>\n",
              "      <td>0.832967</td>\n",
              "      <td>0.167033</td>\n",
              "    </tr>\n",
              "    <tr>\n",
              "      <th>1</th>\n",
              "      <td>0.724255</td>\n",
              "      <td>0.275745</td>\n",
              "    </tr>\n",
              "  </tbody>\n",
              "</table>\n",
              "</div>"
            ],
            "text/plain": [
              "no_show              0         1\n",
              "sms_received                    \n",
              "0             0.832967  0.167033\n",
              "1             0.724255  0.275745"
            ]
          },
          "metadata": {
            "tags": []
          },
          "execution_count": 281
        }
      ]
    },
    {
      "cell_type": "markdown",
      "metadata": {
        "id": "kfcalDJSvW2r"
      },
      "source": [
        "## Neighbourhood"
      ]
    },
    {
      "cell_type": "code",
      "metadata": {
        "colab": {
          "base_uri": "https://localhost:8080/",
          "height": 557
        },
        "id": "NYGUaIYzvZb9",
        "outputId": "a490dabb-b10c-40aa-f3f1-bc55752d1c7c"
      },
      "source": [
        "df.groupby('neighbourhood').size().plot.bar(figsize=(12,6))"
      ],
      "execution_count": 282,
      "outputs": [
        {
          "output_type": "execute_result",
          "data": {
            "text/plain": [
              "<matplotlib.axes._subplots.AxesSubplot at 0x7fdd45c4e350>"
            ]
          },
          "metadata": {
            "tags": []
          },
          "execution_count": 282
        },
        {
          "output_type": "display_data",
          "data": {
            "image/png": "[encoded data removed]",
            "text/plain": [
              "<Figure size 864x432 with 1 Axes>"
            ]
          },
          "metadata": {
            "tags": [],
            "needs_background": "light"
          }
        }
      ]
    },
    {
      "cell_type": "code",
      "metadata": {
        "colab": {
          "base_uri": "https://localhost:8080/",
          "height": 431
        },
        "id": "ebSId9pGvmKG",
        "outputId": "64e1d31c-2bbf-48c2-867e-f56609904933"
      },
      "source": [
        "pd.crosstab(df.neighbourhood, df.no_show).apply(lambda r: r/r.sum(), axis=1).sort_values(1)"
      ],
      "execution_count": 283,
      "outputs": [
        {
          "output_type": "execute_result",
          "data": {
            "text/html": [
              "<div>\n",
              "<style scoped>\n",
              "    .dataframe tbody tr th:only-of-type {\n",
              "        vertical-align: middle;\n",
              "    }\n",
              "\n",
              "    .dataframe tbody tr th {\n",
              "        vertical-align: top;\n",
              "    }\n",
              "\n",
              "    .dataframe thead th {\n",
              "        text-align: right;\n",
              "    }\n",
              "</style>\n",
              "<table border=\"1\" class=\"dataframe\">\n",
              "  <thead>\n",
              "    <tr style=\"text-align: right;\">\n",
              "      <th>no_show</th>\n",
              "      <th>0</th>\n",
              "      <th>1</th>\n",
              "    </tr>\n",
              "    <tr>\n",
              "      <th>neighbourhood</th>\n",
              "      <th></th>\n",
              "      <th></th>\n",
              "    </tr>\n",
              "  </thead>\n",
              "  <tbody>\n",
              "    <tr>\n",
              "      <th>PARQUE INDUSTRIAL</th>\n",
              "      <td>1.000000</td>\n",
              "      <td>0.000000</td>\n",
              "    </tr>\n",
              "    <tr>\n",
              "      <th>ILHA DO BOI</th>\n",
              "      <td>0.914286</td>\n",
              "      <td>0.085714</td>\n",
              "    </tr>\n",
              "    <tr>\n",
              "      <th>AEROPORTO</th>\n",
              "      <td>0.875000</td>\n",
              "      <td>0.125000</td>\n",
              "    </tr>\n",
              "    <tr>\n",
              "      <th>MÁRIO CYPRESTE</th>\n",
              "      <td>0.854447</td>\n",
              "      <td>0.145553</td>\n",
              "    </tr>\n",
              "    <tr>\n",
              "      <th>SOLON BORGES</th>\n",
              "      <td>0.852878</td>\n",
              "      <td>0.147122</td>\n",
              "    </tr>\n",
              "    <tr>\n",
              "      <th>...</th>\n",
              "      <td>...</td>\n",
              "      <td>...</td>\n",
              "    </tr>\n",
              "    <tr>\n",
              "      <th>ITARARÉ</th>\n",
              "      <td>0.737336</td>\n",
              "      <td>0.262664</td>\n",
              "    </tr>\n",
              "    <tr>\n",
              "      <th>SANTA CLARA</th>\n",
              "      <td>0.735178</td>\n",
              "      <td>0.264822</td>\n",
              "    </tr>\n",
              "    <tr>\n",
              "      <th>SANTA CECÍLIA</th>\n",
              "      <td>0.725446</td>\n",
              "      <td>0.274554</td>\n",
              "    </tr>\n",
              "    <tr>\n",
              "      <th>SANTOS DUMONT</th>\n",
              "      <td>0.710815</td>\n",
              "      <td>0.289185</td>\n",
              "    </tr>\n",
              "    <tr>\n",
              "      <th>ILHAS OCEÂNICAS DE TRINDADE</th>\n",
              "      <td>0.000000</td>\n",
              "      <td>1.000000</td>\n",
              "    </tr>\n",
              "  </tbody>\n",
              "</table>\n",
              "<p>81 rows × 2 columns</p>\n",
              "</div>"
            ],
            "text/plain": [
              "no_show                             0         1\n",
              "neighbourhood                                  \n",
              "PARQUE INDUSTRIAL            1.000000  0.000000\n",
              "ILHA DO BOI                  0.914286  0.085714\n",
              "AEROPORTO                    0.875000  0.125000\n",
              "MÁRIO CYPRESTE               0.854447  0.145553\n",
              "SOLON BORGES                 0.852878  0.147122\n",
              "...                               ...       ...\n",
              "ITARARÉ                      0.737336  0.262664\n",
              "SANTA CLARA                  0.735178  0.264822\n",
              "SANTA CECÍLIA                0.725446  0.274554\n",
              "SANTOS DUMONT                0.710815  0.289185\n",
              "ILHAS OCEÂNICAS DE TRINDADE  0.000000  1.000000\n",
              "\n",
              "[81 rows x 2 columns]"
            ]
          },
          "metadata": {
            "tags": []
          },
          "execution_count": 283
        }
      ]
    },
    {
      "cell_type": "markdown",
      "metadata": {
        "id": "DoEt9HKfKklT"
      },
      "source": [
        "# Method List\n",
        "* https://pub.towardsai.net/complete-list-of-feature-engineering-methods-40-techniques-10-categories-fda920883fad"
      ]
    },
    {
      "cell_type": "markdown",
      "metadata": {
        "id": "Rd9iDN61db0L"
      },
      "source": [
        "* Encoding\n",
        "  * One-Hot\n",
        "  * Label\n",
        "  * Continuous\n",
        "* Binarization\n",
        "* Scaling \n",
        "  * Standardization\n",
        "  * Normalizatioon\n",
        "  * Log Transformation\n",
        "* Imputation\n"
      ]
    },
    {
      "cell_type": "markdown",
      "metadata": {
        "id": "yiV7FM4B05cU"
      },
      "source": [
        "# Results"
      ]
    },
    {
      "cell_type": "code",
      "metadata": {
        "id": "5zjjRtzX08kT"
      },
      "source": [
        "results_df = pd.DataFrame(columns=['Accuracy', 'F1', 'AUC', 'Recall'])"
      ],
      "execution_count": 284,
      "outputs": []
    },
    {
      "cell_type": "markdown",
      "metadata": {
        "id": "Byf6QqDJFy6R"
      },
      "source": [
        "# Baseline"
      ]
    },
    {
      "cell_type": "markdown",
      "metadata": {
        "id": "V48VOj6-HWut"
      },
      "source": [
        "## Categories"
      ]
    },
    {
      "cell_type": "code",
      "metadata": {
        "id": "05pOapu0HVa2"
      },
      "source": [
        "CATEGORIES = ['gender',\n",
        "              'neighbourhood',\n",
        "              'scholarship',\n",
        "              'hypertension',\n",
        "              'diabetes',\n",
        "              'alcoholism',\n",
        "              'handicap',\n",
        "              'sms_received']"
      ],
      "execution_count": 285,
      "outputs": []
    },
    {
      "cell_type": "code",
      "metadata": {
        "id": "zXbK1sfZHsLb"
      },
      "source": [
        "X = df.copy()\n",
        "y = df['no_show']\n",
        "X = df.drop(columns=['no_show', 'patient_id', 'appointment_id'])"
      ],
      "execution_count": 286,
      "outputs": []
    },
    {
      "cell_type": "markdown",
      "metadata": {
        "id": "zl6UxPiaz9CV"
      },
      "source": [
        "## Train"
      ]
    },
    {
      "cell_type": "code",
      "metadata": {
        "colab": {
          "base_uri": "https://localhost:8080/"
        },
        "id": "_Hjz0ZnPH0rT",
        "outputId": "fb8499b6-6f7e-4bb0-a323-d7fef08fa34e"
      },
      "source": [
        "X_train, X_test, y_train, y_test = train_test_split(X, y, random_state=10)\n",
        "X_train, X_eval, y_train, y_eval = train_test_split(X_train, y_train, test_size=0.1, random_state=10)\n",
        "print(len(X_train), len(X_eval), len(X_test))"
      ],
      "execution_count": 287,
      "outputs": [
        {
          "output_type": "stream",
          "text": [
            "74605 8290 27632\n"
          ],
          "name": "stdout"
        }
      ]
    },
    {
      "cell_type": "code",
      "metadata": {
        "colab": {
          "base_uri": "https://localhost:8080/",
          "height": 1000,
          "referenced_widgets": [
            "644d88d49acf42b09a40680dbdcc54a2"
          ]
        },
        "id": "HtWGW8aS0D-N",
        "outputId": "32a5f993-fdca-405f-c0c2-980dac630a6e"
      },
      "source": [
        "model = CatBoostClassifier(cat_features=CATEGORIES, \n",
        "                           class_weights=WEIGHTS)\n",
        "model.fit(X_train, y_train,\n",
        "          eval_set=(X_eval, y_eval), \n",
        "          early_stopping_rounds=5,\n",
        "          plot=True)"
      ],
      "execution_count": 288,
      "outputs": [
        {
          "output_type": "display_data",
          "data": {
            "application/vnd.jupyter.widget-view+json": {
              "model_id": "644d88d49acf42b09a40680dbdcc54a2",
              "version_minor": 0,
              "version_major": 2
            },
            "text/plain": [
              "MetricVisualizer(layout=Layout(align_self='stretch', height='500px'))"
            ]
          },
          "metadata": {
            "tags": []
          }
        },
        {
          "output_type": "stream",
          "text": [
            "Learning rate set to 0.091935\n",
            "0:\tlearn: 0.6843458\ttest: 0.6843178\tbest: 0.6843178 (0)\ttotal: 85.5ms\tremaining: 1m 25s\n",
            "1:\tlearn: 0.6763065\ttest: 0.6764187\tbest: 0.6764187 (1)\ttotal: 163ms\tremaining: 1m 21s\n",
            "2:\tlearn: 0.6701559\ttest: 0.6704733\tbest: 0.6704733 (2)\ttotal: 236ms\tremaining: 1m 18s\n",
            "3:\tlearn: 0.6643549\ttest: 0.6649624\tbest: 0.6649624 (3)\ttotal: 308ms\tremaining: 1m 16s\n",
            "4:\tlearn: 0.6595144\ttest: 0.6602561\tbest: 0.6602561 (4)\ttotal: 379ms\tremaining: 1m 15s\n",
            "5:\tlearn: 0.6552313\ttest: 0.6560063\tbest: 0.6560063 (5)\ttotal: 458ms\tremaining: 1m 15s\n",
            "6:\tlearn: 0.6517226\ttest: 0.6525700\tbest: 0.6525700 (6)\ttotal: 541ms\tremaining: 1m 16s\n",
            "7:\tlearn: 0.6489020\ttest: 0.6497316\tbest: 0.6497316 (7)\ttotal: 621ms\tremaining: 1m 17s\n",
            "8:\tlearn: 0.6462131\ttest: 0.6473025\tbest: 0.6473025 (8)\ttotal: 695ms\tremaining: 1m 16s\n",
            "9:\tlearn: 0.6439101\ttest: 0.6450975\tbest: 0.6450975 (9)\ttotal: 770ms\tremaining: 1m 16s\n",
            "10:\tlearn: 0.6420421\ttest: 0.6434056\tbest: 0.6434056 (10)\ttotal: 860ms\tremaining: 1m 17s\n",
            "11:\tlearn: 0.6401387\ttest: 0.6415098\tbest: 0.6415098 (11)\ttotal: 954ms\tremaining: 1m 18s\n",
            "12:\tlearn: 0.6383096\ttest: 0.6397485\tbest: 0.6397485 (12)\ttotal: 1.03s\tremaining: 1m 18s\n",
            "13:\tlearn: 0.6368986\ttest: 0.6384188\tbest: 0.6384188 (13)\ttotal: 1.11s\tremaining: 1m 18s\n",
            "14:\tlearn: 0.6357301\ttest: 0.6374140\tbest: 0.6374140 (14)\ttotal: 1.2s\tremaining: 1m 18s\n",
            "15:\tlearn: 0.6343793\ttest: 0.6361709\tbest: 0.6361709 (15)\ttotal: 1.27s\tremaining: 1m 18s\n",
            "16:\tlearn: 0.6332870\ttest: 0.6350280\tbest: 0.6350280 (16)\ttotal: 1.35s\tremaining: 1m 17s\n",
            "17:\tlearn: 0.6329007\ttest: 0.6346910\tbest: 0.6346910 (17)\ttotal: 1.42s\tremaining: 1m 17s\n",
            "18:\tlearn: 0.6321961\ttest: 0.6340418\tbest: 0.6340418 (18)\ttotal: 1.5s\tremaining: 1m 17s\n",
            "19:\tlearn: 0.6312721\ttest: 0.6332075\tbest: 0.6332075 (19)\ttotal: 1.58s\tremaining: 1m 17s\n",
            "20:\tlearn: 0.6302595\ttest: 0.6320866\tbest: 0.6320866 (20)\ttotal: 1.67s\tremaining: 1m 18s\n",
            "21:\tlearn: 0.6297854\ttest: 0.6316594\tbest: 0.6316594 (21)\ttotal: 1.75s\tremaining: 1m 17s\n",
            "22:\tlearn: 0.6292787\ttest: 0.6313456\tbest: 0.6313456 (22)\ttotal: 1.81s\tremaining: 1m 16s\n",
            "23:\tlearn: 0.6286983\ttest: 0.6307927\tbest: 0.6307927 (23)\ttotal: 1.9s\tremaining: 1m 17s\n",
            "24:\tlearn: 0.6281170\ttest: 0.6302512\tbest: 0.6302512 (24)\ttotal: 1.98s\tremaining: 1m 17s\n",
            "25:\tlearn: 0.6274232\ttest: 0.6294434\tbest: 0.6294434 (25)\ttotal: 2.05s\tremaining: 1m 16s\n",
            "26:\tlearn: 0.6269166\ttest: 0.6290783\tbest: 0.6290783 (26)\ttotal: 2.13s\tremaining: 1m 16s\n",
            "27:\tlearn: 0.6262262\ttest: 0.6282633\tbest: 0.6282633 (27)\ttotal: 2.19s\tremaining: 1m 16s\n",
            "28:\tlearn: 0.6255011\ttest: 0.6274097\tbest: 0.6274097 (28)\ttotal: 2.27s\tremaining: 1m 16s\n",
            "29:\tlearn: 0.6248094\ttest: 0.6265302\tbest: 0.6265302 (29)\ttotal: 2.35s\tremaining: 1m 15s\n",
            "30:\tlearn: 0.6243764\ttest: 0.6262735\tbest: 0.6262735 (30)\ttotal: 2.42s\tremaining: 1m 15s\n",
            "31:\tlearn: 0.6240649\ttest: 0.6260144\tbest: 0.6260144 (31)\ttotal: 2.5s\tremaining: 1m 15s\n",
            "32:\tlearn: 0.6237987\ttest: 0.6257152\tbest: 0.6257152 (32)\ttotal: 2.57s\tremaining: 1m 15s\n",
            "33:\tlearn: 0.6233337\ttest: 0.6252213\tbest: 0.6252213 (33)\ttotal: 2.65s\tremaining: 1m 15s\n",
            "34:\tlearn: 0.6231220\ttest: 0.6250389\tbest: 0.6250389 (34)\ttotal: 2.72s\tremaining: 1m 15s\n",
            "35:\tlearn: 0.6229619\ttest: 0.6249093\tbest: 0.6249093 (35)\ttotal: 2.8s\tremaining: 1m 14s\n",
            "36:\tlearn: 0.6226429\ttest: 0.6246323\tbest: 0.6246323 (36)\ttotal: 2.86s\tremaining: 1m 14s\n",
            "37:\tlearn: 0.6223236\ttest: 0.6243391\tbest: 0.6243391 (37)\ttotal: 2.95s\tremaining: 1m 14s\n",
            "38:\tlearn: 0.6218272\ttest: 0.6237574\tbest: 0.6237574 (38)\ttotal: 3.03s\tremaining: 1m 14s\n",
            "39:\tlearn: 0.6214998\ttest: 0.6235144\tbest: 0.6235144 (39)\ttotal: 3.11s\tremaining: 1m 14s\n",
            "40:\tlearn: 0.6213299\ttest: 0.6234909\tbest: 0.6234909 (40)\ttotal: 3.19s\tremaining: 1m 14s\n",
            "41:\tlearn: 0.6211235\ttest: 0.6233297\tbest: 0.6233297 (41)\ttotal: 3.26s\tremaining: 1m 14s\n",
            "42:\tlearn: 0.6206445\ttest: 0.6227783\tbest: 0.6227783 (42)\ttotal: 3.33s\tremaining: 1m 14s\n",
            "43:\tlearn: 0.6204245\ttest: 0.6226823\tbest: 0.6226823 (43)\ttotal: 3.4s\tremaining: 1m 13s\n",
            "44:\tlearn: 0.6196841\ttest: 0.6218123\tbest: 0.6218123 (44)\ttotal: 3.48s\tremaining: 1m 13s\n",
            "45:\tlearn: 0.6194975\ttest: 0.6217076\tbest: 0.6217076 (45)\ttotal: 3.55s\tremaining: 1m 13s\n",
            "46:\tlearn: 0.6192682\ttest: 0.6215393\tbest: 0.6215393 (46)\ttotal: 3.63s\tremaining: 1m 13s\n",
            "47:\tlearn: 0.6191154\ttest: 0.6214102\tbest: 0.6214102 (47)\ttotal: 3.7s\tremaining: 1m 13s\n",
            "48:\tlearn: 0.6189394\ttest: 0.6212863\tbest: 0.6212863 (48)\ttotal: 3.77s\tremaining: 1m 13s\n",
            "49:\tlearn: 0.6185395\ttest: 0.6209078\tbest: 0.6209078 (49)\ttotal: 3.85s\tremaining: 1m 13s\n",
            "50:\tlearn: 0.6182160\ttest: 0.6205761\tbest: 0.6205761 (50)\ttotal: 3.92s\tremaining: 1m 12s\n",
            "51:\tlearn: 0.6181227\ttest: 0.6205434\tbest: 0.6205434 (51)\ttotal: 4s\tremaining: 1m 12s\n",
            "52:\tlearn: 0.6177579\ttest: 0.6203646\tbest: 0.6203646 (52)\ttotal: 4.06s\tremaining: 1m 12s\n",
            "53:\tlearn: 0.6172740\ttest: 0.6199728\tbest: 0.6199728 (53)\ttotal: 4.14s\tremaining: 1m 12s\n",
            "54:\tlearn: 0.6168926\ttest: 0.6196000\tbest: 0.6196000 (54)\ttotal: 4.23s\tremaining: 1m 12s\n",
            "55:\tlearn: 0.6166177\ttest: 0.6194622\tbest: 0.6194622 (55)\ttotal: 4.31s\tremaining: 1m 12s\n",
            "56:\tlearn: 0.6165500\ttest: 0.6194184\tbest: 0.6194184 (56)\ttotal: 4.38s\tremaining: 1m 12s\n",
            "57:\tlearn: 0.6163704\ttest: 0.6192949\tbest: 0.6192949 (57)\ttotal: 4.46s\tremaining: 1m 12s\n",
            "58:\tlearn: 0.6161080\ttest: 0.6190254\tbest: 0.6190254 (58)\ttotal: 4.53s\tremaining: 1m 12s\n",
            "59:\tlearn: 0.6158598\ttest: 0.6187449\tbest: 0.6187449 (59)\ttotal: 4.59s\tremaining: 1m 11s\n",
            "60:\tlearn: 0.6156136\ttest: 0.6185659\tbest: 0.6185659 (60)\ttotal: 4.68s\tremaining: 1m 11s\n",
            "61:\tlearn: 0.6154931\ttest: 0.6184790\tbest: 0.6184790 (61)\ttotal: 4.76s\tremaining: 1m 11s\n",
            "62:\tlearn: 0.6154126\ttest: 0.6184087\tbest: 0.6184087 (62)\ttotal: 4.83s\tremaining: 1m 11s\n",
            "63:\tlearn: 0.6153037\ttest: 0.6183654\tbest: 0.6183654 (63)\ttotal: 4.89s\tremaining: 1m 11s\n",
            "64:\tlearn: 0.6152555\ttest: 0.6183102\tbest: 0.6183102 (64)\ttotal: 4.94s\tremaining: 1m 11s\n",
            "65:\tlearn: 0.6148980\ttest: 0.6178343\tbest: 0.6178343 (65)\ttotal: 5.03s\tremaining: 1m 11s\n",
            "66:\tlearn: 0.6144831\ttest: 0.6175094\tbest: 0.6175094 (66)\ttotal: 5.11s\tremaining: 1m 11s\n",
            "67:\tlearn: 0.6144090\ttest: 0.6174491\tbest: 0.6174491 (67)\ttotal: 5.18s\tremaining: 1m 10s\n",
            "68:\tlearn: 0.6141151\ttest: 0.6172558\tbest: 0.6172558 (68)\ttotal: 5.25s\tremaining: 1m 10s\n",
            "69:\tlearn: 0.6139490\ttest: 0.6172055\tbest: 0.6172055 (69)\ttotal: 5.34s\tremaining: 1m 11s\n",
            "70:\tlearn: 0.6136868\ttest: 0.6168524\tbest: 0.6168524 (70)\ttotal: 5.41s\tremaining: 1m 10s\n",
            "71:\tlearn: 0.6136115\ttest: 0.6168317\tbest: 0.6168317 (71)\ttotal: 5.49s\tremaining: 1m 10s\n",
            "72:\tlearn: 0.6134639\ttest: 0.6167063\tbest: 0.6167063 (72)\ttotal: 5.56s\tremaining: 1m 10s\n",
            "73:\tlearn: 0.6130914\ttest: 0.6161786\tbest: 0.6161786 (73)\ttotal: 5.64s\tremaining: 1m 10s\n",
            "74:\tlearn: 0.6129840\ttest: 0.6160603\tbest: 0.6160603 (74)\ttotal: 5.72s\tremaining: 1m 10s\n",
            "75:\tlearn: 0.6128823\ttest: 0.6159524\tbest: 0.6159524 (75)\ttotal: 5.79s\tremaining: 1m 10s\n",
            "76:\tlearn: 0.6128177\ttest: 0.6159007\tbest: 0.6159007 (76)\ttotal: 5.85s\tremaining: 1m 10s\n",
            "77:\tlearn: 0.6125450\ttest: 0.6155950\tbest: 0.6155950 (77)\ttotal: 5.93s\tremaining: 1m 10s\n",
            "78:\tlearn: 0.6121255\ttest: 0.6151005\tbest: 0.6151005 (78)\ttotal: 6.02s\tremaining: 1m 10s\n",
            "79:\tlearn: 0.6120020\ttest: 0.6151208\tbest: 0.6151005 (78)\ttotal: 6.1s\tremaining: 1m 10s\n",
            "80:\tlearn: 0.6119434\ttest: 0.6150839\tbest: 0.6150839 (80)\ttotal: 6.18s\tremaining: 1m 10s\n",
            "81:\tlearn: 0.6118082\ttest: 0.6150012\tbest: 0.6150012 (81)\ttotal: 6.25s\tremaining: 1m 10s\n",
            "82:\tlearn: 0.6116620\ttest: 0.6148848\tbest: 0.6148848 (82)\ttotal: 6.33s\tremaining: 1m 9s\n",
            "83:\tlearn: 0.6113066\ttest: 0.6145882\tbest: 0.6145882 (83)\ttotal: 6.41s\tremaining: 1m 9s\n",
            "84:\tlearn: 0.6109853\ttest: 0.6142330\tbest: 0.6142330 (84)\ttotal: 6.5s\tremaining: 1m 9s\n",
            "85:\tlearn: 0.6108932\ttest: 0.6140981\tbest: 0.6140981 (85)\ttotal: 6.57s\tremaining: 1m 9s\n",
            "86:\tlearn: 0.6108116\ttest: 0.6140650\tbest: 0.6140650 (86)\ttotal: 6.64s\tremaining: 1m 9s\n",
            "87:\tlearn: 0.6107342\ttest: 0.6141148\tbest: 0.6140650 (86)\ttotal: 6.71s\tremaining: 1m 9s\n",
            "88:\tlearn: 0.6104863\ttest: 0.6138371\tbest: 0.6138371 (88)\ttotal: 6.77s\tremaining: 1m 9s\n",
            "89:\tlearn: 0.6101798\ttest: 0.6134429\tbest: 0.6134429 (89)\ttotal: 6.84s\tremaining: 1m 9s\n",
            "90:\tlearn: 0.6098813\ttest: 0.6132730\tbest: 0.6132730 (90)\ttotal: 6.92s\tremaining: 1m 9s\n",
            "91:\tlearn: 0.6098247\ttest: 0.6132457\tbest: 0.6132457 (91)\ttotal: 7s\tremaining: 1m 9s\n",
            "92:\tlearn: 0.6096038\ttest: 0.6129837\tbest: 0.6129837 (92)\ttotal: 7.07s\tremaining: 1m 8s\n",
            "93:\tlearn: 0.6094214\ttest: 0.6128742\tbest: 0.6128742 (93)\ttotal: 7.15s\tremaining: 1m 8s\n",
            "94:\tlearn: 0.6094020\ttest: 0.6128946\tbest: 0.6128742 (93)\ttotal: 7.21s\tremaining: 1m 8s\n",
            "95:\tlearn: 0.6091744\ttest: 0.6127682\tbest: 0.6127682 (95)\ttotal: 7.3s\tremaining: 1m 8s\n",
            "96:\tlearn: 0.6089693\ttest: 0.6125740\tbest: 0.6125740 (96)\ttotal: 7.37s\tremaining: 1m 8s\n",
            "97:\tlearn: 0.6089257\ttest: 0.6125116\tbest: 0.6125116 (97)\ttotal: 7.44s\tremaining: 1m 8s\n",
            "98:\tlearn: 0.6088435\ttest: 0.6125075\tbest: 0.6125075 (98)\ttotal: 7.51s\tremaining: 1m 8s\n",
            "99:\tlearn: 0.6085025\ttest: 0.6122948\tbest: 0.6122948 (99)\ttotal: 7.58s\tremaining: 1m 8s\n",
            "100:\tlearn: 0.6084619\ttest: 0.6122441\tbest: 0.6122441 (100)\ttotal: 7.65s\tremaining: 1m 8s\n",
            "101:\tlearn: 0.6084333\ttest: 0.6122371\tbest: 0.6122371 (101)\ttotal: 7.72s\tremaining: 1m 8s\n",
            "102:\tlearn: 0.6083595\ttest: 0.6122003\tbest: 0.6122003 (102)\ttotal: 7.8s\tremaining: 1m 7s\n",
            "103:\tlearn: 0.6082894\ttest: 0.6121519\tbest: 0.6121519 (103)\ttotal: 7.87s\tremaining: 1m 7s\n",
            "104:\tlearn: 0.6080317\ttest: 0.6119851\tbest: 0.6119851 (104)\ttotal: 7.95s\tremaining: 1m 7s\n",
            "105:\tlearn: 0.6078799\ttest: 0.6118914\tbest: 0.6118914 (105)\ttotal: 8.05s\tremaining: 1m 7s\n",
            "106:\tlearn: 0.6077016\ttest: 0.6117618\tbest: 0.6117618 (106)\ttotal: 8.12s\tremaining: 1m 7s\n",
            "107:\tlearn: 0.6076113\ttest: 0.6117185\tbest: 0.6117185 (107)\ttotal: 8.19s\tremaining: 1m 7s\n",
            "108:\tlearn: 0.6073905\ttest: 0.6115493\tbest: 0.6115493 (108)\ttotal: 8.26s\tremaining: 1m 7s\n",
            "109:\tlearn: 0.6072682\ttest: 0.6116339\tbest: 0.6115493 (108)\ttotal: 8.34s\tremaining: 1m 7s\n",
            "110:\tlearn: 0.6071633\ttest: 0.6115094\tbest: 0.6115094 (110)\ttotal: 8.42s\tremaining: 1m 7s\n",
            "111:\tlearn: 0.6069657\ttest: 0.6112933\tbest: 0.6112933 (111)\ttotal: 8.49s\tremaining: 1m 7s\n",
            "112:\tlearn: 0.6067911\ttest: 0.6112027\tbest: 0.6112027 (112)\ttotal: 8.57s\tremaining: 1m 7s\n",
            "113:\tlearn: 0.6067450\ttest: 0.6111615\tbest: 0.6111615 (113)\ttotal: 8.63s\tremaining: 1m 7s\n",
            "114:\tlearn: 0.6065246\ttest: 0.6109645\tbest: 0.6109645 (114)\ttotal: 8.71s\tremaining: 1m 7s\n",
            "115:\tlearn: 0.6064008\ttest: 0.6108262\tbest: 0.6108262 (115)\ttotal: 8.79s\tremaining: 1m 6s\n",
            "116:\tlearn: 0.6061805\ttest: 0.6105638\tbest: 0.6105638 (116)\ttotal: 8.87s\tremaining: 1m 6s\n",
            "117:\tlearn: 0.6060945\ttest: 0.6106413\tbest: 0.6105638 (116)\ttotal: 8.95s\tremaining: 1m 6s\n",
            "118:\tlearn: 0.6057970\ttest: 0.6102932\tbest: 0.6102932 (118)\ttotal: 9.02s\tremaining: 1m 6s\n",
            "119:\tlearn: 0.6055637\ttest: 0.6101555\tbest: 0.6101555 (119)\ttotal: 9.11s\tremaining: 1m 6s\n",
            "120:\tlearn: 0.6054771\ttest: 0.6101853\tbest: 0.6101555 (119)\ttotal: 9.18s\tremaining: 1m 6s\n",
            "121:\tlearn: 0.6053649\ttest: 0.6101907\tbest: 0.6101555 (119)\ttotal: 9.25s\tremaining: 1m 6s\n",
            "122:\tlearn: 0.6051760\ttest: 0.6101508\tbest: 0.6101508 (122)\ttotal: 9.32s\tremaining: 1m 6s\n",
            "123:\tlearn: 0.6050758\ttest: 0.6100891\tbest: 0.6100891 (123)\ttotal: 9.39s\tremaining: 1m 6s\n",
            "124:\tlearn: 0.6048289\ttest: 0.6099189\tbest: 0.6099189 (124)\ttotal: 9.47s\tremaining: 1m 6s\n",
            "125:\tlearn: 0.6047459\ttest: 0.6098821\tbest: 0.6098821 (125)\ttotal: 9.54s\tremaining: 1m 6s\n",
            "126:\tlearn: 0.6044884\ttest: 0.6096911\tbest: 0.6096911 (126)\ttotal: 9.62s\tremaining: 1m 6s\n",
            "127:\tlearn: 0.6042607\ttest: 0.6095330\tbest: 0.6095330 (127)\ttotal: 9.7s\tremaining: 1m 6s\n",
            "128:\tlearn: 0.6040396\ttest: 0.6093310\tbest: 0.6093310 (128)\ttotal: 9.77s\tremaining: 1m 5s\n",
            "129:\tlearn: 0.6036789\ttest: 0.6088681\tbest: 0.6088681 (129)\ttotal: 9.84s\tremaining: 1m 5s\n",
            "130:\tlearn: 0.6035184\ttest: 0.6088708\tbest: 0.6088681 (129)\ttotal: 9.93s\tremaining: 1m 5s\n",
            "131:\tlearn: 0.6032408\ttest: 0.6085167\tbest: 0.6085167 (131)\ttotal: 10s\tremaining: 1m 5s\n",
            "132:\tlearn: 0.6030519\ttest: 0.6084086\tbest: 0.6084086 (132)\ttotal: 10.1s\tremaining: 1m 5s\n",
            "133:\tlearn: 0.6028880\ttest: 0.6082123\tbest: 0.6082123 (133)\ttotal: 10.2s\tremaining: 1m 5s\n",
            "134:\tlearn: 0.6025988\ttest: 0.6078481\tbest: 0.6078481 (134)\ttotal: 10.3s\tremaining: 1m 5s\n",
            "135:\tlearn: 0.6024941\ttest: 0.6077834\tbest: 0.6077834 (135)\ttotal: 10.3s\tremaining: 1m 5s\n",
            "136:\tlearn: 0.6022315\ttest: 0.6076399\tbest: 0.6076399 (136)\ttotal: 10.4s\tremaining: 1m 5s\n",
            "137:\tlearn: 0.6018771\ttest: 0.6072931\tbest: 0.6072931 (137)\ttotal: 10.5s\tremaining: 1m 5s\n",
            "138:\tlearn: 0.6017303\ttest: 0.6071644\tbest: 0.6071644 (138)\ttotal: 10.6s\tremaining: 1m 5s\n",
            "139:\tlearn: 0.6014804\ttest: 0.6069954\tbest: 0.6069954 (139)\ttotal: 10.7s\tremaining: 1m 5s\n",
            "140:\tlearn: 0.6014082\ttest: 0.6069762\tbest: 0.6069762 (140)\ttotal: 10.7s\tremaining: 1m 5s\n",
            "141:\tlearn: 0.6012501\ttest: 0.6068474\tbest: 0.6068474 (141)\ttotal: 10.8s\tremaining: 1m 5s\n",
            "142:\tlearn: 0.6010400\ttest: 0.6066790\tbest: 0.6066790 (142)\ttotal: 10.9s\tremaining: 1m 5s\n",
            "143:\tlearn: 0.6007570\ttest: 0.6063605\tbest: 0.6063605 (143)\ttotal: 11s\tremaining: 1m 5s\n",
            "144:\tlearn: 0.6005104\ttest: 0.6062860\tbest: 0.6062860 (144)\ttotal: 11s\tremaining: 1m 5s\n",
            "145:\tlearn: 0.6003166\ttest: 0.6061425\tbest: 0.6061425 (145)\ttotal: 11.1s\tremaining: 1m 5s\n",
            "146:\tlearn: 0.6000380\ttest: 0.6059298\tbest: 0.6059298 (146)\ttotal: 11.2s\tremaining: 1m 5s\n",
            "147:\tlearn: 0.5997191\ttest: 0.6056017\tbest: 0.6056017 (147)\ttotal: 11.3s\tremaining: 1m 5s\n",
            "148:\tlearn: 0.5994925\ttest: 0.6055627\tbest: 0.6055627 (148)\ttotal: 11.4s\tremaining: 1m 4s\n",
            "149:\tlearn: 0.5992521\ttest: 0.6052327\tbest: 0.6052327 (149)\ttotal: 11.4s\tremaining: 1m 4s\n",
            "150:\tlearn: 0.5989908\ttest: 0.6050798\tbest: 0.6050798 (150)\ttotal: 11.5s\tremaining: 1m 4s\n",
            "151:\tlearn: 0.5988022\ttest: 0.6050364\tbest: 0.6050364 (151)\ttotal: 11.6s\tremaining: 1m 4s\n",
            "152:\tlearn: 0.5987238\ttest: 0.6050166\tbest: 0.6050166 (152)\ttotal: 11.7s\tremaining: 1m 4s\n",
            "153:\tlearn: 0.5985419\ttest: 0.6048628\tbest: 0.6048628 (153)\ttotal: 11.8s\tremaining: 1m 4s\n",
            "154:\tlearn: 0.5983287\ttest: 0.6047726\tbest: 0.6047726 (154)\ttotal: 11.8s\tremaining: 1m 4s\n",
            "155:\tlearn: 0.5982526\ttest: 0.6047504\tbest: 0.6047504 (155)\ttotal: 11.9s\tremaining: 1m 4s\n",
            "156:\tlearn: 0.5979384\ttest: 0.6045153\tbest: 0.6045153 (156)\ttotal: 12s\tremaining: 1m 4s\n",
            "157:\tlearn: 0.5976246\ttest: 0.6041228\tbest: 0.6041228 (157)\ttotal: 12.1s\tremaining: 1m 4s\n",
            "158:\tlearn: 0.5974524\ttest: 0.6039793\tbest: 0.6039793 (158)\ttotal: 12.1s\tremaining: 1m 4s\n",
            "159:\tlearn: 0.5973711\ttest: 0.6039776\tbest: 0.6039776 (159)\ttotal: 12.3s\tremaining: 1m 4s\n",
            "160:\tlearn: 0.5972660\ttest: 0.6039207\tbest: 0.6039207 (160)\ttotal: 12.3s\tremaining: 1m 4s\n",
            "161:\tlearn: 0.5970093\ttest: 0.6035954\tbest: 0.6035954 (161)\ttotal: 12.4s\tremaining: 1m 4s\n",
            "162:\tlearn: 0.5968754\ttest: 0.6035489\tbest: 0.6035489 (162)\ttotal: 12.5s\tremaining: 1m 4s\n",
            "163:\tlearn: 0.5967808\ttest: 0.6035093\tbest: 0.6035093 (163)\ttotal: 12.6s\tremaining: 1m 4s\n",
            "164:\tlearn: 0.5966751\ttest: 0.6034636\tbest: 0.6034636 (164)\ttotal: 12.6s\tremaining: 1m 3s\n",
            "165:\tlearn: 0.5964257\ttest: 0.6031812\tbest: 0.6031812 (165)\ttotal: 12.7s\tremaining: 1m 3s\n",
            "166:\tlearn: 0.5962043\ttest: 0.6030045\tbest: 0.6030045 (166)\ttotal: 12.8s\tremaining: 1m 3s\n",
            "167:\tlearn: 0.5960720\ttest: 0.6028929\tbest: 0.6028929 (167)\ttotal: 12.9s\tremaining: 1m 3s\n",
            "168:\tlearn: 0.5959479\ttest: 0.6028337\tbest: 0.6028337 (168)\ttotal: 12.9s\tremaining: 1m 3s\n",
            "169:\tlearn: 0.5957309\ttest: 0.6028107\tbest: 0.6028107 (169)\ttotal: 13s\tremaining: 1m 3s\n",
            "170:\tlearn: 0.5955393\ttest: 0.6026435\tbest: 0.6026435 (170)\ttotal: 13.1s\tremaining: 1m 3s\n",
            "171:\tlearn: 0.5953053\ttest: 0.6024433\tbest: 0.6024433 (171)\ttotal: 13.2s\tremaining: 1m 3s\n",
            "172:\tlearn: 0.5951342\ttest: 0.6024236\tbest: 0.6024236 (172)\ttotal: 13.3s\tremaining: 1m 3s\n",
            "173:\tlearn: 0.5949543\ttest: 0.6022832\tbest: 0.6022832 (173)\ttotal: 13.3s\tremaining: 1m 3s\n",
            "174:\tlearn: 0.5947562\ttest: 0.6022120\tbest: 0.6022120 (174)\ttotal: 13.4s\tremaining: 1m 3s\n",
            "175:\tlearn: 0.5946129\ttest: 0.6021490\tbest: 0.6021490 (175)\ttotal: 13.5s\tremaining: 1m 3s\n",
            "176:\tlearn: 0.5944926\ttest: 0.6020861\tbest: 0.6020861 (176)\ttotal: 13.6s\tremaining: 1m 3s\n",
            "177:\tlearn: 0.5942487\ttest: 0.6018129\tbest: 0.6018129 (177)\ttotal: 13.6s\tremaining: 1m 3s\n",
            "178:\tlearn: 0.5941329\ttest: 0.6017541\tbest: 0.6017541 (178)\ttotal: 13.7s\tremaining: 1m 2s\n",
            "179:\tlearn: 0.5939071\ttest: 0.6015044\tbest: 0.6015044 (179)\ttotal: 13.8s\tremaining: 1m 2s\n",
            "180:\tlearn: 0.5937177\ttest: 0.6012554\tbest: 0.6012554 (180)\ttotal: 13.9s\tremaining: 1m 2s\n",
            "181:\tlearn: 0.5935948\ttest: 0.6011215\tbest: 0.6011215 (181)\ttotal: 14s\tremaining: 1m 2s\n",
            "182:\tlearn: 0.5934412\ttest: 0.6009989\tbest: 0.6009989 (182)\ttotal: 14s\tremaining: 1m 2s\n",
            "183:\tlearn: 0.5932618\ttest: 0.6008944\tbest: 0.6008944 (183)\ttotal: 14.1s\tremaining: 1m 2s\n",
            "184:\tlearn: 0.5930824\ttest: 0.6007890\tbest: 0.6007890 (184)\ttotal: 14.2s\tremaining: 1m 2s\n",
            "185:\tlearn: 0.5929485\ttest: 0.6008548\tbest: 0.6007890 (184)\ttotal: 14.3s\tremaining: 1m 2s\n",
            "186:\tlearn: 0.5927330\ttest: 0.6008684\tbest: 0.6007890 (184)\ttotal: 14.4s\tremaining: 1m 2s\n",
            "187:\tlearn: 0.5925991\ttest: 0.6006897\tbest: 0.6006897 (187)\ttotal: 14.4s\tremaining: 1m 2s\n",
            "188:\tlearn: 0.5925482\ttest: 0.6006919\tbest: 0.6006897 (187)\ttotal: 14.5s\tremaining: 1m 2s\n",
            "189:\tlearn: 0.5923847\ttest: 0.6007504\tbest: 0.6006897 (187)\ttotal: 14.6s\tremaining: 1m 2s\n",
            "190:\tlearn: 0.5922662\ttest: 0.6005917\tbest: 0.6005917 (190)\ttotal: 14.7s\tremaining: 1m 2s\n",
            "191:\tlearn: 0.5920795\ttest: 0.6004366\tbest: 0.6004366 (191)\ttotal: 14.7s\tremaining: 1m 2s\n",
            "192:\tlearn: 0.5919681\ttest: 0.6004297\tbest: 0.6004297 (192)\ttotal: 14.8s\tremaining: 1m 1s\n",
            "193:\tlearn: 0.5917828\ttest: 0.6003038\tbest: 0.6003038 (193)\ttotal: 14.9s\tremaining: 1m 1s\n",
            "194:\tlearn: 0.5916382\ttest: 0.6003024\tbest: 0.6003024 (194)\ttotal: 15s\tremaining: 1m 1s\n",
            "195:\tlearn: 0.5914790\ttest: 0.6002057\tbest: 0.6002057 (195)\ttotal: 15.1s\tremaining: 1m 1s\n",
            "196:\tlearn: 0.5913136\ttest: 0.6000365\tbest: 0.6000365 (196)\ttotal: 15.1s\tremaining: 1m 1s\n",
            "197:\tlearn: 0.5910980\ttest: 0.5998866\tbest: 0.5998866 (197)\ttotal: 15.2s\tremaining: 1m 1s\n",
            "198:\tlearn: 0.5909358\ttest: 0.5997147\tbest: 0.5997147 (198)\ttotal: 15.3s\tremaining: 1m 1s\n",
            "199:\tlearn: 0.5907866\ttest: 0.5995771\tbest: 0.5995771 (199)\ttotal: 15.4s\tremaining: 1m 1s\n",
            "200:\tlearn: 0.5906767\ttest: 0.5995009\tbest: 0.5995009 (200)\ttotal: 15.4s\tremaining: 1m 1s\n",
            "201:\tlearn: 0.5905429\ttest: 0.5994248\tbest: 0.5994248 (201)\ttotal: 15.5s\tremaining: 1m 1s\n",
            "202:\tlearn: 0.5904815\ttest: 0.5994218\tbest: 0.5994218 (202)\ttotal: 15.6s\tremaining: 1m 1s\n",
            "203:\tlearn: 0.5903560\ttest: 0.5994093\tbest: 0.5994093 (203)\ttotal: 15.7s\tremaining: 1m 1s\n",
            "204:\tlearn: 0.5901776\ttest: 0.5992305\tbest: 0.5992305 (204)\ttotal: 15.8s\tremaining: 1m 1s\n",
            "205:\tlearn: 0.5900255\ttest: 0.5990981\tbest: 0.5990981 (205)\ttotal: 15.8s\tremaining: 1m 1s\n",
            "206:\tlearn: 0.5899082\ttest: 0.5990532\tbest: 0.5990532 (206)\ttotal: 15.9s\tremaining: 1m\n",
            "207:\tlearn: 0.5897415\ttest: 0.5989458\tbest: 0.5989458 (207)\ttotal: 16s\tremaining: 1m\n",
            "208:\tlearn: 0.5896294\ttest: 0.5988940\tbest: 0.5988940 (208)\ttotal: 16.1s\tremaining: 1m\n",
            "209:\tlearn: 0.5895240\ttest: 0.5988353\tbest: 0.5988353 (209)\ttotal: 16.2s\tremaining: 1m\n",
            "210:\tlearn: 0.5894501\ttest: 0.5989067\tbest: 0.5988353 (209)\ttotal: 16.2s\tremaining: 1m\n",
            "211:\tlearn: 0.5891883\ttest: 0.5986802\tbest: 0.5986802 (211)\ttotal: 16.3s\tremaining: 1m\n",
            "212:\tlearn: 0.5890498\ttest: 0.5985956\tbest: 0.5985956 (212)\ttotal: 16.4s\tremaining: 1m\n",
            "213:\tlearn: 0.5889148\ttest: 0.5985230\tbest: 0.5985230 (213)\ttotal: 16.5s\tremaining: 1m\n",
            "214:\tlearn: 0.5888375\ttest: 0.5985513\tbest: 0.5985230 (213)\ttotal: 16.6s\tremaining: 1m\n",
            "215:\tlearn: 0.5886813\ttest: 0.5984893\tbest: 0.5984893 (215)\ttotal: 16.6s\tremaining: 1m\n",
            "216:\tlearn: 0.5886212\ttest: 0.5984891\tbest: 0.5984891 (216)\ttotal: 16.7s\tremaining: 1m\n",
            "217:\tlearn: 0.5885049\ttest: 0.5985316\tbest: 0.5984891 (216)\ttotal: 16.8s\tremaining: 1m\n",
            "218:\tlearn: 0.5884143\ttest: 0.5985318\tbest: 0.5984891 (216)\ttotal: 16.8s\tremaining: 1m\n",
            "219:\tlearn: 0.5883185\ttest: 0.5985667\tbest: 0.5984891 (216)\ttotal: 16.9s\tremaining: 1m\n",
            "220:\tlearn: 0.5882048\ttest: 0.5986081\tbest: 0.5984891 (216)\ttotal: 17s\tremaining: 59.9s\n",
            "221:\tlearn: 0.5881396\ttest: 0.5986062\tbest: 0.5984891 (216)\ttotal: 17.1s\tremaining: 59.8s\n",
            "Stopped by overfitting detector  (5 iterations wait)\n",
            "\n",
            "bestTest = 0.5984890861\n",
            "bestIteration = 216\n",
            "\n",
            "Shrink model to first 217 iterations.\n"
          ],
          "name": "stdout"
        },
        {
          "output_type": "execute_result",
          "data": {
            "text/plain": [
              "<catboost.core.CatBoostClassifier at 0x7fdd45d777d0>"
            ]
          },
          "metadata": {
            "tags": []
          },
          "execution_count": 288
        }
      ]
    },
    {
      "cell_type": "markdown",
      "metadata": {
        "id": "mgVc-eNj0J7R"
      },
      "source": [
        "## Predict"
      ]
    },
    {
      "cell_type": "code",
      "metadata": {
        "colab": {
          "base_uri": "https://localhost:8080/"
        },
        "id": "75WqhF190JHo",
        "outputId": "64e02194-ed54-48f9-b240-3fda6964d46c"
      },
      "source": [
        "preds = model.predict(X_test)\n",
        "probs = model.predict_proba(X_test)\n",
        "\n",
        "accuracy = accuracy_score(y_test, preds)\n",
        "f1       = f1_score(y_test, preds)\n",
        "roc      = roc_auc_score(y_test, probs[:,1])\n",
        "recall   = recall_score(y_test, preds)\n",
        "results_df.loc['Baseline'] = [accuracy, f1, roc, recall]\n",
        "\n",
        "print(classification_report(y_test, preds))"
      ],
      "execution_count": 289,
      "outputs": [
        {
          "output_type": "stream",
          "text": [
            "              precision    recall  f1-score   support\n",
            "\n",
            "           0       0.90      0.60      0.72     22130\n",
            "           1       0.31      0.73      0.44      5502\n",
            "\n",
            "    accuracy                           0.63     27632\n",
            "   macro avg       0.61      0.67      0.58     27632\n",
            "weighted avg       0.78      0.63      0.66     27632\n",
            "\n"
          ],
          "name": "stdout"
        }
      ]
    },
    {
      "cell_type": "markdown",
      "metadata": {
        "id": "-zFKBSZhwW2t"
      },
      "source": [
        "## Importance"
      ]
    },
    {
      "cell_type": "code",
      "metadata": {
        "colab": {
          "base_uri": "https://localhost:8080/",
          "height": 373
        },
        "id": "gAlV82k6wYG-",
        "outputId": "9822e2d9-a746-45fd-fe49-a34523916fc2"
      },
      "source": [
        "imp  = model.feature_importances_\n",
        "feat = model.feature_names_\n",
        "pd.DataFrame({'Feature' : feat, 'Importance': imp}).sort_values('Importance', ascending=False)"
      ],
      "execution_count": 290,
      "outputs": [
        {
          "output_type": "execute_result",
          "data": {
            "text/html": [
              "<div>\n",
              "<style scoped>\n",
              "    .dataframe tbody tr th:only-of-type {\n",
              "        vertical-align: middle;\n",
              "    }\n",
              "\n",
              "    .dataframe tbody tr th {\n",
              "        vertical-align: top;\n",
              "    }\n",
              "\n",
              "    .dataframe thead th {\n",
              "        text-align: right;\n",
              "    }\n",
              "</style>\n",
              "<table border=\"1\" class=\"dataframe\">\n",
              "  <thead>\n",
              "    <tr style=\"text-align: right;\">\n",
              "      <th></th>\n",
              "      <th>Feature</th>\n",
              "      <th>Importance</th>\n",
              "    </tr>\n",
              "  </thead>\n",
              "  <tbody>\n",
              "    <tr>\n",
              "      <th>1</th>\n",
              "      <td>scheduled_day</td>\n",
              "      <td>39.378920</td>\n",
              "    </tr>\n",
              "    <tr>\n",
              "      <th>2</th>\n",
              "      <td>appointment_day</td>\n",
              "      <td>29.569293</td>\n",
              "    </tr>\n",
              "    <tr>\n",
              "      <th>3</th>\n",
              "      <td>age</td>\n",
              "      <td>9.855654</td>\n",
              "    </tr>\n",
              "    <tr>\n",
              "      <th>10</th>\n",
              "      <td>sms_received</td>\n",
              "      <td>9.485579</td>\n",
              "    </tr>\n",
              "    <tr>\n",
              "      <th>4</th>\n",
              "      <td>neighbourhood</td>\n",
              "      <td>6.213779</td>\n",
              "    </tr>\n",
              "    <tr>\n",
              "      <th>0</th>\n",
              "      <td>gender</td>\n",
              "      <td>1.366170</td>\n",
              "    </tr>\n",
              "    <tr>\n",
              "      <th>9</th>\n",
              "      <td>handicap</td>\n",
              "      <td>1.346324</td>\n",
              "    </tr>\n",
              "    <tr>\n",
              "      <th>8</th>\n",
              "      <td>alcoholism</td>\n",
              "      <td>1.130176</td>\n",
              "    </tr>\n",
              "    <tr>\n",
              "      <th>5</th>\n",
              "      <td>scholarship</td>\n",
              "      <td>0.742256</td>\n",
              "    </tr>\n",
              "    <tr>\n",
              "      <th>7</th>\n",
              "      <td>diabetes</td>\n",
              "      <td>0.513345</td>\n",
              "    </tr>\n",
              "    <tr>\n",
              "      <th>6</th>\n",
              "      <td>hypertension</td>\n",
              "      <td>0.398504</td>\n",
              "    </tr>\n",
              "  </tbody>\n",
              "</table>\n",
              "</div>"
            ],
            "text/plain": [
              "            Feature  Importance\n",
              "1     scheduled_day   39.378920\n",
              "2   appointment_day   29.569293\n",
              "3               age    9.855654\n",
              "10     sms_received    9.485579\n",
              "4     neighbourhood    6.213779\n",
              "0            gender    1.366170\n",
              "9          handicap    1.346324\n",
              "8        alcoholism    1.130176\n",
              "5       scholarship    0.742256\n",
              "7          diabetes    0.513345\n",
              "6      hypertension    0.398504"
            ]
          },
          "metadata": {
            "tags": []
          },
          "execution_count": 290
        }
      ]
    },
    {
      "cell_type": "markdown",
      "metadata": {
        "id": "wlGImLQpQPtT"
      },
      "source": [
        "# Feature Engine\n",
        "![](https://feature-engine.readthedocs.io/en/1.0.x/_images/FeatureEngine.png)"
      ]
    },
    {
      "cell_type": "markdown",
      "metadata": {
        "id": "GelCy6Ucmg5w"
      },
      "source": [
        "## Capabilities\n",
        "* Missing Data\n",
        "* Categorical Variables\n",
        "* Variable Transformations\n",
        "* Discretization\n",
        "* Outliers\n",
        "* Feature Creation\n",
        "* Feature Selection\n",
        "* https://www.packtpub.com/product/python-feature-engineering-cookbook/9781789806311"
      ]
    },
    {
      "cell_type": "markdown",
      "metadata": {
        "id": "ODbti4YcQZj9"
      },
      "source": [
        "## Categories"
      ]
    },
    {
      "cell_type": "code",
      "metadata": {
        "id": "FfjBffX2QZj-"
      },
      "source": [
        "CATEGORIES = ['gender',\n",
        "              'neighbourhood',\n",
        "              'scholarship',\n",
        "              'hypertension',\n",
        "              'diabetes',\n",
        "              'alcoholism',\n",
        "              'handicap',\n",
        "              'sms_received']"
      ],
      "execution_count": 291,
      "outputs": []
    },
    {
      "cell_type": "code",
      "metadata": {
        "id": "pldOHv0HQZj-"
      },
      "source": [
        "X = df.copy()\n",
        "y = df['no_show']\n",
        "X = df.drop(columns=['no_show', 'patient_id', 'appointment_id'])"
      ],
      "execution_count": 292,
      "outputs": []
    },
    {
      "cell_type": "code",
      "metadata": {
        "colab": {
          "base_uri": "https://localhost:8080/"
        },
        "id": "_44V33WkjuCu",
        "outputId": "128bdfdd-5eb2-41f4-9731-13eb5d8fba11"
      },
      "source": [
        "# Feature Engine looks for object types\n",
        "# Can't handle categories (seems like a possible place to make a PR)\n",
        "for cat in CATEGORIES:\n",
        "  X[cat] = X[cat].astype('object')\n",
        "X.dtypes"
      ],
      "execution_count": 293,
      "outputs": [
        {
          "output_type": "execute_result",
          "data": {
            "text/plain": [
              "gender                     object\n",
              "scheduled_day      datetime64[ns]\n",
              "appointment_day    datetime64[ns]\n",
              "age                         int64\n",
              "neighbourhood              object\n",
              "scholarship                object\n",
              "hypertension               object\n",
              "diabetes                   object\n",
              "alcoholism                 object\n",
              "handicap                   object\n",
              "sms_received               object\n",
              "dtype: object"
            ]
          },
          "metadata": {
            "tags": []
          },
          "execution_count": 293
        }
      ]
    },
    {
      "cell_type": "markdown",
      "metadata": {
        "id": "iP-E2902jXPB"
      },
      "source": [
        "## Split"
      ]
    },
    {
      "cell_type": "code",
      "metadata": {
        "colab": {
          "base_uri": "https://localhost:8080/"
        },
        "id": "j_0hJPLPjV2g",
        "outputId": "f9d9e10a-c912-4525-862d-4249448c5289"
      },
      "source": [
        "X_train, X_test, y_train, y_test = train_test_split(X, y, random_state=10)\n",
        "X_train, X_eval, y_train, y_eval = train_test_split(X_train, y_train, test_size=0.1, random_state=10)\n",
        "print(len(X_train), len(X_eval), len(X_test))"
      ],
      "execution_count": 294,
      "outputs": [
        {
          "output_type": "stream",
          "text": [
            "74605 8290 27632\n"
          ],
          "name": "stdout"
        }
      ]
    },
    {
      "cell_type": "markdown",
      "metadata": {
        "id": "WTMcmTLpQkxb"
      },
      "source": [
        "## Mean Encoding\n",
        "* Replace OHE / Label encoding with continuous value\n",
        "* Replacement takes mean of label grouped by category\n",
        "* Library has several encoders and follows scikit\n",
        "  * OneHot\n",
        "  * CountFreq\n",
        "  * Ordinal\n",
        "  * Mean\n",
        "  * Weight of Evidence\n",
        "  * PRatio\n",
        "  * DecisionTree\n",
        "  * RareLabel"
      ]
    },
    {
      "cell_type": "code",
      "metadata": {
        "id": "KOB9k3LOQk2z"
      },
      "source": [
        "encode = CATEGORIES\n",
        "encoder_mean = ce.MeanEncoder(variables=encode)\n",
        "encoder_mean.fit(X_train, y_train)\n",
        "X_train = encoder_mean.transform(X_train)\n",
        "X_eval  = encoder_mean.transform(X_eval)\n",
        "X_test  = encoder_mean.transform(X_test)"
      ],
      "execution_count": 295,
      "outputs": []
    },
    {
      "cell_type": "code",
      "metadata": {
        "colab": {
          "base_uri": "https://localhost:8080/"
        },
        "id": "lXtvOOrMmHa1",
        "outputId": "868c8404-fc2f-48e0-ebbe-bf2ff72020cf"
      },
      "source": [
        "X_train.dtypes"
      ],
      "execution_count": 296,
      "outputs": [
        {
          "output_type": "execute_result",
          "data": {
            "text/plain": [
              "gender                    float64\n",
              "scheduled_day      datetime64[ns]\n",
              "appointment_day    datetime64[ns]\n",
              "age                         int64\n",
              "neighbourhood             float64\n",
              "scholarship               float64\n",
              "hypertension              float64\n",
              "diabetes                  float64\n",
              "alcoholism                float64\n",
              "handicap                  float64\n",
              "sms_received              float64\n",
              "dtype: object"
            ]
          },
          "metadata": {
            "tags": []
          },
          "execution_count": 296
        }
      ]
    },
    {
      "cell_type": "markdown",
      "metadata": {
        "id": "Wb9R6tiTyFOF"
      },
      "source": [
        "## Dates & Times"
      ]
    },
    {
      "cell_type": "code",
      "metadata": {
        "id": "pg2S3awlyIcb"
      },
      "source": [
        "for frame in [X_train, X_eval, X_test]:\n",
        "  frame['scheduled_year']  = frame.scheduled_day.dt.year \n",
        "  frame['scheduled_month'] = frame.scheduled_day.dt.month \n",
        "  frame['scheduled_dom']   = frame.scheduled_day.dt.day\n",
        "  frame['scheduled_dow']   = frame.scheduled_day.dt.day_of_week\n",
        "  frame['scheduled_hour']  = frame.scheduled_day.dt.hour\n",
        "  \n",
        "  frame['appointment_year']  = frame.appointment_day.dt.year \n",
        "  frame['appointment_month'] = frame.appointment_day.dt.month \n",
        "  frame['appointment_dom']   = frame.appointment_day.dt.day\n",
        "  frame['appointment_dow']   = frame.appointment_day.dt.day_of_week\n",
        "  frame['appointment_hour']  = frame.appointment_day.dt.hour\n",
        "\n",
        "  frame.pop('scheduled_day')\n",
        "  frame.pop('appointment_day')"
      ],
      "execution_count": 297,
      "outputs": []
    },
    {
      "cell_type": "markdown",
      "metadata": {
        "id": "E2tdVpQSQZj-"
      },
      "source": [
        "## Train"
      ]
    },
    {
      "cell_type": "code",
      "metadata": {
        "colab": {
          "base_uri": "https://localhost:8080/",
          "height": 1000,
          "referenced_widgets": [
            "f30f62552b2444619fc5b84f17e096a4"
          ]
        },
        "id": "52BXTgx3QZkA",
        "outputId": "26334ffb-b0fa-4382-f774-ab39fca1a659"
      },
      "source": [
        "model = CatBoostClassifier(class_weights=WEIGHTS)\n",
        "model.fit(X_train, y_train,\n",
        "          eval_set=(X_eval, y_eval), \n",
        "          early_stopping_rounds=5,\n",
        "          plot=True)"
      ],
      "execution_count": 298,
      "outputs": [
        {
          "output_type": "display_data",
          "data": {
            "application/vnd.jupyter.widget-view+json": {
              "model_id": "f30f62552b2444619fc5b84f17e096a4",
              "version_minor": 0,
              "version_major": 2
            },
            "text/plain": [
              "MetricVisualizer(layout=Layout(align_self='stretch', height='500px'))"
            ]
          },
          "metadata": {
            "tags": []
          }
        },
        {
          "output_type": "stream",
          "text": [
            "Learning rate set to 0.091935\n",
            "0:\tlearn: 0.6857052\ttest: 0.6859597\tbest: 0.6859597 (0)\ttotal: 31.6ms\tremaining: 31.6s\n",
            "1:\tlearn: 0.6772180\ttest: 0.6775525\tbest: 0.6775525 (1)\ttotal: 64.5ms\tremaining: 32.2s\n",
            "2:\tlearn: 0.6716679\ttest: 0.6724493\tbest: 0.6724493 (2)\ttotal: 93.3ms\tremaining: 31s\n",
            "3:\tlearn: 0.6668634\ttest: 0.6679889\tbest: 0.6679889 (3)\ttotal: 123ms\tremaining: 30.6s\n",
            "4:\tlearn: 0.6625736\ttest: 0.6638760\tbest: 0.6638760 (4)\ttotal: 152ms\tremaining: 30.2s\n",
            "5:\tlearn: 0.6572730\ttest: 0.6586509\tbest: 0.6586509 (5)\ttotal: 181ms\tremaining: 29.9s\n",
            "6:\tlearn: 0.6540511\ttest: 0.6553327\tbest: 0.6553327 (6)\ttotal: 216ms\tremaining: 30.7s\n",
            "7:\tlearn: 0.6504196\ttest: 0.6517485\tbest: 0.6517485 (7)\ttotal: 261ms\tremaining: 32.4s\n",
            "8:\tlearn: 0.6484918\ttest: 0.6498392\tbest: 0.6498392 (8)\ttotal: 290ms\tremaining: 31.9s\n",
            "9:\tlearn: 0.6460482\ttest: 0.6475160\tbest: 0.6475160 (9)\ttotal: 323ms\tremaining: 32s\n",
            "10:\tlearn: 0.6433932\ttest: 0.6450973\tbest: 0.6450973 (10)\ttotal: 373ms\tremaining: 33.5s\n",
            "11:\tlearn: 0.6420996\ttest: 0.6439587\tbest: 0.6439587 (11)\ttotal: 402ms\tremaining: 33.1s\n",
            "12:\tlearn: 0.6400235\ttest: 0.6420378\tbest: 0.6420378 (12)\ttotal: 438ms\tremaining: 33.3s\n",
            "13:\tlearn: 0.6389737\ttest: 0.6412277\tbest: 0.6412277 (13)\ttotal: 467ms\tremaining: 32.9s\n",
            "14:\tlearn: 0.6370476\ttest: 0.6393781\tbest: 0.6393781 (14)\ttotal: 500ms\tremaining: 32.8s\n",
            "15:\tlearn: 0.6352719\ttest: 0.6373805\tbest: 0.6373805 (15)\ttotal: 529ms\tremaining: 32.6s\n",
            "16:\tlearn: 0.6333668\ttest: 0.6354464\tbest: 0.6354464 (16)\ttotal: 565ms\tremaining: 32.7s\n",
            "17:\tlearn: 0.6325071\ttest: 0.6346992\tbest: 0.6346992 (17)\ttotal: 599ms\tremaining: 32.7s\n",
            "18:\tlearn: 0.6311949\ttest: 0.6334172\tbest: 0.6334172 (18)\ttotal: 629ms\tremaining: 32.5s\n",
            "19:\tlearn: 0.6306038\ttest: 0.6328847\tbest: 0.6328847 (19)\ttotal: 665ms\tremaining: 32.6s\n",
            "20:\tlearn: 0.6288164\ttest: 0.6312862\tbest: 0.6312862 (20)\ttotal: 698ms\tremaining: 32.5s\n",
            "21:\tlearn: 0.6282892\ttest: 0.6308630\tbest: 0.6308630 (21)\ttotal: 739ms\tremaining: 32.9s\n",
            "22:\tlearn: 0.6277857\ttest: 0.6304674\tbest: 0.6304674 (22)\ttotal: 772ms\tremaining: 32.8s\n",
            "23:\tlearn: 0.6266470\ttest: 0.6292812\tbest: 0.6292812 (23)\ttotal: 810ms\tremaining: 32.9s\n",
            "24:\tlearn: 0.6255105\ttest: 0.6282307\tbest: 0.6282307 (24)\ttotal: 843ms\tremaining: 32.9s\n",
            "25:\tlearn: 0.6251013\ttest: 0.6279049\tbest: 0.6279049 (25)\ttotal: 879ms\tremaining: 32.9s\n",
            "26:\tlearn: 0.6247361\ttest: 0.6276113\tbest: 0.6276113 (26)\ttotal: 906ms\tremaining: 32.7s\n",
            "27:\tlearn: 0.6240781\ttest: 0.6270449\tbest: 0.6270449 (27)\ttotal: 949ms\tremaining: 32.9s\n",
            "28:\tlearn: 0.6226083\ttest: 0.6254296\tbest: 0.6254296 (28)\ttotal: 981ms\tremaining: 32.9s\n",
            "29:\tlearn: 0.6216472\ttest: 0.6242971\tbest: 0.6242971 (29)\ttotal: 1.01s\tremaining: 32.7s\n",
            "30:\tlearn: 0.6211373\ttest: 0.6238036\tbest: 0.6238036 (30)\ttotal: 1.04s\tremaining: 32.6s\n",
            "31:\tlearn: 0.6204030\ttest: 0.6231497\tbest: 0.6231497 (31)\ttotal: 1.08s\tremaining: 32.6s\n",
            "32:\tlearn: 0.6201173\ttest: 0.6229276\tbest: 0.6229276 (32)\ttotal: 1.11s\tremaining: 32.5s\n",
            "33:\tlearn: 0.6192656\ttest: 0.6220270\tbest: 0.6220270 (33)\ttotal: 1.15s\tremaining: 32.6s\n",
            "34:\tlearn: 0.6189625\ttest: 0.6217516\tbest: 0.6217516 (34)\ttotal: 1.18s\tremaining: 32.5s\n",
            "35:\tlearn: 0.6183126\ttest: 0.6211209\tbest: 0.6211209 (35)\ttotal: 1.22s\tremaining: 32.6s\n",
            "36:\tlearn: 0.6174210\ttest: 0.6201647\tbest: 0.6201647 (36)\ttotal: 1.25s\tremaining: 32.6s\n",
            "37:\tlearn: 0.6168581\ttest: 0.6195390\tbest: 0.6195390 (37)\ttotal: 1.29s\tremaining: 32.6s\n",
            "38:\tlearn: 0.6166074\ttest: 0.6193788\tbest: 0.6193788 (38)\ttotal: 1.33s\tremaining: 32.7s\n",
            "39:\tlearn: 0.6163864\ttest: 0.6191492\tbest: 0.6191492 (39)\ttotal: 1.37s\tremaining: 32.8s\n",
            "40:\tlearn: 0.6148476\ttest: 0.6176215\tbest: 0.6176215 (40)\ttotal: 1.41s\tremaining: 32.9s\n",
            "41:\tlearn: 0.6145180\ttest: 0.6173680\tbest: 0.6173680 (41)\ttotal: 1.44s\tremaining: 32.9s\n",
            "42:\tlearn: 0.6134434\ttest: 0.6163345\tbest: 0.6163345 (42)\ttotal: 1.47s\tremaining: 32.8s\n",
            "43:\tlearn: 0.6125206\ttest: 0.6155052\tbest: 0.6155052 (43)\ttotal: 1.51s\tremaining: 32.8s\n",
            "44:\tlearn: 0.6116268\ttest: 0.6146597\tbest: 0.6146597 (44)\ttotal: 1.54s\tremaining: 32.8s\n",
            "45:\tlearn: 0.6113247\ttest: 0.6144187\tbest: 0.6144187 (45)\ttotal: 1.58s\tremaining: 32.7s\n",
            "46:\tlearn: 0.6105923\ttest: 0.6136076\tbest: 0.6136076 (46)\ttotal: 1.61s\tremaining: 32.6s\n",
            "47:\tlearn: 0.6101072\ttest: 0.6132826\tbest: 0.6132826 (47)\ttotal: 1.64s\tremaining: 32.6s\n",
            "48:\tlearn: 0.6093274\ttest: 0.6123490\tbest: 0.6123490 (48)\ttotal: 1.67s\tremaining: 32.4s\n",
            "49:\tlearn: 0.6083518\ttest: 0.6114479\tbest: 0.6114479 (49)\ttotal: 1.7s\tremaining: 32.4s\n",
            "50:\tlearn: 0.6077235\ttest: 0.6107905\tbest: 0.6107905 (50)\ttotal: 1.74s\tremaining: 32.3s\n",
            "51:\tlearn: 0.6074180\ttest: 0.6105131\tbest: 0.6105131 (51)\ttotal: 1.77s\tremaining: 32.3s\n",
            "52:\tlearn: 0.6072362\ttest: 0.6103051\tbest: 0.6103051 (52)\ttotal: 1.8s\tremaining: 32.3s\n",
            "53:\tlearn: 0.6064094\ttest: 0.6095278\tbest: 0.6095278 (53)\ttotal: 1.84s\tremaining: 32.2s\n",
            "54:\tlearn: 0.6060726\ttest: 0.6091606\tbest: 0.6091606 (54)\ttotal: 1.87s\tremaining: 32.2s\n",
            "55:\tlearn: 0.6058677\ttest: 0.6089673\tbest: 0.6089673 (55)\ttotal: 1.91s\tremaining: 32.1s\n",
            "56:\tlearn: 0.6053199\ttest: 0.6085035\tbest: 0.6085035 (56)\ttotal: 1.95s\tremaining: 32.2s\n",
            "57:\tlearn: 0.6052149\ttest: 0.6084296\tbest: 0.6084296 (57)\ttotal: 1.98s\tremaining: 32.2s\n",
            "58:\tlearn: 0.6050379\ttest: 0.6082269\tbest: 0.6082269 (58)\ttotal: 2.02s\tremaining: 32.2s\n",
            "59:\tlearn: 0.6044896\ttest: 0.6077150\tbest: 0.6077150 (59)\ttotal: 2.06s\tremaining: 32.2s\n",
            "60:\tlearn: 0.6040554\ttest: 0.6072910\tbest: 0.6072910 (60)\ttotal: 2.09s\tremaining: 32.1s\n",
            "61:\tlearn: 0.6033190\ttest: 0.6066088\tbest: 0.6066088 (61)\ttotal: 2.12s\tremaining: 32s\n",
            "62:\tlearn: 0.6031289\ttest: 0.6064885\tbest: 0.6064885 (62)\ttotal: 2.15s\tremaining: 32s\n",
            "63:\tlearn: 0.6028201\ttest: 0.6062341\tbest: 0.6062341 (63)\ttotal: 2.18s\tremaining: 31.9s\n",
            "64:\tlearn: 0.6026317\ttest: 0.6060201\tbest: 0.6060201 (64)\ttotal: 2.22s\tremaining: 31.9s\n",
            "65:\tlearn: 0.6020471\ttest: 0.6055516\tbest: 0.6055516 (65)\ttotal: 2.25s\tremaining: 31.8s\n",
            "66:\tlearn: 0.6015747\ttest: 0.6050492\tbest: 0.6050492 (66)\ttotal: 2.29s\tremaining: 31.8s\n",
            "67:\tlearn: 0.6008283\ttest: 0.6043179\tbest: 0.6043179 (67)\ttotal: 2.32s\tremaining: 31.7s\n",
            "68:\tlearn: 0.6006859\ttest: 0.6041944\tbest: 0.6041944 (68)\ttotal: 2.36s\tremaining: 31.8s\n",
            "69:\tlearn: 0.6004016\ttest: 0.6039482\tbest: 0.6039482 (69)\ttotal: 2.39s\tremaining: 31.8s\n",
            "70:\tlearn: 0.6002718\ttest: 0.6038717\tbest: 0.6038717 (70)\ttotal: 2.43s\tremaining: 31.8s\n",
            "71:\tlearn: 0.5997724\ttest: 0.6034208\tbest: 0.6034208 (71)\ttotal: 2.46s\tremaining: 31.7s\n",
            "72:\tlearn: 0.5996505\ttest: 0.6034060\tbest: 0.6034060 (72)\ttotal: 2.49s\tremaining: 31.6s\n",
            "73:\tlearn: 0.5994129\ttest: 0.6031495\tbest: 0.6031495 (73)\ttotal: 2.52s\tremaining: 31.6s\n",
            "74:\tlearn: 0.5992125\ttest: 0.6030160\tbest: 0.6030160 (74)\ttotal: 2.56s\tremaining: 31.5s\n",
            "75:\tlearn: 0.5990926\ttest: 0.6029097\tbest: 0.6029097 (75)\ttotal: 2.6s\tremaining: 31.5s\n",
            "76:\tlearn: 0.5987167\ttest: 0.6025525\tbest: 0.6025525 (76)\ttotal: 2.62s\tremaining: 31.5s\n",
            "77:\tlearn: 0.5984060\ttest: 0.6021513\tbest: 0.6021513 (77)\ttotal: 2.66s\tremaining: 31.4s\n",
            "78:\tlearn: 0.5983044\ttest: 0.6020503\tbest: 0.6020503 (78)\ttotal: 2.69s\tremaining: 31.4s\n",
            "79:\tlearn: 0.5981927\ttest: 0.6019404\tbest: 0.6019404 (79)\ttotal: 2.73s\tremaining: 31.4s\n",
            "80:\tlearn: 0.5980491\ttest: 0.6019051\tbest: 0.6019051 (80)\ttotal: 2.76s\tremaining: 31.3s\n",
            "81:\tlearn: 0.5977095\ttest: 0.6015301\tbest: 0.6015301 (81)\ttotal: 2.79s\tremaining: 31.2s\n",
            "82:\tlearn: 0.5975483\ttest: 0.6014488\tbest: 0.6014488 (82)\ttotal: 2.83s\tremaining: 31.2s\n",
            "83:\tlearn: 0.5973595\ttest: 0.6013722\tbest: 0.6013722 (83)\ttotal: 2.86s\tremaining: 31.2s\n",
            "84:\tlearn: 0.5972002\ttest: 0.6012321\tbest: 0.6012321 (84)\ttotal: 2.89s\tremaining: 31.2s\n",
            "85:\tlearn: 0.5969742\ttest: 0.6011384\tbest: 0.6011384 (85)\ttotal: 2.93s\tremaining: 31.1s\n",
            "86:\tlearn: 0.5967922\ttest: 0.6010783\tbest: 0.6010783 (86)\ttotal: 2.97s\tremaining: 31.2s\n",
            "87:\tlearn: 0.5966741\ttest: 0.6010005\tbest: 0.6010005 (87)\ttotal: 3.01s\tremaining: 31.2s\n",
            "88:\tlearn: 0.5964554\ttest: 0.6007541\tbest: 0.6007541 (88)\ttotal: 3.04s\tremaining: 31.1s\n",
            "89:\tlearn: 0.5961334\ttest: 0.6004240\tbest: 0.6004240 (89)\ttotal: 3.08s\tremaining: 31.1s\n",
            "90:\tlearn: 0.5959321\ttest: 0.6003061\tbest: 0.6003061 (90)\ttotal: 3.11s\tremaining: 31.1s\n",
            "91:\tlearn: 0.5956669\ttest: 0.5999986\tbest: 0.5999986 (91)\ttotal: 3.14s\tremaining: 31s\n",
            "92:\tlearn: 0.5954316\ttest: 0.5998907\tbest: 0.5998907 (92)\ttotal: 3.18s\tremaining: 31s\n",
            "93:\tlearn: 0.5950017\ttest: 0.5995271\tbest: 0.5995271 (93)\ttotal: 3.21s\tremaining: 30.9s\n",
            "94:\tlearn: 0.5948373\ttest: 0.5994186\tbest: 0.5994186 (94)\ttotal: 3.25s\tremaining: 31s\n",
            "95:\tlearn: 0.5947223\ttest: 0.5994331\tbest: 0.5994186 (94)\ttotal: 3.28s\tremaining: 30.9s\n",
            "96:\tlearn: 0.5946143\ttest: 0.5993892\tbest: 0.5993892 (96)\ttotal: 3.31s\tremaining: 30.9s\n",
            "97:\tlearn: 0.5944686\ttest: 0.5993318\tbest: 0.5993318 (97)\ttotal: 3.36s\tremaining: 30.9s\n",
            "98:\tlearn: 0.5943261\ttest: 0.5992410\tbest: 0.5992410 (98)\ttotal: 3.39s\tremaining: 30.8s\n",
            "99:\tlearn: 0.5942115\ttest: 0.5992113\tbest: 0.5992113 (99)\ttotal: 3.42s\tremaining: 30.8s\n",
            "100:\tlearn: 0.5939647\ttest: 0.5989515\tbest: 0.5989515 (100)\ttotal: 3.46s\tremaining: 30.8s\n",
            "101:\tlearn: 0.5937870\ttest: 0.5989438\tbest: 0.5989438 (101)\ttotal: 3.49s\tremaining: 30.8s\n",
            "102:\tlearn: 0.5935591\ttest: 0.5987290\tbest: 0.5987290 (102)\ttotal: 3.53s\tremaining: 30.7s\n",
            "103:\tlearn: 0.5933576\ttest: 0.5985232\tbest: 0.5985232 (103)\ttotal: 3.57s\tremaining: 30.7s\n",
            "104:\tlearn: 0.5932418\ttest: 0.5984588\tbest: 0.5984588 (104)\ttotal: 3.6s\tremaining: 30.7s\n",
            "105:\tlearn: 0.5930557\ttest: 0.5983338\tbest: 0.5983338 (105)\ttotal: 3.63s\tremaining: 30.6s\n",
            "106:\tlearn: 0.5929178\ttest: 0.5983052\tbest: 0.5983052 (106)\ttotal: 3.67s\tremaining: 30.6s\n",
            "107:\tlearn: 0.5926137\ttest: 0.5982029\tbest: 0.5982029 (107)\ttotal: 3.7s\tremaining: 30.6s\n",
            "108:\tlearn: 0.5923926\ttest: 0.5980546\tbest: 0.5980546 (108)\ttotal: 3.73s\tremaining: 30.5s\n",
            "109:\tlearn: 0.5922574\ttest: 0.5980414\tbest: 0.5980414 (109)\ttotal: 3.77s\tremaining: 30.5s\n",
            "110:\tlearn: 0.5920760\ttest: 0.5978846\tbest: 0.5978846 (110)\ttotal: 3.8s\tremaining: 30.4s\n",
            "111:\tlearn: 0.5919041\ttest: 0.5978332\tbest: 0.5978332 (111)\ttotal: 3.84s\tremaining: 30.4s\n",
            "112:\tlearn: 0.5917812\ttest: 0.5977445\tbest: 0.5977445 (112)\ttotal: 3.88s\tremaining: 30.4s\n",
            "113:\tlearn: 0.5914957\ttest: 0.5973956\tbest: 0.5973956 (113)\ttotal: 3.91s\tremaining: 30.4s\n",
            "114:\tlearn: 0.5912605\ttest: 0.5971400\tbest: 0.5971400 (114)\ttotal: 3.96s\tremaining: 30.4s\n",
            "115:\tlearn: 0.5911247\ttest: 0.5970572\tbest: 0.5970572 (115)\ttotal: 3.99s\tremaining: 30.4s\n",
            "116:\tlearn: 0.5910059\ttest: 0.5970720\tbest: 0.5970572 (115)\ttotal: 4.02s\tremaining: 30.4s\n",
            "117:\tlearn: 0.5907847\ttest: 0.5969845\tbest: 0.5969845 (117)\ttotal: 4.05s\tremaining: 30.3s\n",
            "118:\tlearn: 0.5907030\ttest: 0.5969958\tbest: 0.5969845 (117)\ttotal: 4.09s\tremaining: 30.3s\n",
            "119:\tlearn: 0.5906206\ttest: 0.5969892\tbest: 0.5969845 (117)\ttotal: 4.12s\tremaining: 30.2s\n",
            "120:\tlearn: 0.5904241\ttest: 0.5968449\tbest: 0.5968449 (120)\ttotal: 4.15s\tremaining: 30.2s\n",
            "121:\tlearn: 0.5903352\ttest: 0.5968117\tbest: 0.5968117 (121)\ttotal: 4.18s\tremaining: 30.1s\n",
            "122:\tlearn: 0.5901686\ttest: 0.5966581\tbest: 0.5966581 (122)\ttotal: 4.22s\tremaining: 30.1s\n",
            "123:\tlearn: 0.5899741\ttest: 0.5965806\tbest: 0.5965806 (123)\ttotal: 4.25s\tremaining: 30s\n",
            "124:\tlearn: 0.5896987\ttest: 0.5963023\tbest: 0.5963023 (124)\ttotal: 4.31s\tremaining: 30.1s\n",
            "125:\tlearn: 0.5895227\ttest: 0.5962247\tbest: 0.5962247 (125)\ttotal: 4.34s\tremaining: 30.1s\n",
            "126:\tlearn: 0.5893005\ttest: 0.5961198\tbest: 0.5961198 (126)\ttotal: 4.38s\tremaining: 30.1s\n",
            "127:\tlearn: 0.5891564\ttest: 0.5961377\tbest: 0.5961198 (126)\ttotal: 4.41s\tremaining: 30s\n",
            "128:\tlearn: 0.5889875\ttest: 0.5960977\tbest: 0.5960977 (128)\ttotal: 4.44s\tremaining: 30s\n",
            "129:\tlearn: 0.5887940\ttest: 0.5959727\tbest: 0.5959727 (129)\ttotal: 4.48s\tremaining: 30s\n",
            "130:\tlearn: 0.5886659\ttest: 0.5959727\tbest: 0.5959727 (129)\ttotal: 4.52s\tremaining: 30s\n",
            "131:\tlearn: 0.5884570\ttest: 0.5958362\tbest: 0.5958362 (131)\ttotal: 4.56s\tremaining: 30s\n",
            "132:\tlearn: 0.5883080\ttest: 0.5956669\tbest: 0.5956669 (132)\ttotal: 4.59s\tremaining: 29.9s\n",
            "133:\tlearn: 0.5881156\ttest: 0.5954847\tbest: 0.5954847 (133)\ttotal: 4.62s\tremaining: 29.9s\n",
            "134:\tlearn: 0.5879870\ttest: 0.5954480\tbest: 0.5954480 (134)\ttotal: 4.66s\tremaining: 29.8s\n",
            "135:\tlearn: 0.5878608\ttest: 0.5954168\tbest: 0.5954168 (135)\ttotal: 4.69s\tremaining: 29.8s\n",
            "136:\tlearn: 0.5876194\ttest: 0.5952328\tbest: 0.5952328 (136)\ttotal: 4.72s\tremaining: 29.8s\n",
            "137:\tlearn: 0.5874933\ttest: 0.5952067\tbest: 0.5952067 (137)\ttotal: 4.76s\tremaining: 29.7s\n",
            "138:\tlearn: 0.5873807\ttest: 0.5951425\tbest: 0.5951425 (138)\ttotal: 4.79s\tremaining: 29.7s\n",
            "139:\tlearn: 0.5871782\ttest: 0.5950554\tbest: 0.5950554 (139)\ttotal: 4.83s\tremaining: 29.6s\n",
            "140:\tlearn: 0.5870551\ttest: 0.5950319\tbest: 0.5950319 (140)\ttotal: 4.86s\tremaining: 29.6s\n",
            "141:\tlearn: 0.5868958\ttest: 0.5950323\tbest: 0.5950319 (140)\ttotal: 4.89s\tremaining: 29.6s\n",
            "142:\tlearn: 0.5867192\ttest: 0.5948702\tbest: 0.5948702 (142)\ttotal: 4.93s\tremaining: 29.5s\n",
            "143:\tlearn: 0.5864923\ttest: 0.5946607\tbest: 0.5946607 (143)\ttotal: 4.97s\tremaining: 29.6s\n",
            "144:\tlearn: 0.5863236\ttest: 0.5946144\tbest: 0.5946144 (144)\ttotal: 5.01s\tremaining: 29.5s\n",
            "145:\tlearn: 0.5861981\ttest: 0.5946032\tbest: 0.5946032 (145)\ttotal: 5.04s\tremaining: 29.5s\n",
            "146:\tlearn: 0.5860509\ttest: 0.5946065\tbest: 0.5946032 (145)\ttotal: 5.08s\tremaining: 29.5s\n",
            "147:\tlearn: 0.5859169\ttest: 0.5944807\tbest: 0.5944807 (147)\ttotal: 5.11s\tremaining: 29.4s\n",
            "148:\tlearn: 0.5857062\ttest: 0.5944236\tbest: 0.5944236 (148)\ttotal: 5.15s\tremaining: 29.4s\n",
            "149:\tlearn: 0.5855348\ttest: 0.5944091\tbest: 0.5944091 (149)\ttotal: 5.18s\tremaining: 29.4s\n",
            "150:\tlearn: 0.5854092\ttest: 0.5944255\tbest: 0.5944091 (149)\ttotal: 5.22s\tremaining: 29.3s\n",
            "151:\tlearn: 0.5852362\ttest: 0.5942658\tbest: 0.5942658 (151)\ttotal: 5.25s\tremaining: 29.3s\n",
            "152:\tlearn: 0.5849888\ttest: 0.5940783\tbest: 0.5940783 (152)\ttotal: 5.28s\tremaining: 29.2s\n",
            "153:\tlearn: 0.5848388\ttest: 0.5939571\tbest: 0.5939571 (153)\ttotal: 5.32s\tremaining: 29.2s\n",
            "154:\tlearn: 0.5846507\ttest: 0.5938851\tbest: 0.5938851 (154)\ttotal: 5.36s\tremaining: 29.2s\n",
            "155:\tlearn: 0.5845014\ttest: 0.5938677\tbest: 0.5938677 (155)\ttotal: 5.4s\tremaining: 29.2s\n",
            "156:\tlearn: 0.5843747\ttest: 0.5938547\tbest: 0.5938547 (156)\ttotal: 5.43s\tremaining: 29.2s\n",
            "157:\tlearn: 0.5842058\ttest: 0.5937260\tbest: 0.5937260 (157)\ttotal: 5.46s\tremaining: 29.1s\n",
            "158:\tlearn: 0.5840263\ttest: 0.5936877\tbest: 0.5936877 (158)\ttotal: 5.5s\tremaining: 29.1s\n",
            "159:\tlearn: 0.5838437\ttest: 0.5936464\tbest: 0.5936464 (159)\ttotal: 5.53s\tremaining: 29s\n",
            "160:\tlearn: 0.5836907\ttest: 0.5936912\tbest: 0.5936464 (159)\ttotal: 5.57s\tremaining: 29s\n",
            "161:\tlearn: 0.5834918\ttest: 0.5935839\tbest: 0.5935839 (161)\ttotal: 5.6s\tremaining: 29s\n",
            "162:\tlearn: 0.5833942\ttest: 0.5934925\tbest: 0.5934925 (162)\ttotal: 5.64s\tremaining: 28.9s\n",
            "163:\tlearn: 0.5832658\ttest: 0.5935653\tbest: 0.5934925 (162)\ttotal: 5.67s\tremaining: 28.9s\n",
            "164:\tlearn: 0.5831509\ttest: 0.5935271\tbest: 0.5934925 (162)\ttotal: 5.71s\tremaining: 28.9s\n",
            "165:\tlearn: 0.5829761\ttest: 0.5933550\tbest: 0.5933550 (165)\ttotal: 5.75s\tremaining: 28.9s\n",
            "166:\tlearn: 0.5828021\ttest: 0.5933236\tbest: 0.5933236 (166)\ttotal: 5.79s\tremaining: 28.9s\n",
            "167:\tlearn: 0.5825890\ttest: 0.5931298\tbest: 0.5931298 (167)\ttotal: 5.82s\tremaining: 28.8s\n",
            "168:\tlearn: 0.5824211\ttest: 0.5931828\tbest: 0.5931298 (167)\ttotal: 5.85s\tremaining: 28.8s\n",
            "169:\tlearn: 0.5822324\ttest: 0.5932038\tbest: 0.5931298 (167)\ttotal: 5.88s\tremaining: 28.7s\n",
            "170:\tlearn: 0.5820697\ttest: 0.5931902\tbest: 0.5931298 (167)\ttotal: 5.92s\tremaining: 28.7s\n",
            "171:\tlearn: 0.5819187\ttest: 0.5931535\tbest: 0.5931298 (167)\ttotal: 5.95s\tremaining: 28.6s\n",
            "172:\tlearn: 0.5817479\ttest: 0.5930682\tbest: 0.5930682 (172)\ttotal: 6.01s\tremaining: 28.7s\n",
            "173:\tlearn: 0.5815593\ttest: 0.5927630\tbest: 0.5927630 (173)\ttotal: 6.04s\tremaining: 28.7s\n",
            "174:\tlearn: 0.5814776\ttest: 0.5928499\tbest: 0.5927630 (173)\ttotal: 6.07s\tremaining: 28.6s\n",
            "175:\tlearn: 0.5812870\ttest: 0.5926138\tbest: 0.5926138 (175)\ttotal: 6.1s\tremaining: 28.6s\n",
            "176:\tlearn: 0.5810964\ttest: 0.5927151\tbest: 0.5926138 (175)\ttotal: 6.14s\tremaining: 28.5s\n",
            "177:\tlearn: 0.5809259\ttest: 0.5926840\tbest: 0.5926138 (175)\ttotal: 6.17s\tremaining: 28.5s\n",
            "178:\tlearn: 0.5808410\ttest: 0.5926961\tbest: 0.5926138 (175)\ttotal: 6.2s\tremaining: 28.4s\n",
            "179:\tlearn: 0.5806120\ttest: 0.5924797\tbest: 0.5924797 (179)\ttotal: 6.24s\tremaining: 28.4s\n",
            "180:\tlearn: 0.5805432\ttest: 0.5924793\tbest: 0.5924793 (180)\ttotal: 6.27s\tremaining: 28.4s\n",
            "181:\tlearn: 0.5804317\ttest: 0.5924388\tbest: 0.5924388 (181)\ttotal: 6.3s\tremaining: 28.3s\n",
            "182:\tlearn: 0.5803191\ttest: 0.5924521\tbest: 0.5924388 (181)\ttotal: 6.34s\tremaining: 28.3s\n",
            "183:\tlearn: 0.5801976\ttest: 0.5924880\tbest: 0.5924388 (181)\ttotal: 6.38s\tremaining: 28.3s\n",
            "184:\tlearn: 0.5800819\ttest: 0.5925037\tbest: 0.5924388 (181)\ttotal: 6.42s\tremaining: 28.3s\n",
            "185:\tlearn: 0.5799675\ttest: 0.5923785\tbest: 0.5923785 (185)\ttotal: 6.45s\tremaining: 28.2s\n",
            "186:\tlearn: 0.5797913\ttest: 0.5922145\tbest: 0.5922145 (186)\ttotal: 6.49s\tremaining: 28.2s\n",
            "187:\tlearn: 0.5796420\ttest: 0.5923143\tbest: 0.5922145 (186)\ttotal: 6.52s\tremaining: 28.2s\n",
            "188:\tlearn: 0.5795205\ttest: 0.5922824\tbest: 0.5922145 (186)\ttotal: 6.55s\tremaining: 28.1s\n",
            "189:\tlearn: 0.5793486\ttest: 0.5923110\tbest: 0.5922145 (186)\ttotal: 6.59s\tremaining: 28.1s\n",
            "190:\tlearn: 0.5792010\ttest: 0.5923554\tbest: 0.5922145 (186)\ttotal: 6.62s\tremaining: 28.1s\n",
            "191:\tlearn: 0.5790297\ttest: 0.5923465\tbest: 0.5922145 (186)\ttotal: 6.66s\tremaining: 28s\n",
            "Stopped by overfitting detector  (5 iterations wait)\n",
            "\n",
            "bestTest = 0.5922145001\n",
            "bestIteration = 186\n",
            "\n",
            "Shrink model to first 187 iterations.\n"
          ],
          "name": "stdout"
        },
        {
          "output_type": "execute_result",
          "data": {
            "text/plain": [
              "<catboost.core.CatBoostClassifier at 0x7fdd45997250>"
            ]
          },
          "metadata": {
            "tags": []
          },
          "execution_count": 298
        }
      ]
    },
    {
      "cell_type": "markdown",
      "metadata": {
        "id": "PXxRlp09QZkA"
      },
      "source": [
        "## Predict"
      ]
    },
    {
      "cell_type": "code",
      "metadata": {
        "colab": {
          "base_uri": "https://localhost:8080/"
        },
        "id": "iCnmA43cQZkA",
        "outputId": "b9d3a645-987d-4d51-9a03-19be7f032569"
      },
      "source": [
        "preds = model.predict(X_test)\n",
        "probs = model.predict_proba(X_test)\n",
        "\n",
        "accuracy = accuracy_score(y_test, preds)\n",
        "f1       = f1_score(y_test, preds)\n",
        "roc      = roc_auc_score(y_test, probs[:,1])\n",
        "recall   = recall_score(y_test, preds)\n",
        "results_df.loc['Feature Engine'] = [accuracy, f1, roc, recall]\n",
        "\n",
        "print(classification_report(y_test, preds))"
      ],
      "execution_count": 299,
      "outputs": [
        {
          "output_type": "stream",
          "text": [
            "              precision    recall  f1-score   support\n",
            "\n",
            "           0       0.90      0.59      0.71     22130\n",
            "           1       0.31      0.74      0.44      5502\n",
            "\n",
            "    accuracy                           0.62     27632\n",
            "   macro avg       0.60      0.66      0.57     27632\n",
            "weighted avg       0.78      0.62      0.66     27632\n",
            "\n"
          ],
          "name": "stdout"
        }
      ]
    },
    {
      "cell_type": "markdown",
      "metadata": {
        "id": "C8Myq4yc4rXG"
      },
      "source": [
        "## Importance"
      ]
    },
    {
      "cell_type": "code",
      "metadata": {
        "colab": {
          "base_uri": "https://localhost:8080/",
          "height": 610
        },
        "id": "zMjPRTxm4tHK",
        "outputId": "d0795ee0-ef54-4de7-f3be-37bf38f8cc46"
      },
      "source": [
        "imp  = model.feature_importances_\n",
        "feat = model.feature_names_\n",
        "pd.DataFrame({'Feature' : feat, 'Importance': imp}).sort_values('Importance', ascending=False)"
      ],
      "execution_count": 300,
      "outputs": [
        {
          "output_type": "execute_result",
          "data": {
            "text/html": [
              "<div>\n",
              "<style scoped>\n",
              "    .dataframe tbody tr th:only-of-type {\n",
              "        vertical-align: middle;\n",
              "    }\n",
              "\n",
              "    .dataframe tbody tr th {\n",
              "        vertical-align: top;\n",
              "    }\n",
              "\n",
              "    .dataframe thead th {\n",
              "        text-align: right;\n",
              "    }\n",
              "</style>\n",
              "<table border=\"1\" class=\"dataframe\">\n",
              "  <thead>\n",
              "    <tr style=\"text-align: right;\">\n",
              "      <th></th>\n",
              "      <th>Feature</th>\n",
              "      <th>Importance</th>\n",
              "    </tr>\n",
              "  </thead>\n",
              "  <tbody>\n",
              "    <tr>\n",
              "      <th>10</th>\n",
              "      <td>scheduled_month</td>\n",
              "      <td>14.967606</td>\n",
              "    </tr>\n",
              "    <tr>\n",
              "      <th>11</th>\n",
              "      <td>scheduled_dom</td>\n",
              "      <td>13.114726</td>\n",
              "    </tr>\n",
              "    <tr>\n",
              "      <th>16</th>\n",
              "      <td>appointment_dom</td>\n",
              "      <td>13.105534</td>\n",
              "    </tr>\n",
              "    <tr>\n",
              "      <th>12</th>\n",
              "      <td>scheduled_dow</td>\n",
              "      <td>12.272580</td>\n",
              "    </tr>\n",
              "    <tr>\n",
              "      <th>17</th>\n",
              "      <td>appointment_dow</td>\n",
              "      <td>12.170666</td>\n",
              "    </tr>\n",
              "    <tr>\n",
              "      <th>8</th>\n",
              "      <td>sms_received</td>\n",
              "      <td>10.046590</td>\n",
              "    </tr>\n",
              "    <tr>\n",
              "      <th>1</th>\n",
              "      <td>age</td>\n",
              "      <td>8.239951</td>\n",
              "    </tr>\n",
              "    <tr>\n",
              "      <th>2</th>\n",
              "      <td>neighbourhood</td>\n",
              "      <td>4.688702</td>\n",
              "    </tr>\n",
              "    <tr>\n",
              "      <th>13</th>\n",
              "      <td>scheduled_hour</td>\n",
              "      <td>4.438435</td>\n",
              "    </tr>\n",
              "    <tr>\n",
              "      <th>15</th>\n",
              "      <td>appointment_month</td>\n",
              "      <td>2.640784</td>\n",
              "    </tr>\n",
              "    <tr>\n",
              "      <th>0</th>\n",
              "      <td>gender</td>\n",
              "      <td>1.170638</td>\n",
              "    </tr>\n",
              "    <tr>\n",
              "      <th>3</th>\n",
              "      <td>scholarship</td>\n",
              "      <td>0.895406</td>\n",
              "    </tr>\n",
              "    <tr>\n",
              "      <th>6</th>\n",
              "      <td>alcoholism</td>\n",
              "      <td>0.711187</td>\n",
              "    </tr>\n",
              "    <tr>\n",
              "      <th>7</th>\n",
              "      <td>handicap</td>\n",
              "      <td>0.615090</td>\n",
              "    </tr>\n",
              "    <tr>\n",
              "      <th>4</th>\n",
              "      <td>hypertension</td>\n",
              "      <td>0.467311</td>\n",
              "    </tr>\n",
              "    <tr>\n",
              "      <th>5</th>\n",
              "      <td>diabetes</td>\n",
              "      <td>0.454794</td>\n",
              "    </tr>\n",
              "    <tr>\n",
              "      <th>9</th>\n",
              "      <td>scheduled_year</td>\n",
              "      <td>0.000000</td>\n",
              "    </tr>\n",
              "    <tr>\n",
              "      <th>14</th>\n",
              "      <td>appointment_year</td>\n",
              "      <td>0.000000</td>\n",
              "    </tr>\n",
              "    <tr>\n",
              "      <th>18</th>\n",
              "      <td>appointment_hour</td>\n",
              "      <td>0.000000</td>\n",
              "    </tr>\n",
              "  </tbody>\n",
              "</table>\n",
              "</div>"
            ],
            "text/plain": [
              "              Feature  Importance\n",
              "10    scheduled_month   14.967606\n",
              "11      scheduled_dom   13.114726\n",
              "16    appointment_dom   13.105534\n",
              "12      scheduled_dow   12.272580\n",
              "17    appointment_dow   12.170666\n",
              "8        sms_received   10.046590\n",
              "1                 age    8.239951\n",
              "2       neighbourhood    4.688702\n",
              "13     scheduled_hour    4.438435\n",
              "15  appointment_month    2.640784\n",
              "0              gender    1.170638\n",
              "3         scholarship    0.895406\n",
              "6          alcoholism    0.711187\n",
              "7            handicap    0.615090\n",
              "4        hypertension    0.467311\n",
              "5            diabetes    0.454794\n",
              "9      scheduled_year    0.000000\n",
              "14   appointment_year    0.000000\n",
              "18   appointment_hour    0.000000"
            ]
          },
          "metadata": {
            "tags": []
          },
          "execution_count": 300
        }
      ]
    },
    {
      "cell_type": "markdown",
      "metadata": {
        "id": "2EzmLA8UIr6L"
      },
      "source": [
        "# FeatureTools\n",
        "\n",
        "![](https://featuretools.alteryx.com/en/stable/_images/featuretools_nav2.svg)"
      ]
    },
    {
      "cell_type": "markdown",
      "metadata": {
        "id": "-qDDnkQhcVSL"
      },
      "source": [
        "## Variables"
      ]
    },
    {
      "cell_type": "code",
      "metadata": {
        "id": "kFO5ZoJ3WjVx"
      },
      "source": [
        "vars = {'gender': ft.variable_types.Categorical,\n",
        "        'patient_id': ft.variable_types.Categorical,\n",
        "        'age': ft.variable_types.Ordinal,\n",
        "        'scholarship': ft.variable_types.Boolean,\n",
        "        'hypertension': ft.variable_types.Boolean,\n",
        "        'diabetes': ft.variable_types.Boolean,\n",
        "        'alcoholism': ft.variable_types.Boolean,\n",
        "        'handicap': ft.variable_types.Boolean,\n",
        "        'no_show': ft.variable_types.Boolean,\n",
        "        'sms_received': ft.variable_types.Boolean}"
      ],
      "execution_count": 301,
      "outputs": []
    },
    {
      "cell_type": "markdown",
      "metadata": {
        "id": "8uldy2CBcZL5"
      },
      "source": [
        "## EntitySet"
      ]
    },
    {
      "cell_type": "code",
      "metadata": {
        "colab": {
          "base_uri": "https://localhost:8080/"
        },
        "id": "hWUSTMxIWFFg",
        "outputId": "f37db590-89ff-44a2-a5a1-c6821bab9b0b"
      },
      "source": [
        "es = ft.EntitySet('Appointments')\n",
        "es = es.entity_from_dataframe(entity_id = 'appointments',\n",
        "                              dataframe=df,\n",
        "                              index='appointment_id',\n",
        "                              time_index='scheduled_day',\n",
        "                              secondary_time_index={'appointment_day': ['no_show', 'sms_received']},\n",
        "                              variable_types = vars)\n",
        "es['appointments']"
      ],
      "execution_count": 302,
      "outputs": [
        {
          "output_type": "execute_result",
          "data": {
            "text/plain": [
              "Entity: appointments\n",
              "  Variables:\n",
              "    appointment_id (dtype: index)\n",
              "    scheduled_day (dtype: datetime_time_index)\n",
              "    appointment_day (dtype: datetime)\n",
              "    neighbourhood (dtype: categorical)\n",
              "    gender (dtype: categorical)\n",
              "    patient_id (dtype: categorical)\n",
              "    age (dtype: ordinal)\n",
              "    scholarship (dtype: boolean)\n",
              "    hypertension (dtype: boolean)\n",
              "    diabetes (dtype: boolean)\n",
              "    alcoholism (dtype: boolean)\n",
              "    handicap (dtype: boolean)\n",
              "    no_show (dtype: boolean)\n",
              "    sms_received (dtype: boolean)\n",
              "  Shape:\n",
              "    (Rows: 110527, Columns: 14)"
            ]
          },
          "metadata": {
            "tags": []
          },
          "execution_count": 302
        }
      ]
    },
    {
      "cell_type": "markdown",
      "metadata": {
        "id": "THAaJWL2cbSq"
      },
      "source": [
        "## Relationships"
      ]
    },
    {
      "cell_type": "code",
      "metadata": {
        "colab": {
          "base_uri": "https://localhost:8080/"
        },
        "id": "sz6Nh3SKW5ka",
        "outputId": "008dbfdd-af60-466e-f618-c9861f12c301"
      },
      "source": [
        "es.normalize_entity('appointments', 'patients', 'patient_id',\n",
        "                    additional_variables=['scholarship',\n",
        "                                          'hypertension',\n",
        "                                          'diabetes',\n",
        "                                          'alcoholism',\n",
        "                                          'handicap'])\n",
        "\n",
        "es.normalize_entity('appointments', 'locations', 'neighbourhood', make_time_index=False)\n",
        "es.normalize_entity('appointments', 'ages', 'age',                make_time_index=False)\n",
        "es.normalize_entity('appointments', 'genders', 'gender',          make_time_index=False)"
      ],
      "execution_count": 303,
      "outputs": [
        {
          "output_type": "execute_result",
          "data": {
            "text/plain": [
              "Entityset: Appointments\n",
              "  Entities:\n",
              "    appointments [Rows: 110527, Columns: 9]\n",
              "    patients [Rows: 62299, Columns: 7]\n",
              "    locations [Rows: 81, Columns: 1]\n",
              "    ages [Rows: 104, Columns: 1]\n",
              "    genders [Rows: 2, Columns: 1]\n",
              "  Relationships:\n",
              "    appointments.patient_id -> patients.patient_id\n",
              "    appointments.neighbourhood -> locations.neighbourhood\n",
              "    appointments.age -> ages.age\n",
              "    appointments.gender -> genders.gender"
            ]
          },
          "metadata": {
            "tags": []
          },
          "execution_count": 303
        }
      ]
    },
    {
      "cell_type": "code",
      "metadata": {
        "colab": {
          "base_uri": "https://localhost:8080/"
        },
        "id": "Bt9e6X6qcSOZ",
        "outputId": "d79bf427-d21e-426b-fcb0-7b675bbb5f47"
      },
      "source": [
        "es"
      ],
      "execution_count": 304,
      "outputs": [
        {
          "output_type": "execute_result",
          "data": {
            "text/plain": [
              "Entityset: Appointments\n",
              "  Entities:\n",
              "    appointments [Rows: 110527, Columns: 9]\n",
              "    patients [Rows: 62299, Columns: 7]\n",
              "    locations [Rows: 81, Columns: 1]\n",
              "    ages [Rows: 104, Columns: 1]\n",
              "    genders [Rows: 2, Columns: 1]\n",
              "  Relationships:\n",
              "    appointments.patient_id -> patients.patient_id\n",
              "    appointments.neighbourhood -> locations.neighbourhood\n",
              "    appointments.age -> ages.age\n",
              "    appointments.gender -> genders.gender"
            ]
          },
          "metadata": {
            "tags": []
          },
          "execution_count": 304
        }
      ]
    },
    {
      "cell_type": "code",
      "metadata": {
        "colab": {
          "base_uri": "https://localhost:8080/",
          "height": 126
        },
        "id": "o-k_PsD5bwhE",
        "outputId": "2cb72b86-b088-4ba9-efe8-4085e223519e"
      },
      "source": [
        "es['patients'].df.head(2)"
      ],
      "execution_count": 305,
      "outputs": [
        {
          "output_type": "execute_result",
          "data": {
            "text/html": [
              "<div>\n",
              "<style scoped>\n",
              "    .dataframe tbody tr th:only-of-type {\n",
              "        vertical-align: middle;\n",
              "    }\n",
              "\n",
              "    .dataframe tbody tr th {\n",
              "        vertical-align: top;\n",
              "    }\n",
              "\n",
              "    .dataframe thead th {\n",
              "        text-align: right;\n",
              "    }\n",
              "</style>\n",
              "<table border=\"1\" class=\"dataframe\">\n",
              "  <thead>\n",
              "    <tr style=\"text-align: right;\">\n",
              "      <th></th>\n",
              "      <th>patient_id</th>\n",
              "      <th>scholarship</th>\n",
              "      <th>hypertension</th>\n",
              "      <th>diabetes</th>\n",
              "      <th>alcoholism</th>\n",
              "      <th>handicap</th>\n",
              "      <th>first_appointments_time</th>\n",
              "    </tr>\n",
              "  </thead>\n",
              "  <tbody>\n",
              "    <tr>\n",
              "      <th>8.322564e+14</th>\n",
              "      <td>8.322564e+14</td>\n",
              "      <td>0</td>\n",
              "      <td>0</td>\n",
              "      <td>0</td>\n",
              "      <td>0</td>\n",
              "      <td>0</td>\n",
              "      <td>2015-11-10 07:13:56</td>\n",
              "    </tr>\n",
              "    <tr>\n",
              "      <th>9.163747e+13</th>\n",
              "      <td>9.163747e+13</td>\n",
              "      <td>0</td>\n",
              "      <td>1</td>\n",
              "      <td>0</td>\n",
              "      <td>0</td>\n",
              "      <td>0</td>\n",
              "      <td>2015-12-03 08:17:28</td>\n",
              "    </tr>\n",
              "  </tbody>\n",
              "</table>\n",
              "</div>"
            ],
            "text/plain": [
              "                patient_id  scholarship  ...  handicap  first_appointments_time\n",
              "8.322564e+14  8.322564e+14            0  ...         0      2015-11-10 07:13:56\n",
              "9.163747e+13  9.163747e+13            0  ...         0      2015-12-03 08:17:28\n",
              "\n",
              "[2 rows x 7 columns]"
            ]
          },
          "metadata": {
            "tags": []
          },
          "execution_count": 305
        }
      ]
    },
    {
      "cell_type": "markdown",
      "metadata": {
        "id": "ZsZakIbZcAko"
      },
      "source": [
        "## Visualize"
      ]
    },
    {
      "cell_type": "code",
      "metadata": {
        "colab": {
          "base_uri": "https://localhost:8080/",
          "height": 505
        },
        "id": "i2--Ui2WcM-S",
        "outputId": "5d016718-8bc8-4adc-8dc9-c7d9a5bcb2bd"
      },
      "source": [
        "es.plot()"
      ],
      "execution_count": 306,
      "outputs": [
        {
          "output_type": "execute_result",
          "data": {
            "text/plain": [
              "<graphviz.dot.Digraph at 0x7fdd45d81410>"
            ],
            "image/svg+xml": "<?xml version=\"1.0\" encoding=\"UTF-8\" standalone=\"no\"?>\n<!DOCTYPE svg PUBLIC \"-//W3C//DTD SVG 1.1//EN\"\n \"http://www.w3.org/Graphics/SVG/1.1/DTD/svg11.dtd\">\n<!-- Generated by graphviz version 2.40.1 (20161225.0304)\n -->\n<!-- Title: Appointments Pages: 1 -->\n<svg width=\"720pt\" height=\"348pt\"\n viewBox=\"0.00 0.00 720.00 348.00\" xmlns=\"http://www.w3.org/2000/svg\" xmlns:xlink=\"http://www.w3.org/1999/xlink\">\n<g id=\"graph0\" class=\"graph\" transform=\"scale(1 1) rotate(0) translate(4 344)\">\n<title>Appointments</title>\n<polygon fill=\"#ffffff\" stroke=\"transparent\" points=\"-4,4 -4,-344 716,-344 716,4 -4,4\"/>\n<!-- appointments -->\n<g id=\"node1\" class=\"node\">\n<title>appointments</title>\n<polygon fill=\"none\" stroke=\"#000000\" points=\"336,-173.5 336,-339.5 569,-339.5 569,-173.5 336,-173.5\"/>\n<text text-anchor=\"middle\" x=\"452.5\" y=\"-324.3\" font-family=\"Times,serif\" font-size=\"14.00\" fill=\"#000000\">appointments (110527 rows)</text>\n<polyline fill=\"none\" stroke=\"#000000\" points=\"336,-316.5 569,-316.5 \"/>\n<text text-anchor=\"start\" x=\"344\" y=\"-301.3\" font-family=\"Times,serif\" font-size=\"14.00\" fill=\"#000000\">appointment_id : index</text>\n<text text-anchor=\"start\" x=\"344\" y=\"-286.3\" font-family=\"Times,serif\" font-size=\"14.00\" fill=\"#000000\">scheduled_day : datetime_time_index</text>\n<text text-anchor=\"start\" x=\"344\" y=\"-271.3\" font-family=\"Times,serif\" font-size=\"14.00\" fill=\"#000000\">appointment_day : datetime</text>\n<text text-anchor=\"start\" x=\"344\" y=\"-256.3\" font-family=\"Times,serif\" font-size=\"14.00\" fill=\"#000000\">neighbourhood : id</text>\n<text text-anchor=\"start\" x=\"344\" y=\"-241.3\" font-family=\"Times,serif\" font-size=\"14.00\" fill=\"#000000\">gender : id</text>\n<text text-anchor=\"start\" x=\"344\" y=\"-226.3\" font-family=\"Times,serif\" font-size=\"14.00\" fill=\"#000000\">patient_id : id</text>\n<text text-anchor=\"start\" x=\"344\" y=\"-211.3\" font-family=\"Times,serif\" font-size=\"14.00\" fill=\"#000000\">age : id</text>\n<text text-anchor=\"start\" x=\"344\" y=\"-196.3\" font-family=\"Times,serif\" font-size=\"14.00\" fill=\"#000000\">no_show : boolean</text>\n<text text-anchor=\"start\" x=\"344\" y=\"-181.3\" font-family=\"Times,serif\" font-size=\"14.00\" fill=\"#000000\">sms_received : boolean</text>\n</g>\n<!-- patients -->\n<g id=\"node2\" class=\"node\">\n<title>patients</title>\n<polygon fill=\"none\" stroke=\"#000000\" points=\"0,-.5 0,-136.5 287,-136.5 287,-.5 0,-.5\"/>\n<text text-anchor=\"middle\" x=\"143.5\" y=\"-121.3\" font-family=\"Times,serif\" font-size=\"14.00\" fill=\"#000000\">patients (62299 rows)</text>\n<polyline fill=\"none\" stroke=\"#000000\" points=\"0,-113.5 287,-113.5 \"/>\n<text text-anchor=\"start\" x=\"8\" y=\"-98.3\" font-family=\"Times,serif\" font-size=\"14.00\" fill=\"#000000\">patient_id : index</text>\n<text text-anchor=\"start\" x=\"8\" y=\"-83.3\" font-family=\"Times,serif\" font-size=\"14.00\" fill=\"#000000\">scholarship : boolean</text>\n<text text-anchor=\"start\" x=\"8\" y=\"-68.3\" font-family=\"Times,serif\" font-size=\"14.00\" fill=\"#000000\">hypertension : boolean</text>\n<text text-anchor=\"start\" x=\"8\" y=\"-53.3\" font-family=\"Times,serif\" font-size=\"14.00\" fill=\"#000000\">diabetes : boolean</text>\n<text text-anchor=\"start\" x=\"8\" y=\"-38.3\" font-family=\"Times,serif\" font-size=\"14.00\" fill=\"#000000\">alcoholism : boolean</text>\n<text text-anchor=\"start\" x=\"8\" y=\"-23.3\" font-family=\"Times,serif\" font-size=\"14.00\" fill=\"#000000\">handicap : boolean</text>\n<text text-anchor=\"start\" x=\"8\" y=\"-8.3\" font-family=\"Times,serif\" font-size=\"14.00\" fill=\"#000000\">first_appointments_time : datetime_time_index</text>\n</g>\n<!-- appointments&#45;&gt;patients -->\n<g id=\"edge1\" class=\"edge\">\n<title>appointments&#45;&gt;patients</title>\n<path fill=\"none\" stroke=\"#000000\" d=\"M375.3333,-173.1949C375.3333,-142.0109 375.3333,-114 375.3333,-114 375.3333,-114 297.0257,-114 297.0257,-114\"/>\n<polygon fill=\"#000000\" stroke=\"#000000\" points=\"297.0258,-110.5001 287.0257,-114 297.0257,-117.5001 297.0258,-110.5001\"/>\n<text text-anchor=\"middle\" x=\"336.777\" y=\"-117.8\" font-family=\"Times,serif\" font-size=\"14.00\" fill=\"#000000\">patient_id</text>\n</g>\n<!-- locations -->\n<g id=\"node3\" class=\"node\">\n<title>locations</title>\n<polygon fill=\"none\" stroke=\"#000000\" points=\"305,-45.5 305,-91.5 454,-91.5 454,-45.5 305,-45.5\"/>\n<text text-anchor=\"middle\" x=\"379.5\" y=\"-76.3\" font-family=\"Times,serif\" font-size=\"14.00\" fill=\"#000000\">locations (81 rows)</text>\n<polyline fill=\"none\" stroke=\"#000000\" points=\"305,-68.5 454,-68.5 \"/>\n<text text-anchor=\"start\" x=\"313\" y=\"-53.3\" font-family=\"Times,serif\" font-size=\"14.00\" fill=\"#000000\">neighbourhood : index</text>\n</g>\n<!-- appointments&#45;&gt;locations -->\n<g id=\"edge2\" class=\"edge\">\n<title>appointments&#45;&gt;locations</title>\n<path fill=\"none\" stroke=\"#000000\" d=\"M414.6667,-173.4932C414.6667,-173.4932 414.6667,-101.5996 414.6667,-101.5996\"/>\n<polygon fill=\"#000000\" stroke=\"#000000\" points=\"418.1668,-101.5995 414.6667,-91.5996 411.1668,-101.5996 418.1668,-101.5995\"/>\n<text text-anchor=\"middle\" x=\"369.6667\" y=\"-141.3464\" font-family=\"Times,serif\" font-size=\"14.00\" fill=\"#000000\">neighbourhood</text>\n</g>\n<!-- ages -->\n<g id=\"node4\" class=\"node\">\n<title>ages</title>\n<polygon fill=\"none\" stroke=\"#000000\" points=\"472.5,-45.5 472.5,-91.5 580.5,-91.5 580.5,-45.5 472.5,-45.5\"/>\n<text text-anchor=\"middle\" x=\"526.5\" y=\"-76.3\" font-family=\"Times,serif\" font-size=\"14.00\" fill=\"#000000\">ages (104 rows)</text>\n<polyline fill=\"none\" stroke=\"#000000\" points=\"472.5,-68.5 580.5,-68.5 \"/>\n<text text-anchor=\"start\" x=\"480.5\" y=\"-53.3\" font-family=\"Times,serif\" font-size=\"14.00\" fill=\"#000000\">age : index</text>\n</g>\n<!-- appointments&#45;&gt;ages -->\n<g id=\"edge3\" class=\"edge\">\n<title>appointments&#45;&gt;ages</title>\n<path fill=\"none\" stroke=\"#000000\" d=\"M520.75,-173.4932C520.75,-173.4932 520.75,-101.5996 520.75,-101.5996\"/>\n<polygon fill=\"#000000\" stroke=\"#000000\" points=\"524.2501,-101.5995 520.75,-91.5996 517.2501,-101.5996 524.2501,-101.5995\"/>\n<text text-anchor=\"middle\" x=\"510.75\" y=\"-141.3464\" font-family=\"Times,serif\" font-size=\"14.00\" fill=\"#000000\">age</text>\n</g>\n<!-- genders -->\n<g id=\"node5\" class=\"node\">\n<title>genders</title>\n<polygon fill=\"none\" stroke=\"#000000\" points=\"599,-45.5 599,-91.5 712,-91.5 712,-45.5 599,-45.5\"/>\n<text text-anchor=\"middle\" x=\"655.5\" y=\"-76.3\" font-family=\"Times,serif\" font-size=\"14.00\" fill=\"#000000\">genders (2 rows)</text>\n<polyline fill=\"none\" stroke=\"#000000\" points=\"599,-68.5 712,-68.5 \"/>\n<text text-anchor=\"start\" x=\"607\" y=\"-53.3\" font-family=\"Times,serif\" font-size=\"14.00\" fill=\"#000000\">gender : index</text>\n</g>\n<!-- appointments&#45;&gt;genders -->\n<g id=\"edge4\" class=\"edge\">\n<title>appointments&#45;&gt;genders</title>\n<path fill=\"none\" stroke=\"#000000\" d=\"M569.1154,-256C614.3568,-256 655.5,-256 655.5,-256 655.5,-256 655.5,-101.8679 655.5,-101.8679\"/>\n<polygon fill=\"#000000\" stroke=\"#000000\" points=\"659.0001,-101.8679 655.5,-91.8679 652.0001,-101.8679 659.0001,-101.8679\"/>\n<text text-anchor=\"middle\" x=\"635.5\" y=\"-225.9263\" font-family=\"Times,serif\" font-size=\"14.00\" fill=\"#000000\">gender</text>\n</g>\n</g>\n</svg>\n"
          },
          "metadata": {
            "tags": []
          },
          "execution_count": 306
        }
      ]
    },
    {
      "cell_type": "markdown",
      "metadata": {
        "id": "5gTM5TQzcNrA"
      },
      "source": [
        "## Cutoffs"
      ]
    },
    {
      "cell_type": "code",
      "metadata": {
        "colab": {
          "base_uri": "https://localhost:8080/",
          "height": 195
        },
        "id": "gPcr3bjVdLu6",
        "outputId": "ff6606a6-0183-4ce9-d16a-a4f7f2e52837"
      },
      "source": [
        "cutoff_df = es['appointments'].df[['appointment_id', 'scheduled_day', 'no_show']].sort_values(by='scheduled_day')\n",
        "cutoff_df = cutoff_df.rename(columns={'scheduled_day': 'time', 'no_show': 'label'})\n",
        "cutoff_df.head()"
      ],
      "execution_count": 307,
      "outputs": [
        {
          "output_type": "execute_result",
          "data": {
            "text/html": [
              "<div>\n",
              "<style scoped>\n",
              "    .dataframe tbody tr th:only-of-type {\n",
              "        vertical-align: middle;\n",
              "    }\n",
              "\n",
              "    .dataframe tbody tr th {\n",
              "        vertical-align: top;\n",
              "    }\n",
              "\n",
              "    .dataframe thead th {\n",
              "        text-align: right;\n",
              "    }\n",
              "</style>\n",
              "<table border=\"1\" class=\"dataframe\">\n",
              "  <thead>\n",
              "    <tr style=\"text-align: right;\">\n",
              "      <th></th>\n",
              "      <th>appointment_id</th>\n",
              "      <th>time</th>\n",
              "      <th>label</th>\n",
              "    </tr>\n",
              "  </thead>\n",
              "  <tbody>\n",
              "    <tr>\n",
              "      <th>5030230</th>\n",
              "      <td>5030230</td>\n",
              "      <td>2015-11-10 07:13:56</td>\n",
              "      <td>0</td>\n",
              "    </tr>\n",
              "    <tr>\n",
              "      <th>5122866</th>\n",
              "      <td>5122866</td>\n",
              "      <td>2015-12-03 08:17:28</td>\n",
              "      <td>1</td>\n",
              "    </tr>\n",
              "    <tr>\n",
              "      <th>5134197</th>\n",
              "      <td>5134197</td>\n",
              "      <td>2015-12-07 10:40:59</td>\n",
              "      <td>1</td>\n",
              "    </tr>\n",
              "    <tr>\n",
              "      <th>5134220</th>\n",
              "      <td>5134220</td>\n",
              "      <td>2015-12-07 10:42:42</td>\n",
              "      <td>0</td>\n",
              "    </tr>\n",
              "    <tr>\n",
              "      <th>5134223</th>\n",
              "      <td>5134223</td>\n",
              "      <td>2015-12-07 10:43:01</td>\n",
              "      <td>0</td>\n",
              "    </tr>\n",
              "  </tbody>\n",
              "</table>\n",
              "</div>"
            ],
            "text/plain": [
              "         appointment_id                time  label\n",
              "5030230         5030230 2015-11-10 07:13:56      0\n",
              "5122866         5122866 2015-12-03 08:17:28      1\n",
              "5134197         5134197 2015-12-07 10:40:59      1\n",
              "5134220         5134220 2015-12-07 10:42:42      0\n",
              "5134223         5134223 2015-12-07 10:43:01      0"
            ]
          },
          "metadata": {
            "tags": []
          },
          "execution_count": 307
        }
      ]
    },
    {
      "cell_type": "code",
      "metadata": {
        "colab": {
          "base_uri": "https://localhost:8080/"
        },
        "id": "0dKUsqp1gLBd",
        "outputId": "fd83bdb7-1fbc-4674-9637-55f2bf2387cd"
      },
      "source": [
        "cutoff_df.dtypes"
      ],
      "execution_count": 308,
      "outputs": [
        {
          "output_type": "execute_result",
          "data": {
            "text/plain": [
              "appointment_id             int64\n",
              "time              datetime64[ns]\n",
              "label                      int64\n",
              "dtype: object"
            ]
          },
          "metadata": {
            "tags": []
          },
          "execution_count": 308
        }
      ]
    },
    {
      "cell_type": "markdown",
      "metadata": {
        "id": "0nnJhkEjeDDJ"
      },
      "source": [
        "## Deep Feature Synthesis"
      ]
    },
    {
      "cell_type": "code",
      "metadata": {
        "colab": {
          "base_uri": "https://localhost:8080/"
        },
        "id": "7Ur5N2M3eI7h",
        "outputId": "5a9fe401-34ee-4dcc-f2b3-7977d7ec562a"
      },
      "source": [
        "fm, features = ft.dfs(entityset = es,\n",
        "                      target_entity = 'appointments',\n",
        "                      agg_primitives = ['count', 'percent_true'],\n",
        "                      trans_primitives = ['is_weekend', 'weekday', 'day', 'month', 'year'],\n",
        "                      max_depth=3,\n",
        "                      approximate='6h',\n",
        "                      cutoff_time=cutoff_df[20000:],\n",
        "                      verbose=True)"
      ],
      "execution_count": 309,
      "outputs": [
        {
          "output_type": "stream",
          "text": [
            "Built 46 features\n",
            "Elapsed: 01:18 | Progress: 100%|██████████\n"
          ],
          "name": "stdout"
        }
      ]
    },
    {
      "cell_type": "code",
      "metadata": {
        "colab": {
          "base_uri": "https://localhost:8080/",
          "height": 278
        },
        "id": "mgVnWREFelci",
        "outputId": "37f37c4a-1864-4246-f1cc-7c7910c8db5e"
      },
      "source": [
        "fm.head()"
      ],
      "execution_count": 310,
      "outputs": [
        {
          "output_type": "execute_result",
          "data": {
            "text/html": [
              "<div>\n",
              "<style scoped>\n",
              "    .dataframe tbody tr th:only-of-type {\n",
              "        vertical-align: middle;\n",
              "    }\n",
              "\n",
              "    .dataframe tbody tr th {\n",
              "        vertical-align: top;\n",
              "    }\n",
              "\n",
              "    .dataframe thead th {\n",
              "        text-align: right;\n",
              "    }\n",
              "</style>\n",
              "<table border=\"1\" class=\"dataframe\">\n",
              "  <thead>\n",
              "    <tr style=\"text-align: right;\">\n",
              "      <th></th>\n",
              "      <th>neighbourhood</th>\n",
              "      <th>gender</th>\n",
              "      <th>patient_id</th>\n",
              "      <th>age</th>\n",
              "      <th>no_show</th>\n",
              "      <th>sms_received</th>\n",
              "      <th>DAY(appointment_day)</th>\n",
              "      <th>DAY(scheduled_day)</th>\n",
              "      <th>IS_WEEKEND(appointment_day)</th>\n",
              "      <th>IS_WEEKEND(scheduled_day)</th>\n",
              "      <th>MONTH(appointment_day)</th>\n",
              "      <th>MONTH(scheduled_day)</th>\n",
              "      <th>WEEKDAY(appointment_day)</th>\n",
              "      <th>WEEKDAY(scheduled_day)</th>\n",
              "      <th>YEAR(appointment_day)</th>\n",
              "      <th>YEAR(scheduled_day)</th>\n",
              "      <th>patients.scholarship</th>\n",
              "      <th>patients.hypertension</th>\n",
              "      <th>patients.diabetes</th>\n",
              "      <th>patients.alcoholism</th>\n",
              "      <th>patients.handicap</th>\n",
              "      <th>patients.COUNT(appointments)</th>\n",
              "      <th>patients.PERCENT_TRUE(appointments.no_show)</th>\n",
              "      <th>patients.PERCENT_TRUE(appointments.sms_received)</th>\n",
              "      <th>patients.DAY(first_appointments_time)</th>\n",
              "      <th>patients.IS_WEEKEND(first_appointments_time)</th>\n",
              "      <th>patients.MONTH(first_appointments_time)</th>\n",
              "      <th>patients.WEEKDAY(first_appointments_time)</th>\n",
              "      <th>patients.YEAR(first_appointments_time)</th>\n",
              "      <th>locations.COUNT(appointments)</th>\n",
              "      <th>locations.PERCENT_TRUE(appointments.no_show)</th>\n",
              "      <th>locations.PERCENT_TRUE(appointments.sms_received)</th>\n",
              "      <th>ages.COUNT(appointments)</th>\n",
              "      <th>ages.PERCENT_TRUE(appointments.no_show)</th>\n",
              "      <th>ages.PERCENT_TRUE(appointments.sms_received)</th>\n",
              "      <th>genders.COUNT(appointments)</th>\n",
              "      <th>genders.PERCENT_TRUE(appointments.no_show)</th>\n",
              "      <th>genders.PERCENT_TRUE(appointments.sms_received)</th>\n",
              "      <th>patients.PERCENT_TRUE(appointments.IS_WEEKEND(appointment_day))</th>\n",
              "      <th>patients.PERCENT_TRUE(appointments.IS_WEEKEND(scheduled_day))</th>\n",
              "      <th>locations.PERCENT_TRUE(appointments.IS_WEEKEND(appointment_day))</th>\n",
              "      <th>locations.PERCENT_TRUE(appointments.IS_WEEKEND(scheduled_day))</th>\n",
              "      <th>ages.PERCENT_TRUE(appointments.IS_WEEKEND(appointment_day))</th>\n",
              "      <th>ages.PERCENT_TRUE(appointments.IS_WEEKEND(scheduled_day))</th>\n",
              "      <th>genders.PERCENT_TRUE(appointments.IS_WEEKEND(appointment_day))</th>\n",
              "      <th>genders.PERCENT_TRUE(appointments.IS_WEEKEND(scheduled_day))</th>\n",
              "      <th>label</th>\n",
              "    </tr>\n",
              "    <tr>\n",
              "      <th>appointment_id</th>\n",
              "      <th></th>\n",
              "      <th></th>\n",
              "      <th></th>\n",
              "      <th></th>\n",
              "      <th></th>\n",
              "      <th></th>\n",
              "      <th></th>\n",
              "      <th></th>\n",
              "      <th></th>\n",
              "      <th></th>\n",
              "      <th></th>\n",
              "      <th></th>\n",
              "      <th></th>\n",
              "      <th></th>\n",
              "      <th></th>\n",
              "      <th></th>\n",
              "      <th></th>\n",
              "      <th></th>\n",
              "      <th></th>\n",
              "      <th></th>\n",
              "      <th></th>\n",
              "      <th></th>\n",
              "      <th></th>\n",
              "      <th></th>\n",
              "      <th></th>\n",
              "      <th></th>\n",
              "      <th></th>\n",
              "      <th></th>\n",
              "      <th></th>\n",
              "      <th></th>\n",
              "      <th></th>\n",
              "      <th></th>\n",
              "      <th></th>\n",
              "      <th></th>\n",
              "      <th></th>\n",
              "      <th></th>\n",
              "      <th></th>\n",
              "      <th></th>\n",
              "      <th></th>\n",
              "      <th></th>\n",
              "      <th></th>\n",
              "      <th></th>\n",
              "      <th></th>\n",
              "      <th></th>\n",
              "      <th></th>\n",
              "      <th></th>\n",
              "      <th></th>\n",
              "    </tr>\n",
              "  </thead>\n",
              "  <tbody>\n",
              "    <tr>\n",
              "      <th>5623805</th>\n",
              "      <td>SANTA MARTHA</td>\n",
              "      <td>F</td>\n",
              "      <td>4.532923e+10</td>\n",
              "      <td>18</td>\n",
              "      <td>0.0</td>\n",
              "      <td>1.0</td>\n",
              "      <td>31</td>\n",
              "      <td>26</td>\n",
              "      <td>False</td>\n",
              "      <td>False</td>\n",
              "      <td>5</td>\n",
              "      <td>4</td>\n",
              "      <td>1</td>\n",
              "      <td>1</td>\n",
              "      <td>2016</td>\n",
              "      <td>2016</td>\n",
              "      <td>0</td>\n",
              "      <td>0</td>\n",
              "      <td>0</td>\n",
              "      <td>0</td>\n",
              "      <td>0</td>\n",
              "      <td>0</td>\n",
              "      <td>0.0</td>\n",
              "      <td>0.0</td>\n",
              "      <td>26</td>\n",
              "      <td>False</td>\n",
              "      <td>4</td>\n",
              "      <td>1</td>\n",
              "      <td>2016</td>\n",
              "      <td>457.0</td>\n",
              "      <td>0.0</td>\n",
              "      <td>0.0</td>\n",
              "      <td>212.0</td>\n",
              "      <td>0.0</td>\n",
              "      <td>0.0</td>\n",
              "      <td>13105</td>\n",
              "      <td>0.0</td>\n",
              "      <td>0.0</td>\n",
              "      <td>0.0</td>\n",
              "      <td>0.0</td>\n",
              "      <td>0.0</td>\n",
              "      <td>0.002188</td>\n",
              "      <td>0.0</td>\n",
              "      <td>0.0</td>\n",
              "      <td>0.0</td>\n",
              "      <td>0.000305</td>\n",
              "      <td>0</td>\n",
              "    </tr>\n",
              "    <tr>\n",
              "      <th>5623811</th>\n",
              "      <td>SANTA MARTHA</td>\n",
              "      <td>M</td>\n",
              "      <td>7.756472e+12</td>\n",
              "      <td>27</td>\n",
              "      <td>0.0</td>\n",
              "      <td>1.0</td>\n",
              "      <td>5</td>\n",
              "      <td>26</td>\n",
              "      <td>False</td>\n",
              "      <td>False</td>\n",
              "      <td>5</td>\n",
              "      <td>4</td>\n",
              "      <td>3</td>\n",
              "      <td>1</td>\n",
              "      <td>2016</td>\n",
              "      <td>2016</td>\n",
              "      <td>0</td>\n",
              "      <td>1</td>\n",
              "      <td>0</td>\n",
              "      <td>0</td>\n",
              "      <td>0</td>\n",
              "      <td>0</td>\n",
              "      <td>0.0</td>\n",
              "      <td>0.0</td>\n",
              "      <td>26</td>\n",
              "      <td>False</td>\n",
              "      <td>4</td>\n",
              "      <td>1</td>\n",
              "      <td>2016</td>\n",
              "      <td>457.0</td>\n",
              "      <td>0.0</td>\n",
              "      <td>0.0</td>\n",
              "      <td>223.0</td>\n",
              "      <td>0.0</td>\n",
              "      <td>0.0</td>\n",
              "      <td>6438</td>\n",
              "      <td>0.0</td>\n",
              "      <td>0.0</td>\n",
              "      <td>0.0</td>\n",
              "      <td>0.0</td>\n",
              "      <td>0.0</td>\n",
              "      <td>0.002188</td>\n",
              "      <td>0.0</td>\n",
              "      <td>0.0</td>\n",
              "      <td>0.0</td>\n",
              "      <td>0.000000</td>\n",
              "      <td>0</td>\n",
              "    </tr>\n",
              "    <tr>\n",
              "      <th>5623814</th>\n",
              "      <td>JARDIM CAMBURI</td>\n",
              "      <td>M</td>\n",
              "      <td>7.267524e+12</td>\n",
              "      <td>20</td>\n",
              "      <td>0.0</td>\n",
              "      <td>1.0</td>\n",
              "      <td>11</td>\n",
              "      <td>26</td>\n",
              "      <td>False</td>\n",
              "      <td>False</td>\n",
              "      <td>5</td>\n",
              "      <td>4</td>\n",
              "      <td>2</td>\n",
              "      <td>1</td>\n",
              "      <td>2016</td>\n",
              "      <td>2016</td>\n",
              "      <td>0</td>\n",
              "      <td>0</td>\n",
              "      <td>0</td>\n",
              "      <td>0</td>\n",
              "      <td>0</td>\n",
              "      <td>0</td>\n",
              "      <td>0.0</td>\n",
              "      <td>0.0</td>\n",
              "      <td>26</td>\n",
              "      <td>False</td>\n",
              "      <td>4</td>\n",
              "      <td>1</td>\n",
              "      <td>2016</td>\n",
              "      <td>2272.0</td>\n",
              "      <td>0.0</td>\n",
              "      <td>0.0</td>\n",
              "      <td>249.0</td>\n",
              "      <td>0.0</td>\n",
              "      <td>0.0</td>\n",
              "      <td>6438</td>\n",
              "      <td>0.0</td>\n",
              "      <td>0.0</td>\n",
              "      <td>0.0</td>\n",
              "      <td>0.0</td>\n",
              "      <td>0.0</td>\n",
              "      <td>0.000000</td>\n",
              "      <td>0.0</td>\n",
              "      <td>0.0</td>\n",
              "      <td>0.0</td>\n",
              "      <td>0.000000</td>\n",
              "      <td>0</td>\n",
              "    </tr>\n",
              "    <tr>\n",
              "      <th>5623815</th>\n",
              "      <td>SANTO ANTÔNIO</td>\n",
              "      <td>F</td>\n",
              "      <td>7.762846e+13</td>\n",
              "      <td>33</td>\n",
              "      <td>0.0</td>\n",
              "      <td>0.0</td>\n",
              "      <td>16</td>\n",
              "      <td>26</td>\n",
              "      <td>False</td>\n",
              "      <td>False</td>\n",
              "      <td>5</td>\n",
              "      <td>4</td>\n",
              "      <td>0</td>\n",
              "      <td>1</td>\n",
              "      <td>2016</td>\n",
              "      <td>2016</td>\n",
              "      <td>0</td>\n",
              "      <td>0</td>\n",
              "      <td>0</td>\n",
              "      <td>0</td>\n",
              "      <td>0</td>\n",
              "      <td>0</td>\n",
              "      <td>0.0</td>\n",
              "      <td>0.0</td>\n",
              "      <td>26</td>\n",
              "      <td>False</td>\n",
              "      <td>4</td>\n",
              "      <td>1</td>\n",
              "      <td>2016</td>\n",
              "      <td>279.0</td>\n",
              "      <td>0.0</td>\n",
              "      <td>0.0</td>\n",
              "      <td>296.0</td>\n",
              "      <td>0.0</td>\n",
              "      <td>0.0</td>\n",
              "      <td>13105</td>\n",
              "      <td>0.0</td>\n",
              "      <td>0.0</td>\n",
              "      <td>0.0</td>\n",
              "      <td>0.0</td>\n",
              "      <td>0.0</td>\n",
              "      <td>0.000000</td>\n",
              "      <td>0.0</td>\n",
              "      <td>0.0</td>\n",
              "      <td>0.0</td>\n",
              "      <td>0.000305</td>\n",
              "      <td>0</td>\n",
              "    </tr>\n",
              "    <tr>\n",
              "      <th>5623817</th>\n",
              "      <td>REPÚBLICA</td>\n",
              "      <td>F</td>\n",
              "      <td>2.986375e+12</td>\n",
              "      <td>74</td>\n",
              "      <td>0.0</td>\n",
              "      <td>1.0</td>\n",
              "      <td>5</td>\n",
              "      <td>26</td>\n",
              "      <td>False</td>\n",
              "      <td>False</td>\n",
              "      <td>5</td>\n",
              "      <td>4</td>\n",
              "      <td>3</td>\n",
              "      <td>1</td>\n",
              "      <td>2016</td>\n",
              "      <td>2016</td>\n",
              "      <td>0</td>\n",
              "      <td>0</td>\n",
              "      <td>0</td>\n",
              "      <td>0</td>\n",
              "      <td>0</td>\n",
              "      <td>0</td>\n",
              "      <td>0.0</td>\n",
              "      <td>0.0</td>\n",
              "      <td>26</td>\n",
              "      <td>False</td>\n",
              "      <td>4</td>\n",
              "      <td>1</td>\n",
              "      <td>2016</td>\n",
              "      <td>61.0</td>\n",
              "      <td>0.0</td>\n",
              "      <td>0.0</td>\n",
              "      <td>129.0</td>\n",
              "      <td>0.0</td>\n",
              "      <td>0.0</td>\n",
              "      <td>13105</td>\n",
              "      <td>0.0</td>\n",
              "      <td>0.0</td>\n",
              "      <td>0.0</td>\n",
              "      <td>0.0</td>\n",
              "      <td>0.0</td>\n",
              "      <td>0.000000</td>\n",
              "      <td>0.0</td>\n",
              "      <td>0.0</td>\n",
              "      <td>0.0</td>\n",
              "      <td>0.000305</td>\n",
              "      <td>0</td>\n",
              "    </tr>\n",
              "  </tbody>\n",
              "</table>\n",
              "</div>"
            ],
            "text/plain": [
              "                 neighbourhood  ... label\n",
              "appointment_id                  ...      \n",
              "5623805           SANTA MARTHA  ...     0\n",
              "5623811           SANTA MARTHA  ...     0\n",
              "5623814         JARDIM CAMBURI  ...     0\n",
              "5623815          SANTO ANTÔNIO  ...     0\n",
              "5623817              REPÚBLICA  ...     0\n",
              "\n",
              "[5 rows x 47 columns]"
            ]
          },
          "metadata": {
            "tags": []
          },
          "execution_count": 310
        }
      ]
    },
    {
      "cell_type": "code",
      "metadata": {
        "colab": {
          "base_uri": "https://localhost:8080/"
        },
        "id": "Hf2bxvdHo8TG",
        "outputId": "2581d665-8ab1-412e-ec27-7fc415694889"
      },
      "source": [
        "features"
      ],
      "execution_count": 311,
      "outputs": [
        {
          "output_type": "execute_result",
          "data": {
            "text/plain": [
              "[<Feature: neighbourhood>,\n",
              " <Feature: gender>,\n",
              " <Feature: patient_id>,\n",
              " <Feature: age>,\n",
              " <Feature: no_show>,\n",
              " <Feature: sms_received>,\n",
              " <Feature: DAY(appointment_day)>,\n",
              " <Feature: DAY(scheduled_day)>,\n",
              " <Feature: IS_WEEKEND(appointment_day)>,\n",
              " <Feature: IS_WEEKEND(scheduled_day)>,\n",
              " <Feature: MONTH(appointment_day)>,\n",
              " <Feature: MONTH(scheduled_day)>,\n",
              " <Feature: WEEKDAY(appointment_day)>,\n",
              " <Feature: WEEKDAY(scheduled_day)>,\n",
              " <Feature: YEAR(appointment_day)>,\n",
              " <Feature: YEAR(scheduled_day)>,\n",
              " <Feature: patients.scholarship>,\n",
              " <Feature: patients.hypertension>,\n",
              " <Feature: patients.diabetes>,\n",
              " <Feature: patients.alcoholism>,\n",
              " <Feature: patients.handicap>,\n",
              " <Feature: patients.COUNT(appointments)>,\n",
              " <Feature: patients.PERCENT_TRUE(appointments.no_show)>,\n",
              " <Feature: patients.PERCENT_TRUE(appointments.sms_received)>,\n",
              " <Feature: patients.DAY(first_appointments_time)>,\n",
              " <Feature: patients.IS_WEEKEND(first_appointments_time)>,\n",
              " <Feature: patients.MONTH(first_appointments_time)>,\n",
              " <Feature: patients.WEEKDAY(first_appointments_time)>,\n",
              " <Feature: patients.YEAR(first_appointments_time)>,\n",
              " <Feature: locations.COUNT(appointments)>,\n",
              " <Feature: locations.PERCENT_TRUE(appointments.no_show)>,\n",
              " <Feature: locations.PERCENT_TRUE(appointments.sms_received)>,\n",
              " <Feature: ages.COUNT(appointments)>,\n",
              " <Feature: ages.PERCENT_TRUE(appointments.no_show)>,\n",
              " <Feature: ages.PERCENT_TRUE(appointments.sms_received)>,\n",
              " <Feature: genders.COUNT(appointments)>,\n",
              " <Feature: genders.PERCENT_TRUE(appointments.no_show)>,\n",
              " <Feature: genders.PERCENT_TRUE(appointments.sms_received)>,\n",
              " <Feature: patients.PERCENT_TRUE(appointments.IS_WEEKEND(appointment_day))>,\n",
              " <Feature: patients.PERCENT_TRUE(appointments.IS_WEEKEND(scheduled_day))>,\n",
              " <Feature: locations.PERCENT_TRUE(appointments.IS_WEEKEND(appointment_day))>,\n",
              " <Feature: locations.PERCENT_TRUE(appointments.IS_WEEKEND(scheduled_day))>,\n",
              " <Feature: ages.PERCENT_TRUE(appointments.IS_WEEKEND(appointment_day))>,\n",
              " <Feature: ages.PERCENT_TRUE(appointments.IS_WEEKEND(scheduled_day))>,\n",
              " <Feature: genders.PERCENT_TRUE(appointments.IS_WEEKEND(appointment_day))>,\n",
              " <Feature: genders.PERCENT_TRUE(appointments.IS_WEEKEND(scheduled_day))>]"
            ]
          },
          "metadata": {
            "tags": []
          },
          "execution_count": 311
        }
      ]
    },
    {
      "cell_type": "markdown",
      "metadata": {
        "id": "UPh0lDx4pA6U"
      },
      "source": [
        "## Split"
      ]
    },
    {
      "cell_type": "code",
      "metadata": {
        "id": "71fdljdopxMu"
      },
      "source": [
        "cols = [c for c in fm.columns if c != 'no_show']\n",
        "fm = fm[cols]\n",
        "X = fm.copy()\n",
        "y = X.pop('label')\n",
        "X = X.drop(columns=['patient_id', 'neighbourhood', 'gender'])"
      ],
      "execution_count": 312,
      "outputs": []
    },
    {
      "cell_type": "code",
      "metadata": {
        "colab": {
          "base_uri": "https://localhost:8080/"
        },
        "id": "bcheWvh-qFU5",
        "outputId": "fc01b997-e682-4678-beea-14b1bb5bc72f"
      },
      "source": [
        "X_train, X_test, y_train, y_test = train_test_split(X, y, random_state=10)\n",
        "X_train, X_eval, y_train, y_eval = train_test_split(X_train, y_train, test_size=0.1, random_state=10)\n",
        "print(len(X_train), len(X_eval), len(X_test))"
      ],
      "execution_count": 313,
      "outputs": [
        {
          "output_type": "stream",
          "text": [
            "61105 6790 22632\n"
          ],
          "name": "stdout"
        }
      ]
    },
    {
      "cell_type": "markdown",
      "metadata": {
        "id": "wal0YjkQqB5X"
      },
      "source": [
        "## Train"
      ]
    },
    {
      "cell_type": "code",
      "metadata": {
        "colab": {
          "base_uri": "https://localhost:8080/",
          "height": 1000,
          "referenced_widgets": [
            "7a645d67bd2a452ca3250658e8f4622b"
          ]
        },
        "id": "5_qjDvdiqFbu",
        "outputId": "8c5d86dc-707c-4da5-b4ec-0a032942b4d1"
      },
      "source": [
        "model = CatBoostClassifier(class_weights=WEIGHTS)\n",
        "model.fit(X_train, y_train,\n",
        "          eval_set=(X_eval, y_eval), \n",
        "          early_stopping_rounds=5,\n",
        "          plot=True)"
      ],
      "execution_count": 314,
      "outputs": [
        {
          "output_type": "display_data",
          "data": {
            "application/vnd.jupyter.widget-view+json": {
              "model_id": "7a645d67bd2a452ca3250658e8f4622b",
              "version_minor": 0,
              "version_major": 2
            },
            "text/plain": [
              "MetricVisualizer(layout=Layout(align_self='stretch', height='500px'))"
            ]
          },
          "metadata": {
            "tags": []
          }
        },
        {
          "output_type": "stream",
          "text": [
            "Learning rate set to 0.087512\n",
            "0:\tlearn: 0.6837954\ttest: 0.6841531\tbest: 0.6841531 (0)\ttotal: 39.8ms\tremaining: 39.7s\n",
            "1:\tlearn: 0.6752631\ttest: 0.6761778\tbest: 0.6761778 (1)\ttotal: 81.1ms\tremaining: 40.5s\n",
            "2:\tlearn: 0.6684166\ttest: 0.6697954\tbest: 0.6697954 (2)\ttotal: 127ms\tremaining: 42.1s\n",
            "3:\tlearn: 0.6639635\ttest: 0.6656142\tbest: 0.6656142 (3)\ttotal: 162ms\tremaining: 40.3s\n",
            "4:\tlearn: 0.6588096\ttest: 0.6608069\tbest: 0.6608069 (4)\ttotal: 210ms\tremaining: 41.8s\n",
            "5:\tlearn: 0.6539737\ttest: 0.6561996\tbest: 0.6561996 (5)\ttotal: 243ms\tremaining: 40.3s\n",
            "6:\tlearn: 0.6499737\ttest: 0.6526086\tbest: 0.6526086 (6)\ttotal: 300ms\tremaining: 42.5s\n",
            "7:\tlearn: 0.6466790\ttest: 0.6492973\tbest: 0.6492973 (7)\ttotal: 336ms\tremaining: 41.7s\n",
            "8:\tlearn: 0.6439374\ttest: 0.6469768\tbest: 0.6469768 (8)\ttotal: 377ms\tremaining: 41.6s\n",
            "9:\tlearn: 0.6412860\ttest: 0.6444582\tbest: 0.6444582 (9)\ttotal: 423ms\tremaining: 41.8s\n",
            "10:\tlearn: 0.6387359\ttest: 0.6418169\tbest: 0.6418169 (10)\ttotal: 464ms\tremaining: 41.7s\n",
            "11:\tlearn: 0.6366254\ttest: 0.6398310\tbest: 0.6398310 (11)\ttotal: 510ms\tremaining: 42s\n",
            "12:\tlearn: 0.6348065\ttest: 0.6381343\tbest: 0.6381343 (12)\ttotal: 544ms\tremaining: 41.3s\n",
            "13:\tlearn: 0.6337671\ttest: 0.6371182\tbest: 0.6371182 (13)\ttotal: 583ms\tremaining: 41.1s\n",
            "14:\tlearn: 0.6322049\ttest: 0.6358426\tbest: 0.6358426 (14)\ttotal: 619ms\tremaining: 40.6s\n",
            "15:\tlearn: 0.6305681\ttest: 0.6344545\tbest: 0.6344545 (15)\ttotal: 658ms\tremaining: 40.5s\n",
            "16:\tlearn: 0.6291526\ttest: 0.6329235\tbest: 0.6329235 (16)\ttotal: 694ms\tremaining: 40.1s\n",
            "17:\tlearn: 0.6280313\ttest: 0.6322542\tbest: 0.6322542 (17)\ttotal: 735ms\tremaining: 40.1s\n",
            "18:\tlearn: 0.6268767\ttest: 0.6313182\tbest: 0.6313182 (18)\ttotal: 772ms\tremaining: 39.9s\n",
            "19:\tlearn: 0.6259448\ttest: 0.6305145\tbest: 0.6305145 (19)\ttotal: 808ms\tremaining: 39.6s\n",
            "20:\tlearn: 0.6253510\ttest: 0.6300134\tbest: 0.6300134 (20)\ttotal: 841ms\tremaining: 39.2s\n",
            "21:\tlearn: 0.6241351\ttest: 0.6290908\tbest: 0.6290908 (21)\ttotal: 898ms\tremaining: 39.9s\n",
            "22:\tlearn: 0.6227109\ttest: 0.6279647\tbest: 0.6279647 (22)\ttotal: 933ms\tremaining: 39.6s\n",
            "23:\tlearn: 0.6214547\ttest: 0.6269203\tbest: 0.6269203 (23)\ttotal: 966ms\tremaining: 39.3s\n",
            "24:\tlearn: 0.6209331\ttest: 0.6268114\tbest: 0.6268114 (24)\ttotal: 1s\tremaining: 39s\n",
            "25:\tlearn: 0.6202849\ttest: 0.6266414\tbest: 0.6266414 (25)\ttotal: 1.04s\tremaining: 38.9s\n",
            "26:\tlearn: 0.6196774\ttest: 0.6263234\tbest: 0.6263234 (26)\ttotal: 1.07s\tremaining: 38.7s\n",
            "27:\tlearn: 0.6186005\ttest: 0.6251917\tbest: 0.6251917 (27)\ttotal: 1.12s\tremaining: 38.8s\n",
            "28:\tlearn: 0.6176523\ttest: 0.6245078\tbest: 0.6245078 (28)\ttotal: 1.16s\tremaining: 38.7s\n",
            "29:\tlearn: 0.6172259\ttest: 0.6241798\tbest: 0.6241798 (29)\ttotal: 1.19s\tremaining: 38.6s\n",
            "30:\tlearn: 0.6168018\ttest: 0.6239902\tbest: 0.6239902 (30)\ttotal: 1.23s\tremaining: 38.4s\n",
            "31:\tlearn: 0.6163501\ttest: 0.6237214\tbest: 0.6237214 (31)\ttotal: 1.26s\tremaining: 38.2s\n",
            "32:\tlearn: 0.6147477\ttest: 0.6226685\tbest: 0.6226685 (32)\ttotal: 1.3s\tremaining: 38s\n",
            "33:\tlearn: 0.6132256\ttest: 0.6211571\tbest: 0.6211571 (33)\ttotal: 1.34s\tremaining: 38.1s\n",
            "34:\tlearn: 0.6121853\ttest: 0.6203549\tbest: 0.6203549 (34)\ttotal: 1.38s\tremaining: 38s\n",
            "35:\tlearn: 0.6114538\ttest: 0.6197165\tbest: 0.6197165 (35)\ttotal: 1.41s\tremaining: 37.9s\n",
            "36:\tlearn: 0.6109211\ttest: 0.6193925\tbest: 0.6193925 (36)\ttotal: 1.45s\tremaining: 37.7s\n",
            "37:\tlearn: 0.6106700\ttest: 0.6191918\tbest: 0.6191918 (37)\ttotal: 1.49s\tremaining: 37.7s\n",
            "38:\tlearn: 0.6094187\ttest: 0.6178456\tbest: 0.6178456 (38)\ttotal: 1.52s\tremaining: 37.5s\n",
            "39:\tlearn: 0.6084706\ttest: 0.6170706\tbest: 0.6170706 (39)\ttotal: 1.56s\tremaining: 37.5s\n",
            "40:\tlearn: 0.6075606\ttest: 0.6165115\tbest: 0.6165115 (40)\ttotal: 1.6s\tremaining: 37.4s\n",
            "41:\tlearn: 0.6070513\ttest: 0.6162337\tbest: 0.6162337 (41)\ttotal: 1.64s\tremaining: 37.3s\n",
            "42:\tlearn: 0.6064958\ttest: 0.6157412\tbest: 0.6157412 (42)\ttotal: 1.68s\tremaining: 37.3s\n",
            "43:\tlearn: 0.6061094\ttest: 0.6155256\tbest: 0.6155256 (43)\ttotal: 1.71s\tremaining: 37.2s\n",
            "44:\tlearn: 0.6052675\ttest: 0.6146473\tbest: 0.6146473 (44)\ttotal: 1.74s\tremaining: 37s\n",
            "45:\tlearn: 0.6045496\ttest: 0.6141127\tbest: 0.6141127 (45)\ttotal: 1.78s\tremaining: 37s\n",
            "46:\tlearn: 0.6039852\ttest: 0.6137670\tbest: 0.6137670 (46)\ttotal: 1.82s\tremaining: 37s\n",
            "47:\tlearn: 0.6025315\ttest: 0.6121716\tbest: 0.6121716 (47)\ttotal: 1.86s\tremaining: 36.9s\n",
            "48:\tlearn: 0.6021391\ttest: 0.6119384\tbest: 0.6119384 (48)\ttotal: 1.91s\tremaining: 37.1s\n",
            "49:\tlearn: 0.6017037\ttest: 0.6116575\tbest: 0.6116575 (49)\ttotal: 1.95s\tremaining: 37.1s\n",
            "50:\tlearn: 0.6013437\ttest: 0.6114157\tbest: 0.6114157 (50)\ttotal: 1.99s\tremaining: 37s\n",
            "51:\tlearn: 0.6011412\ttest: 0.6113378\tbest: 0.6113378 (51)\ttotal: 2.03s\tremaining: 37s\n",
            "52:\tlearn: 0.6007970\ttest: 0.6112363\tbest: 0.6112363 (52)\ttotal: 2.06s\tremaining: 36.9s\n",
            "53:\tlearn: 0.6006052\ttest: 0.6111642\tbest: 0.6111642 (53)\ttotal: 2.1s\tremaining: 36.7s\n",
            "54:\tlearn: 0.6002202\ttest: 0.6108066\tbest: 0.6108066 (54)\ttotal: 2.13s\tremaining: 36.6s\n",
            "55:\tlearn: 0.5996516\ttest: 0.6103555\tbest: 0.6103555 (55)\ttotal: 2.17s\tremaining: 36.5s\n",
            "56:\tlearn: 0.5993584\ttest: 0.6102638\tbest: 0.6102638 (56)\ttotal: 2.21s\tremaining: 36.5s\n",
            "57:\tlearn: 0.5991232\ttest: 0.6102493\tbest: 0.6102493 (57)\ttotal: 2.25s\tremaining: 36.5s\n",
            "58:\tlearn: 0.5987228\ttest: 0.6099731\tbest: 0.6099731 (58)\ttotal: 2.28s\tremaining: 36.4s\n",
            "59:\tlearn: 0.5972947\ttest: 0.6087183\tbest: 0.6087183 (59)\ttotal: 2.32s\tremaining: 36.3s\n",
            "60:\tlearn: 0.5967717\ttest: 0.6082383\tbest: 0.6082383 (60)\ttotal: 2.35s\tremaining: 36.2s\n",
            "61:\tlearn: 0.5964064\ttest: 0.6081710\tbest: 0.6081710 (61)\ttotal: 2.39s\tremaining: 36.2s\n",
            "62:\tlearn: 0.5957800\ttest: 0.6075353\tbest: 0.6075353 (62)\ttotal: 2.43s\tremaining: 36.1s\n",
            "63:\tlearn: 0.5951487\ttest: 0.6070024\tbest: 0.6070024 (63)\ttotal: 2.46s\tremaining: 36.1s\n",
            "64:\tlearn: 0.5944575\ttest: 0.6063398\tbest: 0.6063398 (64)\ttotal: 2.5s\tremaining: 36s\n",
            "65:\tlearn: 0.5941855\ttest: 0.6061066\tbest: 0.6061066 (65)\ttotal: 2.54s\tremaining: 36s\n",
            "66:\tlearn: 0.5939472\ttest: 0.6062263\tbest: 0.6061066 (65)\ttotal: 2.58s\tremaining: 35.9s\n",
            "67:\tlearn: 0.5937174\ttest: 0.6060883\tbest: 0.6060883 (67)\ttotal: 2.61s\tremaining: 35.8s\n",
            "68:\tlearn: 0.5934255\ttest: 0.6059602\tbest: 0.6059602 (68)\ttotal: 2.65s\tremaining: 35.7s\n",
            "69:\tlearn: 0.5927770\ttest: 0.6053960\tbest: 0.6053960 (69)\ttotal: 2.69s\tremaining: 35.7s\n",
            "70:\tlearn: 0.5925724\ttest: 0.6052475\tbest: 0.6052475 (70)\ttotal: 2.72s\tremaining: 35.6s\n",
            "71:\tlearn: 0.5919297\ttest: 0.6046226\tbest: 0.6046226 (71)\ttotal: 2.76s\tremaining: 35.5s\n",
            "72:\tlearn: 0.5915179\ttest: 0.6042599\tbest: 0.6042599 (72)\ttotal: 2.79s\tremaining: 35.5s\n",
            "73:\tlearn: 0.5913119\ttest: 0.6043285\tbest: 0.6042599 (72)\ttotal: 2.83s\tremaining: 35.5s\n",
            "74:\tlearn: 0.5911757\ttest: 0.6042060\tbest: 0.6042060 (74)\ttotal: 2.89s\tremaining: 35.7s\n",
            "75:\tlearn: 0.5908394\ttest: 0.6039869\tbest: 0.6039869 (75)\ttotal: 2.93s\tremaining: 35.6s\n",
            "76:\tlearn: 0.5906943\ttest: 0.6040172\tbest: 0.6039869 (75)\ttotal: 2.96s\tremaining: 35.5s\n",
            "77:\tlearn: 0.5904525\ttest: 0.6039043\tbest: 0.6039043 (77)\ttotal: 3s\tremaining: 35.4s\n",
            "78:\tlearn: 0.5899202\ttest: 0.6034521\tbest: 0.6034521 (78)\ttotal: 3.03s\tremaining: 35.4s\n",
            "79:\tlearn: 0.5897273\ttest: 0.6033463\tbest: 0.6033463 (79)\ttotal: 3.07s\tremaining: 35.3s\n",
            "80:\tlearn: 0.5889442\ttest: 0.6026965\tbest: 0.6026965 (80)\ttotal: 3.11s\tremaining: 35.3s\n",
            "81:\tlearn: 0.5887663\ttest: 0.6025067\tbest: 0.6025067 (81)\ttotal: 3.15s\tremaining: 35.3s\n",
            "82:\tlearn: 0.5885816\ttest: 0.6024077\tbest: 0.6024077 (82)\ttotal: 3.18s\tremaining: 35.2s\n",
            "83:\tlearn: 0.5883881\ttest: 0.6023477\tbest: 0.6023477 (83)\ttotal: 3.22s\tremaining: 35.1s\n",
            "84:\tlearn: 0.5881632\ttest: 0.6023331\tbest: 0.6023331 (84)\ttotal: 3.25s\tremaining: 35s\n",
            "85:\tlearn: 0.5879181\ttest: 0.6021409\tbest: 0.6021409 (85)\ttotal: 3.29s\tremaining: 35s\n",
            "86:\tlearn: 0.5877280\ttest: 0.6020043\tbest: 0.6020043 (86)\ttotal: 3.33s\tremaining: 34.9s\n",
            "87:\tlearn: 0.5871354\ttest: 0.6013473\tbest: 0.6013473 (87)\ttotal: 3.36s\tremaining: 34.8s\n",
            "88:\tlearn: 0.5869120\ttest: 0.6013736\tbest: 0.6013473 (87)\ttotal: 3.4s\tremaining: 34.8s\n",
            "89:\tlearn: 0.5866371\ttest: 0.6012970\tbest: 0.6012970 (89)\ttotal: 3.43s\tremaining: 34.7s\n",
            "90:\tlearn: 0.5863462\ttest: 0.6009746\tbest: 0.6009746 (90)\ttotal: 3.47s\tremaining: 34.7s\n",
            "91:\tlearn: 0.5856136\ttest: 0.6001260\tbest: 0.6001260 (91)\ttotal: 3.51s\tremaining: 34.6s\n",
            "92:\tlearn: 0.5854339\ttest: 0.6000916\tbest: 0.6000916 (92)\ttotal: 3.55s\tremaining: 34.6s\n",
            "93:\tlearn: 0.5852582\ttest: 0.6000625\tbest: 0.6000625 (93)\ttotal: 3.59s\tremaining: 34.6s\n",
            "94:\tlearn: 0.5850984\ttest: 0.6001355\tbest: 0.6000625 (93)\ttotal: 3.62s\tremaining: 34.5s\n",
            "95:\tlearn: 0.5848719\ttest: 0.6001567\tbest: 0.6000625 (93)\ttotal: 3.66s\tremaining: 34.5s\n",
            "96:\tlearn: 0.5846246\ttest: 0.5999427\tbest: 0.5999427 (96)\ttotal: 3.7s\tremaining: 34.4s\n",
            "97:\tlearn: 0.5841696\ttest: 0.5995529\tbest: 0.5995529 (97)\ttotal: 3.73s\tremaining: 34.4s\n",
            "98:\tlearn: 0.5840269\ttest: 0.5994872\tbest: 0.5994872 (98)\ttotal: 3.78s\tremaining: 34.4s\n",
            "99:\tlearn: 0.5839253\ttest: 0.5993567\tbest: 0.5993567 (99)\ttotal: 3.81s\tremaining: 34.3s\n",
            "100:\tlearn: 0.5838036\ttest: 0.5993626\tbest: 0.5993567 (99)\ttotal: 3.85s\tremaining: 34.3s\n",
            "101:\tlearn: 0.5831947\ttest: 0.5988044\tbest: 0.5988044 (101)\ttotal: 3.92s\tremaining: 34.5s\n",
            "102:\tlearn: 0.5829843\ttest: 0.5986855\tbest: 0.5986855 (102)\ttotal: 3.95s\tremaining: 34.4s\n",
            "103:\tlearn: 0.5828177\ttest: 0.5985506\tbest: 0.5985506 (103)\ttotal: 4s\tremaining: 34.5s\n",
            "104:\tlearn: 0.5827071\ttest: 0.5985051\tbest: 0.5985051 (104)\ttotal: 4.04s\tremaining: 34.4s\n",
            "105:\tlearn: 0.5821701\ttest: 0.5978911\tbest: 0.5978911 (105)\ttotal: 4.08s\tremaining: 34.4s\n",
            "106:\tlearn: 0.5820192\ttest: 0.5978858\tbest: 0.5978858 (106)\ttotal: 4.11s\tremaining: 34.3s\n",
            "107:\tlearn: 0.5816555\ttest: 0.5976659\tbest: 0.5976659 (107)\ttotal: 4.14s\tremaining: 34.2s\n",
            "108:\tlearn: 0.5815602\ttest: 0.5977357\tbest: 0.5976659 (107)\ttotal: 4.18s\tremaining: 34.2s\n",
            "109:\tlearn: 0.5814074\ttest: 0.5976806\tbest: 0.5976659 (107)\ttotal: 4.22s\tremaining: 34.1s\n",
            "110:\tlearn: 0.5813365\ttest: 0.5977342\tbest: 0.5976659 (107)\ttotal: 4.25s\tremaining: 34.1s\n",
            "111:\tlearn: 0.5812206\ttest: 0.5975618\tbest: 0.5975618 (111)\ttotal: 4.29s\tremaining: 34s\n",
            "112:\tlearn: 0.5810343\ttest: 0.5976269\tbest: 0.5975618 (111)\ttotal: 4.32s\tremaining: 33.9s\n",
            "113:\tlearn: 0.5808895\ttest: 0.5975484\tbest: 0.5975484 (113)\ttotal: 4.36s\tremaining: 33.9s\n",
            "114:\tlearn: 0.5806929\ttest: 0.5974231\tbest: 0.5974231 (114)\ttotal: 4.4s\tremaining: 33.8s\n",
            "115:\tlearn: 0.5802332\ttest: 0.5971285\tbest: 0.5971285 (115)\ttotal: 4.44s\tremaining: 33.8s\n",
            "116:\tlearn: 0.5800719\ttest: 0.5970236\tbest: 0.5970236 (116)\ttotal: 4.47s\tremaining: 33.7s\n",
            "117:\tlearn: 0.5798567\ttest: 0.5969741\tbest: 0.5969741 (117)\ttotal: 4.51s\tremaining: 33.7s\n",
            "118:\tlearn: 0.5792741\ttest: 0.5963453\tbest: 0.5963453 (118)\ttotal: 4.54s\tremaining: 33.6s\n",
            "119:\tlearn: 0.5790991\ttest: 0.5963611\tbest: 0.5963453 (118)\ttotal: 4.57s\tremaining: 33.5s\n",
            "120:\tlearn: 0.5788790\ttest: 0.5963136\tbest: 0.5963136 (120)\ttotal: 4.61s\tremaining: 33.5s\n",
            "121:\tlearn: 0.5784836\ttest: 0.5961444\tbest: 0.5961444 (121)\ttotal: 4.65s\tremaining: 33.5s\n",
            "122:\tlearn: 0.5782370\ttest: 0.5959425\tbest: 0.5959425 (122)\ttotal: 4.69s\tremaining: 33.4s\n",
            "123:\tlearn: 0.5779174\ttest: 0.5956693\tbest: 0.5956693 (123)\ttotal: 4.72s\tremaining: 33.3s\n",
            "124:\tlearn: 0.5776951\ttest: 0.5956915\tbest: 0.5956693 (123)\ttotal: 4.76s\tremaining: 33.3s\n",
            "125:\tlearn: 0.5774301\ttest: 0.5957176\tbest: 0.5956693 (123)\ttotal: 4.79s\tremaining: 33.2s\n",
            "126:\tlearn: 0.5770529\ttest: 0.5953084\tbest: 0.5953084 (126)\ttotal: 4.82s\tremaining: 33.2s\n",
            "127:\tlearn: 0.5768094\ttest: 0.5952609\tbest: 0.5952609 (127)\ttotal: 4.87s\tremaining: 33.1s\n",
            "128:\tlearn: 0.5767119\ttest: 0.5952031\tbest: 0.5952031 (128)\ttotal: 4.92s\tremaining: 33.3s\n",
            "129:\tlearn: 0.5763840\ttest: 0.5951465\tbest: 0.5951465 (129)\ttotal: 4.96s\tremaining: 33.2s\n",
            "130:\tlearn: 0.5761542\ttest: 0.5950067\tbest: 0.5950067 (130)\ttotal: 5s\tremaining: 33.1s\n",
            "131:\tlearn: 0.5759841\ttest: 0.5949258\tbest: 0.5949258 (131)\ttotal: 5.03s\tremaining: 33.1s\n",
            "132:\tlearn: 0.5758133\ttest: 0.5948892\tbest: 0.5948892 (132)\ttotal: 5.07s\tremaining: 33.1s\n",
            "133:\tlearn: 0.5756330\ttest: 0.5948301\tbest: 0.5948301 (133)\ttotal: 5.11s\tremaining: 33s\n",
            "134:\tlearn: 0.5754271\ttest: 0.5948430\tbest: 0.5948301 (133)\ttotal: 5.14s\tremaining: 32.9s\n",
            "135:\tlearn: 0.5752240\ttest: 0.5947347\tbest: 0.5947347 (135)\ttotal: 5.18s\tremaining: 32.9s\n",
            "136:\tlearn: 0.5750440\ttest: 0.5947667\tbest: 0.5947347 (135)\ttotal: 5.21s\tremaining: 32.8s\n",
            "137:\tlearn: 0.5748285\ttest: 0.5947576\tbest: 0.5947347 (135)\ttotal: 5.25s\tremaining: 32.8s\n",
            "138:\tlearn: 0.5743432\ttest: 0.5943659\tbest: 0.5943659 (138)\ttotal: 5.29s\tremaining: 32.8s\n",
            "139:\tlearn: 0.5741530\ttest: 0.5944761\tbest: 0.5943659 (138)\ttotal: 5.32s\tremaining: 32.7s\n",
            "140:\tlearn: 0.5739078\ttest: 0.5943744\tbest: 0.5943659 (138)\ttotal: 5.36s\tremaining: 32.7s\n",
            "141:\tlearn: 0.5735693\ttest: 0.5941557\tbest: 0.5941557 (141)\ttotal: 5.39s\tremaining: 32.6s\n",
            "142:\tlearn: 0.5733135\ttest: 0.5941442\tbest: 0.5941442 (142)\ttotal: 5.43s\tremaining: 32.6s\n",
            "143:\tlearn: 0.5730692\ttest: 0.5942052\tbest: 0.5941442 (142)\ttotal: 5.47s\tremaining: 32.5s\n",
            "144:\tlearn: 0.5728950\ttest: 0.5942592\tbest: 0.5941442 (142)\ttotal: 5.5s\tremaining: 32.4s\n",
            "145:\tlearn: 0.5725742\ttest: 0.5942158\tbest: 0.5941442 (142)\ttotal: 5.54s\tremaining: 32.4s\n",
            "146:\tlearn: 0.5722809\ttest: 0.5942358\tbest: 0.5941442 (142)\ttotal: 5.57s\tremaining: 32.3s\n",
            "147:\tlearn: 0.5720805\ttest: 0.5942029\tbest: 0.5941442 (142)\ttotal: 5.61s\tremaining: 32.3s\n",
            "Stopped by overfitting detector  (5 iterations wait)\n",
            "\n",
            "bestTest = 0.5941441803\n",
            "bestIteration = 142\n",
            "\n",
            "Shrink model to first 143 iterations.\n"
          ],
          "name": "stdout"
        },
        {
          "output_type": "execute_result",
          "data": {
            "text/plain": [
              "<catboost.core.CatBoostClassifier at 0x7fdd45100f10>"
            ]
          },
          "metadata": {
            "tags": []
          },
          "execution_count": 314
        }
      ]
    },
    {
      "cell_type": "markdown",
      "metadata": {
        "id": "2rMzp_Vbvmoq"
      },
      "source": [
        "## Predict"
      ]
    },
    {
      "cell_type": "code",
      "metadata": {
        "colab": {
          "base_uri": "https://localhost:8080/"
        },
        "id": "h25Xrfc7uzaV",
        "outputId": "82a172f3-c444-49ae-c222-ecf336b9bc02"
      },
      "source": [
        "preds = model.predict(X_test)\n",
        "probs = model.predict_proba(X_test)\n",
        "\n",
        "accuracy = accuracy_score(y_test, preds)\n",
        "f1       = f1_score(y_test, preds)\n",
        "roc      = roc_auc_score(y_test, probs[:,1])\n",
        "recall   = recall_score(y_test, preds)\n",
        "results_df.loc['FeatureTools'] = [accuracy, f1, roc, recall]\n",
        "\n",
        "print(classification_report(y_test, preds))"
      ],
      "execution_count": 315,
      "outputs": [
        {
          "output_type": "stream",
          "text": [
            "              precision    recall  f1-score   support\n",
            "\n",
            "           0       0.90      0.68      0.77     18689\n",
            "           1       0.30      0.66      0.42      3943\n",
            "\n",
            "    accuracy                           0.68     22632\n",
            "   macro avg       0.60      0.67      0.60     22632\n",
            "weighted avg       0.80      0.68      0.71     22632\n",
            "\n"
          ],
          "name": "stdout"
        }
      ]
    },
    {
      "cell_type": "markdown",
      "metadata": {
        "id": "a5Cq_MYr4xVa"
      },
      "source": [
        "## Importance"
      ]
    },
    {
      "cell_type": "code",
      "metadata": {
        "colab": {
          "base_uri": "https://localhost:8080/",
          "height": 1000
        },
        "id": "4_2o4hXg4xpu",
        "outputId": "c1cb52c7-0873-442e-f3c6-ee6e697bbb20"
      },
      "source": [
        "imp  = model.feature_importances_\n",
        "feat = model.feature_names_\n",
        "pd.DataFrame({'Feature' : feat, 'Importance': imp}).sort_values('Importance', ascending=False)"
      ],
      "execution_count": 316,
      "outputs": [
        {
          "output_type": "execute_result",
          "data": {
            "text/html": [
              "<div>\n",
              "<style scoped>\n",
              "    .dataframe tbody tr th:only-of-type {\n",
              "        vertical-align: middle;\n",
              "    }\n",
              "\n",
              "    .dataframe tbody tr th {\n",
              "        vertical-align: top;\n",
              "    }\n",
              "\n",
              "    .dataframe thead th {\n",
              "        text-align: right;\n",
              "    }\n",
              "</style>\n",
              "<table border=\"1\" class=\"dataframe\">\n",
              "  <thead>\n",
              "    <tr style=\"text-align: right;\">\n",
              "      <th></th>\n",
              "      <th>Feature</th>\n",
              "      <th>Importance</th>\n",
              "    </tr>\n",
              "  </thead>\n",
              "  <tbody>\n",
              "    <tr>\n",
              "      <th>2</th>\n",
              "      <td>DAY(appointment_day)</td>\n",
              "      <td>16.132420</td>\n",
              "    </tr>\n",
              "    <tr>\n",
              "      <th>1</th>\n",
              "      <td>sms_received</td>\n",
              "      <td>10.445664</td>\n",
              "    </tr>\n",
              "    <tr>\n",
              "      <th>8</th>\n",
              "      <td>WEEKDAY(appointment_day)</td>\n",
              "      <td>9.757551</td>\n",
              "    </tr>\n",
              "    <tr>\n",
              "      <th>3</th>\n",
              "      <td>DAY(scheduled_day)</td>\n",
              "      <td>9.061149</td>\n",
              "    </tr>\n",
              "    <tr>\n",
              "      <th>9</th>\n",
              "      <td>WEEKDAY(scheduled_day)</td>\n",
              "      <td>8.864913</td>\n",
              "    </tr>\n",
              "    <tr>\n",
              "      <th>32</th>\n",
              "      <td>genders.PERCENT_TRUE(appointments.no_show)</td>\n",
              "      <td>6.396565</td>\n",
              "    </tr>\n",
              "    <tr>\n",
              "      <th>0</th>\n",
              "      <td>age</td>\n",
              "      <td>5.654592</td>\n",
              "    </tr>\n",
              "    <tr>\n",
              "      <th>18</th>\n",
              "      <td>patients.PERCENT_TRUE(appointments.no_show)</td>\n",
              "      <td>3.961243</td>\n",
              "    </tr>\n",
              "    <tr>\n",
              "      <th>6</th>\n",
              "      <td>MONTH(appointment_day)</td>\n",
              "      <td>3.574657</td>\n",
              "    </tr>\n",
              "    <tr>\n",
              "      <th>17</th>\n",
              "      <td>patients.COUNT(appointments)</td>\n",
              "      <td>3.436049</td>\n",
              "    </tr>\n",
              "    <tr>\n",
              "      <th>33</th>\n",
              "      <td>genders.PERCENT_TRUE(appointments.sms_received)</td>\n",
              "      <td>2.361748</td>\n",
              "    </tr>\n",
              "    <tr>\n",
              "      <th>28</th>\n",
              "      <td>ages.COUNT(appointments)</td>\n",
              "      <td>1.906267</td>\n",
              "    </tr>\n",
              "    <tr>\n",
              "      <th>27</th>\n",
              "      <td>locations.PERCENT_TRUE(appointments.sms_received)</td>\n",
              "      <td>1.891898</td>\n",
              "    </tr>\n",
              "    <tr>\n",
              "      <th>40</th>\n",
              "      <td>genders.PERCENT_TRUE(appointments.IS_WEEKEND(a...</td>\n",
              "      <td>1.832311</td>\n",
              "    </tr>\n",
              "    <tr>\n",
              "      <th>25</th>\n",
              "      <td>locations.COUNT(appointments)</td>\n",
              "      <td>1.723663</td>\n",
              "    </tr>\n",
              "    <tr>\n",
              "      <th>29</th>\n",
              "      <td>ages.PERCENT_TRUE(appointments.no_show)</td>\n",
              "      <td>1.379481</td>\n",
              "    </tr>\n",
              "    <tr>\n",
              "      <th>20</th>\n",
              "      <td>patients.DAY(first_appointments_time)</td>\n",
              "      <td>1.333660</td>\n",
              "    </tr>\n",
              "    <tr>\n",
              "      <th>37</th>\n",
              "      <td>locations.PERCENT_TRUE(appointments.IS_WEEKEND...</td>\n",
              "      <td>1.253286</td>\n",
              "    </tr>\n",
              "    <tr>\n",
              "      <th>19</th>\n",
              "      <td>patients.PERCENT_TRUE(appointments.sms_received)</td>\n",
              "      <td>1.145214</td>\n",
              "    </tr>\n",
              "    <tr>\n",
              "      <th>26</th>\n",
              "      <td>locations.PERCENT_TRUE(appointments.no_show)</td>\n",
              "      <td>1.076251</td>\n",
              "    </tr>\n",
              "    <tr>\n",
              "      <th>23</th>\n",
              "      <td>patients.WEEKDAY(first_appointments_time)</td>\n",
              "      <td>1.003123</td>\n",
              "    </tr>\n",
              "    <tr>\n",
              "      <th>31</th>\n",
              "      <td>genders.COUNT(appointments)</td>\n",
              "      <td>0.849126</td>\n",
              "    </tr>\n",
              "    <tr>\n",
              "      <th>30</th>\n",
              "      <td>ages.PERCENT_TRUE(appointments.sms_received)</td>\n",
              "      <td>0.805056</td>\n",
              "    </tr>\n",
              "    <tr>\n",
              "      <th>41</th>\n",
              "      <td>genders.PERCENT_TRUE(appointments.IS_WEEKEND(s...</td>\n",
              "      <td>0.756190</td>\n",
              "    </tr>\n",
              "    <tr>\n",
              "      <th>12</th>\n",
              "      <td>patients.scholarship</td>\n",
              "      <td>0.707978</td>\n",
              "    </tr>\n",
              "    <tr>\n",
              "      <th>15</th>\n",
              "      <td>patients.alcoholism</td>\n",
              "      <td>0.643564</td>\n",
              "    </tr>\n",
              "    <tr>\n",
              "      <th>22</th>\n",
              "      <td>patients.MONTH(first_appointments_time)</td>\n",
              "      <td>0.423708</td>\n",
              "    </tr>\n",
              "    <tr>\n",
              "      <th>39</th>\n",
              "      <td>ages.PERCENT_TRUE(appointments.IS_WEEKEND(sche...</td>\n",
              "      <td>0.340707</td>\n",
              "    </tr>\n",
              "    <tr>\n",
              "      <th>38</th>\n",
              "      <td>ages.PERCENT_TRUE(appointments.IS_WEEKEND(appo...</td>\n",
              "      <td>0.322227</td>\n",
              "    </tr>\n",
              "    <tr>\n",
              "      <th>7</th>\n",
              "      <td>MONTH(scheduled_day)</td>\n",
              "      <td>0.289019</td>\n",
              "    </tr>\n",
              "    <tr>\n",
              "      <th>36</th>\n",
              "      <td>locations.PERCENT_TRUE(appointments.IS_WEEKEND...</td>\n",
              "      <td>0.207419</td>\n",
              "    </tr>\n",
              "    <tr>\n",
              "      <th>14</th>\n",
              "      <td>patients.diabetes</td>\n",
              "      <td>0.186739</td>\n",
              "    </tr>\n",
              "    <tr>\n",
              "      <th>16</th>\n",
              "      <td>patients.handicap</td>\n",
              "      <td>0.174635</td>\n",
              "    </tr>\n",
              "    <tr>\n",
              "      <th>13</th>\n",
              "      <td>patients.hypertension</td>\n",
              "      <td>0.092182</td>\n",
              "    </tr>\n",
              "    <tr>\n",
              "      <th>5</th>\n",
              "      <td>IS_WEEKEND(scheduled_day)</td>\n",
              "      <td>0.007065</td>\n",
              "    </tr>\n",
              "    <tr>\n",
              "      <th>34</th>\n",
              "      <td>patients.PERCENT_TRUE(appointments.IS_WEEKEND(...</td>\n",
              "      <td>0.002680</td>\n",
              "    </tr>\n",
              "    <tr>\n",
              "      <th>4</th>\n",
              "      <td>IS_WEEKEND(appointment_day)</td>\n",
              "      <td>0.000000</td>\n",
              "    </tr>\n",
              "    <tr>\n",
              "      <th>24</th>\n",
              "      <td>patients.YEAR(first_appointments_time)</td>\n",
              "      <td>0.000000</td>\n",
              "    </tr>\n",
              "    <tr>\n",
              "      <th>35</th>\n",
              "      <td>patients.PERCENT_TRUE(appointments.IS_WEEKEND(...</td>\n",
              "      <td>0.000000</td>\n",
              "    </tr>\n",
              "    <tr>\n",
              "      <th>10</th>\n",
              "      <td>YEAR(appointment_day)</td>\n",
              "      <td>0.000000</td>\n",
              "    </tr>\n",
              "    <tr>\n",
              "      <th>11</th>\n",
              "      <td>YEAR(scheduled_day)</td>\n",
              "      <td>0.000000</td>\n",
              "    </tr>\n",
              "    <tr>\n",
              "      <th>21</th>\n",
              "      <td>patients.IS_WEEKEND(first_appointments_time)</td>\n",
              "      <td>0.000000</td>\n",
              "    </tr>\n",
              "  </tbody>\n",
              "</table>\n",
              "</div>"
            ],
            "text/plain": [
              "                                              Feature  Importance\n",
              "2                                DAY(appointment_day)   16.132420\n",
              "1                                        sms_received   10.445664\n",
              "8                            WEEKDAY(appointment_day)    9.757551\n",
              "3                                  DAY(scheduled_day)    9.061149\n",
              "9                              WEEKDAY(scheduled_day)    8.864913\n",
              "32         genders.PERCENT_TRUE(appointments.no_show)    6.396565\n",
              "0                                                 age    5.654592\n",
              "18        patients.PERCENT_TRUE(appointments.no_show)    3.961243\n",
              "6                              MONTH(appointment_day)    3.574657\n",
              "17                       patients.COUNT(appointments)    3.436049\n",
              "33    genders.PERCENT_TRUE(appointments.sms_received)    2.361748\n",
              "28                           ages.COUNT(appointments)    1.906267\n",
              "27  locations.PERCENT_TRUE(appointments.sms_received)    1.891898\n",
              "40  genders.PERCENT_TRUE(appointments.IS_WEEKEND(a...    1.832311\n",
              "25                      locations.COUNT(appointments)    1.723663\n",
              "29            ages.PERCENT_TRUE(appointments.no_show)    1.379481\n",
              "20              patients.DAY(first_appointments_time)    1.333660\n",
              "37  locations.PERCENT_TRUE(appointments.IS_WEEKEND...    1.253286\n",
              "19   patients.PERCENT_TRUE(appointments.sms_received)    1.145214\n",
              "26       locations.PERCENT_TRUE(appointments.no_show)    1.076251\n",
              "23          patients.WEEKDAY(first_appointments_time)    1.003123\n",
              "31                        genders.COUNT(appointments)    0.849126\n",
              "30       ages.PERCENT_TRUE(appointments.sms_received)    0.805056\n",
              "41  genders.PERCENT_TRUE(appointments.IS_WEEKEND(s...    0.756190\n",
              "12                               patients.scholarship    0.707978\n",
              "15                                patients.alcoholism    0.643564\n",
              "22            patients.MONTH(first_appointments_time)    0.423708\n",
              "39  ages.PERCENT_TRUE(appointments.IS_WEEKEND(sche...    0.340707\n",
              "38  ages.PERCENT_TRUE(appointments.IS_WEEKEND(appo...    0.322227\n",
              "7                                MONTH(scheduled_day)    0.289019\n",
              "36  locations.PERCENT_TRUE(appointments.IS_WEEKEND...    0.207419\n",
              "14                                  patients.diabetes    0.186739\n",
              "16                                  patients.handicap    0.174635\n",
              "13                              patients.hypertension    0.092182\n",
              "5                           IS_WEEKEND(scheduled_day)    0.007065\n",
              "34  patients.PERCENT_TRUE(appointments.IS_WEEKEND(...    0.002680\n",
              "4                         IS_WEEKEND(appointment_day)    0.000000\n",
              "24             patients.YEAR(first_appointments_time)    0.000000\n",
              "35  patients.PERCENT_TRUE(appointments.IS_WEEKEND(...    0.000000\n",
              "10                              YEAR(appointment_day)    0.000000\n",
              "11                                YEAR(scheduled_day)    0.000000\n",
              "21       patients.IS_WEEKEND(first_appointments_time)    0.000000"
            ]
          },
          "metadata": {
            "tags": []
          },
          "execution_count": 316
        }
      ]
    },
    {
      "cell_type": "markdown",
      "metadata": {
        "id": "qtfX-xzFwCpn"
      },
      "source": [
        "# Compare"
      ]
    },
    {
      "cell_type": "code",
      "metadata": {
        "colab": {
          "base_uri": "https://localhost:8080/",
          "height": 136
        },
        "id": "x0vFrE3ND_uO",
        "outputId": "2cdaef2b-d278-4daa-b744-be3e8435ba3e"
      },
      "source": [
        "results_df.sort_values('Recall', ascending=False)"
      ],
      "execution_count": 317,
      "outputs": [
        {
          "output_type": "execute_result",
          "data": {
            "text/html": [
              "<div>\n",
              "<style scoped>\n",
              "    .dataframe tbody tr th:only-of-type {\n",
              "        vertical-align: middle;\n",
              "    }\n",
              "\n",
              "    .dataframe tbody tr th {\n",
              "        vertical-align: top;\n",
              "    }\n",
              "\n",
              "    .dataframe thead th {\n",
              "        text-align: right;\n",
              "    }\n",
              "</style>\n",
              "<table border=\"1\" class=\"dataframe\">\n",
              "  <thead>\n",
              "    <tr style=\"text-align: right;\">\n",
              "      <th></th>\n",
              "      <th>Accuracy</th>\n",
              "      <th>F1</th>\n",
              "      <th>AUC</th>\n",
              "      <th>Recall</th>\n",
              "    </tr>\n",
              "  </thead>\n",
              "  <tbody>\n",
              "    <tr>\n",
              "      <th>Feature Engine</th>\n",
              "      <td>0.618920</td>\n",
              "      <td>0.435812</td>\n",
              "      <td>0.728316</td>\n",
              "      <td>0.739186</td>\n",
              "    </tr>\n",
              "    <tr>\n",
              "      <th>Baseline</th>\n",
              "      <td>0.625470</td>\n",
              "      <td>0.438012</td>\n",
              "      <td>0.727363</td>\n",
              "      <td>0.733006</td>\n",
              "    </tr>\n",
              "    <tr>\n",
              "      <th>FeatureTools</th>\n",
              "      <td>0.675018</td>\n",
              "      <td>0.415202</td>\n",
              "      <td>0.743083</td>\n",
              "      <td>0.662186</td>\n",
              "    </tr>\n",
              "  </tbody>\n",
              "</table>\n",
              "</div>"
            ],
            "text/plain": [
              "                Accuracy        F1       AUC    Recall\n",
              "Feature Engine  0.618920  0.435812  0.728316  0.739186\n",
              "Baseline        0.625470  0.438012  0.727363  0.733006\n",
              "FeatureTools    0.675018  0.415202  0.743083  0.662186"
            ]
          },
          "metadata": {
            "tags": []
          },
          "execution_count": 317
        }
      ]
    },
    {
      "cell_type": "markdown",
      "metadata": {
        "id": "Y4fss5xXY-Ie"
      },
      "source": [
        "# Extended\n",
        "* Ideas for additional engineering?\n",
        "* Feature Tools\n",
        "  * Weekends not helpful \n",
        "* Other feature engineering?\n",
        "  * Combine rare neighborhoods\n",
        "  * Alternative Treatments\n",
        "* Add / Subtract / Multiply / Divide\n",
        "  * Far In Advance\n"
      ]
    },
    {
      "cell_type": "markdown",
      "metadata": {
        "id": "P6tD2uY_s5-4"
      },
      "source": [
        "## Categories"
      ]
    },
    {
      "cell_type": "code",
      "metadata": {
        "id": "TWqLdyVis5_B"
      },
      "source": [
        "CATEGORIES = ['gender',\n",
        "              'neighbourhood',\n",
        "              'scholarship',\n",
        "              'hypertension',\n",
        "              'diabetes',\n",
        "              'alcoholism',\n",
        "              'handicap',\n",
        "              'sms_received']"
      ],
      "execution_count": 333,
      "outputs": []
    },
    {
      "cell_type": "code",
      "metadata": {
        "id": "qEjU2-79s5_C"
      },
      "source": [
        "X = df.copy()\n",
        "y = df['no_show']\n",
        "X = df.drop(columns=['no_show', 'patient_id', 'appointment_id'])"
      ],
      "execution_count": 334,
      "outputs": []
    },
    {
      "cell_type": "code",
      "metadata": {
        "colab": {
          "base_uri": "https://localhost:8080/"
        },
        "id": "aq4rVPUOs5_C",
        "outputId": "8903635c-36d3-42ff-845e-3ddb9e7a1280"
      },
      "source": [
        "# Feature Engine looks for object types\n",
        "# Can't handle categories (seems like a possible place to make a PR)\n",
        "for cat in CATEGORIES:\n",
        "  X[cat] = X[cat].astype('object')\n",
        "X.dtypes"
      ],
      "execution_count": 335,
      "outputs": [
        {
          "output_type": "execute_result",
          "data": {
            "text/plain": [
              "gender                     object\n",
              "scheduled_day      datetime64[ns]\n",
              "appointment_day    datetime64[ns]\n",
              "age                         int64\n",
              "neighbourhood              object\n",
              "scholarship                object\n",
              "hypertension               object\n",
              "diabetes                   object\n",
              "alcoholism                 object\n",
              "handicap                   object\n",
              "sms_received               object\n",
              "dtype: object"
            ]
          },
          "metadata": {
            "tags": []
          },
          "execution_count": 335
        }
      ]
    },
    {
      "cell_type": "markdown",
      "metadata": {
        "id": "mV5XUtNEs5_D"
      },
      "source": [
        "## Split"
      ]
    },
    {
      "cell_type": "code",
      "metadata": {
        "colab": {
          "base_uri": "https://localhost:8080/"
        },
        "id": "YCFF_L2Hs5_D",
        "outputId": "8f2b9755-fc30-400e-89ac-41f6bf089f60"
      },
      "source": [
        "X_train, X_test, y_train, y_test = train_test_split(X, y, random_state=10)\n",
        "X_train, X_eval, y_train, y_eval = train_test_split(X_train, y_train, test_size=0.1, random_state=10)\n",
        "print(len(X_train), len(X_eval), len(X_test))"
      ],
      "execution_count": 336,
      "outputs": [
        {
          "output_type": "stream",
          "text": [
            "74605 8290 27632\n"
          ],
          "name": "stdout"
        }
      ]
    },
    {
      "cell_type": "markdown",
      "metadata": {
        "id": "Gx5iA23TxnjK"
      },
      "source": [
        "## Rare Neighborhoods"
      ]
    },
    {
      "cell_type": "code",
      "metadata": {
        "id": "WWrgT7THxeGb"
      },
      "source": [
        "encoder = ce.RareLabelEncoder(tol=0.01, n_categories=30, variables=['neighbourhood'])\n",
        "encoder.fit(X_train)\n",
        "X_train = encoder.transform(X_train)\n",
        "X_train = encoder.transform(X_train)\n",
        "X_eval  = encoder.transform(X_eval)\n",
        "X_test  = encoder.transform(X_test)"
      ],
      "execution_count": 337,
      "outputs": []
    },
    {
      "cell_type": "code",
      "metadata": {
        "colab": {
          "base_uri": "https://localhost:8080/"
        },
        "id": "0DDXxXhetUcs",
        "outputId": "53f4340f-c798-4e6b-fa5c-abe00779cb5b"
      },
      "source": [
        "X_train.groupby('neighbourhood').size()"
      ],
      "execution_count": 338,
      "outputs": [
        {
          "output_type": "execute_result",
          "data": {
            "text/plain": [
              "neighbourhood\n",
              "ANDORINHAS              1542\n",
              "BELA VISTA              1272\n",
              "BONFIM                  1895\n",
              "CARATOÍRA               1724\n",
              "CENTRO                  2239\n",
              "CONSOLAÇÃO               916\n",
              "CRUZAMENTO               945\n",
              "DA PENHA                1468\n",
              "FORTE SÃO JOÃO          1276\n",
              "GURIGICA                1371\n",
              "ILHA DE SANTA MARIA     1244\n",
              "ILHA DO PRÍNCIPE        1509\n",
              "ITARARÉ                 2375\n",
              "JABOUR                  1689\n",
              "JARDIM CAMBURI          5185\n",
              "JARDIM DA PENHA         2644\n",
              "JESUS DE NAZARETH       1931\n",
              "JOANA D´ARC              977\n",
              "MARIA ORTIZ             3889\n",
              "MARUÍPE                 1239\n",
              "NOVA PALESTINA          1561\n",
              "PRAIA DO SUÁ             869\n",
              "REDENÇÃO                1045\n",
              "RESISTÊNCIA             3024\n",
              "ROMÃO                   1526\n",
              "Rare                   14429\n",
              "SANTA MARTHA            2163\n",
              "SANTA TEREZA             882\n",
              "SANTO ANDRÉ             1723\n",
              "SANTO ANTÔNIO           1879\n",
              "SANTOS DUMONT            857\n",
              "SÃO BENEDITO             968\n",
              "SÃO CRISTÓVÃO           1239\n",
              "SÃO JOSÉ                1294\n",
              "SÃO PEDRO               1656\n",
              "TABUAZEIRO              2160\n",
              "dtype: int64"
            ]
          },
          "metadata": {
            "tags": []
          },
          "execution_count": 338
        }
      ]
    },
    {
      "cell_type": "markdown",
      "metadata": {
        "id": "bw66qtNrs5_D"
      },
      "source": [
        "## PRatio Encoding\n",
        "* P(1) / P(0)\n",
        "* log(P(1) / P(0))\n"
      ]
    },
    {
      "cell_type": "code",
      "metadata": {
        "id": "ecjtNfars5_D"
      },
      "source": [
        "encode = CATEGORIES\n",
        "encoder = ce.PRatioEncoder(variables=encode, encoding_method='log_ratio')\n",
        "encoder.fit(X_train, y_train)\n",
        "X_train = encoder.transform(X_train)\n",
        "X_eval  = encoder.transform(X_eval)\n",
        "X_test  = encoder.transform(X_test)"
      ],
      "execution_count": 339,
      "outputs": []
    },
    {
      "cell_type": "code",
      "metadata": {
        "colab": {
          "base_uri": "https://localhost:8080/"
        },
        "id": "9m_SAzPas5_D",
        "outputId": "c5ebc9bc-cbf6-4f54-b066-52c80d448702"
      },
      "source": [
        "X_train.dtypes"
      ],
      "execution_count": 340,
      "outputs": [
        {
          "output_type": "execute_result",
          "data": {
            "text/plain": [
              "gender                    float64\n",
              "scheduled_day      datetime64[ns]\n",
              "appointment_day    datetime64[ns]\n",
              "age                         int64\n",
              "neighbourhood             float64\n",
              "scholarship               float64\n",
              "hypertension              float64\n",
              "diabetes                  float64\n",
              "alcoholism                float64\n",
              "handicap                  float64\n",
              "sms_received              float64\n",
              "dtype: object"
            ]
          },
          "metadata": {
            "tags": []
          },
          "execution_count": 340
        }
      ]
    },
    {
      "cell_type": "markdown",
      "metadata": {
        "id": "6J32QxkV1ZKQ"
      },
      "source": [
        "## Advance"
      ]
    },
    {
      "cell_type": "code",
      "metadata": {
        "id": "8vboZG8c1abb"
      },
      "source": [
        "for frame in [X_train, X_eval, X_test]:\n",
        "  frame['advance'] = frame.appointment_day - frame.scheduled_day"
      ],
      "execution_count": 342,
      "outputs": []
    },
    {
      "cell_type": "markdown",
      "metadata": {
        "id": "Nlm4WBAVs5_E"
      },
      "source": [
        "## Dates & Times"
      ]
    },
    {
      "cell_type": "code",
      "metadata": {
        "id": "_6lPT9aZs5_E"
      },
      "source": [
        "for frame in [X_train, X_eval, X_test]:\n",
        "  frame['scheduled_year']  = frame.scheduled_day.dt.year \n",
        "  frame['scheduled_month'] = frame.scheduled_day.dt.month \n",
        "  frame['scheduled_dom']   = frame.scheduled_day.dt.day\n",
        "  frame['scheduled_dow']   = frame.scheduled_day.dt.day_of_week\n",
        "  frame['scheduled_hour']  = frame.scheduled_day.dt.hour\n",
        "  \n",
        "  frame['appointment_year']  = frame.appointment_day.dt.year \n",
        "  frame['appointment_month'] = frame.appointment_day.dt.month \n",
        "  frame['appointment_dom']   = frame.appointment_day.dt.day\n",
        "  frame['appointment_dow']   = frame.appointment_day.dt.day_of_week\n",
        "  frame['appointment_hour']  = frame.appointment_day.dt.hour\n",
        "\n",
        "  frame.pop('scheduled_day')\n",
        "  frame.pop('appointment_day')"
      ],
      "execution_count": 343,
      "outputs": []
    },
    {
      "cell_type": "markdown",
      "metadata": {
        "id": "qWkkABPAs5_E"
      },
      "source": [
        "## Train"
      ]
    },
    {
      "cell_type": "code",
      "metadata": {
        "colab": {
          "base_uri": "https://localhost:8080/",
          "height": 1000,
          "referenced_widgets": [
            "fac9318d3e664dd7b4c444566fc278bc"
          ]
        },
        "id": "9Fjq3IWFs5_E",
        "outputId": "e8c0f128-d6fc-48b7-ec30-c166fa1f91b7"
      },
      "source": [
        "model = CatBoostClassifier(class_weights=WEIGHTS)\n",
        "model.fit(X_train, y_train,\n",
        "          eval_set=(X_eval, y_eval), \n",
        "          early_stopping_rounds=5,\n",
        "          plot=True)"
      ],
      "execution_count": 344,
      "outputs": [
        {
          "output_type": "display_data",
          "data": {
            "application/vnd.jupyter.widget-view+json": {
              "model_id": "fac9318d3e664dd7b4c444566fc278bc",
              "version_minor": 0,
              "version_major": 2
            },
            "text/plain": [
              "MetricVisualizer(layout=Layout(align_self='stretch', height='500px'))"
            ]
          },
          "metadata": {
            "tags": []
          }
        },
        {
          "output_type": "stream",
          "text": [
            "Learning rate set to 0.091935\n",
            "0:\tlearn: 0.6754394\ttest: 0.6751103\tbest: 0.6751103 (0)\ttotal: 30.6ms\tremaining: 30.6s\n",
            "1:\tlearn: 0.6613844\ttest: 0.6607935\tbest: 0.6607935 (1)\ttotal: 73.3ms\tremaining: 36.6s\n",
            "2:\tlearn: 0.6502371\ttest: 0.6492904\tbest: 0.6492904 (2)\ttotal: 107ms\tremaining: 35.4s\n",
            "3:\tlearn: 0.6407526\ttest: 0.6394225\tbest: 0.6394225 (3)\ttotal: 146ms\tremaining: 36.4s\n",
            "4:\tlearn: 0.6329813\ttest: 0.6312792\tbest: 0.6312792 (4)\ttotal: 176ms\tremaining: 35s\n",
            "5:\tlearn: 0.6269197\ttest: 0.6250121\tbest: 0.6250121 (5)\ttotal: 214ms\tremaining: 35.4s\n",
            "6:\tlearn: 0.6217212\ttest: 0.6195527\tbest: 0.6195527 (6)\ttotal: 247ms\tremaining: 35.1s\n",
            "7:\tlearn: 0.6175372\ttest: 0.6152153\tbest: 0.6152153 (7)\ttotal: 280ms\tremaining: 34.8s\n",
            "8:\tlearn: 0.6138592\ttest: 0.6112627\tbest: 0.6112627 (8)\ttotal: 317ms\tremaining: 34.9s\n",
            "9:\tlearn: 0.6108328\ttest: 0.6081332\tbest: 0.6081332 (9)\ttotal: 354ms\tremaining: 35.1s\n",
            "10:\tlearn: 0.6086435\ttest: 0.6057845\tbest: 0.6057845 (10)\ttotal: 395ms\tremaining: 35.5s\n",
            "11:\tlearn: 0.6065373\ttest: 0.6036256\tbest: 0.6036256 (11)\ttotal: 433ms\tremaining: 35.6s\n",
            "12:\tlearn: 0.6045640\ttest: 0.6014200\tbest: 0.6014200 (12)\ttotal: 462ms\tremaining: 35.1s\n",
            "13:\tlearn: 0.6031158\ttest: 0.6000143\tbest: 0.6000143 (13)\ttotal: 503ms\tremaining: 35.4s\n",
            "14:\tlearn: 0.6018192\ttest: 0.5986857\tbest: 0.5986857 (14)\ttotal: 534ms\tremaining: 35.1s\n",
            "15:\tlearn: 0.6005172\ttest: 0.5972712\tbest: 0.5972712 (15)\ttotal: 565ms\tremaining: 34.7s\n",
            "16:\tlearn: 0.5993697\ttest: 0.5959980\tbest: 0.5959980 (16)\ttotal: 596ms\tremaining: 34.4s\n",
            "17:\tlearn: 0.5983975\ttest: 0.5950411\tbest: 0.5950411 (17)\ttotal: 629ms\tremaining: 34.3s\n",
            "18:\tlearn: 0.5977521\ttest: 0.5945063\tbest: 0.5945063 (18)\ttotal: 673ms\tremaining: 34.8s\n",
            "19:\tlearn: 0.5970721\ttest: 0.5938811\tbest: 0.5938811 (19)\ttotal: 711ms\tremaining: 34.8s\n",
            "20:\tlearn: 0.5963132\ttest: 0.5932594\tbest: 0.5932594 (20)\ttotal: 745ms\tremaining: 34.7s\n",
            "21:\tlearn: 0.5954002\ttest: 0.5922152\tbest: 0.5922152 (21)\ttotal: 779ms\tremaining: 34.7s\n",
            "22:\tlearn: 0.5947533\ttest: 0.5915699\tbest: 0.5915699 (22)\ttotal: 822ms\tremaining: 34.9s\n",
            "23:\tlearn: 0.5942863\ttest: 0.5912615\tbest: 0.5912615 (23)\ttotal: 855ms\tremaining: 34.8s\n",
            "24:\tlearn: 0.5936818\ttest: 0.5908473\tbest: 0.5908473 (24)\ttotal: 893ms\tremaining: 34.8s\n",
            "25:\tlearn: 0.5932634\ttest: 0.5904375\tbest: 0.5904375 (25)\ttotal: 925ms\tremaining: 34.7s\n",
            "26:\tlearn: 0.5929484\ttest: 0.5901061\tbest: 0.5901061 (26)\ttotal: 961ms\tremaining: 34.6s\n",
            "27:\tlearn: 0.5925906\ttest: 0.5898903\tbest: 0.5898903 (27)\ttotal: 994ms\tremaining: 34.5s\n",
            "28:\tlearn: 0.5922412\ttest: 0.5896202\tbest: 0.5896202 (28)\ttotal: 1.03s\tremaining: 34.4s\n",
            "29:\tlearn: 0.5917138\ttest: 0.5891585\tbest: 0.5891585 (29)\ttotal: 1.06s\tremaining: 34.4s\n",
            "30:\tlearn: 0.5914846\ttest: 0.5889915\tbest: 0.5889915 (30)\ttotal: 1.1s\tremaining: 34.5s\n",
            "31:\tlearn: 0.5911505\ttest: 0.5887984\tbest: 0.5887984 (31)\ttotal: 1.14s\tremaining: 34.5s\n",
            "32:\tlearn: 0.5909911\ttest: 0.5886936\tbest: 0.5886936 (32)\ttotal: 1.17s\tremaining: 34.4s\n",
            "33:\tlearn: 0.5907513\ttest: 0.5885195\tbest: 0.5885195 (33)\ttotal: 1.21s\tremaining: 34.3s\n",
            "34:\tlearn: 0.5905545\ttest: 0.5883067\tbest: 0.5883067 (34)\ttotal: 1.24s\tremaining: 34.2s\n",
            "35:\tlearn: 0.5899015\ttest: 0.5876416\tbest: 0.5876416 (35)\ttotal: 1.27s\tremaining: 34.1s\n",
            "36:\tlearn: 0.5895130\ttest: 0.5873475\tbest: 0.5873475 (36)\ttotal: 1.31s\tremaining: 34.2s\n",
            "37:\tlearn: 0.5892499\ttest: 0.5872030\tbest: 0.5872030 (37)\ttotal: 1.35s\tremaining: 34.1s\n",
            "38:\tlearn: 0.5890953\ttest: 0.5871086\tbest: 0.5871086 (38)\ttotal: 1.38s\tremaining: 34.1s\n",
            "39:\tlearn: 0.5887862\ttest: 0.5869180\tbest: 0.5869180 (39)\ttotal: 1.42s\tremaining: 34s\n",
            "40:\tlearn: 0.5883096\ttest: 0.5863492\tbest: 0.5863492 (40)\ttotal: 1.45s\tremaining: 33.8s\n",
            "41:\tlearn: 0.5881061\ttest: 0.5862064\tbest: 0.5862064 (41)\ttotal: 1.48s\tremaining: 33.7s\n",
            "42:\tlearn: 0.5878590\ttest: 0.5860477\tbest: 0.5860477 (42)\ttotal: 1.51s\tremaining: 33.6s\n",
            "43:\tlearn: 0.5876631\ttest: 0.5858550\tbest: 0.5858550 (43)\ttotal: 1.54s\tremaining: 33.5s\n",
            "44:\tlearn: 0.5874534\ttest: 0.5857691\tbest: 0.5857691 (44)\ttotal: 1.58s\tremaining: 33.5s\n",
            "45:\tlearn: 0.5872368\ttest: 0.5856928\tbest: 0.5856928 (45)\ttotal: 1.61s\tremaining: 33.4s\n",
            "46:\tlearn: 0.5870766\ttest: 0.5856320\tbest: 0.5856320 (46)\ttotal: 1.65s\tremaining: 33.4s\n",
            "47:\tlearn: 0.5869317\ttest: 0.5855808\tbest: 0.5855808 (47)\ttotal: 1.68s\tremaining: 33.4s\n",
            "48:\tlearn: 0.5866377\ttest: 0.5854481\tbest: 0.5854481 (48)\ttotal: 1.72s\tremaining: 33.4s\n",
            "49:\tlearn: 0.5864715\ttest: 0.5854376\tbest: 0.5854376 (49)\ttotal: 1.76s\tremaining: 33.4s\n",
            "50:\tlearn: 0.5862537\ttest: 0.5853413\tbest: 0.5853413 (50)\ttotal: 1.79s\tremaining: 33.4s\n",
            "51:\tlearn: 0.5860438\ttest: 0.5851414\tbest: 0.5851414 (51)\ttotal: 1.83s\tremaining: 33.3s\n",
            "52:\tlearn: 0.5858875\ttest: 0.5851022\tbest: 0.5851022 (52)\ttotal: 1.86s\tremaining: 33.3s\n",
            "53:\tlearn: 0.5855496\ttest: 0.5848332\tbest: 0.5848332 (53)\ttotal: 1.9s\tremaining: 33.2s\n",
            "54:\tlearn: 0.5853591\ttest: 0.5847187\tbest: 0.5847187 (54)\ttotal: 1.94s\tremaining: 33.3s\n",
            "55:\tlearn: 0.5850626\ttest: 0.5844426\tbest: 0.5844426 (55)\ttotal: 1.98s\tremaining: 33.4s\n",
            "56:\tlearn: 0.5849041\ttest: 0.5844158\tbest: 0.5844158 (56)\ttotal: 2.01s\tremaining: 33.3s\n",
            "57:\tlearn: 0.5848058\ttest: 0.5843882\tbest: 0.5843882 (57)\ttotal: 2.04s\tremaining: 33.2s\n",
            "58:\tlearn: 0.5846990\ttest: 0.5842778\tbest: 0.5842778 (58)\ttotal: 2.08s\tremaining: 33.1s\n",
            "59:\tlearn: 0.5844041\ttest: 0.5839169\tbest: 0.5839169 (59)\ttotal: 2.11s\tremaining: 33s\n",
            "60:\tlearn: 0.5843330\ttest: 0.5839633\tbest: 0.5839169 (59)\ttotal: 2.14s\tremaining: 33s\n",
            "61:\tlearn: 0.5841529\ttest: 0.5839491\tbest: 0.5839169 (59)\ttotal: 2.18s\tremaining: 32.9s\n",
            "62:\tlearn: 0.5839261\ttest: 0.5836923\tbest: 0.5836923 (62)\ttotal: 2.21s\tremaining: 32.9s\n",
            "63:\tlearn: 0.5837570\ttest: 0.5837472\tbest: 0.5836923 (62)\ttotal: 2.25s\tremaining: 32.9s\n",
            "64:\tlearn: 0.5836283\ttest: 0.5837825\tbest: 0.5836923 (62)\ttotal: 2.28s\tremaining: 32.8s\n",
            "65:\tlearn: 0.5834408\ttest: 0.5836372\tbest: 0.5836372 (65)\ttotal: 2.31s\tremaining: 32.7s\n",
            "66:\tlearn: 0.5833488\ttest: 0.5836135\tbest: 0.5836135 (66)\ttotal: 2.35s\tremaining: 32.7s\n",
            "67:\tlearn: 0.5831557\ttest: 0.5834638\tbest: 0.5834638 (67)\ttotal: 2.38s\tremaining: 32.7s\n",
            "68:\tlearn: 0.5829869\ttest: 0.5834470\tbest: 0.5834470 (68)\ttotal: 2.42s\tremaining: 32.6s\n",
            "69:\tlearn: 0.5828203\ttest: 0.5833468\tbest: 0.5833468 (69)\ttotal: 2.45s\tremaining: 32.6s\n",
            "70:\tlearn: 0.5826857\ttest: 0.5831718\tbest: 0.5831718 (70)\ttotal: 2.49s\tremaining: 32.6s\n",
            "71:\tlearn: 0.5825335\ttest: 0.5830702\tbest: 0.5830702 (71)\ttotal: 2.52s\tremaining: 32.5s\n",
            "72:\tlearn: 0.5823192\ttest: 0.5828619\tbest: 0.5828619 (72)\ttotal: 2.56s\tremaining: 32.5s\n",
            "73:\tlearn: 0.5821956\ttest: 0.5827922\tbest: 0.5827922 (73)\ttotal: 2.59s\tremaining: 32.4s\n",
            "74:\tlearn: 0.5820902\ttest: 0.5826873\tbest: 0.5826873 (74)\ttotal: 2.62s\tremaining: 32.3s\n",
            "75:\tlearn: 0.5818827\ttest: 0.5826251\tbest: 0.5826251 (75)\ttotal: 2.65s\tremaining: 32.3s\n",
            "76:\tlearn: 0.5817539\ttest: 0.5825025\tbest: 0.5825025 (76)\ttotal: 2.69s\tremaining: 32.2s\n",
            "77:\tlearn: 0.5816099\ttest: 0.5824944\tbest: 0.5824944 (77)\ttotal: 2.72s\tremaining: 32.2s\n",
            "78:\tlearn: 0.5815177\ttest: 0.5823985\tbest: 0.5823985 (78)\ttotal: 2.76s\tremaining: 32.1s\n",
            "79:\tlearn: 0.5813398\ttest: 0.5822958\tbest: 0.5822958 (79)\ttotal: 2.81s\tremaining: 32.3s\n",
            "80:\tlearn: 0.5812382\ttest: 0.5822682\tbest: 0.5822682 (80)\ttotal: 2.84s\tremaining: 32.3s\n",
            "81:\tlearn: 0.5811080\ttest: 0.5823160\tbest: 0.5822682 (80)\ttotal: 2.88s\tremaining: 32.2s\n",
            "82:\tlearn: 0.5809630\ttest: 0.5823061\tbest: 0.5822682 (80)\ttotal: 2.93s\tremaining: 32.4s\n",
            "83:\tlearn: 0.5808420\ttest: 0.5823179\tbest: 0.5822682 (80)\ttotal: 2.96s\tremaining: 32.3s\n",
            "84:\tlearn: 0.5807324\ttest: 0.5822799\tbest: 0.5822682 (80)\ttotal: 3s\tremaining: 32.3s\n",
            "85:\tlearn: 0.5805719\ttest: 0.5821852\tbest: 0.5821852 (85)\ttotal: 3.04s\tremaining: 32.3s\n",
            "86:\tlearn: 0.5804609\ttest: 0.5821566\tbest: 0.5821566 (86)\ttotal: 3.07s\tremaining: 32.2s\n",
            "87:\tlearn: 0.5802648\ttest: 0.5820384\tbest: 0.5820384 (87)\ttotal: 3.11s\tremaining: 32.2s\n",
            "88:\tlearn: 0.5801194\ttest: 0.5820833\tbest: 0.5820384 (87)\ttotal: 3.14s\tremaining: 32.2s\n",
            "89:\tlearn: 0.5799752\ttest: 0.5820509\tbest: 0.5820384 (87)\ttotal: 3.17s\tremaining: 32.1s\n",
            "90:\tlearn: 0.5798824\ttest: 0.5820886\tbest: 0.5820384 (87)\ttotal: 3.21s\tremaining: 32.1s\n",
            "91:\tlearn: 0.5797835\ttest: 0.5819766\tbest: 0.5819766 (91)\ttotal: 3.25s\tremaining: 32.1s\n",
            "92:\tlearn: 0.5796676\ttest: 0.5818903\tbest: 0.5818903 (92)\ttotal: 3.28s\tremaining: 32s\n",
            "93:\tlearn: 0.5794989\ttest: 0.5818380\tbest: 0.5818380 (93)\ttotal: 3.32s\tremaining: 32s\n",
            "94:\tlearn: 0.5794376\ttest: 0.5818613\tbest: 0.5818380 (93)\ttotal: 3.35s\tremaining: 31.9s\n",
            "95:\tlearn: 0.5793525\ttest: 0.5818547\tbest: 0.5818380 (93)\ttotal: 3.38s\tremaining: 31.9s\n",
            "96:\tlearn: 0.5791792\ttest: 0.5817338\tbest: 0.5817338 (96)\ttotal: 3.42s\tremaining: 31.9s\n",
            "97:\tlearn: 0.5790548\ttest: 0.5816527\tbest: 0.5816527 (97)\ttotal: 3.46s\tremaining: 31.8s\n",
            "98:\tlearn: 0.5789241\ttest: 0.5816517\tbest: 0.5816517 (98)\ttotal: 3.49s\tremaining: 31.8s\n",
            "99:\tlearn: 0.5786895\ttest: 0.5815367\tbest: 0.5815367 (99)\ttotal: 3.53s\tremaining: 31.7s\n",
            "100:\tlearn: 0.5785341\ttest: 0.5815360\tbest: 0.5815360 (100)\ttotal: 3.56s\tremaining: 31.7s\n",
            "101:\tlearn: 0.5784595\ttest: 0.5815626\tbest: 0.5815360 (100)\ttotal: 3.59s\tremaining: 31.6s\n",
            "102:\tlearn: 0.5783526\ttest: 0.5816289\tbest: 0.5815360 (100)\ttotal: 3.63s\tremaining: 31.6s\n",
            "103:\tlearn: 0.5781852\ttest: 0.5815342\tbest: 0.5815342 (103)\ttotal: 3.67s\tremaining: 31.6s\n",
            "104:\tlearn: 0.5780618\ttest: 0.5815053\tbest: 0.5815053 (104)\ttotal: 3.7s\tremaining: 31.6s\n",
            "105:\tlearn: 0.5779126\ttest: 0.5814255\tbest: 0.5814255 (105)\ttotal: 3.74s\tremaining: 31.5s\n",
            "106:\tlearn: 0.5777784\ttest: 0.5813989\tbest: 0.5813989 (106)\ttotal: 3.77s\tremaining: 31.5s\n",
            "107:\tlearn: 0.5775299\ttest: 0.5812533\tbest: 0.5812533 (107)\ttotal: 3.81s\tremaining: 31.5s\n",
            "108:\tlearn: 0.5774202\ttest: 0.5811944\tbest: 0.5811944 (108)\ttotal: 3.85s\tremaining: 31.4s\n",
            "109:\tlearn: 0.5772601\ttest: 0.5811172\tbest: 0.5811172 (109)\ttotal: 3.88s\tremaining: 31.4s\n",
            "110:\tlearn: 0.5771057\ttest: 0.5811467\tbest: 0.5811172 (109)\ttotal: 3.93s\tremaining: 31.5s\n",
            "111:\tlearn: 0.5770123\ttest: 0.5810967\tbest: 0.5810967 (111)\ttotal: 3.96s\tremaining: 31.4s\n",
            "112:\tlearn: 0.5768496\ttest: 0.5810313\tbest: 0.5810313 (112)\ttotal: 4s\tremaining: 31.4s\n",
            "113:\tlearn: 0.5766433\ttest: 0.5808035\tbest: 0.5808035 (113)\ttotal: 4.04s\tremaining: 31.4s\n",
            "114:\tlearn: 0.5765134\ttest: 0.5807072\tbest: 0.5807072 (114)\ttotal: 4.07s\tremaining: 31.3s\n",
            "115:\tlearn: 0.5764057\ttest: 0.5807482\tbest: 0.5807072 (114)\ttotal: 4.11s\tremaining: 31.3s\n",
            "116:\tlearn: 0.5763310\ttest: 0.5807339\tbest: 0.5807072 (114)\ttotal: 4.14s\tremaining: 31.3s\n",
            "117:\tlearn: 0.5761652\ttest: 0.5807504\tbest: 0.5807072 (114)\ttotal: 4.17s\tremaining: 31.2s\n",
            "118:\tlearn: 0.5760323\ttest: 0.5806809\tbest: 0.5806809 (118)\ttotal: 4.21s\tremaining: 31.2s\n",
            "119:\tlearn: 0.5759471\ttest: 0.5806621\tbest: 0.5806621 (119)\ttotal: 4.24s\tremaining: 31.1s\n",
            "120:\tlearn: 0.5758653\ttest: 0.5806593\tbest: 0.5806593 (120)\ttotal: 4.28s\tremaining: 31.1s\n",
            "121:\tlearn: 0.5757436\ttest: 0.5806785\tbest: 0.5806593 (120)\ttotal: 4.32s\tremaining: 31.1s\n",
            "122:\tlearn: 0.5755977\ttest: 0.5805768\tbest: 0.5805768 (122)\ttotal: 4.36s\tremaining: 31.1s\n",
            "123:\tlearn: 0.5754798\ttest: 0.5804169\tbest: 0.5804169 (123)\ttotal: 4.4s\tremaining: 31.1s\n",
            "124:\tlearn: 0.5753497\ttest: 0.5803898\tbest: 0.5803898 (124)\ttotal: 4.43s\tremaining: 31s\n",
            "125:\tlearn: 0.5751906\ttest: 0.5803987\tbest: 0.5803898 (124)\ttotal: 4.46s\tremaining: 30.9s\n",
            "126:\tlearn: 0.5751252\ttest: 0.5804048\tbest: 0.5803898 (124)\ttotal: 4.49s\tremaining: 30.9s\n",
            "127:\tlearn: 0.5750156\ttest: 0.5803507\tbest: 0.5803507 (127)\ttotal: 4.53s\tremaining: 30.9s\n",
            "128:\tlearn: 0.5748950\ttest: 0.5802855\tbest: 0.5802855 (128)\ttotal: 4.56s\tremaining: 30.8s\n",
            "129:\tlearn: 0.5746835\ttest: 0.5802178\tbest: 0.5802178 (129)\ttotal: 4.59s\tremaining: 30.7s\n",
            "130:\tlearn: 0.5745421\ttest: 0.5800997\tbest: 0.5800997 (130)\ttotal: 4.63s\tremaining: 30.7s\n",
            "131:\tlearn: 0.5743742\ttest: 0.5800249\tbest: 0.5800249 (131)\ttotal: 4.66s\tremaining: 30.7s\n",
            "132:\tlearn: 0.5742668\ttest: 0.5800773\tbest: 0.5800249 (131)\ttotal: 4.7s\tremaining: 30.7s\n",
            "133:\tlearn: 0.5741913\ttest: 0.5800729\tbest: 0.5800249 (131)\ttotal: 4.74s\tremaining: 30.6s\n",
            "134:\tlearn: 0.5740252\ttest: 0.5799789\tbest: 0.5799789 (134)\ttotal: 4.77s\tremaining: 30.6s\n",
            "135:\tlearn: 0.5739188\ttest: 0.5799429\tbest: 0.5799429 (135)\ttotal: 4.82s\tremaining: 30.6s\n",
            "136:\tlearn: 0.5737420\ttest: 0.5799271\tbest: 0.5799271 (136)\ttotal: 4.85s\tremaining: 30.6s\n",
            "137:\tlearn: 0.5735991\ttest: 0.5799802\tbest: 0.5799271 (136)\ttotal: 4.88s\tremaining: 30.5s\n",
            "138:\tlearn: 0.5734044\ttest: 0.5798893\tbest: 0.5798893 (138)\ttotal: 4.92s\tremaining: 30.5s\n",
            "139:\tlearn: 0.5732345\ttest: 0.5799062\tbest: 0.5798893 (138)\ttotal: 4.97s\tremaining: 30.5s\n",
            "140:\tlearn: 0.5730382\ttest: 0.5799290\tbest: 0.5798893 (138)\ttotal: 5s\tremaining: 30.5s\n",
            "141:\tlearn: 0.5728676\ttest: 0.5800033\tbest: 0.5798893 (138)\ttotal: 5.04s\tremaining: 30.5s\n",
            "142:\tlearn: 0.5727121\ttest: 0.5798207\tbest: 0.5798207 (142)\ttotal: 5.08s\tremaining: 30.4s\n",
            "143:\tlearn: 0.5726021\ttest: 0.5798479\tbest: 0.5798207 (142)\ttotal: 5.11s\tremaining: 30.4s\n",
            "144:\tlearn: 0.5724940\ttest: 0.5799073\tbest: 0.5798207 (142)\ttotal: 5.15s\tremaining: 30.3s\n",
            "145:\tlearn: 0.5723609\ttest: 0.5799885\tbest: 0.5798207 (142)\ttotal: 5.19s\tremaining: 30.3s\n",
            "146:\tlearn: 0.5722168\ttest: 0.5800018\tbest: 0.5798207 (142)\ttotal: 5.22s\tremaining: 30.3s\n",
            "147:\tlearn: 0.5721325\ttest: 0.5799964\tbest: 0.5798207 (142)\ttotal: 5.25s\tremaining: 30.2s\n",
            "Stopped by overfitting detector  (5 iterations wait)\n",
            "\n",
            "bestTest = 0.579820741\n",
            "bestIteration = 142\n",
            "\n",
            "Shrink model to first 143 iterations.\n"
          ],
          "name": "stdout"
        },
        {
          "output_type": "execute_result",
          "data": {
            "text/plain": [
              "<catboost.core.CatBoostClassifier at 0x7fdd45c84290>"
            ]
          },
          "metadata": {
            "tags": []
          },
          "execution_count": 344
        }
      ]
    },
    {
      "cell_type": "markdown",
      "metadata": {
        "id": "4sPJmZPIs5_F"
      },
      "source": [
        "## Predict"
      ]
    },
    {
      "cell_type": "code",
      "metadata": {
        "colab": {
          "base_uri": "https://localhost:8080/"
        },
        "id": "RnMTS1JBs5_F",
        "outputId": "82937b87-ae41-417f-b81d-86d9fc800b28"
      },
      "source": [
        "preds = model.predict(X_test)\n",
        "probs = model.predict_proba(X_test)\n",
        "\n",
        "accuracy = accuracy_score(y_test, preds)\n",
        "f1       = f1_score(y_test, preds)\n",
        "roc      = roc_auc_score(y_test, probs[:,1])\n",
        "recall   = recall_score(y_test, preds)\n",
        "results_df.loc['Extended'] = [accuracy, f1, roc, recall]\n",
        "\n",
        "print(classification_report(y_test, preds))"
      ],
      "execution_count": 345,
      "outputs": [
        {
          "output_type": "stream",
          "text": [
            "              precision    recall  f1-score   support\n",
            "\n",
            "           0       0.92      0.53      0.68     22130\n",
            "           1       0.31      0.82      0.45      5502\n",
            "\n",
            "    accuracy                           0.59     27632\n",
            "   macro avg       0.61      0.68      0.56     27632\n",
            "weighted avg       0.80      0.59      0.63     27632\n",
            "\n"
          ],
          "name": "stdout"
        }
      ]
    },
    {
      "cell_type": "markdown",
      "metadata": {
        "id": "CMlwehSWs5_F"
      },
      "source": [
        "## Importance"
      ]
    },
    {
      "cell_type": "code",
      "metadata": {
        "colab": {
          "base_uri": "https://localhost:8080/",
          "height": 639
        },
        "id": "7k_OAZnbs5_F",
        "outputId": "aa936002-fc17-4174-830c-663904170fec"
      },
      "source": [
        "imp  = model.feature_importances_\n",
        "feat = model.feature_names_\n",
        "pd.DataFrame({'Feature' : feat, 'Importance': imp}).sort_values('Importance', ascending=False)"
      ],
      "execution_count": 346,
      "outputs": [
        {
          "output_type": "execute_result",
          "data": {
            "text/html": [
              "<div>\n",
              "<style scoped>\n",
              "    .dataframe tbody tr th:only-of-type {\n",
              "        vertical-align: middle;\n",
              "    }\n",
              "\n",
              "    .dataframe tbody tr th {\n",
              "        vertical-align: top;\n",
              "    }\n",
              "\n",
              "    .dataframe thead th {\n",
              "        text-align: right;\n",
              "    }\n",
              "</style>\n",
              "<table border=\"1\" class=\"dataframe\">\n",
              "  <thead>\n",
              "    <tr style=\"text-align: right;\">\n",
              "      <th></th>\n",
              "      <th>Feature</th>\n",
              "      <th>Importance</th>\n",
              "    </tr>\n",
              "  </thead>\n",
              "  <tbody>\n",
              "    <tr>\n",
              "      <th>9</th>\n",
              "      <td>advance</td>\n",
              "      <td>49.713992</td>\n",
              "    </tr>\n",
              "    <tr>\n",
              "      <th>1</th>\n",
              "      <td>age</td>\n",
              "      <td>14.934832</td>\n",
              "    </tr>\n",
              "    <tr>\n",
              "      <th>2</th>\n",
              "      <td>neighbourhood</td>\n",
              "      <td>6.977910</td>\n",
              "    </tr>\n",
              "    <tr>\n",
              "      <th>14</th>\n",
              "      <td>scheduled_hour</td>\n",
              "      <td>5.432110</td>\n",
              "    </tr>\n",
              "    <tr>\n",
              "      <th>13</th>\n",
              "      <td>scheduled_dow</td>\n",
              "      <td>3.427583</td>\n",
              "    </tr>\n",
              "    <tr>\n",
              "      <th>18</th>\n",
              "      <td>appointment_dow</td>\n",
              "      <td>3.179294</td>\n",
              "    </tr>\n",
              "    <tr>\n",
              "      <th>12</th>\n",
              "      <td>scheduled_dom</td>\n",
              "      <td>3.008961</td>\n",
              "    </tr>\n",
              "    <tr>\n",
              "      <th>17</th>\n",
              "      <td>appointment_dom</td>\n",
              "      <td>2.768593</td>\n",
              "    </tr>\n",
              "    <tr>\n",
              "      <th>0</th>\n",
              "      <td>gender</td>\n",
              "      <td>1.979636</td>\n",
              "    </tr>\n",
              "    <tr>\n",
              "      <th>11</th>\n",
              "      <td>scheduled_month</td>\n",
              "      <td>1.977681</td>\n",
              "    </tr>\n",
              "    <tr>\n",
              "      <th>16</th>\n",
              "      <td>appointment_month</td>\n",
              "      <td>1.327015</td>\n",
              "    </tr>\n",
              "    <tr>\n",
              "      <th>7</th>\n",
              "      <td>handicap</td>\n",
              "      <td>1.251913</td>\n",
              "    </tr>\n",
              "    <tr>\n",
              "      <th>8</th>\n",
              "      <td>sms_received</td>\n",
              "      <td>1.160936</td>\n",
              "    </tr>\n",
              "    <tr>\n",
              "      <th>6</th>\n",
              "      <td>alcoholism</td>\n",
              "      <td>1.115589</td>\n",
              "    </tr>\n",
              "    <tr>\n",
              "      <th>3</th>\n",
              "      <td>scholarship</td>\n",
              "      <td>0.995366</td>\n",
              "    </tr>\n",
              "    <tr>\n",
              "      <th>5</th>\n",
              "      <td>diabetes</td>\n",
              "      <td>0.532907</td>\n",
              "    </tr>\n",
              "    <tr>\n",
              "      <th>4</th>\n",
              "      <td>hypertension</td>\n",
              "      <td>0.196638</td>\n",
              "    </tr>\n",
              "    <tr>\n",
              "      <th>10</th>\n",
              "      <td>scheduled_year</td>\n",
              "      <td>0.019043</td>\n",
              "    </tr>\n",
              "    <tr>\n",
              "      <th>15</th>\n",
              "      <td>appointment_year</td>\n",
              "      <td>0.000000</td>\n",
              "    </tr>\n",
              "    <tr>\n",
              "      <th>19</th>\n",
              "      <td>appointment_hour</td>\n",
              "      <td>0.000000</td>\n",
              "    </tr>\n",
              "  </tbody>\n",
              "</table>\n",
              "</div>"
            ],
            "text/plain": [
              "              Feature  Importance\n",
              "9             advance   49.713992\n",
              "1                 age   14.934832\n",
              "2       neighbourhood    6.977910\n",
              "14     scheduled_hour    5.432110\n",
              "13      scheduled_dow    3.427583\n",
              "18    appointment_dow    3.179294\n",
              "12      scheduled_dom    3.008961\n",
              "17    appointment_dom    2.768593\n",
              "0              gender    1.979636\n",
              "11    scheduled_month    1.977681\n",
              "16  appointment_month    1.327015\n",
              "7            handicap    1.251913\n",
              "8        sms_received    1.160936\n",
              "6          alcoholism    1.115589\n",
              "3         scholarship    0.995366\n",
              "5            diabetes    0.532907\n",
              "4        hypertension    0.196638\n",
              "10     scheduled_year    0.019043\n",
              "15   appointment_year    0.000000\n",
              "19   appointment_hour    0.000000"
            ]
          },
          "metadata": {
            "tags": []
          },
          "execution_count": 346
        }
      ]
    },
    {
      "cell_type": "markdown",
      "metadata": {
        "id": "Wz2fBUgxtyfL"
      },
      "source": [
        "## Compare\n",
        "* Accuracy Down\n",
        "* Recall Up"
      ]
    },
    {
      "cell_type": "code",
      "metadata": {
        "colab": {
          "base_uri": "https://localhost:8080/",
          "height": 166
        },
        "id": "ufMLDTYJtzuL",
        "outputId": "781af13f-5da4-4ed3-86a4-76b23c74dae5"
      },
      "source": [
        "results_df.sort_values('Recall', ascending=False)"
      ],
      "execution_count": 347,
      "outputs": [
        {
          "output_type": "execute_result",
          "data": {
            "text/html": [
              "<div>\n",
              "<style scoped>\n",
              "    .dataframe tbody tr th:only-of-type {\n",
              "        vertical-align: middle;\n",
              "    }\n",
              "\n",
              "    .dataframe tbody tr th {\n",
              "        vertical-align: top;\n",
              "    }\n",
              "\n",
              "    .dataframe thead th {\n",
              "        text-align: right;\n",
              "    }\n",
              "</style>\n",
              "<table border=\"1\" class=\"dataframe\">\n",
              "  <thead>\n",
              "    <tr style=\"text-align: right;\">\n",
              "      <th></th>\n",
              "      <th>Accuracy</th>\n",
              "      <th>F1</th>\n",
              "      <th>AUC</th>\n",
              "      <th>Recall</th>\n",
              "    </tr>\n",
              "  </thead>\n",
              "  <tbody>\n",
              "    <tr>\n",
              "      <th>Extended</th>\n",
              "      <td>0.592031</td>\n",
              "      <td>0.445799</td>\n",
              "      <td>0.737707</td>\n",
              "      <td>0.824064</td>\n",
              "    </tr>\n",
              "    <tr>\n",
              "      <th>Feature Engine</th>\n",
              "      <td>0.618920</td>\n",
              "      <td>0.435812</td>\n",
              "      <td>0.728316</td>\n",
              "      <td>0.739186</td>\n",
              "    </tr>\n",
              "    <tr>\n",
              "      <th>Baseline</th>\n",
              "      <td>0.625470</td>\n",
              "      <td>0.438012</td>\n",
              "      <td>0.727363</td>\n",
              "      <td>0.733006</td>\n",
              "    </tr>\n",
              "    <tr>\n",
              "      <th>FeatureTools</th>\n",
              "      <td>0.675018</td>\n",
              "      <td>0.415202</td>\n",
              "      <td>0.743083</td>\n",
              "      <td>0.662186</td>\n",
              "    </tr>\n",
              "  </tbody>\n",
              "</table>\n",
              "</div>"
            ],
            "text/plain": [
              "                Accuracy        F1       AUC    Recall\n",
              "Extended        0.592031  0.445799  0.737707  0.824064\n",
              "Feature Engine  0.618920  0.435812  0.728316  0.739186\n",
              "Baseline        0.625470  0.438012  0.727363  0.733006\n",
              "FeatureTools    0.675018  0.415202  0.743083  0.662186"
            ]
          },
          "metadata": {
            "tags": []
          },
          "execution_count": 347
        }
      ]
    },
    {
      "cell_type": "code",
      "metadata": {
        "id": "Fcztf2FR3gRt"
      },
      "source": [
        ""
      ],
      "execution_count": 347,
      "outputs": []
    }
  ]
}